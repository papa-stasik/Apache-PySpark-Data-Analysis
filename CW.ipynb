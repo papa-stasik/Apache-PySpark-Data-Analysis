{
 "cells": [
  {
   "cell_type": "markdown",
   "metadata": {},
   "source": [
    "# Component 2"
   ]
  },
  {
   "cell_type": "markdown",
   "metadata": {},
   "source": [
    "# Big Data Coursework"
   ]
  },
  {
   "cell_type": "markdown",
   "metadata": {},
   "source": [
    "This notebook contains the code and accompanying comments which can be run on the Lena PySpark network.\n",
    "\n",
    "This notebook may also be used to run the project in Jupyter Notebook through the following libraries.\n",
    "\n",
    "### Technologies implemented in this notebook\n",
    "1.\tHadoop - for storing the large file on the Lena network\n",
    "2.\tApache Spark - for running the code found in this notebook\n",
    "3.\tSpark ML - a higher level API for use with DataFrames in building machine learning pipelines."
   ]
  },
  {
   "cell_type": "markdown",
   "metadata": {},
   "source": [
    "## Importing Necessary Libraries"
   ]
  },
  {
   "cell_type": "code",
   "execution_count": 1,
   "metadata": {},
   "outputs": [],
   "source": [
    "# Importing system libraries.\n",
    "import os\n",
    "import sys\n",
    "\n",
    "# Importing pyspark libraries.\n",
    "from pyspark.sql import SparkSession\n",
    "from pyspark.sql.types import *\n",
    "from pyspark.sql.functions import isnan, when, count, col\n",
    "import pyspark.sql.functions as fn\n",
    "import pyspark.mllib.stat as st\n",
    "from pyspark.ml import Pipeline\n",
    "from pyspark.ml.stat import ChiSquareTest\n",
    "\n",
    "# Cross validation and evaluation libraries.\n",
    "from pyspark.ml.tuning import CrossValidator, ParamGridBuilder\n",
    "from pyspark.ml.evaluation import RegressionEvaluator\n",
    "from pyspark.ml.feature import VectorAssembler\n",
    "\n",
    "# ML models for regression.\n",
    "from pyspark.ml.regression import LinearRegression\n",
    "from pyspark.ml.regression import DecisionTreeRegressor\n",
    "from pyspark.ml.regression import GBTRegressor\n",
    "from pyspark.ml.regression import RandomForestRegressor\n",
    "\n",
    "# Scaling and encoding libraries.\n",
    "from pyspark.ml.feature import StringIndexer\n",
    "from pyspark.ml.feature import OneHotEncoder\n",
    "from pyspark.ml.feature import StandardScaler\n",
    "\n",
    "# General use libraries.\n",
    "import numpy as np\n",
    "\n",
    "# Visualisation Libraries.\n",
    "from handyspark import *\n",
    "from matplotlib import pyplot as plt\n",
    "\n",
    "# Library for unique id creation.\n",
    "from pyspark.sql.functions import monotonically_increasing_id\n",
    "\n",
    "# Setting up the pyspark environment.\n",
    "os.environ['PYSPARK_DRIVER_PYTHON_OPTS']= \"notebook\"\n",
    "os.environ['PYSPARK_DRIVER_PYTHON'] = sys.executable\n",
    "os.environ['PYSPARK_PYTHON'] = sys.executable\n",
    "os.environ [\"SPARK_HOME\"] = \"C:\\spark-3.2.1-bin-hadoop3.2\" "
   ]
  },
  {
   "cell_type": "code",
   "execution_count": 2,
   "metadata": {},
   "outputs": [],
   "source": [
    "# Start pyspark session.\n",
    "spark = SparkSession.builder.appName('CW').getOrCreate()"
   ]
  },
  {
   "cell_type": "markdown",
   "metadata": {},
   "source": [
    "## Importing the Dataset"
   ]
  },
  {
   "cell_type": "markdown",
   "metadata": {},
   "source": [
    "Creating the schema for the dataset in order to import the dataframe correctly."
   ]
  },
  {
   "cell_type": "code",
   "execution_count": 3,
   "metadata": {},
   "outputs": [],
   "source": [
    "schema = StructType([\n",
    "    StructField('id', StringType(), True),\n",
    "    StructField('url', StringType(), True),\n",
    "    StructField('region', StringType(), True),\n",
    "    StructField('region_url', StringType(), True),\n",
    "    StructField('price', IntegerType(), True),\n",
    "    StructField('type', StringType(), True),\n",
    "    StructField('sqfeet', IntegerType(), True),\n",
    "    StructField('beds', IntegerType(), True),\n",
    "    StructField('baths', IntegerType(), True),\n",
    "    StructField('cats_allowed', IntegerType(), True),\n",
    "    StructField('dogs_allowed', IntegerType(), True),\n",
    "    StructField('smoking_allowed', IntegerType(), True),\n",
    "    StructField('wheelchair_access', IntegerType(), True),\n",
    "    StructField('electric_vehicle_charge', IntegerType(), True),\n",
    "    StructField('comes_furnished', IntegerType(), True),\n",
    "    StructField('laundry_options', StringType(), True),\n",
    "    StructField('parking_options', StringType(), True),\n",
    "    StructField('image_url', StringType(), True),\n",
    "    StructField('description', StringType(), True),\n",
    "    StructField('lat', StringType(), True),\n",
    "    StructField('long', StringType(), True),\n",
    "    StructField('state', StringType(), True)\n",
    "])"
   ]
  },
  {
   "cell_type": "markdown",
   "metadata": {},
   "source": [
    "#### Dataset location on the HFDS: hdfs://lena/user/spapa001/housing.csv"
   ]
  },
  {
   "cell_type": "code",
   "execution_count": 4,
   "metadata": {},
   "outputs": [],
   "source": [
    "# Loading the dataset into the dataframe using the previously defined schema.\n",
    "df = spark.read.csv('housing.csv', header=True, schema=schema)"
   ]
  },
  {
   "cell_type": "markdown",
   "metadata": {},
   "source": [
    "## Exploratory Data Analysis"
   ]
  },
  {
   "cell_type": "markdown",
   "metadata": {},
   "source": [
    "This section will focus on examining the dataset for duplicates, missing values and other potential issues which may hamper the model creation process.\n",
    "\n",
    "There are a number of columns in this dataset that provide little to no value to analysis and model creation and will therefore be dropped."
   ]
  },
  {
   "cell_type": "code",
   "execution_count": 5,
   "metadata": {},
   "outputs": [],
   "source": [
    "# Dropping columns.\n",
    "housing_df = df.drop('id', 'url', 'region_url', 'image_url', 'description', 'lat', 'long')"
   ]
  },
  {
   "cell_type": "markdown",
   "metadata": {},
   "source": [
    "The dataset is poorly visualised using the standard pyspark method i.e. housing_df.show()\n",
    "\n",
    "As such the .toPandas function is used to better portray the data."
   ]
  },
  {
   "cell_type": "code",
   "execution_count": 6,
   "metadata": {
    "scrolled": false
   },
   "outputs": [
    {
     "data": {
      "text/html": [
       "<div>\n",
       "<style scoped>\n",
       "    .dataframe tbody tr th:only-of-type {\n",
       "        vertical-align: middle;\n",
       "    }\n",
       "\n",
       "    .dataframe tbody tr th {\n",
       "        vertical-align: top;\n",
       "    }\n",
       "\n",
       "    .dataframe thead th {\n",
       "        text-align: right;\n",
       "    }\n",
       "</style>\n",
       "<table border=\"1\" class=\"dataframe\">\n",
       "  <thead>\n",
       "    <tr style=\"text-align: right;\">\n",
       "      <th></th>\n",
       "      <th>region</th>\n",
       "      <th>price</th>\n",
       "      <th>type</th>\n",
       "      <th>sqfeet</th>\n",
       "      <th>beds</th>\n",
       "      <th>baths</th>\n",
       "      <th>cats_allowed</th>\n",
       "      <th>dogs_allowed</th>\n",
       "      <th>smoking_allowed</th>\n",
       "      <th>wheelchair_access</th>\n",
       "      <th>electric_vehicle_charge</th>\n",
       "      <th>comes_furnished</th>\n",
       "      <th>laundry_options</th>\n",
       "      <th>parking_options</th>\n",
       "      <th>state</th>\n",
       "    </tr>\n",
       "  </thead>\n",
       "  <tbody>\n",
       "    <tr>\n",
       "      <th>0</th>\n",
       "      <td>reno / tahoe</td>\n",
       "      <td>1148.0</td>\n",
       "      <td>apartment</td>\n",
       "      <td>1078.0</td>\n",
       "      <td>3.0</td>\n",
       "      <td>2.0</td>\n",
       "      <td>1.0</td>\n",
       "      <td>1.0</td>\n",
       "      <td>0.0</td>\n",
       "      <td>0.0</td>\n",
       "      <td>0.0</td>\n",
       "      <td>0.0</td>\n",
       "      <td>w/d in unit</td>\n",
       "      <td>carport</td>\n",
       "      <td>ca</td>\n",
       "    </tr>\n",
       "    <tr>\n",
       "      <th>1</th>\n",
       "      <td>reno / tahoe</td>\n",
       "      <td>1200.0</td>\n",
       "      <td>condo</td>\n",
       "      <td>1001.0</td>\n",
       "      <td>2.0</td>\n",
       "      <td>2.0</td>\n",
       "      <td>0.0</td>\n",
       "      <td>0.0</td>\n",
       "      <td>0.0</td>\n",
       "      <td>0.0</td>\n",
       "      <td>0.0</td>\n",
       "      <td>0.0</td>\n",
       "      <td>w/d hookups</td>\n",
       "      <td>carport</td>\n",
       "      <td>ca</td>\n",
       "    </tr>\n",
       "    <tr>\n",
       "      <th>2</th>\n",
       "      <td>reno / tahoe</td>\n",
       "      <td>1813.0</td>\n",
       "      <td>apartment</td>\n",
       "      <td>1683.0</td>\n",
       "      <td>2.0</td>\n",
       "      <td>2.0</td>\n",
       "      <td>1.0</td>\n",
       "      <td>1.0</td>\n",
       "      <td>1.0</td>\n",
       "      <td>0.0</td>\n",
       "      <td>0.0</td>\n",
       "      <td>0.0</td>\n",
       "      <td>w/d in unit</td>\n",
       "      <td>attached garage</td>\n",
       "      <td>ca</td>\n",
       "    </tr>\n",
       "    <tr>\n",
       "      <th>3</th>\n",
       "      <td>reno / tahoe</td>\n",
       "      <td>1095.0</td>\n",
       "      <td>apartment</td>\n",
       "      <td>708.0</td>\n",
       "      <td>1.0</td>\n",
       "      <td>1.0</td>\n",
       "      <td>1.0</td>\n",
       "      <td>1.0</td>\n",
       "      <td>1.0</td>\n",
       "      <td>0.0</td>\n",
       "      <td>0.0</td>\n",
       "      <td>0.0</td>\n",
       "      <td>w/d in unit</td>\n",
       "      <td>carport</td>\n",
       "      <td>ca</td>\n",
       "    </tr>\n",
       "    <tr>\n",
       "      <th>4</th>\n",
       "      <td>reno / tahoe</td>\n",
       "      <td>289.0</td>\n",
       "      <td>apartment</td>\n",
       "      <td>250.0</td>\n",
       "      <td>0.0</td>\n",
       "      <td>1.0</td>\n",
       "      <td>1.0</td>\n",
       "      <td>1.0</td>\n",
       "      <td>1.0</td>\n",
       "      <td>1.0</td>\n",
       "      <td>0.0</td>\n",
       "      <td>1.0</td>\n",
       "      <td>laundry on site</td>\n",
       "      <td>None</td>\n",
       "      <td>ca</td>\n",
       "    </tr>\n",
       "    <tr>\n",
       "      <th>...</th>\n",
       "      <td>...</td>\n",
       "      <td>...</td>\n",
       "      <td>...</td>\n",
       "      <td>...</td>\n",
       "      <td>...</td>\n",
       "      <td>...</td>\n",
       "      <td>...</td>\n",
       "      <td>...</td>\n",
       "      <td>...</td>\n",
       "      <td>...</td>\n",
       "      <td>...</td>\n",
       "      <td>...</td>\n",
       "      <td>...</td>\n",
       "      <td>...</td>\n",
       "      <td>...</td>\n",
       "    </tr>\n",
       "    <tr>\n",
       "      <th>384975</th>\n",
       "      <td>reno / tahoe</td>\n",
       "      <td>1295.0</td>\n",
       "      <td>apartment</td>\n",
       "      <td>957.0</td>\n",
       "      <td>2.0</td>\n",
       "      <td>2.0</td>\n",
       "      <td>1.0</td>\n",
       "      <td>1.0</td>\n",
       "      <td>1.0</td>\n",
       "      <td>0.0</td>\n",
       "      <td>0.0</td>\n",
       "      <td>0.0</td>\n",
       "      <td>w/d in unit</td>\n",
       "      <td>carport</td>\n",
       "      <td>ca</td>\n",
       "    </tr>\n",
       "    <tr>\n",
       "      <th>384976</th>\n",
       "      <td>reno / tahoe</td>\n",
       "      <td>1549.0</td>\n",
       "      <td>apartment</td>\n",
       "      <td>1034.0</td>\n",
       "      <td>2.0</td>\n",
       "      <td>2.0</td>\n",
       "      <td>1.0</td>\n",
       "      <td>1.0</td>\n",
       "      <td>0.0</td>\n",
       "      <td>0.0</td>\n",
       "      <td>0.0</td>\n",
       "      <td>0.0</td>\n",
       "      <td>w/d in unit</td>\n",
       "      <td>None</td>\n",
       "      <td>ca</td>\n",
       "    </tr>\n",
       "    <tr>\n",
       "      <th>384977</th>\n",
       "      <td>reno / tahoe</td>\n",
       "      <td>1249.0</td>\n",
       "      <td>apartment</td>\n",
       "      <td>840.0</td>\n",
       "      <td>2.0</td>\n",
       "      <td>1.0</td>\n",
       "      <td>1.0</td>\n",
       "      <td>1.0</td>\n",
       "      <td>1.0</td>\n",
       "      <td>0.0</td>\n",
       "      <td>0.0</td>\n",
       "      <td>0.0</td>\n",
       "      <td>laundry on site</td>\n",
       "      <td>off-street parking</td>\n",
       "      <td>ca</td>\n",
       "    </tr>\n",
       "    <tr>\n",
       "      <th>384978</th>\n",
       "      <td>reno / tahoe</td>\n",
       "      <td>1429.0</td>\n",
       "      <td>apartment</td>\n",
       "      <td>976.0</td>\n",
       "      <td>2.0</td>\n",
       "      <td>2.0</td>\n",
       "      <td>1.0</td>\n",
       "      <td>1.0</td>\n",
       "      <td>1.0</td>\n",
       "      <td>0.0</td>\n",
       "      <td>0.0</td>\n",
       "      <td>0.0</td>\n",
       "      <td>w/d in unit</td>\n",
       "      <td>carport</td>\n",
       "      <td>ca</td>\n",
       "    </tr>\n",
       "    <tr>\n",
       "      <th>384979</th>\n",
       "      <td>reno / tahoe</td>\n",
       "      <td>1295.0</td>\n",
       "      <td>apartment</td>\n",
       "      <td>957.0</td>\n",
       "      <td>2.0</td>\n",
       "      <td>2.0</td>\n",
       "      <td>1.0</td>\n",
       "      <td>1.0</td>\n",
       "      <td>1.0</td>\n",
       "      <td>0.0</td>\n",
       "      <td>0.0</td>\n",
       "      <td>0.0</td>\n",
       "      <td>w/d in unit</td>\n",
       "      <td>carport</td>\n",
       "      <td>ca</td>\n",
       "    </tr>\n",
       "  </tbody>\n",
       "</table>\n",
       "<p>384980 rows × 15 columns</p>\n",
       "</div>"
      ],
      "text/plain": [
       "              region   price       type  sqfeet  beds  baths  cats_allowed  \\\n",
       "0       reno / tahoe  1148.0  apartment  1078.0   3.0    2.0           1.0   \n",
       "1       reno / tahoe  1200.0      condo  1001.0   2.0    2.0           0.0   \n",
       "2       reno / tahoe  1813.0  apartment  1683.0   2.0    2.0           1.0   \n",
       "3       reno / tahoe  1095.0  apartment   708.0   1.0    1.0           1.0   \n",
       "4       reno / tahoe   289.0  apartment   250.0   0.0    1.0           1.0   \n",
       "...              ...     ...        ...     ...   ...    ...           ...   \n",
       "384975  reno / tahoe  1295.0  apartment   957.0   2.0    2.0           1.0   \n",
       "384976  reno / tahoe  1549.0  apartment  1034.0   2.0    2.0           1.0   \n",
       "384977  reno / tahoe  1249.0  apartment   840.0   2.0    1.0           1.0   \n",
       "384978  reno / tahoe  1429.0  apartment   976.0   2.0    2.0           1.0   \n",
       "384979  reno / tahoe  1295.0  apartment   957.0   2.0    2.0           1.0   \n",
       "\n",
       "        dogs_allowed  smoking_allowed  wheelchair_access  \\\n",
       "0                1.0              0.0                0.0   \n",
       "1                0.0              0.0                0.0   \n",
       "2                1.0              1.0                0.0   \n",
       "3                1.0              1.0                0.0   \n",
       "4                1.0              1.0                1.0   \n",
       "...              ...              ...                ...   \n",
       "384975           1.0              1.0                0.0   \n",
       "384976           1.0              0.0                0.0   \n",
       "384977           1.0              1.0                0.0   \n",
       "384978           1.0              1.0                0.0   \n",
       "384979           1.0              1.0                0.0   \n",
       "\n",
       "        electric_vehicle_charge  comes_furnished  laundry_options  \\\n",
       "0                           0.0              0.0      w/d in unit   \n",
       "1                           0.0              0.0      w/d hookups   \n",
       "2                           0.0              0.0      w/d in unit   \n",
       "3                           0.0              0.0      w/d in unit   \n",
       "4                           0.0              1.0  laundry on site   \n",
       "...                         ...              ...              ...   \n",
       "384975                      0.0              0.0      w/d in unit   \n",
       "384976                      0.0              0.0      w/d in unit   \n",
       "384977                      0.0              0.0  laundry on site   \n",
       "384978                      0.0              0.0      w/d in unit   \n",
       "384979                      0.0              0.0      w/d in unit   \n",
       "\n",
       "           parking_options state  \n",
       "0                  carport    ca  \n",
       "1                  carport    ca  \n",
       "2          attached garage    ca  \n",
       "3                  carport    ca  \n",
       "4                     None    ca  \n",
       "...                    ...   ...  \n",
       "384975             carport    ca  \n",
       "384976                None    ca  \n",
       "384977  off-street parking    ca  \n",
       "384978             carport    ca  \n",
       "384979             carport    ca  \n",
       "\n",
       "[384980 rows x 15 columns]"
      ]
     },
     "execution_count": 6,
     "metadata": {},
     "output_type": "execute_result"
    }
   ],
   "source": [
    "# Examining the dataset in pandas format.\n",
    "housing_df.toPandas()"
   ]
  },
  {
   "cell_type": "markdown",
   "metadata": {},
   "source": [
    "Using the describe function to get a quick overview of the dataset, as standard in data exploration."
   ]
  },
  {
   "cell_type": "code",
   "execution_count": 7,
   "metadata": {
    "scrolled": true
   },
   "outputs": [
    {
     "data": {
      "text/html": [
       "<div>\n",
       "<style scoped>\n",
       "    .dataframe tbody tr th:only-of-type {\n",
       "        vertical-align: middle;\n",
       "    }\n",
       "\n",
       "    .dataframe tbody tr th {\n",
       "        vertical-align: top;\n",
       "    }\n",
       "\n",
       "    .dataframe thead th {\n",
       "        text-align: right;\n",
       "    }\n",
       "</style>\n",
       "<table border=\"1\" class=\"dataframe\">\n",
       "  <thead>\n",
       "    <tr style=\"text-align: right;\">\n",
       "      <th></th>\n",
       "      <th>summary</th>\n",
       "      <th>price</th>\n",
       "      <th>sqfeet</th>\n",
       "      <th>beds</th>\n",
       "      <th>baths</th>\n",
       "      <th>cats_allowed</th>\n",
       "      <th>dogs_allowed</th>\n",
       "      <th>smoking_allowed</th>\n",
       "      <th>wheelchair_access</th>\n",
       "      <th>electric_vehicle_charge</th>\n",
       "      <th>comes_furnished</th>\n",
       "    </tr>\n",
       "  </thead>\n",
       "  <tbody>\n",
       "    <tr>\n",
       "      <th>0</th>\n",
       "      <td>count</td>\n",
       "      <td>384976</td>\n",
       "      <td>384977</td>\n",
       "      <td>384977</td>\n",
       "      <td>343150</td>\n",
       "      <td>384977</td>\n",
       "      <td>384977</td>\n",
       "      <td>384977</td>\n",
       "      <td>384977</td>\n",
       "      <td>384977</td>\n",
       "      <td>384977</td>\n",
       "    </tr>\n",
       "    <tr>\n",
       "      <th>1</th>\n",
       "      <td>mean</td>\n",
       "      <td>1634.8885437014255</td>\n",
       "      <td>1059.899565428584</td>\n",
       "      <td>1.9053449946360432</td>\n",
       "      <td>1.4313448929039778</td>\n",
       "      <td>0.7268901778547809</td>\n",
       "      <td>0.7079176158575707</td>\n",
       "      <td>0.7317709889162209</td>\n",
       "      <td>0.0821113988627892</td>\n",
       "      <td>0.012870898780966136</td>\n",
       "      <td>0.04812755047704149</td>\n",
       "    </tr>\n",
       "    <tr>\n",
       "      <th>2</th>\n",
       "      <td>stddev</td>\n",
       "      <td>69298.20926542193</td>\n",
       "      <td>19150.757244214434</td>\n",
       "      <td>3.494571619825252</td>\n",
       "      <td>0.6039947137880883</td>\n",
       "      <td>0.44555736203516577</td>\n",
       "      <td>0.45472057586523185</td>\n",
       "      <td>0.4430380554224405</td>\n",
       "      <td>0.2745347206014748</td>\n",
       "      <td>0.11271766386957122</td>\n",
       "      <td>0.21403599781322144</td>\n",
       "    </tr>\n",
       "    <tr>\n",
       "      <th>3</th>\n",
       "      <td>min</td>\n",
       "      <td>0</td>\n",
       "      <td>0</td>\n",
       "      <td>0</td>\n",
       "      <td>0</td>\n",
       "      <td>0</td>\n",
       "      <td>0</td>\n",
       "      <td>0</td>\n",
       "      <td>0</td>\n",
       "      <td>0</td>\n",
       "      <td>0</td>\n",
       "    </tr>\n",
       "    <tr>\n",
       "      <th>4</th>\n",
       "      <td>max</td>\n",
       "      <td>21701907</td>\n",
       "      <td>8388607</td>\n",
       "      <td>1100</td>\n",
       "      <td>75</td>\n",
       "      <td>1</td>\n",
       "      <td>1</td>\n",
       "      <td>1</td>\n",
       "      <td>1</td>\n",
       "      <td>1</td>\n",
       "      <td>1</td>\n",
       "    </tr>\n",
       "  </tbody>\n",
       "</table>\n",
       "</div>"
      ],
      "text/plain": [
       "  summary               price              sqfeet                beds  \\\n",
       "0   count              384976              384977              384977   \n",
       "1    mean  1634.8885437014255   1059.899565428584  1.9053449946360432   \n",
       "2  stddev   69298.20926542193  19150.757244214434   3.494571619825252   \n",
       "3     min                   0                   0                   0   \n",
       "4     max            21701907             8388607                1100   \n",
       "\n",
       "                baths         cats_allowed         dogs_allowed  \\\n",
       "0              343150               384977               384977   \n",
       "1  1.4313448929039778   0.7268901778547809   0.7079176158575707   \n",
       "2  0.6039947137880883  0.44555736203516577  0.45472057586523185   \n",
       "3                   0                    0                    0   \n",
       "4                  75                    1                    1   \n",
       "\n",
       "      smoking_allowed   wheelchair_access electric_vehicle_charge  \\\n",
       "0              384977              384977                  384977   \n",
       "1  0.7317709889162209  0.0821113988627892    0.012870898780966136   \n",
       "2  0.4430380554224405  0.2745347206014748     0.11271766386957122   \n",
       "3                   0                   0                       0   \n",
       "4                   1                   1                       1   \n",
       "\n",
       "       comes_furnished  \n",
       "0               384977  \n",
       "1  0.04812755047704149  \n",
       "2  0.21403599781322144  \n",
       "3                    0  \n",
       "4                    1  "
      ]
     },
     "execution_count": 7,
     "metadata": {},
     "output_type": "execute_result"
    }
   ],
   "source": [
    "# Using the describe function to provide basic dataset satistics.\n",
    "housing_df.select('price', 'sqfeet', 'beds', 'baths', 'cats_allowed', 'dogs_allowed', 'smoking_allowed', \n",
    "                  'wheelchair_access', 'electric_vehicle_charge', 'comes_furnished').describe().toPandas()"
   ]
  },
  {
   "cell_type": "markdown",
   "metadata": {},
   "source": [
    "A potential issue is observed in the 'price', 'sqfeet', 'beds' and 'baths' columns. All features show a minimum value of 0, which may be incorrect and needs to be validated before proceeding further. With regards to the first two columns there cannot be a 'free' house on the market nor can anything be sold with '0' square feet. As such a closer investigation into these values must be undertaken.\n",
    "\n",
    "It is also interesting to note the large disparity between the maximum 'price', 'sqfeet', 'beds' and 'baths' features compared to the average for the dataset. There clearly exists a section of very large and expensive houses which may be treated as outliers for the purposes of model input."
   ]
  },
  {
   "cell_type": "markdown",
   "metadata": {},
   "source": [
    "### Examinig '0' Values - 'sqfeet'"
   ]
  },
  {
   "cell_type": "code",
   "execution_count": 8,
   "metadata": {
    "scrolled": false
   },
   "outputs": [
    {
     "data": {
      "text/html": [
       "<div>\n",
       "<style scoped>\n",
       "    .dataframe tbody tr th:only-of-type {\n",
       "        vertical-align: middle;\n",
       "    }\n",
       "\n",
       "    .dataframe tbody tr th {\n",
       "        vertical-align: top;\n",
       "    }\n",
       "\n",
       "    .dataframe thead th {\n",
       "        text-align: right;\n",
       "    }\n",
       "</style>\n",
       "<table border=\"1\" class=\"dataframe\">\n",
       "  <thead>\n",
       "    <tr style=\"text-align: right;\">\n",
       "      <th></th>\n",
       "      <th>region</th>\n",
       "      <th>price</th>\n",
       "      <th>type</th>\n",
       "      <th>sqfeet</th>\n",
       "      <th>beds</th>\n",
       "      <th>baths</th>\n",
       "      <th>cats_allowed</th>\n",
       "      <th>dogs_allowed</th>\n",
       "      <th>smoking_allowed</th>\n",
       "      <th>wheelchair_access</th>\n",
       "      <th>electric_vehicle_charge</th>\n",
       "      <th>comes_furnished</th>\n",
       "      <th>laundry_options</th>\n",
       "      <th>parking_options</th>\n",
       "      <th>state</th>\n",
       "    </tr>\n",
       "  </thead>\n",
       "  <tbody>\n",
       "    <tr>\n",
       "      <th>0</th>\n",
       "      <td>san diego</td>\n",
       "      <td>1200</td>\n",
       "      <td>apartment</td>\n",
       "      <td>1</td>\n",
       "      <td>1</td>\n",
       "      <td>1.0</td>\n",
       "      <td>0</td>\n",
       "      <td>0</td>\n",
       "      <td>1</td>\n",
       "      <td>0</td>\n",
       "      <td>0</td>\n",
       "      <td>0</td>\n",
       "      <td>laundry on site</td>\n",
       "      <td>off-street parking</td>\n",
       "      <td>ca</td>\n",
       "    </tr>\n",
       "    <tr>\n",
       "      <th>1</th>\n",
       "      <td>san luis obispo</td>\n",
       "      <td>2135</td>\n",
       "      <td>apartment</td>\n",
       "      <td>2</td>\n",
       "      <td>2</td>\n",
       "      <td>2.0</td>\n",
       "      <td>1</td>\n",
       "      <td>1</td>\n",
       "      <td>0</td>\n",
       "      <td>0</td>\n",
       "      <td>0</td>\n",
       "      <td>0</td>\n",
       "      <td>w/d in unit</td>\n",
       "      <td>attached garage</td>\n",
       "      <td>ca</td>\n",
       "    </tr>\n",
       "    <tr>\n",
       "      <th>2</th>\n",
       "      <td>SF bay area</td>\n",
       "      <td>1599</td>\n",
       "      <td>apartment</td>\n",
       "      <td>1</td>\n",
       "      <td>1</td>\n",
       "      <td>1.0</td>\n",
       "      <td>0</td>\n",
       "      <td>0</td>\n",
       "      <td>0</td>\n",
       "      <td>0</td>\n",
       "      <td>0</td>\n",
       "      <td>0</td>\n",
       "      <td>laundry on site</td>\n",
       "      <td>off-street parking</td>\n",
       "      <td>ca</td>\n",
       "    </tr>\n",
       "    <tr>\n",
       "      <th>3</th>\n",
       "      <td>pueblo</td>\n",
       "      <td>680</td>\n",
       "      <td>apartment</td>\n",
       "      <td>5</td>\n",
       "      <td>1</td>\n",
       "      <td>1.0</td>\n",
       "      <td>1</td>\n",
       "      <td>1</td>\n",
       "      <td>1</td>\n",
       "      <td>0</td>\n",
       "      <td>0</td>\n",
       "      <td>0</td>\n",
       "      <td>laundry in bldg</td>\n",
       "      <td>off-street parking</td>\n",
       "      <td>co</td>\n",
       "    </tr>\n",
       "    <tr>\n",
       "      <th>4</th>\n",
       "      <td>pueblo</td>\n",
       "      <td>680</td>\n",
       "      <td>apartment</td>\n",
       "      <td>5</td>\n",
       "      <td>1</td>\n",
       "      <td>1.0</td>\n",
       "      <td>1</td>\n",
       "      <td>1</td>\n",
       "      <td>1</td>\n",
       "      <td>0</td>\n",
       "      <td>0</td>\n",
       "      <td>0</td>\n",
       "      <td>laundry in bldg</td>\n",
       "      <td>off-street parking</td>\n",
       "      <td>co</td>\n",
       "    </tr>\n",
       "    <tr>\n",
       "      <th>...</th>\n",
       "      <td>...</td>\n",
       "      <td>...</td>\n",
       "      <td>...</td>\n",
       "      <td>...</td>\n",
       "      <td>...</td>\n",
       "      <td>...</td>\n",
       "      <td>...</td>\n",
       "      <td>...</td>\n",
       "      <td>...</td>\n",
       "      <td>...</td>\n",
       "      <td>...</td>\n",
       "      <td>...</td>\n",
       "      <td>...</td>\n",
       "      <td>...</td>\n",
       "      <td>...</td>\n",
       "    </tr>\n",
       "    <tr>\n",
       "      <th>246</th>\n",
       "      <td>los angeles</td>\n",
       "      <td>1675</td>\n",
       "      <td>apartment</td>\n",
       "      <td>1</td>\n",
       "      <td>1</td>\n",
       "      <td>1.0</td>\n",
       "      <td>1</td>\n",
       "      <td>1</td>\n",
       "      <td>1</td>\n",
       "      <td>0</td>\n",
       "      <td>1</td>\n",
       "      <td>0</td>\n",
       "      <td>laundry in bldg</td>\n",
       "      <td>detached garage</td>\n",
       "      <td>ca</td>\n",
       "    </tr>\n",
       "    <tr>\n",
       "      <th>247</th>\n",
       "      <td>los angeles</td>\n",
       "      <td>1675</td>\n",
       "      <td>apartment</td>\n",
       "      <td>1</td>\n",
       "      <td>1</td>\n",
       "      <td>1.0</td>\n",
       "      <td>1</td>\n",
       "      <td>1</td>\n",
       "      <td>1</td>\n",
       "      <td>0</td>\n",
       "      <td>1</td>\n",
       "      <td>0</td>\n",
       "      <td>laundry in bldg</td>\n",
       "      <td>detached garage</td>\n",
       "      <td>ca</td>\n",
       "    </tr>\n",
       "    <tr>\n",
       "      <th>248</th>\n",
       "      <td>los angeles</td>\n",
       "      <td>1649</td>\n",
       "      <td>apartment</td>\n",
       "      <td>1</td>\n",
       "      <td>1</td>\n",
       "      <td>1.0</td>\n",
       "      <td>0</td>\n",
       "      <td>0</td>\n",
       "      <td>0</td>\n",
       "      <td>0</td>\n",
       "      <td>0</td>\n",
       "      <td>0</td>\n",
       "      <td>laundry on site</td>\n",
       "      <td>carport</td>\n",
       "      <td>ca</td>\n",
       "    </tr>\n",
       "    <tr>\n",
       "      <th>249</th>\n",
       "      <td>orange county</td>\n",
       "      <td>2092</td>\n",
       "      <td>apartment</td>\n",
       "      <td>1</td>\n",
       "      <td>1</td>\n",
       "      <td>1.0</td>\n",
       "      <td>1</td>\n",
       "      <td>1</td>\n",
       "      <td>1</td>\n",
       "      <td>1</td>\n",
       "      <td>1</td>\n",
       "      <td>0</td>\n",
       "      <td>w/d in unit</td>\n",
       "      <td>detached garage</td>\n",
       "      <td>ca</td>\n",
       "    </tr>\n",
       "    <tr>\n",
       "      <th>250</th>\n",
       "      <td>orange county</td>\n",
       "      <td>2445</td>\n",
       "      <td>apartment</td>\n",
       "      <td>2</td>\n",
       "      <td>2</td>\n",
       "      <td>2.0</td>\n",
       "      <td>1</td>\n",
       "      <td>1</td>\n",
       "      <td>1</td>\n",
       "      <td>0</td>\n",
       "      <td>0</td>\n",
       "      <td>0</td>\n",
       "      <td>w/d in unit</td>\n",
       "      <td>attached garage</td>\n",
       "      <td>ca</td>\n",
       "    </tr>\n",
       "  </tbody>\n",
       "</table>\n",
       "<p>251 rows × 15 columns</p>\n",
       "</div>"
      ],
      "text/plain": [
       "              region  price       type  sqfeet  beds  baths  cats_allowed  \\\n",
       "0          san diego   1200  apartment       1     1    1.0             0   \n",
       "1    san luis obispo   2135  apartment       2     2    2.0             1   \n",
       "2        SF bay area   1599  apartment       1     1    1.0             0   \n",
       "3             pueblo    680  apartment       5     1    1.0             1   \n",
       "4             pueblo    680  apartment       5     1    1.0             1   \n",
       "..               ...    ...        ...     ...   ...    ...           ...   \n",
       "246      los angeles   1675  apartment       1     1    1.0             1   \n",
       "247      los angeles   1675  apartment       1     1    1.0             1   \n",
       "248      los angeles   1649  apartment       1     1    1.0             0   \n",
       "249    orange county   2092  apartment       1     1    1.0             1   \n",
       "250    orange county   2445  apartment       2     2    2.0             1   \n",
       "\n",
       "     dogs_allowed  smoking_allowed  wheelchair_access  \\\n",
       "0               0                1                  0   \n",
       "1               1                0                  0   \n",
       "2               0                0                  0   \n",
       "3               1                1                  0   \n",
       "4               1                1                  0   \n",
       "..            ...              ...                ...   \n",
       "246             1                1                  0   \n",
       "247             1                1                  0   \n",
       "248             0                0                  0   \n",
       "249             1                1                  1   \n",
       "250             1                1                  0   \n",
       "\n",
       "     electric_vehicle_charge  comes_furnished  laundry_options  \\\n",
       "0                          0                0  laundry on site   \n",
       "1                          0                0      w/d in unit   \n",
       "2                          0                0  laundry on site   \n",
       "3                          0                0  laundry in bldg   \n",
       "4                          0                0  laundry in bldg   \n",
       "..                       ...              ...              ...   \n",
       "246                        1                0  laundry in bldg   \n",
       "247                        1                0  laundry in bldg   \n",
       "248                        0                0  laundry on site   \n",
       "249                        1                0      w/d in unit   \n",
       "250                        0                0      w/d in unit   \n",
       "\n",
       "        parking_options state  \n",
       "0    off-street parking    ca  \n",
       "1       attached garage    ca  \n",
       "2    off-street parking    ca  \n",
       "3    off-street parking    co  \n",
       "4    off-street parking    co  \n",
       "..                  ...   ...  \n",
       "246     detached garage    ca  \n",
       "247     detached garage    ca  \n",
       "248             carport    ca  \n",
       "249     detached garage    ca  \n",
       "250     attached garage    ca  \n",
       "\n",
       "[251 rows x 15 columns]"
      ]
     },
     "execution_count": 8,
     "metadata": {},
     "output_type": "execute_result"
    }
   ],
   "source": [
    "# Filtering dataset for all squared feet values less than or equal to 5.\n",
    "housing_df.filter(housing_df.sqfeet <= '5').toPandas()"
   ]
  },
  {
   "cell_type": "markdown",
   "metadata": {},
   "source": [
    "We can observe that there are 251 values that fall into this category. Due to the uncertainty of the validity of these values it would be safer to remove them from the dataset.\n",
    "\n",
    "Before that however it would be interesting to observe the total counts for the bottom 20 square feet in the dataset."
   ]
  },
  {
   "cell_type": "code",
   "execution_count": 9,
   "metadata": {},
   "outputs": [
    {
     "name": "stdout",
     "output_type": "stream",
     "text": [
      "+------+-----+\n",
      "|sqfeet|count|\n",
      "+------+-----+\n",
      "|  null|    3|\n",
      "|     0|   48|\n",
      "|     1|  171|\n",
      "|     2|   27|\n",
      "|     3|    1|\n",
      "|     5|    4|\n",
      "|     6|    4|\n",
      "|     7|    4|\n",
      "|     8|    3|\n",
      "|     9|    1|\n",
      "|    10|   10|\n",
      "|    11|    3|\n",
      "|    12|    6|\n",
      "|    13|    2|\n",
      "|    14|    2|\n",
      "|    17|    2|\n",
      "|    18|    1|\n",
      "|    20|   36|\n",
      "|    22|    1|\n",
      "|    24|    1|\n",
      "+------+-----+\n",
      "only showing top 20 rows\n",
      "\n"
     ]
    }
   ],
   "source": [
    "# Observing the total counts for the bottom 20 square feet properties.\n",
    "housing_df.groupBy('sqfeet').count().orderBy('sqfeet', ascending=True).show()"
   ]
  },
  {
   "cell_type": "code",
   "execution_count": 10,
   "metadata": {},
   "outputs": [],
   "source": [
    "# Dropping all entries for properties registered at 5 or fewer squared feet.\n",
    "housing_df = housing_df.filter('sqfeet > 5')"
   ]
  },
  {
   "cell_type": "markdown",
   "metadata": {},
   "source": [
    "### Examinig '0' Values - 'price'"
   ]
  },
  {
   "cell_type": "markdown",
   "metadata": {},
   "source": [
    "The price point must also be examined given that the minimum value was 0, which is most likely a mistake in the dataset."
   ]
  },
  {
   "cell_type": "code",
   "execution_count": 11,
   "metadata": {
    "scrolled": false
   },
   "outputs": [
    {
     "data": {
      "text/html": [
       "<div>\n",
       "<style scoped>\n",
       "    .dataframe tbody tr th:only-of-type {\n",
       "        vertical-align: middle;\n",
       "    }\n",
       "\n",
       "    .dataframe tbody tr th {\n",
       "        vertical-align: top;\n",
       "    }\n",
       "\n",
       "    .dataframe thead th {\n",
       "        text-align: right;\n",
       "    }\n",
       "</style>\n",
       "<table border=\"1\" class=\"dataframe\">\n",
       "  <thead>\n",
       "    <tr style=\"text-align: right;\">\n",
       "      <th></th>\n",
       "      <th>region</th>\n",
       "      <th>price</th>\n",
       "      <th>type</th>\n",
       "      <th>sqfeet</th>\n",
       "      <th>beds</th>\n",
       "      <th>baths</th>\n",
       "      <th>cats_allowed</th>\n",
       "      <th>dogs_allowed</th>\n",
       "      <th>smoking_allowed</th>\n",
       "      <th>wheelchair_access</th>\n",
       "      <th>electric_vehicle_charge</th>\n",
       "      <th>comes_furnished</th>\n",
       "      <th>laundry_options</th>\n",
       "      <th>parking_options</th>\n",
       "      <th>state</th>\n",
       "    </tr>\n",
       "  </thead>\n",
       "  <tbody>\n",
       "    <tr>\n",
       "      <th>0</th>\n",
       "      <td>sacramento</td>\n",
       "      <td>0</td>\n",
       "      <td>apartment</td>\n",
       "      <td>500</td>\n",
       "      <td>1</td>\n",
       "      <td>1.0</td>\n",
       "      <td>0</td>\n",
       "      <td>0</td>\n",
       "      <td>1</td>\n",
       "      <td>0</td>\n",
       "      <td>0</td>\n",
       "      <td>0</td>\n",
       "      <td>None</td>\n",
       "      <td>None</td>\n",
       "      <td>ca</td>\n",
       "    </tr>\n",
       "    <tr>\n",
       "      <th>1</th>\n",
       "      <td>sacramento</td>\n",
       "      <td>0</td>\n",
       "      <td>apartment</td>\n",
       "      <td>500</td>\n",
       "      <td>1</td>\n",
       "      <td>1.0</td>\n",
       "      <td>0</td>\n",
       "      <td>0</td>\n",
       "      <td>1</td>\n",
       "      <td>0</td>\n",
       "      <td>0</td>\n",
       "      <td>0</td>\n",
       "      <td>None</td>\n",
       "      <td>None</td>\n",
       "      <td>ca</td>\n",
       "    </tr>\n",
       "    <tr>\n",
       "      <th>2</th>\n",
       "      <td>sacramento</td>\n",
       "      <td>0</td>\n",
       "      <td>apartment</td>\n",
       "      <td>500</td>\n",
       "      <td>1</td>\n",
       "      <td>1.0</td>\n",
       "      <td>0</td>\n",
       "      <td>0</td>\n",
       "      <td>1</td>\n",
       "      <td>0</td>\n",
       "      <td>0</td>\n",
       "      <td>0</td>\n",
       "      <td>None</td>\n",
       "      <td>None</td>\n",
       "      <td>ca</td>\n",
       "    </tr>\n",
       "    <tr>\n",
       "      <th>3</th>\n",
       "      <td>sacramento</td>\n",
       "      <td>0</td>\n",
       "      <td>apartment</td>\n",
       "      <td>500</td>\n",
       "      <td>1</td>\n",
       "      <td>1.0</td>\n",
       "      <td>0</td>\n",
       "      <td>0</td>\n",
       "      <td>1</td>\n",
       "      <td>0</td>\n",
       "      <td>0</td>\n",
       "      <td>0</td>\n",
       "      <td>None</td>\n",
       "      <td>None</td>\n",
       "      <td>ca</td>\n",
       "    </tr>\n",
       "    <tr>\n",
       "      <th>4</th>\n",
       "      <td>sacramento</td>\n",
       "      <td>0</td>\n",
       "      <td>apartment</td>\n",
       "      <td>500</td>\n",
       "      <td>1</td>\n",
       "      <td>1.0</td>\n",
       "      <td>0</td>\n",
       "      <td>0</td>\n",
       "      <td>1</td>\n",
       "      <td>0</td>\n",
       "      <td>0</td>\n",
       "      <td>0</td>\n",
       "      <td>None</td>\n",
       "      <td>None</td>\n",
       "      <td>ca</td>\n",
       "    </tr>\n",
       "    <tr>\n",
       "      <th>...</th>\n",
       "      <td>...</td>\n",
       "      <td>...</td>\n",
       "      <td>...</td>\n",
       "      <td>...</td>\n",
       "      <td>...</td>\n",
       "      <td>...</td>\n",
       "      <td>...</td>\n",
       "      <td>...</td>\n",
       "      <td>...</td>\n",
       "      <td>...</td>\n",
       "      <td>...</td>\n",
       "      <td>...</td>\n",
       "      <td>...</td>\n",
       "      <td>...</td>\n",
       "      <td>...</td>\n",
       "    </tr>\n",
       "    <tr>\n",
       "      <th>2213</th>\n",
       "      <td>orange county</td>\n",
       "      <td>0</td>\n",
       "      <td>apartment</td>\n",
       "      <td>446</td>\n",
       "      <td>0</td>\n",
       "      <td>1.0</td>\n",
       "      <td>0</td>\n",
       "      <td>0</td>\n",
       "      <td>1</td>\n",
       "      <td>0</td>\n",
       "      <td>0</td>\n",
       "      <td>0</td>\n",
       "      <td>laundry in bldg</td>\n",
       "      <td>carport</td>\n",
       "      <td>ca</td>\n",
       "    </tr>\n",
       "    <tr>\n",
       "      <th>2214</th>\n",
       "      <td>orange county</td>\n",
       "      <td>0</td>\n",
       "      <td>apartment</td>\n",
       "      <td>750</td>\n",
       "      <td>1</td>\n",
       "      <td>1.0</td>\n",
       "      <td>1</td>\n",
       "      <td>1</td>\n",
       "      <td>1</td>\n",
       "      <td>0</td>\n",
       "      <td>0</td>\n",
       "      <td>0</td>\n",
       "      <td>laundry on site</td>\n",
       "      <td>carport</td>\n",
       "      <td>ca</td>\n",
       "    </tr>\n",
       "    <tr>\n",
       "      <th>2215</th>\n",
       "      <td>orange county</td>\n",
       "      <td>0</td>\n",
       "      <td>apartment</td>\n",
       "      <td>446</td>\n",
       "      <td>0</td>\n",
       "      <td>1.0</td>\n",
       "      <td>0</td>\n",
       "      <td>0</td>\n",
       "      <td>1</td>\n",
       "      <td>0</td>\n",
       "      <td>0</td>\n",
       "      <td>0</td>\n",
       "      <td>laundry in bldg</td>\n",
       "      <td>carport</td>\n",
       "      <td>ca</td>\n",
       "    </tr>\n",
       "    <tr>\n",
       "      <th>2216</th>\n",
       "      <td>orange county</td>\n",
       "      <td>0</td>\n",
       "      <td>apartment</td>\n",
       "      <td>446</td>\n",
       "      <td>0</td>\n",
       "      <td>1.0</td>\n",
       "      <td>0</td>\n",
       "      <td>0</td>\n",
       "      <td>1</td>\n",
       "      <td>0</td>\n",
       "      <td>0</td>\n",
       "      <td>0</td>\n",
       "      <td>laundry in bldg</td>\n",
       "      <td>carport</td>\n",
       "      <td>ca</td>\n",
       "    </tr>\n",
       "    <tr>\n",
       "      <th>2217</th>\n",
       "      <td>palm springs</td>\n",
       "      <td>99</td>\n",
       "      <td>condo</td>\n",
       "      <td>800</td>\n",
       "      <td>2</td>\n",
       "      <td>1.0</td>\n",
       "      <td>0</td>\n",
       "      <td>0</td>\n",
       "      <td>0</td>\n",
       "      <td>0</td>\n",
       "      <td>0</td>\n",
       "      <td>0</td>\n",
       "      <td>laundry on site</td>\n",
       "      <td>off-street parking</td>\n",
       "      <td>ca</td>\n",
       "    </tr>\n",
       "  </tbody>\n",
       "</table>\n",
       "<p>2218 rows × 15 columns</p>\n",
       "</div>"
      ],
      "text/plain": [
       "             region  price       type  sqfeet  beds  baths  cats_allowed  \\\n",
       "0        sacramento      0  apartment     500     1    1.0             0   \n",
       "1        sacramento      0  apartment     500     1    1.0             0   \n",
       "2        sacramento      0  apartment     500     1    1.0             0   \n",
       "3        sacramento      0  apartment     500     1    1.0             0   \n",
       "4        sacramento      0  apartment     500     1    1.0             0   \n",
       "...             ...    ...        ...     ...   ...    ...           ...   \n",
       "2213  orange county      0  apartment     446     0    1.0             0   \n",
       "2214  orange county      0  apartment     750     1    1.0             1   \n",
       "2215  orange county      0  apartment     446     0    1.0             0   \n",
       "2216  orange county      0  apartment     446     0    1.0             0   \n",
       "2217   palm springs     99      condo     800     2    1.0             0   \n",
       "\n",
       "      dogs_allowed  smoking_allowed  wheelchair_access  \\\n",
       "0                0                1                  0   \n",
       "1                0                1                  0   \n",
       "2                0                1                  0   \n",
       "3                0                1                  0   \n",
       "4                0                1                  0   \n",
       "...            ...              ...                ...   \n",
       "2213             0                1                  0   \n",
       "2214             1                1                  0   \n",
       "2215             0                1                  0   \n",
       "2216             0                1                  0   \n",
       "2217             0                0                  0   \n",
       "\n",
       "      electric_vehicle_charge  comes_furnished  laundry_options  \\\n",
       "0                           0                0             None   \n",
       "1                           0                0             None   \n",
       "2                           0                0             None   \n",
       "3                           0                0             None   \n",
       "4                           0                0             None   \n",
       "...                       ...              ...              ...   \n",
       "2213                        0                0  laundry in bldg   \n",
       "2214                        0                0  laundry on site   \n",
       "2215                        0                0  laundry in bldg   \n",
       "2216                        0                0  laundry in bldg   \n",
       "2217                        0                0  laundry on site   \n",
       "\n",
       "         parking_options state  \n",
       "0                   None    ca  \n",
       "1                   None    ca  \n",
       "2                   None    ca  \n",
       "3                   None    ca  \n",
       "4                   None    ca  \n",
       "...                  ...   ...  \n",
       "2213             carport    ca  \n",
       "2214             carport    ca  \n",
       "2215             carport    ca  \n",
       "2216             carport    ca  \n",
       "2217  off-street parking    ca  \n",
       "\n",
       "[2218 rows x 15 columns]"
      ]
     },
     "execution_count": 11,
     "metadata": {},
     "output_type": "execute_result"
    }
   ],
   "source": [
    "# Observing all entries at a price point of 100 or less.\n",
    "housing_df.filter(housing_df.price <= '100').toPandas()"
   ]
  },
  {
   "cell_type": "markdown",
   "metadata": {},
   "source": [
    "As we can see there are 2218 properties on the market which fall into this range of values. Most of these entries are infact 0.\n",
    "\n",
    "We can once again observe the total counts for all entries of the lowest price points."
   ]
  },
  {
   "cell_type": "code",
   "execution_count": 12,
   "metadata": {},
   "outputs": [
    {
     "name": "stdout",
     "output_type": "stream",
     "text": [
      "+-----+-----+\n",
      "|price|count|\n",
      "+-----+-----+\n",
      "| null|    1|\n",
      "|    0| 1306|\n",
      "|    1|  725|\n",
      "|    2|    5|\n",
      "|    5|   19|\n",
      "|    8|    4|\n",
      "|    9|    1|\n",
      "|   10|    3|\n",
      "|   11|    2|\n",
      "|   14|    2|\n",
      "|   15|    1|\n",
      "|   16|    4|\n",
      "|   17|    2|\n",
      "|   20|    2|\n",
      "|   22|    2|\n",
      "|   23|    1|\n",
      "|   25|   46|\n",
      "|   26|    1|\n",
      "|   30|    3|\n",
      "|   32|    1|\n",
      "+-----+-----+\n",
      "only showing top 20 rows\n",
      "\n"
     ]
    }
   ],
   "source": [
    "# Observing the total counts for the 20 cheapest properties.\n",
    "housing_df.groupBy('price').count().orderBy('price', ascending=True).show()"
   ]
  },
  {
   "cell_type": "markdown",
   "metadata": {},
   "source": [
    "Undoubtably these price points are incorrect and need to be removed from the dataset."
   ]
  },
  {
   "cell_type": "code",
   "execution_count": 13,
   "metadata": {},
   "outputs": [],
   "source": [
    "# Dropping all rows if price point is below 100.\n",
    "housing_df = housing_df.filter('price > 100')"
   ]
  },
  {
   "cell_type": "markdown",
   "metadata": {},
   "source": [
    "### Examinig '0' Values - 'beds' & 'baths'"
   ]
  },
  {
   "cell_type": "markdown",
   "metadata": {},
   "source": [
    "Similarly the beds an baths features are examined more closely due to the 0 values previously identified."
   ]
  },
  {
   "cell_type": "code",
   "execution_count": 14,
   "metadata": {
    "scrolled": false
   },
   "outputs": [
    {
     "name": "stdout",
     "output_type": "stream",
     "text": [
      "+----+------+\n",
      "|beds| count|\n",
      "+----+------+\n",
      "|   0| 10918|\n",
      "|   1|116417|\n",
      "|   2|174545|\n",
      "|   3| 66564|\n",
      "|   4| 11481|\n",
      "|   5|  2267|\n",
      "|   6|   233|\n",
      "|   7|    49|\n",
      "|   8|    29|\n",
      "|1000|     2|\n",
      "|1100|     2|\n",
      "+----+------+\n",
      "\n",
      "+-----+------+\n",
      "|baths| count|\n",
      "+-----+------+\n",
      "| null| 41596|\n",
      "|    0|  3081|\n",
      "|    1|196714|\n",
      "|    2|134024|\n",
      "|    3|  5506|\n",
      "|    4|  1450|\n",
      "|    5|   102|\n",
      "|    6|    26|\n",
      "|    7|     4|\n",
      "|   25|     1|\n",
      "|   35|     1|\n",
      "|   75|     2|\n",
      "+-----+------+\n",
      "\n"
     ]
    }
   ],
   "source": [
    "# Breakdown for total counts of beds in the dataset.\n",
    "housing_df.groupBy('beds').count().orderBy('beds', ascending=True).show()\n",
    "\n",
    "# Breakdown for total counts of baths in the dataset.\n",
    "housing_df.groupBy('baths').count().orderBy('baths', ascending=True).show()"
   ]
  },
  {
   "cell_type": "markdown",
   "metadata": {},
   "source": [
    "It is rather clear that some very large properties are present in the dataset with a high number of beds and bathrooms. We can also observe that there exist over 41000 missing entries in the baths feature which must be handled appropriately.\n",
    "\n",
    "Additionally we can also see that a somewhat small number of properties have no bedroom or bathroom. This may potentially be a mistake but because the overall proportion of this incorrect number is small we can filter them out."
   ]
  },
  {
   "cell_type": "code",
   "execution_count": 15,
   "metadata": {},
   "outputs": [],
   "source": [
    "# Filtering out 0 bathroom and bedroom properties.\n",
    "housing_df = housing_df.filter((housing_df.beds > '0')  & (housing_df.baths > '0'))"
   ]
  },
  {
   "cell_type": "markdown",
   "metadata": {},
   "source": [
    "### Missing Values\n",
    "\n",
    "Examining all features with missing values and handling them appropriately.\n",
    "\n",
    "There are multiple methods for completing the same task in pyspark. In this case a loop is used to showcase the pythonic aspect of pyspark. The second method will enable the use of RDDs and distributional computing."
   ]
  },
  {
   "cell_type": "code",
   "execution_count": 16,
   "metadata": {},
   "outputs": [
    {
     "name": "stdout",
     "output_type": "stream",
     "text": [
      "No. missing rows in region: 0\n",
      "No. missing rows in price: 0\n",
      "No. missing rows in type: 0\n",
      "No. missing rows in sqfeet: 0\n",
      "No. missing rows in beds: 0\n",
      "No. missing rows in baths: 0\n",
      "No. missing rows in cats_allowed: 0\n",
      "No. missing rows in dogs_allowed: 0\n",
      "No. missing rows in smoking_allowed: 0\n",
      "No. missing rows in wheelchair_access: 0\n",
      "No. missing rows in electric_vehicle_charge: 0\n",
      "No. missing rows in comes_furnished: 0\n",
      "No. missing rows in laundry_options: 68284\n",
      "No. missing rows in parking_options: 120957\n",
      "No. missing rows in state: 15\n"
     ]
    }
   ],
   "source": [
    "# Looping through each column and counting all missing values.\n",
    "for column in housing_df.columns:\n",
    "    print(f\"No. missing rows in {column}: {housing_df.filter(col(column).isNull()).count()}\")"
   ]
  },
  {
   "cell_type": "markdown",
   "metadata": {},
   "source": [
    "The second method for identifying the number of missing columns as observed below."
   ]
  },
  {
   "cell_type": "code",
   "execution_count": 17,
   "metadata": {
    "scrolled": true
   },
   "outputs": [
    {
     "data": {
      "text/html": [
       "<div>\n",
       "<style scoped>\n",
       "    .dataframe tbody tr th:only-of-type {\n",
       "        vertical-align: middle;\n",
       "    }\n",
       "\n",
       "    .dataframe tbody tr th {\n",
       "        vertical-align: top;\n",
       "    }\n",
       "\n",
       "    .dataframe thead th {\n",
       "        text-align: right;\n",
       "    }\n",
       "</style>\n",
       "<table border=\"1\" class=\"dataframe\">\n",
       "  <thead>\n",
       "    <tr style=\"text-align: right;\">\n",
       "      <th></th>\n",
       "      <th>region</th>\n",
       "      <th>price</th>\n",
       "      <th>type</th>\n",
       "      <th>sqfeet</th>\n",
       "      <th>beds</th>\n",
       "      <th>baths</th>\n",
       "      <th>cats_allowed</th>\n",
       "      <th>dogs_allowed</th>\n",
       "      <th>smoking_allowed</th>\n",
       "      <th>wheelchair_access</th>\n",
       "      <th>electric_vehicle_charge</th>\n",
       "      <th>comes_furnished</th>\n",
       "      <th>laundry_options</th>\n",
       "      <th>parking_options</th>\n",
       "      <th>state</th>\n",
       "    </tr>\n",
       "  </thead>\n",
       "  <tbody>\n",
       "    <tr>\n",
       "      <th>0</th>\n",
       "      <td>0</td>\n",
       "      <td>0</td>\n",
       "      <td>0</td>\n",
       "      <td>0</td>\n",
       "      <td>0</td>\n",
       "      <td>0</td>\n",
       "      <td>0</td>\n",
       "      <td>0</td>\n",
       "      <td>0</td>\n",
       "      <td>0</td>\n",
       "      <td>0</td>\n",
       "      <td>0</td>\n",
       "      <td>68284</td>\n",
       "      <td>120957</td>\n",
       "      <td>15</td>\n",
       "    </tr>\n",
       "  </tbody>\n",
       "</table>\n",
       "</div>"
      ],
      "text/plain": [
       "   region  price  type  sqfeet  beds  baths  cats_allowed  dogs_allowed  \\\n",
       "0       0      0     0       0     0      0             0             0   \n",
       "\n",
       "   smoking_allowed  wheelchair_access  electric_vehicle_charge  \\\n",
       "0                0                  0                        0   \n",
       "\n",
       "   comes_furnished  laundry_options  parking_options  state  \n",
       "0                0            68284           120957     15  "
      ]
     },
     "execution_count": 17,
     "metadata": {},
     "output_type": "execute_result"
    }
   ],
   "source": [
    "# Counts the number of missing or null values in the dataset and outputs result by column.\n",
    "housing_df.select([count(when(isnan(c) | col(c).isNull(), c)).alias(c) for c in housing_df.columns]).toPandas()"
   ]
  },
  {
   "cell_type": "code",
   "execution_count": 18,
   "metadata": {},
   "outputs": [
    {
     "data": {
      "text/html": [
       "<div>\n",
       "<style scoped>\n",
       "    .dataframe tbody tr th:only-of-type {\n",
       "        vertical-align: middle;\n",
       "    }\n",
       "\n",
       "    .dataframe tbody tr th {\n",
       "        vertical-align: top;\n",
       "    }\n",
       "\n",
       "    .dataframe thead th {\n",
       "        text-align: right;\n",
       "    }\n",
       "</style>\n",
       "<table border=\"1\" class=\"dataframe\">\n",
       "  <thead>\n",
       "    <tr style=\"text-align: right;\">\n",
       "      <th></th>\n",
       "      <th>region_missing</th>\n",
       "      <th>price_missing</th>\n",
       "      <th>type_missing</th>\n",
       "      <th>sqfeet_missing</th>\n",
       "      <th>beds_missing</th>\n",
       "      <th>baths_missing</th>\n",
       "      <th>cats_allowed_missing</th>\n",
       "      <th>dogs_allowed_missing</th>\n",
       "      <th>smoking_allowed_missing</th>\n",
       "      <th>wheelchair_access_missing</th>\n",
       "      <th>electric_vehicle_charge_missing</th>\n",
       "      <th>comes_furnished_missing</th>\n",
       "      <th>laundry_options_missing</th>\n",
       "      <th>parking_options_missing</th>\n",
       "      <th>state_missing</th>\n",
       "    </tr>\n",
       "  </thead>\n",
       "  <tbody>\n",
       "    <tr>\n",
       "      <th>0</th>\n",
       "      <td>0.0</td>\n",
       "      <td>0.0</td>\n",
       "      <td>0.0</td>\n",
       "      <td>0.0</td>\n",
       "      <td>0.0</td>\n",
       "      <td>0.0</td>\n",
       "      <td>0.0</td>\n",
       "      <td>0.0</td>\n",
       "      <td>0.0</td>\n",
       "      <td>0.0</td>\n",
       "      <td>0.0</td>\n",
       "      <td>0.0</td>\n",
       "      <td>0.208843</td>\n",
       "      <td>0.369941</td>\n",
       "      <td>0.000046</td>\n",
       "    </tr>\n",
       "  </tbody>\n",
       "</table>\n",
       "</div>"
      ],
      "text/plain": [
       "   region_missing  price_missing  type_missing  sqfeet_missing  beds_missing  \\\n",
       "0             0.0            0.0           0.0             0.0           0.0   \n",
       "\n",
       "   baths_missing  cats_allowed_missing  dogs_allowed_missing  \\\n",
       "0            0.0                   0.0                   0.0   \n",
       "\n",
       "   smoking_allowed_missing  wheelchair_access_missing  \\\n",
       "0                      0.0                        0.0   \n",
       "\n",
       "   electric_vehicle_charge_missing  comes_furnished_missing  \\\n",
       "0                              0.0                      0.0   \n",
       "\n",
       "   laundry_options_missing  parking_options_missing  state_missing  \n",
       "0                 0.208843                 0.369941       0.000046  "
      ]
     },
     "execution_count": 18,
     "metadata": {},
     "output_type": "execute_result"
    }
   ],
   "source": [
    "# Identifying the impact of missing values on the dataset as a percentage of total values.\n",
    "housing_df.agg(*[(1 - (fn.count(c) / fn.count('*'))).alias(c + '_missing')for c in housing_df.columns]).toPandas()"
   ]
  },
  {
   "cell_type": "markdown",
   "metadata": {},
   "source": [
    "The parking options and laundry options make up a large portion of the total missing values in the dataset.\n",
    "\n",
    "Such a large number of entries would add value to the model’s ability to predict the dataset and generalise on unseen data and should therefore not be discarded. The optimal option in this regard is to use data imputation."
   ]
  },
  {
   "cell_type": "markdown",
   "metadata": {},
   "source": [
    "### Data Imputation"
   ]
  },
  {
   "cell_type": "markdown",
   "metadata": {},
   "source": [
    "The decision to fill instead of remove the missing values has been made. Now an appropriate method for data imputation must be chosen.\n",
    "\n",
    "The three key features to data imputation are 'laundry_options' and 'parking_options'. The method for data imputation is to use the mode of the feature. Ideally the mode would have been based upon the quartiles of the dataset. For example, the first quartile for the price feature would be used to then compute the relevant mode of the baths within that price quartile. The intuition behind this is that similarly priced properties would be similarly built. This is clearly not a full proof theory but it would be an improvement upon the blanket approach of using the feature mode. Unfortunately this was not successfully implemented and therefore the mode of the entire feature was used."
   ]
  },
  {
   "cell_type": "code",
   "execution_count": 19,
   "metadata": {},
   "outputs": [
    {
     "name": "stdout",
     "output_type": "stream",
     "text": [
      "The baths mode is: 1\n"
     ]
    }
   ],
   "source": [
    "# Computing the bath mode.\n",
    "bath_mode = housing_df.groupby('baths').count().orderBy('count', ascending=False).first()[0]\n",
    "\n",
    "print(f'The baths mode is: {bath_mode}')"
   ]
  },
  {
   "cell_type": "code",
   "execution_count": 20,
   "metadata": {},
   "outputs": [
    {
     "name": "stdout",
     "output_type": "stream",
     "text": [
      "The laundry mode is: w/d in unit\n"
     ]
    }
   ],
   "source": [
    "# Computing the laundry mode.\n",
    "laundry_mode = housing_df.groupby('laundry_options').count().orderBy('count', ascending=False).first()[0]\n",
    "\n",
    "print(f'The laundry mode is: {laundry_mode}')"
   ]
  },
  {
   "cell_type": "code",
   "execution_count": 21,
   "metadata": {},
   "outputs": [
    {
     "name": "stdout",
     "output_type": "stream",
     "text": [
      "+------------------+------+\n",
      "|   parking_options| count|\n",
      "+------------------+------+\n",
      "|              null|120957|\n",
      "|off-street parking|109923|\n",
      "|           carport| 34584|\n",
      "|   attached garage| 30498|\n",
      "|   detached garage| 14662|\n",
      "|    street parking| 13374|\n",
      "|        no parking|  2825|\n",
      "|     valet parking|   140|\n",
      "+------------------+------+\n",
      "\n",
      "The parking mode is: None\n"
     ]
    }
   ],
   "source": [
    "# Computing the laundry mode.\n",
    "parking_options = housing_df.groupby('parking_options').count().orderBy('count', ascending=False).show()\n",
    "\n",
    "print(f'The parking mode is: {parking_options}')"
   ]
  },
  {
   "cell_type": "markdown",
   "metadata": {},
   "source": [
    "The parking options mode is null, as it is the most frequently occurring element in the dataset. The second most frequent parking option will then be manually selected."
   ]
  },
  {
   "cell_type": "code",
   "execution_count": 22,
   "metadata": {},
   "outputs": [],
   "source": [
    "# Imputing the dataset using the calculated mode values.\n",
    "imputed_df = housing_df.fillna({'laundry_options': laundry_mode, 'parking_options': 'off-street parking'})"
   ]
  },
  {
   "cell_type": "markdown",
   "metadata": {},
   "source": [
    "The missing values in the dataset have now been filled in for the three columns.\n",
    "\n",
    "Below is a check to ensure that the process was successful."
   ]
  },
  {
   "cell_type": "code",
   "execution_count": 23,
   "metadata": {},
   "outputs": [
    {
     "name": "stdout",
     "output_type": "stream",
     "text": [
      "No. missing rows in DataFrame[baths: int]: 0\n",
      "No. missing rows in DataFrame[parking_options: string]: 0\n",
      "No. missing rows in DataFrame[laundry_options: string]: 0\n"
     ]
    }
   ],
   "source": [
    "print(f\"No. missing rows in {imputed_df[['baths']]}: {imputed_df.filter(col('baths').isNull()).count()}\")\n",
    "print(f\"No. missing rows in {imputed_df[['parking_options']]}: {imputed_df.filter(col('parking_options').isNull()).count()}\")\n",
    "print(f\"No. missing rows in {imputed_df[['laundry_options']]}: {imputed_df.filter(col('laundry_options').isNull()).count()}\")"
   ]
  },
  {
   "cell_type": "markdown",
   "metadata": {},
   "source": [
    "### Dropping Missing Values\n",
    "\n",
    "There is still one feature previously observed which showed a small number of missing values, the state feature."
   ]
  },
  {
   "cell_type": "code",
   "execution_count": 24,
   "metadata": {},
   "outputs": [
    {
     "name": "stdout",
     "output_type": "stream",
     "text": [
      "No. missing rows in region: 0\n",
      "No. missing rows in price: 0\n",
      "No. missing rows in type: 0\n",
      "No. missing rows in sqfeet: 0\n",
      "No. missing rows in beds: 0\n",
      "No. missing rows in baths: 0\n",
      "No. missing rows in cats_allowed: 0\n",
      "No. missing rows in dogs_allowed: 0\n",
      "No. missing rows in smoking_allowed: 0\n",
      "No. missing rows in wheelchair_access: 0\n",
      "No. missing rows in electric_vehicle_charge: 0\n",
      "No. missing rows in comes_furnished: 0\n",
      "No. missing rows in laundry_options: 0\n",
      "No. missing rows in parking_options: 0\n",
      "No. missing rows in state: 15\n"
     ]
    }
   ],
   "source": [
    "# Looping through the all columns and summing up all missing entries.\n",
    "for column in imputed_df.columns:\n",
    "    print(f\"No. missing rows in {column}: {imputed_df.filter(col(column).isNull()).count()}\")"
   ]
  },
  {
   "cell_type": "markdown",
   "metadata": {},
   "source": [
    "The state column has only 15 missing values. Due to the very small number we can safely remove the entire row from the dataset without impacting the potential performance of a model."
   ]
  },
  {
   "cell_type": "code",
   "execution_count": 25,
   "metadata": {},
   "outputs": [],
   "source": [
    "# Droppin the entire row where missing values are detected.\n",
    "imputed_df = imputed_df.dropna(how='any', thresh=None, subset=None)"
   ]
  },
  {
   "cell_type": "code",
   "execution_count": 26,
   "metadata": {},
   "outputs": [
    {
     "name": "stdout",
     "output_type": "stream",
     "text": [
      "Total dataset row count: 326948\n"
     ]
    }
   ],
   "source": [
    "print(f'Total dataset row count: {imputed_df.count()}')"
   ]
  },
  {
   "cell_type": "markdown",
   "metadata": {},
   "source": [
    "### Checking for Duplicates\n",
    "\n",
    "The next step in data analysis is to check for duplicate data entries and removing the duplciate values if required."
   ]
  },
  {
   "cell_type": "code",
   "execution_count": 27,
   "metadata": {},
   "outputs": [],
   "source": [
    "# Counting all entries in the dataset and showing those with a count of greater than one i.e. duplicates.\n",
    "duplicates = imputed_df.groupBy(imputed_df.columns).count().filter('count > 1')"
   ]
  },
  {
   "cell_type": "code",
   "execution_count": 28,
   "metadata": {},
   "outputs": [
    {
     "data": {
      "text/html": [
       "<div>\n",
       "<style scoped>\n",
       "    .dataframe tbody tr th:only-of-type {\n",
       "        vertical-align: middle;\n",
       "    }\n",
       "\n",
       "    .dataframe tbody tr th {\n",
       "        vertical-align: top;\n",
       "    }\n",
       "\n",
       "    .dataframe thead th {\n",
       "        text-align: right;\n",
       "    }\n",
       "</style>\n",
       "<table border=\"1\" class=\"dataframe\">\n",
       "  <thead>\n",
       "    <tr style=\"text-align: right;\">\n",
       "      <th></th>\n",
       "      <th>region</th>\n",
       "      <th>price</th>\n",
       "      <th>type</th>\n",
       "      <th>sqfeet</th>\n",
       "      <th>beds</th>\n",
       "      <th>baths</th>\n",
       "      <th>cats_allowed</th>\n",
       "      <th>dogs_allowed</th>\n",
       "      <th>smoking_allowed</th>\n",
       "      <th>wheelchair_access</th>\n",
       "      <th>electric_vehicle_charge</th>\n",
       "      <th>comes_furnished</th>\n",
       "      <th>laundry_options</th>\n",
       "      <th>parking_options</th>\n",
       "      <th>state</th>\n",
       "      <th>count</th>\n",
       "    </tr>\n",
       "  </thead>\n",
       "  <tbody>\n",
       "    <tr>\n",
       "      <th>0</th>\n",
       "      <td>beaumont / port arthur</td>\n",
       "      <td>730</td>\n",
       "      <td>apartment</td>\n",
       "      <td>750</td>\n",
       "      <td>1</td>\n",
       "      <td>1</td>\n",
       "      <td>0</td>\n",
       "      <td>0</td>\n",
       "      <td>1</td>\n",
       "      <td>0</td>\n",
       "      <td>0</td>\n",
       "      <td>0</td>\n",
       "      <td>w/d in unit</td>\n",
       "      <td>off-street parking</td>\n",
       "      <td>tx</td>\n",
       "      <td>365</td>\n",
       "    </tr>\n",
       "    <tr>\n",
       "      <th>1</th>\n",
       "      <td>jacksonville</td>\n",
       "      <td>695</td>\n",
       "      <td>apartment</td>\n",
       "      <td>920</td>\n",
       "      <td>2</td>\n",
       "      <td>1</td>\n",
       "      <td>1</td>\n",
       "      <td>1</td>\n",
       "      <td>1</td>\n",
       "      <td>0</td>\n",
       "      <td>0</td>\n",
       "      <td>0</td>\n",
       "      <td>laundry on site</td>\n",
       "      <td>off-street parking</td>\n",
       "      <td>nc</td>\n",
       "      <td>275</td>\n",
       "    </tr>\n",
       "    <tr>\n",
       "      <th>2</th>\n",
       "      <td>winston-salem</td>\n",
       "      <td>795</td>\n",
       "      <td>apartment</td>\n",
       "      <td>1248</td>\n",
       "      <td>3</td>\n",
       "      <td>2</td>\n",
       "      <td>1</td>\n",
       "      <td>1</td>\n",
       "      <td>1</td>\n",
       "      <td>0</td>\n",
       "      <td>0</td>\n",
       "      <td>0</td>\n",
       "      <td>w/d hookups</td>\n",
       "      <td>off-street parking</td>\n",
       "      <td>nc</td>\n",
       "      <td>247</td>\n",
       "    </tr>\n",
       "    <tr>\n",
       "      <th>3</th>\n",
       "      <td>albany</td>\n",
       "      <td>521</td>\n",
       "      <td>apartment</td>\n",
       "      <td>595</td>\n",
       "      <td>1</td>\n",
       "      <td>1</td>\n",
       "      <td>1</td>\n",
       "      <td>1</td>\n",
       "      <td>1</td>\n",
       "      <td>0</td>\n",
       "      <td>0</td>\n",
       "      <td>0</td>\n",
       "      <td>laundry on site</td>\n",
       "      <td>off-street parking</td>\n",
       "      <td>ga</td>\n",
       "      <td>221</td>\n",
       "    </tr>\n",
       "    <tr>\n",
       "      <th>4</th>\n",
       "      <td>space coast</td>\n",
       "      <td>1025</td>\n",
       "      <td>apartment</td>\n",
       "      <td>1000</td>\n",
       "      <td>2</td>\n",
       "      <td>2</td>\n",
       "      <td>1</td>\n",
       "      <td>1</td>\n",
       "      <td>1</td>\n",
       "      <td>0</td>\n",
       "      <td>0</td>\n",
       "      <td>0</td>\n",
       "      <td>w/d in unit</td>\n",
       "      <td>off-street parking</td>\n",
       "      <td>fl</td>\n",
       "      <td>161</td>\n",
       "    </tr>\n",
       "    <tr>\n",
       "      <th>...</th>\n",
       "      <td>...</td>\n",
       "      <td>...</td>\n",
       "      <td>...</td>\n",
       "      <td>...</td>\n",
       "      <td>...</td>\n",
       "      <td>...</td>\n",
       "      <td>...</td>\n",
       "      <td>...</td>\n",
       "      <td>...</td>\n",
       "      <td>...</td>\n",
       "      <td>...</td>\n",
       "      <td>...</td>\n",
       "      <td>...</td>\n",
       "      <td>...</td>\n",
       "      <td>...</td>\n",
       "      <td>...</td>\n",
       "    </tr>\n",
       "    <tr>\n",
       "      <th>39030</th>\n",
       "      <td>los angeles</td>\n",
       "      <td>1785</td>\n",
       "      <td>apartment</td>\n",
       "      <td>500</td>\n",
       "      <td>1</td>\n",
       "      <td>1</td>\n",
       "      <td>1</td>\n",
       "      <td>1</td>\n",
       "      <td>0</td>\n",
       "      <td>0</td>\n",
       "      <td>0</td>\n",
       "      <td>0</td>\n",
       "      <td>w/d in unit</td>\n",
       "      <td>carport</td>\n",
       "      <td>ca</td>\n",
       "      <td>2</td>\n",
       "    </tr>\n",
       "    <tr>\n",
       "      <th>39031</th>\n",
       "      <td>monterey bay</td>\n",
       "      <td>1875</td>\n",
       "      <td>apartment</td>\n",
       "      <td>500</td>\n",
       "      <td>2</td>\n",
       "      <td>1</td>\n",
       "      <td>0</td>\n",
       "      <td>0</td>\n",
       "      <td>0</td>\n",
       "      <td>0</td>\n",
       "      <td>0</td>\n",
       "      <td>1</td>\n",
       "      <td>no laundry on site</td>\n",
       "      <td>off-street parking</td>\n",
       "      <td>ca</td>\n",
       "      <td>2</td>\n",
       "    </tr>\n",
       "    <tr>\n",
       "      <th>39032</th>\n",
       "      <td>orange county</td>\n",
       "      <td>2460</td>\n",
       "      <td>apartment</td>\n",
       "      <td>969</td>\n",
       "      <td>2</td>\n",
       "      <td>2</td>\n",
       "      <td>1</td>\n",
       "      <td>1</td>\n",
       "      <td>0</td>\n",
       "      <td>0</td>\n",
       "      <td>0</td>\n",
       "      <td>0</td>\n",
       "      <td>w/d in unit</td>\n",
       "      <td>detached garage</td>\n",
       "      <td>ca</td>\n",
       "      <td>2</td>\n",
       "    </tr>\n",
       "    <tr>\n",
       "      <th>39033</th>\n",
       "      <td>orange county</td>\n",
       "      <td>2250</td>\n",
       "      <td>apartment</td>\n",
       "      <td>726</td>\n",
       "      <td>1</td>\n",
       "      <td>1</td>\n",
       "      <td>1</td>\n",
       "      <td>1</td>\n",
       "      <td>0</td>\n",
       "      <td>1</td>\n",
       "      <td>1</td>\n",
       "      <td>0</td>\n",
       "      <td>w/d in unit</td>\n",
       "      <td>detached garage</td>\n",
       "      <td>ca</td>\n",
       "      <td>2</td>\n",
       "    </tr>\n",
       "    <tr>\n",
       "      <th>39034</th>\n",
       "      <td>orange county</td>\n",
       "      <td>2199</td>\n",
       "      <td>apartment</td>\n",
       "      <td>972</td>\n",
       "      <td>2</td>\n",
       "      <td>2</td>\n",
       "      <td>1</td>\n",
       "      <td>1</td>\n",
       "      <td>1</td>\n",
       "      <td>0</td>\n",
       "      <td>0</td>\n",
       "      <td>0</td>\n",
       "      <td>w/d in unit</td>\n",
       "      <td>carport</td>\n",
       "      <td>ca</td>\n",
       "      <td>2</td>\n",
       "    </tr>\n",
       "  </tbody>\n",
       "</table>\n",
       "<p>39035 rows × 16 columns</p>\n",
       "</div>"
      ],
      "text/plain": [
       "                       region  price       type  sqfeet  beds  baths  \\\n",
       "0      beaumont / port arthur    730  apartment     750     1      1   \n",
       "1                jacksonville    695  apartment     920     2      1   \n",
       "2               winston-salem    795  apartment    1248     3      2   \n",
       "3                      albany    521  apartment     595     1      1   \n",
       "4                 space coast   1025  apartment    1000     2      2   \n",
       "...                       ...    ...        ...     ...   ...    ...   \n",
       "39030             los angeles   1785  apartment     500     1      1   \n",
       "39031            monterey bay   1875  apartment     500     2      1   \n",
       "39032           orange county   2460  apartment     969     2      2   \n",
       "39033           orange county   2250  apartment     726     1      1   \n",
       "39034           orange county   2199  apartment     972     2      2   \n",
       "\n",
       "       cats_allowed  dogs_allowed  smoking_allowed  wheelchair_access  \\\n",
       "0                 0             0                1                  0   \n",
       "1                 1             1                1                  0   \n",
       "2                 1             1                1                  0   \n",
       "3                 1             1                1                  0   \n",
       "4                 1             1                1                  0   \n",
       "...             ...           ...              ...                ...   \n",
       "39030             1             1                0                  0   \n",
       "39031             0             0                0                  0   \n",
       "39032             1             1                0                  0   \n",
       "39033             1             1                0                  1   \n",
       "39034             1             1                1                  0   \n",
       "\n",
       "       electric_vehicle_charge  comes_furnished     laundry_options  \\\n",
       "0                            0                0         w/d in unit   \n",
       "1                            0                0     laundry on site   \n",
       "2                            0                0         w/d hookups   \n",
       "3                            0                0     laundry on site   \n",
       "4                            0                0         w/d in unit   \n",
       "...                        ...              ...                 ...   \n",
       "39030                        0                0         w/d in unit   \n",
       "39031                        0                1  no laundry on site   \n",
       "39032                        0                0         w/d in unit   \n",
       "39033                        1                0         w/d in unit   \n",
       "39034                        0                0         w/d in unit   \n",
       "\n",
       "          parking_options state  count  \n",
       "0      off-street parking    tx    365  \n",
       "1      off-street parking    nc    275  \n",
       "2      off-street parking    nc    247  \n",
       "3      off-street parking    ga    221  \n",
       "4      off-street parking    fl    161  \n",
       "...                   ...   ...    ...  \n",
       "39030             carport    ca      2  \n",
       "39031  off-street parking    ca      2  \n",
       "39032     detached garage    ca      2  \n",
       "39033     detached garage    ca      2  \n",
       "39034             carport    ca      2  \n",
       "\n",
       "[39035 rows x 16 columns]"
      ]
     },
     "execution_count": 28,
     "metadata": {},
     "output_type": "execute_result"
    }
   ],
   "source": [
    "# Sorting the duplicates by the highest count.\n",
    "duplicates.orderBy('count', ascending=False).toPandas()"
   ]
  },
  {
   "cell_type": "markdown",
   "metadata": {},
   "source": [
    "There are a large number of duplicate entries in this dataset. The highest duplicate count reaches 365. This may be a result of large apartment blocks being sold with the same specification at the same exact price point. For this reason it makes sense to keep such entries in the dataset to account for real world situations where this event occurs."
   ]
  },
  {
   "cell_type": "code",
   "execution_count": 29,
   "metadata": {},
   "outputs": [
    {
     "name": "stdout",
     "output_type": "stream",
     "text": [
      "Number of rows in dataset: 326948\n",
      "Number of unique rows in dataset: 148027\n"
     ]
    }
   ],
   "source": [
    "# Counting the number of unique and duplicate entries.\n",
    "print(f'Number of rows in dataset: {imputed_df.count()}')\n",
    "print(f'Number of unique rows in dataset: {imputed_df.distinct().count()}')"
   ]
  },
  {
   "cell_type": "markdown",
   "metadata": {},
   "source": [
    "Surprisingly it appears that just under half of the data is duplicated. This number may be artificially inflated due to the fact that The mode was used to impute the data for two major null features. The ducplicates will however not be removed."
   ]
  },
  {
   "cell_type": "markdown",
   "metadata": {},
   "source": [
    "### Outlier Detection"
   ]
  },
  {
   "cell_type": "markdown",
   "metadata": {},
   "source": [
    "Previously we have observed some very large values for the price, square feet, beds and baths features. These values should potentially be removed as they may negatively impact the model’s performance."
   ]
  },
  {
   "cell_type": "code",
   "execution_count": 30,
   "metadata": {},
   "outputs": [],
   "source": [
    "# Creating a new unique id for each row in the data.\n",
    "imputed_df = imputed_df.withColumn('id', monotonically_increasing_id())"
   ]
  },
  {
   "cell_type": "markdown",
   "metadata": {},
   "source": [
    "The upper and lower bounds of the dataset will be used to determine whether the property is considered as an outlier. This will be calculated using the approxQuantile method which calculates the approximate quantiles of the dataset."
   ]
  },
  {
   "cell_type": "code",
   "execution_count": 31,
   "metadata": {},
   "outputs": [
    {
     "name": "stdout",
     "output_type": "stream",
     "text": [
      "{'price': [-55.0, 2265.0], 'sqfeet': [202.5, 1662.5], 'baths': [-0.5, 3.5], 'beds': [-0.5, 3.5]}\n"
     ]
    }
   ],
   "source": [
    "# The columns to be checked for outliers.\n",
    "cols = ['price', 'sqfeet', 'baths', 'beds']\n",
    "\n",
    "# Dictionary to store outlier bounds.\n",
    "bounds = {}\n",
    "\n",
    "# Iterating through the columns.\n",
    "for col in cols:\n",
    "    \n",
    "    # Aproximating the 1st and 3rd quartile.\n",
    "    quantiles = imputed_df.approxQuantile(col, [0.25, 0.75], 0)\n",
    "\n",
    "    # Calculating the interquartile range.\n",
    "    IQR = quantiles[1] - quantiles[0]\n",
    "\n",
    "    # Calculating the bounds for each columns.\n",
    "    bounds[col] = [quantiles[0] - 1.5 * IQR, \n",
    "                   quantiles[1] + 1.5 * IQR]\n",
    "    \n",
    "print(bounds)"
   ]
  },
  {
   "cell_type": "markdown",
   "metadata": {},
   "source": [
    "It is interesting to note that the price, baths and beds features lower bounds are all negative. The square feet feature however considers all features below 150 sq feet to be outliers."
   ]
  },
  {
   "cell_type": "code",
   "execution_count": 32,
   "metadata": {},
   "outputs": [],
   "source": [
    "# Create a new column for the features containing out of bounds boolean values.\n",
    "outliers = imputed_df.select(*['id'] + [(\n",
    "                            (imputed_df[c] < bounds[c][0]) | \n",
    "                            (imputed_df[c] > bounds[c][1])).alias(c + '_o') for c in cols])"
   ]
  },
  {
   "cell_type": "code",
   "execution_count": 33,
   "metadata": {},
   "outputs": [
    {
     "name": "stdout",
     "output_type": "stream",
     "text": [
      "Number of price outliers: 15664 which is 0.048 % of the dataset.\n",
      "Number of sq feet outliers: 12290 which is 0.038 % of the dataset.\n",
      "Number of bath outliers: 1577 which is 0.005 % of the dataset.\n",
      "Number of beds outliers: 9915 which is 0.03 % of the dataset.\n"
     ]
    }
   ],
   "source": [
    "# Join the outlier dataframe to the live dataframe.\n",
    "outlier_df = imputed_df.join(outliers, on='id')\n",
    "\n",
    "# Calculate the number of outlier values and their total representation of the dataset.\n",
    "print(f\"Number of price outliers: {outlier_df.filter('price_o').select('id', 'price').count()} \" \n",
    "      f\"which is {round(outlier_df.filter('price_o').select('id', 'price').count()/outlier_df.count(),3)} % of the dataset.\")\n",
    "\n",
    "print(f\"Number of sq feet outliers: {outlier_df.filter('sqfeet_o').select('id', 'sqfeet').count()} \"\n",
    "      f\"which is {round(outlier_df.filter('sqfeet_o').select('id', 'sqfeet').count()/outlier_df.count(),3)} % of the dataset.\")\n",
    "\n",
    "print(f\"Number of bath outliers: {outlier_df.filter('baths_o').select('id', 'baths').count()} \"\n",
    "      f\"which is {round(outlier_df.filter('baths_o').select('id', 'baths').count()/outlier_df.count(),3)} % of the dataset.\")\n",
    "\n",
    "print(f\"Number of beds outliers: {outlier_df.filter('beds_o').select('id', 'beds').count()} \"\n",
    "      f\"which is {round(outlier_df.filter('beds_o').select('id', 'beds').count()/outlier_df.count(),3)} % of the dataset.\")\n"
   ]
  },
  {
   "cell_type": "code",
   "execution_count": 34,
   "metadata": {},
   "outputs": [],
   "source": [
    "# Filtering out all outliers into a new dataframe.\n",
    "outliers_removed = outlier_df.filter((outlier_df.sqfeet_o == 'False') & \n",
    "                                     (outlier_df.price_o == 'False') &\n",
    "                                     (outlier_df.beds_o == 'False') &\n",
    "                                     (outlier_df.baths_o == 'False'))"
   ]
  },
  {
   "cell_type": "code",
   "execution_count": 35,
   "metadata": {},
   "outputs": [
    {
     "name": "stdout",
     "output_type": "stream",
     "text": [
      "Total dataset row count: 297106\n"
     ]
    }
   ],
   "source": [
    "print(f'Total dataset row count: {outliers_removed.count()}')"
   ]
  },
  {
   "cell_type": "markdown",
   "metadata": {},
   "source": [
    "All outliers have now been removed from the dataset, denoted by the decrease in row count compared to the last check."
   ]
  },
  {
   "cell_type": "code",
   "execution_count": 36,
   "metadata": {},
   "outputs": [],
   "source": [
    "# Removing outlier column from the dataset as they are no longer required.\n",
    "outliers_removed = outliers_removed.drop('price_o', 'sqfeet_o', 'baths_o', 'beds_o')"
   ]
  },
  {
   "cell_type": "markdown",
   "metadata": {},
   "source": [
    "### Data Visualisation"
   ]
  },
  {
   "cell_type": "markdown",
   "metadata": {},
   "source": [
    "The library called handyspark was designed to simplify data visualisation in pyspark. A demonstration can be viewed below. This library is still quite new and limited in its capabilities."
   ]
  },
  {
   "cell_type": "code",
   "execution_count": 37,
   "metadata": {},
   "outputs": [],
   "source": [
    "# Creating the handyspark dataframe.\n",
    "hdf = outliers_removed.toHandy()"
   ]
  },
  {
   "cell_type": "code",
   "execution_count": 38,
   "metadata": {},
   "outputs": [
    {
     "data": {
      "image/png": "[encoded data removed]",
      "text/plain": [
       "<Figure size 1440x576 with 4 Axes>"
      ]
     },
     "metadata": {
      "needs_background": "light"
     },
     "output_type": "display_data"
    }
   ],
   "source": [
    "# Creating four histograms for the four main features of this dataframe.\n",
    "\n",
    "fig, axs = plt.subplots(1, 4, figsize=(20, 8))\n",
    "hdf.cols['price'].hist(ax=axs[0])\n",
    "hdf.cols['baths'].hist(ax=axs[1])\n",
    "hdf.cols['sqfeet'].hist(ax=axs[2])\n",
    "hdf.cols['beds'].hist(ax=axs[3])\n",
    "\n",
    "plt.show()"
   ]
  },
  {
   "cell_type": "markdown",
   "metadata": {},
   "source": [
    "### Numeric and Categorical Data Exploration"
   ]
  },
  {
   "cell_type": "markdown",
   "metadata": {},
   "source": [
    "Examining the numerical dataset after having removed the outliers."
   ]
  },
  {
   "cell_type": "code",
   "execution_count": 39,
   "metadata": {},
   "outputs": [],
   "source": [
    "# Selecting only the numerical features.\n",
    "numeric_cols = ['price', 'sqfeet', 'beds', 'baths','cats_allowed', 'dogs_allowed', 'smoking_allowed',\n",
    "                'wheelchair_access','electric_vehicle_charge','comes_furnished']"
   ]
  },
  {
   "cell_type": "code",
   "execution_count": 40,
   "metadata": {},
   "outputs": [
    {
     "name": "stdout",
     "output_type": "stream",
     "text": [
      "price - mean: 1087.89 - std: 380.14\n",
      "sqfeet - mean: 919.49 - std: 241.92\n",
      "beds - mean: 1.78 - std: 0.69\n",
      "baths - mean: 1.4 - std: 0.51\n",
      "cats_allowed - mean: 0.74 - std: 0.44\n",
      "dogs_allowed - mean: 0.72 - std: 0.45\n",
      "smoking_allowed - mean: 0.75 - std: 0.43\n",
      "wheelchair_access - mean: 0.08 - std: 0.27\n",
      "electric_vehicle_charge - mean: 0.01 - std: 0.1\n",
      "comes_furnished - mean: 0.04 - std: 0.19\n"
     ]
    }
   ],
   "source": [
    "# Create an RDD using the numerical columns.\n",
    "numeric_rdd = outliers_removed.select(numeric_cols).rdd.map(lambda row: [e for e in row])\n",
    "\n",
    "# Calculate statistics on selected columns.\n",
    "mllib_stats = st.Statistics.colStats(numeric_rdd)\n",
    "\n",
    "# Print the mean and standard deviation for each columns.\n",
    "for col, m, v in zip(numeric_cols, mllib_stats.mean(), mllib_stats.variance()):\n",
    "    print(f'{col} - mean: {round(m,2)} - std: {round(np.sqrt(v),2)}')"
   ]
  },
  {
   "cell_type": "markdown",
   "metadata": {},
   "source": [
    "It is interesting to note that the price and sqfeet features have a relatively small standard deviation meaning that 68% of properties converge around the mean.\n",
    "Other notable mentions are that the wheel chair access and electric vehicle charging points are quite rare occurrences in the American market. Additionally most properties do not come furnished."
   ]
  },
  {
   "cell_type": "markdown",
   "metadata": {},
   "source": [
    "Examining the categorical dataset. All categorical unique values will be counted and displayed as a tuple denoting the number of times each unique value occurs.\n",
    "\n",
    "Code sourced from Chapter 6 in Drabas, T., 2017. Learning PySpark."
   ]
  },
  {
   "cell_type": "code",
   "execution_count": 41,
   "metadata": {
    "scrolled": true
   },
   "outputs": [
    {
     "name": "stdout",
     "output_type": "stream",
     "text": [
      "type [('apartment', 264695), ('house', 15730), ('townhouse', 3973), ('condo', 3826), ('duplex', 3677), ('manufactured', 3664), ('cottage/cabin', 544), ('loft', 492), ('flat', 377), ('in-law', 123), ('land', 4), ('assisted living', 1)]\n",
      "laundry_options [('w/d in unit', 161261), ('w/d hookups', 56504), ('laundry on site', 47124), ('laundry in bldg', 29290), ('no laundry on site', 2927)]\n",
      "parking_options [('off-street parking', 216168), ('carport', 32154), ('attached garage', 21481), ('detached garage', 12461), ('street parking', 12140), ('no parking', 2616), ('valet parking', 86)]\n",
      "state [('fl', 25886), ('tx', 24760), ('ca', 20663), ('nc', 14583), ('ga', 11257), ('mi', 9995), ('oh', 8948), ('co', 8843), ('tn', 8832), ('sc', 7904), ('va', 7693), ('pa', 6992), ('il', 6549), ('ny', 6537), ('al', 6472), ('ia', 6013), ('or', 5899), ('la', 5845), ('mn', 5654), ('md', 5580), ('az', 5385), ('ks', 5334), ('in', 4883), ('wa', 4865), ('wi', 4802), ('ok', 4724), ('ut', 4283), ('ky', 4183), ('nj', 3884), ('ms', 3863), ('id', 3436), ('ma', 3179), ('nd', 3151), ('ct', 2604), ('ar', 2527), ('nv', 2333), ('ne', 2174), ('nm', 2058), ('de', 1604), ('dc', 1593), ('ak', 1577), ('mo', 1571), ('sd', 1548), ('ri', 1505), ('nh', 1172), ('mt', 920), ('hi', 831), ('wv', 530), ('vt', 359), ('me', 288), ('38.953', 240), ('36.092', 230), ('-86.4199', 229), (' regardless of breed type', 216), ('9 months', 190), (' Picnic Area', 185), (' available year-round for your special events', 141), ('wy', 136), ('-80.3224', 126), ('40.2628', 105), (' MA', 97), (' shopping', 91), (' Ohio 43229 www.continentfrenchquarter.com\"', 91), ('-80.6871', 90), (' Busch Stadium', 70), (' business center and most importantly', 68), (' NC 27104    **PRICES AND AVAILABILITY SUBJECT TO CHANGE  Equal Housing Opportunity\"', 67), ('31.5452', 66), (' national origin', 65), (' current inventory', 59), (' MD', 57), ('36.9745', 57), (' please contact the leasing office. Additional deposit and fees will apply.\"', 52), (' and specials are subject to change  100% Free Service with a Licensed Agent with Nu Edge Realty. Serving All Austin Areas: Austin | SoLa | South Congress | Lady Bird Lake | Downtown | Travis Heights | Central | Condo | Lamar | Clarksville | Loft | Domain | 78704 | South Central | 78703 | 78701 | SoCo | 78745 | Arboretum | Far West | West | Southwest | East | South | Northwest | Round Rock | Zilker | Specials Discounts available!\"', 51), (' Ice Makers & Garbage Disposal', 48), ('-75.5173', 47), ('-77.3781', 44), (' new vanity and so much more! Ready to rent in December 2019. Rent is $650.00/month and includes water', 44), ('35.5376', 43), (' and more..  This spacious 3 bed/2 bath home is sleek and beautiful in design including all the must haves for your new home  Includes: â\\x80¢ Range/Refrigerator â\\x80¢ Microwave/Dishwasher â\\x80¢ Central Air/ Heating (Natural Gas) â\\x80¢ Your Own Homesite - Plant Flowers', 43), (' microwave', 43), (' Carondelet Health Network', 42), (' IL 61704  Equal Housing Opportunity. Specials are based on availability and may expire or change at any time. Specials and discounts may not be combined. Rates are subject to change without advance notice.\"', 41), (' dining area', 40), (' great for swimming in the warm months OR grab your fishing pole! -Multiple playgrounds throughout the community. -Basketball Courts -RV/Boat Storage -Cluster Mail boxes -Community business center -Library -Scheduled Community Events  Close to Meijer', 40), ('6 months', 40), (' granite countertops', 39), (' ceiling fans and a full size kitchen with ample cabinet space. Raintree is convenient to major employment centers', 39), ('-85.6027', 39), (' and furniture in your apartment.\"', 38), (' SD 57702  Equal Housing Opportunity\"', 38), (' enjoy soaking in our Olympic-style swimming pool', 38), (\" Sam's Club\", 37), (' NC 27104   **PRICES AND AVAILABILITY SUBJECT TO CHANGE   Equal Housing Opportunity\"', 36), (' laundry closet (w/d hook ups)', 36), (' there is a non-refundable pet fee of $250 for the first dog', 36), (' SEWER &TRASH!!  SMALL PETS ACCEPTED!!   CEILING FANS; MINI BLINDS IN ALL BEDROOMS  HUGE WALK IN CLOSET  EAT IN KITCHEN', 34), (' daily', 34), (' and walk-in closets! Enjoy our resort-style pool', 32), ('38.0936', 32), (' Community Lounge and Fitness Center with Big Screen T.Vâ\\x80\\x99s and Free WiFi', 32), (' Bullterrier', 31), (' 1 Bath', 31), (' specifications and amenities are subject to change without notice. Please contact phone number for more information.\"', 31), (' Vaccination Records', 30), (' call us today at  show contact info  or click on the REPLY box above for our email contact info.    Office hours vary', 29), (\" and stove is gas) Lawncare and Snow Removal are included! Trash removal service. Landlord provides all of these! Off-street parking provided at no additional cost. It's beautiful! Call and come to see how you will love it. Unit is available for showing now and is very clean. No pets\", 28), ('-83.6788', 28), ('-119.049', 28), (' and kitchen area.  -Full size', 27), (' Dining', 27), (' Van Meter', 26), (\" cable TV and high speed internet. You'll also appreciate our water efficient landscaping and brand new fitness center.It's not only our apartments that are outstanding\", 26), ('-86.3933', 24), (' directly across from Anne Mason Elem and Royal Springs Middle School only minutes from Toyota', 24), (' LLC\"', 24), (' specifications and amenities are subject to change without notice. Please contact phone number for more information. **Equal Housing Opportunity\"', 24), ('40.2616', 22), (' glossy black appliances', 22), ('-79.8936', 22), (' color', 21), (' based on availability and qualification of the applicant', 21), ('40.3849', 21), (' all you need to do is come into our office and complete your application. When you submit your application you will also need to pay your application fee of $50.00 and your administrative fee of $200.00 and these fees will allow us to take the apartment off the market and hold it for you until you are ready to move in.  Would you like more information on our community and our apartment homes? You can visit us online at', 21), ('-119.05', 21), (' Sewage & Trash (Tenants Responsible for DP&L)\\t Secure Building On-Site Maintenance Adjacent to Burkhardt Dayton Metro Public Library Near Kemp Elementary Pre-K thru 6  Near Wright State University', 21), ('000+.  Please contact on-site manager at  show contact info\"', 20), ('-116.486', 20), (' adjacent to a conservation area and the scenic Tomoka River', 20), (' bright', 20), (\" there is also an on-site laundry center.  We are located close to the Greenway and local parks. It's Just a short drive to Charlotte\", 20), (\" such as J. C. Penny's and Fairchild's\", 20), (' and clients.\"', 20), (' IL 61704Igualdad De Oportunidades De Vivienda. Especiales estÃ¡n sujetas a disponibilidad y pueden terminar o modificar en cualquier momento. Ofertas y descuentos no se pueden combinar. Las tarifas estÃ¡n sujetas a cambio sin previo aviso.\"', 20), (' and the best of entertainment. Enjoy upscale interior designs', 20), (' and more.. This spacious 2017 3bed/2 bath 16X66 Champion home is sleek and beautiful in design including all the must haves for your new home Includes: â\\x80¢ Range/Refrigerator â\\x80¢ Microwave/Dishwasher  â\\x80¢ Central Air/ Heating (Natural Gas) â\\x80¢ Your Own Homesite - Plant Flowers', 20), (' left at Audubon', 20), (' and furniture in your apartment.  24-Hour Fitness Center', 19), (' Sewer', 19), (' White Flint', 19), (' stainless', 19), (' state of the art fitness center', 19), ('-85.7255', 19), (' we do not accept pets over 45 pounds. There is a non-refundable pet fee of $250 for the first dog', 19), ('-110.828', 19), ('-96.9744', 18), (' fireplace', 18), ('-96.1188', 18), (' our beautiful landscaped community with views to the Legacy Golf Course has it all!    OPEN EVERYDAY OF THE WEEK 8 AM - 5 PM   CALL US TODAY & ASK ABOUT OUR MOVE IN SPECIALS!   SET UP AN APPOINTMENT OR SIMPLY COME IN!       show contact info    1895 N. Green Valley Parkway Henderson', 18), (' move in date and availability. Additional fees may apply. This apartment requires a $250 deposit.  The Orchards', 18), ('-121.152', 17), (' Non-poisonous frogs', 17), (' 75lb max weight', 17), (' Saturday 9am to 5pm ', 17), (' anywhere you want to be in Madison or Huntsville is never far. Call today and let us make an appointment to tour your new luxury apartment home at Colonial Grand at Madison.   Colonial Grand at Madison  2300 Colonial Lake Drive Madison', 17), ('-88.042', 17), (' resident events and much more...  This spacious 2020 3Bd/2Bths home is sleek and beautiful in design including all the must haves for your new home. Includes: *Range/Refrigerator *Central Air/Heating(natural gas) *Your own site- plant flowers', 17), (' 24 hour laundry and dry cleaning valet', 17), (' 3 BEDROOM APARTMENT HOMES that feature bay windows', 16), ('-79.2124', 16), (' Pitbull', 16), (' gas stations', 16), (' a spacious living room', 16), (' granite counter tops', 16), (' and a lighted tennis court. One and two bedroom apartments in River Ridge', 16), (' that are phenomenal! They clean and take care of all of our maintenance needs and they really are pretty stellar! I look so forward to hearing from you! Thank you so much again and we hope everyone had a very Happy and Safe Holiday! :)\"', 15), (' Microwave', 15), ('-80.8419', 15), (' light fixtures', 15), ('900', 15), (' walking paths to the pond and gazebo', 15), ('-85.8221', 15), ('32.8958', 15), ('-81.9553', 15), ('36.0581', 15), (' features', 15), (' a home vibrant and energizing', 14), (' and furniture in your apartment.       Swimming Pool', 14), (' and more..  This spacious 2016 3bed/2 bath 16X76 Champion is sleek and beautiful in design including all the must haves for your new home Includes: â\\x80¢ Range/Refrigerator â\\x80¢ Microwave/Dishwasher  â\\x80¢ Central Air/ Heating (Natural Gas) â\\x80¢ Your Own Homesite - Plant Flowers', 14), (' for the entire lease term', 14), (' managed by Blue Ridge Companies 2112 Burke Meadows Road Winston Salem', 14), (' pecan fields and alfalfa fields. It is a very quiet with the small town feel. We are about 20-25 minutes away from the Las Palmas Market Place. The Paso Del Norte Paranormal Society does ghost tours the 1st Friday of the month.   Your perfect home awaits you .....Move in Today!\"', 14), (' a beach entry pool with a summer kitchen', 14), (' and Plaza Views â\\x80¢ Community Deck - Seating', 14), (' IL 61704Equal Housing Opportunity. Specials are based on availability and may expire or change at any time. Specials and discounts may not be combined. Rates are subject to change without advance notice.\"', 14), (' walk-in closets', 14), (' and are proud to come home to. Make Lothlorien your new home', 14), (' all while allowing for a tranquil and scenic drive to and from your new home! We have a newly renovated', 14), ('33.2034', 13), ('-90.2018', 13), (' Deposit: Call for details.  * * In Select Apartment Homes  All prices subject to change.\"', 13), ('27.9973', 13), (' new vanity and so much more! Ready to rent in December 2019. Rent is $700.00/month and includes water', 13), (' Garden Heating/cooling: Air conditioning Wiring: Cable-ready Facilities and Recreation: Shared pool', 12), (' managed by Blue Ridge Companies 3701 Ashbrook Drive NW Wilson', 12), ('-112.167', 12), (' LA 71105   Phone:   show contact info    Equal Housing Opportunity\"', 12), (' work orders', 12), (' water', 12), (' call us today at  show contact info  or click on the REPLY box above for our email contact info.    *Photos represent similar units. Units may vary.            EG  Bedford', 12), (' 89512 Prices are subject to change', 12), (' cool drink', 12), ('45.452', 11), (' but no guarantee is made or responsibility assumed by On-Line Real Estate as to its accuracy or completeness and you are advised to make your own analysis and verification. This presentation is subject to change in price', 11), (' 2', 11), ('-85.4463', 11), (' dishwasher', 11), ('300-acre outdoor oasis', 11), (' Garbage disposal', 11), (' Rancho Alvarado is close to shopping', 11), ('34.1968', 11), (' that are phenomenal! They clean and take care of all of our maintenance needs and they really are pretty stellar! I look so forward to hearing from you! Thank you so much again and I hope you all have an AMAZING week!\"', 11), ('37.3596', 11), (' sex', 11), (' 2:00-6:00Thursday: 9:00-1:00', 11), (' affordable', 11), (' managed by Blue Ridge Companies 100 Breckenridge Dr Hattiesburg', 11), (' as well as a caring', 11), ('26.0426', 11), (' where people who like ot be outside can go inside. We believe that ana apartment complex should not be complex. It should be a community that feels like home', 10), ('-85.7034', 10), (\" and a walk-in closet in the bedroom. You just can't go wrong in this cozy one bedroom!  *Renovated options may be available.*  Here at Highland View we have a brand new 24-hour fitness room and 9am-9pm seasonal access to our swimming pool! We also have basketball courts\", 10), (' please call for your private viewing now.  **Photos represent similar units. Units may vary.            EG  Bedford', 10), (' NM', 10), (' renters can stop off at No Frills Grill & Sports Bar', 10), ('36.8392', 10), (' AL 35401    Website: https://www.mybalconyapt.comEQUAL HOUSING OPPORTUNITYThe leasing office is located at 1200 Greensboro Avenue Tuscaloosa AL 35401. There is no leasing office at the property. Please come for your appointment to the Corporate location.\"', 10), (' and soaring 10-20 foot ceilings. Our unique floor plans', 10), ('-121.269', 10), (' Menards', 10), (' and transportation. We are located directly on the east side of scenic landmark Pilot Butte State Park. A perfect location for the outdoorsy individual looking for a daily hike on the Butte!  SECURITY DEPOSIT:  1/2 or ONE month of rent.  PETS WELCOME! Additional Security Deposit: (2 pet max. per home)  $300 for 1st pet', 10), ('699 per month!!  Property Move In Requirements: 1. Monthly Income of at least $3', 10), ('-122.301', 10), (' and the best walkability that Milwaukee has to offer.  Nestled in the classy and convenient East Town', 10), (' trash', 10), (' Chow', 10), (' and washer/dryer hookups. The community building includes a seasonal heated swimming pool', 10), (' Cleaner', 10), ('-84.3851', 10), ('-85.7029', 10), (' one-bathroom apartment home. Each of these apartment homes enjoys a laundry room with attached attic storage', 10), ('-85.6926', 10), ('28.3051', 9), ('-81.4242', 9), (' restaurants', 9), (' washer/dryer', 9), ('-90.2309', 9), (' Built in Microwave', 9), ('34.6141', 9), (' outdoor kitchen and dining pavilion', 9), (' poolside entertaining area with bar seating', 9), (' framed mirrors', 9), (' Dining and Entertainment\\t\\t\\t\\t\\t\\t\\t\\t\\t Outdoor Fire Pit\\t\\t\\t\\t\\t\\t\\t\\t\\t Stainless Steel Appliances and Cabinet Hardware\\t\\t\\t\\t\\t\\t\\t\\t\\t Theater Room with Surround Sound\\t\\t\\t\\t\\t\\t\\t\\t\\t\\t\\t\\t\\t\\t\\t\\tProperty Contact\\t\\t\\t\\t\\t\\t\\t\\t \\t\\t\\t\\t\\t\\t\\t\\t\\t show contact info \\t\\t\\t\\t\\t\\t\\t\\t\\t\\t\\t\\t\\t\\t\\t\\t\\t\\t\\t\\t\\t\\t\\tADA ACCESSIBLE\\t\\t\\t\\t\\t\\t\\t\\t\\t\\t\\t\\t\\t\\t\\t\\t\\t\\t\\t\\t\\t\\tEQUAL HOUSING OPPORTUNITY\"', 9), (' fire pit', 9), (' Highland Green Golf Course', 9), (' managed by Blue Ridge Companies 105 Fallin Blvd Goldsboro', 9), (' nightlife', 9), (' this one is going to be gone fast!\"', 9), (' Metairie and West Jefferson business', 8), ('-94.663', 8), (' are the perfect place to unwind and recharge. Set on lush grounds near the trails and lakes of Blendon Woods Metro Park', 8), (' non-refundable fee of $350 for the first pet and an additional $100 fee for the second pet. There is a $15 monthly pet rent. Maximum of 2 pets per home and a 75 pound weight limit. Breed restrictions apply. Large breeds welcome! Deposit: None Leasing options:  Leasing notes: None Application fee: None Amenities Included in Utilities Cost:  Utilities Cost:  Laundry: Full-Size Connections Parking type: Off-Street  Parking notes:  Appliances: Dishwasher', 8), (' teachers', 8), ('-119.166', 8), ('-80.7301', 8), (' dining', 8), ('-115.224', 8), ('-123.025', 8), (' move in date and availability. Additional fees may apply. This apartment requires a $250 deposit.  VIEW OUR WEBSITE:  http://www.theorchardsapts.com  The Orchards', 8), (' storage for your toys', 8), (' with knotty pine walls and tall ceilings', 8), (' Ceiling Fan', 8), ('-85.6913', 8), ('35.4897', 8), (' MO 64030   OFFICE HOURS:   Monday- Friday: 8:00 am - 5:00 pm Saturday: 10am - 4pm   PHONE:  show contact info     VISIT US AT: www.arborsgrandview.com   APPLY NOW: https://arborsgrandview.securecafe.com/onlineleasing/arbors-of-grandview/guestlogin.aspx/ WANT TO HEAR WHAT WE ARE ALL ABOUT?  check out our reviews! https://modernmsg.com/arbors-of-grandview\"', 8), ('-77.9447', 8), ('-89.3119', 8), (\" youâ\\x80\\x99ll realize we really know how to do quality of life here at The Redland. And if you're ready to explore? Right off of US-281\", 8), ('31.9959', 8), ('-81.5456', 8), ('-84.3549', 8), ('-89.3519', 8), (' 5 Range Burner', 8), (' Realtor', 7), (' full size washer/dryer', 7), (' Saturday 10:00 AM - 5:00 PM  Website: www.FountainheadLiving.com  COMMUNITY AMENITIES  ** 24 Hour Emergency Maintenance.  ** ALL Pets Welcome (No Breed Restrictions)  ** Lighted Dog Run  ** 24 Hour Fitness Room  ** Sparkling Pool with Sun Deck  ** Tennis Court & Sand Volleyball  ** 24 Hour On-site Laundry Facilities  ** Flexible Lease Terms  ** Water', 7), (' just a few of the remarkable advantages Redwood Living offers our residents. Additional features include:  -Smart single-story design -Private attached 1 or 2-car garage -Up to 3 pets welcomed -Certified energy efficiency -No property taxes', 7), ('-97.3537', 7), (' a treadmill', 7), (' Virginia Beach', 7), ('31.5365', 7), (' great living and great memories. Located in the heart of the Mayfair Collection in Wauwatosa', 7), (' Water', 7), ('46.8471', 7), (' Glass Top Range', 7), (' Ridgecrest Cinemas', 7), (' original wood floors', 7), ('31.5456', 7), (' 2/2 (1284 SF) @ $750 ($700 D)', 7), (' 2 Bath', 7), ('-80.7264', 7), (' and furniture in your apartment.  â\\x80\\x83\"', 7), (' garbage', 7), (' Monday-Friday', 7), (' Newport News', 7), (' please visit us at https://www.legacyarc.com/senior-living/wa/burien/larc-at-burien/\"', 7), ('-121.288', 7), (' and more.. This spacious 2017 3bed/2 bath 16X76 Champion home is sleek and beautiful in design including all the must haves for your new home Includes: â\\x80¢ Range/Refrigerator â\\x80¢ Microwave/Dishwasher  â\\x80¢ Central Air/ Heating (Natural Gas) â\\x80¢ Your Own Homesite - Plant Flowers', 7), (' call us today at  show contact info  or click on the REPLY box above for our email contact info.    *Photos represent similar units. Units may vary.          KH  Bedford', 7), ('-88.8425', 7), ('-122.984', 7), (' attached garages', 7), ('-96.3338', 7), ('...~~ Inside Washer & Dryer included', 7), (' Rent Payment', 6), ('28.2452', 6), (' refrigerator', 6), (' range and refrigerator. Large balcony in select units Laundry facilities on 2nd and 3rd floor in every building. Garages and additional storage closets available for rental.  We are pet friendly (cats and select caged animals.) Call or email for fees and restrictions.  Indian Ridge is a great place to call home!!! Call for a tour today', 6), (' MI 48911   Website: https://www.arborsatgeorgetown.com/EQUAL HOUSING OPPORTUNITY\"', 6), ('-85.6915', 6), (' you will love living at Windtree!  Our homes boast cleverly designed split floor plans with built-in linen closet', 6), (' across the street from the Wake County Public Library', 6), ('Â\\xa0Dry', 6), (' premium appliances', 6), (' pet-friendly community offers exceptional amenities and beautiful surroundings in an ideal location. Come home to Sturbridge Commons and see why our residents love living here. Details Availability date: Today Pets: Cats', 6), (' UAB', 6), (' and garbage Utilities  1 bedroom 1 bath:  S205: Upper-level unit', 6), (' come to our office at 1419 W 4th St', 6), ('-85.6922', 6), ('-115.275', 6), (' Doggie Day Spa and also a \"\"bark park!\"\". There are scenic views overlooking the lake', 6), (' plenty of storage', 6), ('38.0676', 6), (' and three-bedroom apartments provide residents with a sense of both comfort and refinement. Generous stainless steal appliance arrays', 6), (' Sewage', 6), ('39.5643', 6), (' a young professional', 6), ('-77.7372', 6), (' with no neighbors behind.  We are offering Rent-2-OwnTake over Payment.  Call me at : (917)634-4686   Property id:  146872350\"', 6), (' Sunday 1pm-5pm    Community Amenities:  Four Energy Efficient Designs', 6), ('40.6654', 6), (\" three-story police precinct!  You don't want to miss the amazing savings and the opportunity to reside in such a wonderful community! Currently we have an available unit for rent\", 6), (' 24 hour fitness center', 6), (' and so much more!  Prime campus location!  Call today for a showing Green Street Realty  show contact info  or text  show contact info    Visit our website www.greenstrealty.com   Features        Laundry room     Wheelchair access     Elevator     Parking     Storage units\"', 6), (' and so much more', 6), ('38.5943', 6), (' please call for your private viewing now.  **Photos represent similar units. Units may vary.          KH  Bedford', 6), ('-115.047', 6), (' or roommate if desired. We are an affordable housing community.Terms-- 12-Month-- Deposit: Call-- Pets: Cat(s);Dog(s);Dogs Allowed. $150 Deposit. $10 Monthly Pet Rent. $150 Fee. 25 lb Weight Limit. 2 Pet Limit. Cats Allowed. $150 Deposit. $10 Monthly Pet Rent. $150 Fee. 2 Pet Limit.For more information', 6), (' full kitchen', 6), (' The Preserve at Henderson Beach is an apartment community near the Emerald Coast. The area is abundant with fine dining', 5), (' Generously-sized Balcony or Patio', 5), (' stove', 5), (' Â½ OFF JANUARY RENT! AND SAVINGS ON POWER DEPOSIT!  Call or stop by to secure a 1', 5), ('-83.7727', 5), ('-94.6629', 5), (' Glass Top StoveStainless Steel Refrigerator - French Style', 5), (' flooring', 5), (' with gorgeous granite counters', 5), (' $650 for two pets. $10 Pet Rent per pet each month. Maximum of two pets. Office Hours Monday-Friday:9:00AM-6:00PMSaturday:10:00AM-5:00PMSunday:1:00PM-5:00PMThe Bristol Apartments 926 Cleveland Street', 5), (' Salon', 5), (' managed by Blue Ridge Companies 1000 Misty Mountain Rd  Lynchburg', 5), ('30.2063', 5), ('-76.7418', 5), (' schools', 5), (' carefree living for adults 55 years+.   Here are some of the features that make White Oaks a place to call home! *Professional and friendly on-site manager *Controlled access entry with private intercom  *Mailboxes located within the building  *Elevator access to all floors  *Urgency call system  *Heated underground parking  *Community room with fireplace', 5), (' or go to our website and fill out an application: www.pineridgeamarillo.com .  Pine Ridge Apartments has a lot to offer those looking for quality', 5), (' 2x w/Guarantor -Pets: $500 Deposit. Covers up to three pets. Dog: $50 Cat: $25 -Proof of Income: Offer Letter', 5), (' fitness center', 5), (' Garden Tubs', 5), ('-75.1884', 5), (' work and party down! Feed the geese and ducks by the river', 5), (' but we do. We also offer Corporate Suites. Contact us today and reserve your new home at The Grande Reserve at Geist. *Prices are subject to change at any time. Unfortunately', 5), (' Akitas or any mixes of these breeds will be approved). In addition there will be a $300 non-refundable pet fee', 5), (' and furniture in your apartment.      Swimming Pool', 5), (' award winning landscaping â\\x80¢ Tranquil lake with fountain â\\x80¢ Sparkling pool with sun deck â\\x80¢ Free covered parking with most homes â\\x80¢ Expert maintenance â\\x80¢ Professional management â\\x80¢ Conveniently located to Jackson Bowling and Recreation Center â\\x80¢ 5 minutes to North Park â\\x80¢ 5 minutes from Interstate 40 â\\x80¢ Convenient to hospitals and medical offices Minutes from Jackson State Community College', 5), (' the metropolitan doylestown has what you have been looking for. Call today to set an appointment to see your new apartment home. metropolitan doylestown. Apartment homes for living.    Starting at $1670 Call:  show contact info  For more information', 5), (' Inc.', 5), (' AL 35401   Website: https://www.mybalconyapt.comPet Policy: Cat(s);Dog(s);Breed Restriction;Weight Restriction; EQUAL HOUSING OPPORTUNITY The leasing office is located at 1200 Greensboro Avenue Tuscaloosa AL 35401. There is no leasing office at the property. Please come for your appointment to the Corporate location.\"', 5), (' break a sweat in our fitness center', 5), (' AL 35401    EQUAL HOUSING OPPORTUNITYThe leasing office is located at 1200 Greensboro Avenue Tuscaloosa AL 35401. There is no leasing office at the property. Please come for your appointment to the Corporate location.\"', 5), ('28.8264', 5), ('501 Sq. Ft. Living Area | ð\\x9f\\x9b\\x8fï¸\\x8f 3 Bed | ð\\x9f\\x9b\\x80 2 Bath | ð\\x9f\\x9a\\x97 2 Car Garage  Enjoy the many benefits and savings that come with owning a fully upgraded', 5), (\" FL 32202** OFFICE:  show contact info  WWW.JAXLOFTS.COM HOURS: MON- FRI 9AM TO 6PM    ***ALSO: We Offer FULLY FURNISHED Options through Lily's Design and they are set up with everything you would need for a comfortable LUXURIOUS stay in Downtown Jacksonville. All you need are your Clothes and toothbrush\", 5), (' has an on-site manager and is very quiet. We do thorough background checks on all residents and will not tolerate any unruly behavior. No one under the age of 19 can live in the Park full time. Some of the amenities our community offers:  * On-Site Manager and 24 hour Maintenance  * Recreation Center  * Picnic/BBQ Area * Lawn care * Small pets under 25 pounds are allowed (2 pets per household with a fee) * Bus Service 3 times a week to local businesses (handicap accessible) (Free to 62 and older) * Within minutes of shopping and dining (Walmart', 5), (' Tallahassee', 5), ('-84.3883', 5), (' Central West End', 5), ('35.7793', 5), (' SEWER &TRASH!!  SMALL PETS ACCEPTED!!  LOCATED NEAR EVERYTHING YOU NEED!!    CEILING FANS; MINI BLINDS IN ALL BEDROOMS  HUGE WALK IN CLOSET  EAT IN KITCHEN', 5), ('35.3826', 5), (' landscaping', 5), (\" & vinyl! Community laundry is conveniently located on both ends of the hallway for quick access.  *Traditional options may be available*  Here at Highland View we have a brand new 24-hour fitness room and 9am-9pm seasonal access to our swimming pool! We also have basketball courts and sand volleyball courts on site! We're located in the Highlands of NW Lincoln -- grocery stores\", 5), ('-119.285', 5), ('-80.4206', 5), ('37.5452', 5), (' octagon slate top coffee table', 5), (' or get active and discover the many trails the area has to offer for biking', 5), ('-118.814', 5), (' Virginia Highlands', 5), ('-84.2298', 5), (' basketball court', 5), (' internet and most utilities - ALL of this for just $1', 5), (' West Ottawa schools', 5), ('-90.2021', 5), (' and more..  This adorable 2019 2 bed/2 bath 16X56 Clayton is sleek and beautiful in design including all the must haves for your new home Includes: â\\x80¢ Range/Refrigerator â\\x80¢ Dishwasher  â\\x80¢ Central Air/ Heating (Natural Gas) â\\x80¢ Your Own Home-site - Plant Flowers', 5), (' On-Site Laundry Facilities', 5), (' and more..  This spacious 2016 3bed/2 bath 16X66 Champion is sleek and beautiful in design including all the must haves for your new home Includes: â\\x80¢ Range/Refrigerator â\\x80¢ Microwave/Dishwasher  â\\x80¢ Central Air/ Heating (Natural Gas) â\\x80¢ Your Own Homesite - Plant Flowers', 5), ('-97.6012', 5), (' and garbage are included', 5), (' and shopping. Easy access to Routes 70', 5), (' Main + Stone is ideal for the active lifestyle ... even your pets are welcome!  Community Features: * Elevator Access in most Buildings * Complimentary WiFi Access in Common Areas * Garage Parking for Residents & Guests w/Bike Racks * 24 Hour Fitness Studio * Controlled Access Buildings * On-Site Restaurants', 5), (' Cable', 5), (' a spacious clubroom for socializing', 5), (' based on availability and qualifications of applicant', 5), ('37.6717', 5), (' resort furniture', 4), (' with our wood burning fireplaces', 4), (' and closets professionally designed and equipped by California Closets for maximum use of space.  The building is fully gated and access controlled', 4), ('-84.3582', 4), (' New Plaza Camino Real', 4), (' world-class employers and medical facilities', 4), (' and the Boise River/Greenbelt create even more recreational opportunities. Most of our one- and two-bedroom apartment homes boast brand new flooring', 4), (\" most within walking distance.  Situated in the heart of the area's high-tech industry\", 4), (' Elk Grove', 4), ('-80.7266', 4), (' â\\x80¢ Star Bucks â\\x80¢ McDonald\\'s â\\x80¢ Zaxbyâ\\x80\\x99s â\\x80¢ Smithfieldâ\\x80\\x99s Attractions: â\\x80¢ Emerald Point Wet and Wild â\\x80¢ Greensboro Science Center and Aquarium â\\x80¢ Asheboro Zoo â\\x80¢ Celebration Station â\\x80¢ Greensboro Children\\'s Museum and much more  Just Bring Your ID & Proof of Income â\\x80¢ washer/dryer connections â\\x80¢ walk-in closet â\\x80¢ master bath with garden tub â\\x80¢ stand up shower â\\x80¢ dual sinks â\\x80¢ kitchen island â\\x80¢ large laundry room â\\x80¢ front/back decks â\\x80¢ private driveway Woodlake has everything you need and more!! â\\x80¢ Swimming Pool â\\x80¢ Basketball Court â\\x80¢ Playground â\\x80¢ Fishing â\\x80¢ Pavilion â\\x80¢ Clubhouse We have Lending Resources available to you and will work hard to assist you in your new purchase\"', 4), (' 2 inch faux wood blinds', 4), (' cabana', 4), (' MI 49503', 4), (' with no neighbors behind. Rent To Own Take Over Payment. No Security   Deposit. No Credit Check. No Broker Fee    Call me at (214) 433-8176  Listing ID:- 103965278\"', 4), ('-78.7437', 4), (' just in time for the holidays! Restrictions apply.\"', 4), (' Akitas or any mixes of these breeds will be approved). In addition', 4), (' a spacious bedroom with a private patio', 4), (' and furniture in your apartment.  Swimming Pool', 4), ('39.6136', 4), (' High Speed Internet', 4), (' Post Office', 4), ('-81.1101', 4), ('-122.829', 4), ('43.9494', 4), (' Rent $20.00 Comments: ALL BREEDS WELCOME!! Cats -  allowed', 4), (' approximately 816 Sq. Ft. Features - Select units - Strobe smoke alarms; in all ADA units  - Select apartment homes - Strobe smoke alarms; in all ADA units  - Smoke Free  - High Speed Internet Access Community Amenities - Covered Carports  - On-Site Laundry  - On-Site Mail  - Two Playgrounds  - Clubhouse With Internet  - Clubhouse With Computer Room  - Manager On-Site  - Bike Rack  - Fitness Room  - Basketball Hoop Pet Policy No Pets Allowed. Office Hours Monday-Friday:8:00AM-5:00PM Creekwood Park Apartment Homes 1975 N Creekwood Dr.', 4), (' plenty of cabinet space', 4), (' Inc. mailing you the exact filters you need for the heating & A/C system every month. Quality filters that are the right size and sent to you at the right time. The vast majority of the time a HVAC system fails is because of a dirty filter. Therefore', 4), ('37.9901', 4), (' 1 bathroom', 4), ('30.4156', 4), (' individual climate control', 4), (' work and party down! This quiet', 4), ('-116.202', 4), ('44.0842', 4), ('-85.6914', 4), (' â\\x80¢ Star Bucks â\\x80¢ McDonald\\'s â\\x80¢ Zaxbyâ\\x80\\x99s â\\x80¢ Smithfieldâ\\x80\\x99s  Attractions: â\\x80¢ Emerald Point Wet and Wild â\\x80¢ Greensboro Science Center and Aquarium â\\x80¢ Asheboro Zoo â\\x80¢ Celebration Station â\\x80¢ Greensboro Children\\'s Museum and much more   Just Bring Your ID & Proof of Income â\\x80¢ washer/dryer connections â\\x80¢ walk-in closet â\\x80¢ master bath with garden tub â\\x80¢ stand up shower â\\x80¢ dual sinks â\\x80¢ kitchen island â\\x80¢ large laundry room â\\x80¢ front/back decks â\\x80¢ private driveway  Woodlake has everything you need and more!! â\\x80¢ Swimming Pool â\\x80¢ Basketball Court â\\x80¢ Playground â\\x80¢ Fishing â\\x80¢ Pavilion â\\x80¢ Clubhouse  We have Lending Resources available to you and will work hard to assist you in your new purchase\"', 4), ('-93.2683', 4), (\" it's perfect for those New Orleanians who want to be close to the best parts of the city\", 4), (' and more..  This spacious 2019 3bed/2 bath 28X44 Champion is sleek and beautiful in design including all the must haves for your new home Includes: â\\x80¢ Range/Refrigerator â\\x80¢ Microwave/Dishwasher  â\\x80¢ Central Air/ Heating (Natural Gas) â\\x80¢ Your Own Homesite - Plant Flowers', 4), (' and bathrooms)', 4), (' garbage disposal', 4), (\" and outdoor activities like the US National Whitewater Center. You won't share any walls with neighbors\", 4), ('40.0086', 4), (' call us today at  show contact info  or click on the REPLY box above for our email contact info.    *Photos represent similar units. Units may vary.              Bedford', 4), (' NC.    Now is the time to move to this beautiful community!!    Hawthorne at Leland is a pet - friendly community', 4), (' LLC.   Equal Housing Opportunity.\"', 4), (' and Much More * Outdoor Grill Area * Easy Freeway Access * Bike Racks * Package Acceptance * Professionally Managed * After-Hours Emergency Maintenance * Renters Insurance is Required * Long Term Lease Available * Easy Access to Public Transportation * Spa * Swimming Pool * Community Lounges * Controlled Access Parking * Non Smoking Community  Monday 9:00am - 6:00pm Tuesday 9:00am - 6:00pm Wednesday 9:00am - 6:00pm Thursday 9:00am - 6:00pm Friday 9:00am - 6:00pm Saturday 10:00am - 5:00pm Sunday 12:00pm - 5:00pm  Main and Stone Apartments', 4), ('-78.8776', 4), ('-115.303', 4), (' two fitness rooms', 4), (' 2 pets per apartment limit. Ask us about our breed restrictions.  Leases: Anywhere between 6-15 months- ask us for details!    Application fee: $44  Apartment Home Features and Amenities  Unique wood sliding barn-doors create true bedrooms* Full-size Whirlpool front loading stack-able washer and dryer in every home Take your pick from two different design color schemes- a light or dark wood option with counter tops', 4), (' patios and yards available* Built-ins include desks', 4), ('30.1876', 4), (' you will experience contemporary living at its finest! We have 2 commercial fitness centers', 4), ('38.0674', 4), (' Woodbridge', 4), ('34.2522', 4), (' we have cut our application fee in half to $40 and we have waived our $200 administration fee- this makes for great savings when applying for your future home! Feel free to check out our website at www.vertexfsu.com for more floor-plan layouts and community pictures. We can\\'t wait to see you!\"', 4), ('-84.3351', 4), (' we take care of the rest! Call Lily now for availability and pricing  show contact info ***   We are located at 421 W. church Street Jacksonville', 4), (' hot water', 4), (' so that we can use your combined income to help qualify you. Once the background check is complete and you are approved', 4), (' and amenities with several open floor plans to choose from', 4), ('-84.5646', 4), ('-85.6908', 4), (' you have come to the right place. Builder â\\x80\\x93 broker has beautiful homes', 4), (' and furniture in your apartment.        Swimming Pool', 4), (' rent', 4), ('34.8286', 4), ('-75.1837', 4), (' a private balcony or patio to unwind with the beautiful views', 4), (' 4.5% Fixed/5.612% APR', 4), (' 4.5% Fixed/5.596% APR', 4), ('38.0677', 4), (' Sat 10-5', 4), ('36.8404', 4), (' central HVAC', 4), ('29.8754', 4), ('  For more information : casalproperties.com  Pinetree Apts   4230 8th Ave NE\"', 4), (' work and party down! From first-class entertainment to the flash and fancy of casino hopping', 4), ('41.28', 4), (' Balcony', 4), ('-116.205', 4), ('-84.3757', 4), (' Spacious Closets', 4), (\" four TV's\", 4), ('-92.9664', 4), (' Kenilworth Apartments lets you live like youâ\\x80\\x99ve always wanted at a price youâ\\x80\\x99ll love.  -Brooks', 4), (' nonrefundable â\\x9e\\x9d DEPOSIT: $300 â\\x9e\\x9d RENT: $25/per pet â\\x9e\\x9d MAX WEIGHT: none â\\x9e\\x9d MIN AGE: 1 year â\\x9e\\x9d RESTRICTIONS: no aggressive breeds', 4), (' Tulsa', 4), ('540.  The Azalea is complimented with fully-equipped kitchens', 4), (' bus schedules available in the office  Waking distance from Autzen Stadium the Alton Parks Near local biking trails  An hours drive from the beach   CALL NOW at  show contact info  or COME TO THE OFFICE NOW** for a showing!!  Facts 1 bedroom | 1 bathroom Rent $1050 to $1185* *Upgrade to a luxury unit', 4), (' please call for your private viewing now.  **Photos represent similar units. Units may vary.           KH  Bedford', 4), (' well trained Staff is waiting to solve your housing needs.  Columbia Trails offers a broad range of accessibility and conveniences in all the areas of your everyday life', 4), (' and floorplan options selected. Call for updates.   --   Licensed by the State of Texas   --   Equal Opportunity Housing   --   Serving the San Marcos/Kyle/New Braunfels Area  show contact info    **********   Apartment Pros of San Marcos  show contact info\"', 4), (' Major Appliances', 4), (' tile', 4), (' Trash and all Exterior maintenance.   We recently purchased the building and completely renovated the interiors', 4), (' keeping you close to the best shopping', 4), ('30.2428', 4), (' Downtown', 4), ('-119.064', 4), ('33.9548', 4), (' please be on time', 4), (' and three-bedroom apartments provide residents with a sense of both comfort and refinement. Generous appliance arrays', 4), ('-84.2593', 3), (' Controlled access gates', 3), (' credit history', 3), (' Max weight 50 lb each', 3), ('-80.7265', 3), (' Oakview Place Apartments is an ideal location.    Schedule a tour today and visit our website at http://www.oakviewplace.com/   APPLY TODAY FOR YOUR NEW HOME AT  https://www.betterleasing.com/apply/?key=AEF5F5F2-00B9-4D01-B307-977847916109&uk=8D69A13F-F9A4-4535-9FB6-3F12B9C85C6E   Your new home is waiting for you and we are waiting to give you the lifestyle you deserve.\"', 3), (' the premier athletic club and the resident retreat which includes billiards', 3), ('-76.8891', 3), ('30.4272', 3), (' TX (2017)  \"\"We have never had a more welcoming', 3), (' give us a call today and letâ\\x80\\x99s schedule a tour of our beautiful community. Our office is open Monday â\\x80\\x93 Friday from 9:00 a.m. â\\x80\\x93 5:00 p.m.  If you are interested in taking an apartment off the market and holding it until you are ready to move in', 3), ('-84.3761', 3), (' visit us at: livewithjrk.com/Citigate\"', 3), (' Small Dogs (< 25lb)', 3), ('36.6394', 3), (' IA 50320(behind se 14th hyvee on the Indianola Ave side) Office hours: 8-5p Phone:  show contact info  Cell call/text:  show contact info  Applications are outside of the office door.\"', 3), ('41.9476', 3), ('-83.803', 3), (' and so much more!! We will have one available soon', 3), ('36.1165', 3), ('-85.692', 3), ('45.3491', 3), ('38.9344', 3), (' resident events and much more...   This spacious 2020 3Bd/2Bths home is sleek and beautiful in design including all the must haves for your new home.  Includes:  *Range/Refrigerator  *Central Air/Heating(natural gas)  *Your own site- plant flowers', 3), ('-86.0836', 3), (' dining and shopping options. Fountain Springs is located in the Kalamazoo Public School district and that makes this home Kalamazoo Promise qualified!   Call Sarah at  show contact info  today to schedule your tour before this home is sold!   EHO\"', 3), (' dishwasher and garbage disposal. Cooks love our galley style open kitchen with breakfast bar! Call today to schedule a tour of your new home!\"', 3), ('38.0885', 3), (' and public transportation within walking distance.   Your next apartment home features a spacious 2 Bedroom', 3), (' unique shopping boutiques', 3), (' and stainless steel kitchen appliances. 2 bedroom 1 bath. Includes Reserved Parking!   Youâ\\x80\\x99ll know you found home the minute you arrive.   Pet Friendly!  Non-Smoking Community!!  Bethany 5 Apartments Leasing Office 15420 NW Marianna Dr. #102 Portland', 3), (' unless they are federally designated service animals: Doberman Pincher', 3), (' and our team is trained to deliver a level of service typically reserved for fine hotels.Our location', 3), (' please call for your private viewing now.  **Photos represent similar units. Units may vary.            MN Bedford', 3), (' great staff', 3), (' and stove is gas) Lawncare and Snow Removal are included! Trash removal service. Landlord provides all of these! Off-street parking provided at no additional cost. The pictures barely do the place justice. Call and come to see how you will love it. Unit is available for showing now and is very clean. No pets', 3), (' Neon museum and the Cashman Center.  Many restaurants and bars to enjoy delicious food', 3), (' Wednesday', 3), ('43.9495', 3), ('42.8853', 3), (' 10 minutes from West Towne Mall', 3), (' Oakridge Apartments offer exceptional amenities in a perfect location. Each apartment home has incredibly spacious floor plans with washer and dryer connections', 3), (' couples and young families. AMENITIES OF EACH UNIT - Large kitchen with LOTS of cabinet storage - Dishwasher - Large dining area - Bar area for additional casual seating - Washer and dryer included in EACH unit - Extra-large walk-in closet in master bedroom - Courtyard entry doors - Private mailboxes w/ keyed locks AMENITIES ON THE PREMISES - Gorgeous Clubhouse with comfortable over-stuffed leather furniture', 3), (' along with resident events and great customer service - and you will not want to live anywhere else.   New Years Special Move in before January 10', 3), ('-148.987', 3), (' and 3 bedroom apartment homes with great amenities such as private parking', 3), (' cappuccino/coffee bar', 3), (' 3.5% Down', 3), (' and public transportation in beautiful North Richland. Schedule your tour today and discover a wide selection of amenities and features at this community. These include: a coffee bar', 3), (' 2 most recent pay stubs or proof of income ', 3), (' colleges and universities. The local elementary', 3), (' BBQ and picnic areas as well as the start of the Salt Creek trail that runs down to Salt Creek Beach. And when you want to take your dog out for some much needed exercise', 3), (' Garbage Disposal', 3), (' walk-in closet in the master bedroom', 3), (' bricked', 3), ('33.9795', 3), (' Concierge Parcel Acceptance', 3), ('38.9129', 3), (' Tinseltown', 3), (' Refrigerator', 3), (' paid water and trash', 3), ('-82.0852', 3), (' work and party down! Situated just off the main flow of traffic', 3), (' information from current and previous landlords', 3), (' managed by Steven Scott Management 180 Kellogg Blvd. E Saint Paul', 3), (' SEWER &TRASH!! SMALL PETS ACCEPTED!!  CEILING FANS; MINI BLINDS IN ALL BEDROOMS HUGE WALK IN CLOSET EAT IN KITCHEN', 3), (' move in date and availability. Prices includes Cable TV', 3), (' Inc. and represents himself the Owner/Seller.\"', 3), ('35.1193', 3), (' 20% Down', 3), (' Memphis Zoo', 3), (' washer or dryer hook ups but there are two fluff and fold do it yourself/drop off laundry mats 7-10 minutes away. Apartment #5 is UPSTAIRS and has a GREAT VIEW FROM ITS OWN PRIVATE PORCH. It is called a 1-1/2 to 2 bedroom because you must pass through ONE BED ROOM TO GET TO THE OTHER BED ROOM. The smaller room is approximately 10 x10 and could be used as an office', 3), ('-84.5797', 3), (' and Pergola â\\x80¢ Turf Gamerâ\\x80\\x99s Lawn â\\x80¢ Online payments', 3), ('32.9664', 3), (' Professional Management Staff  Convenient Location - close to Public Transportation', 3), (' SD 57702   Equal Housing Opportunity\"', 3), ('-84.5853', 3), (' Air Conditioner', 3), ('-80.0929', 3), (' work and party down!This ideal location provides easy access to I-80 and McCarran. Come live at Shoreline Plaza! Feed the geese and ducks by the river', 3), (' home repairs', 3), (' Ceiling Fan in Living Room', 3), (' Goose Creek', 3), ('-74.2785', 3), (' Ohio Turnpike', 3), (' AL 35401 Phone:  show contact info    Website: https://www.mybalconyapt.com Professionally managed by Sealy Management Co.', 3), ('-112.333', 3), (' a large living room', 3), (' and reserved garage parking.  Our stunning luxury interiors feature modern kitchens with stainless steel appliances', 3), (' and very professional. They are fully committed to me as a tenant', 3), ('-110.291', 3), (' Resort Style Pool', 3), (' lots of storage space', 3), ('  For more information : casalproperties.com  Pinetree Apts   4230 8th Ave NE Call Bryant    show contact info\"', 3), (' new vanity and so much more! Ready to rent in December 2019. Rent is $500.00/month and includes water', 3), (' 11', 3), (' CA', 3), (' the New Courthouse and major employment', 3), ('-76.7098', 3), ('-119.821', 3), (\" no musical instruments and no late night gatherings please. Occupancy limit: No more than 1 unrelated persons. Lease through December 2020 (11 months) with option. Tenant pays all utilities. Proof of renter's liability insurance through lease term required. This is a No party\", 3), ('28.1575', 3), (' sitting area and fireplace', 3), ('-84.4629', 3), (' Spokane River and surrounding mountainsIndividual Climate Controlled Central Heating Private Patio or balcony on select apartmentsSpacious Walk-in Closets in most apartmentsPre-wired with High-speed Century Link InternetCommunity Features:Gated CommunitySpacious ElevatorsSmoke-Free Community24-hour State-of-the-art Fitness CenterHeated Pool and Hot TubOutdoor Community FirepitLuxurious Clubhouse with Complimentary Wi-Fi Organized Activities and Social Events Barbeque Stations and Seating Areas to relax and enjoy the sceneryClose to Area Shopping', 3), (' 2018 Impact resistant windows and sliding glass doors', 3), (' Cyber cafÃ©', 3), (' we take care of the rest! Call Lily now for availability and pricing  show contact info ***  We are located at 421 W. church Street Jacksonville', 3), (' range and refrigerator. Large balcony in select units Fireplaces in select 3rd floor units Vaulted ceilings in select 3rd floor units Laundry facilities on 1st floor in every building. Garages and additional storage closets available for rental. Deluxe units with washer and dryer in unit.  Windsor Crest is a great place to call home!!! Call for a tour today', 3), (' available now (flexible start date): $1725 per month; 1352 sqft 1 BR 1 Bath', 3), (' and Plaza Views â\\x80¢\\tCommunity Deck - Seating', 3), (' NC 28277 Phone:  show contact info   Equal Housing Opportunity\"', 3), ('35.49', 3), (' and trash. Perfect for single person looking to save money but would like to maintain comfort', 3), ('-85.6911', 3), (' yes men', 3), (' Energy Bars and Trail Maps  Equal Housing Opportunity. Prices and availability are subject to change.    Contact The Apartment Resource Toni Hill  show contact info\"', 3), (' Sunday 1pm-5pm    Community Amenities:  At Avondale we have Four Energy Efficient Designs', 3), (' Sat. 10am to 5pm or Sun. 1pm -5pm.  *DON\\'T FORGET TO ASK ABOUT OUR PREFERRED EMPLOYER SPECIALS*  show contact info\"', 3), ('-78.8774', 3), ('40.2958', 3), (' turn left onto Woods Crossing Road for .2 miles then turn right onto Old Airport Road. Haywood Reserve is on the left. From Laurens Road; Take Haywood Road', 3), ('-103.176', 3), (' with towel service', 3), (' it is SO BIG!) * Community Garden (grow your own veggies and fruits for fresh eats!) * Salt/Chlorine Swimming Pool (relax and refresh!) * 24-hour Gym and Laundry Room (Multi-Tasking is a seriously valuable life skill', 3), ('40.6952', 3), (' standard background and credit check required for all applicants over the age of 18.Office Hours Monday-Friday:9:00AM-6:00PM Saturday:10:00AM-5:00PM Sunday:1:00PM-5:00PM Central Square at Watermark 1280 Appling Drive', 3), (' PA 17560.\"', 3), (' and the best walkability that Milwaukee has to offer.   Nestled in the classy and convenient East Town', 3), (' and walk in closets in both bedrooms. You will experience contemporary living at its finest! Schedule your tour today and discover a wide selection of amenities and features at this community. These include: a coffee bar', 3), ('38.0678', 3), (' large bedrooms and closets. Bright unit at a convenient location. Coin-op laundry on site.   Monthly Rent: $1', 3), (' large Living Room with gas log fireplace and adjoined Dining Room that connects to a spacious new Kitchen.  Out the back door', 3), ('42.6844', 3), (' Uptown Plaza', 3), (' reserve your new home today! Visit www.liveatarlingtonpark.com for updates and pricing.  Community Features: Salt water swimming pool with outdoor kitchen area 7 Days a week', 3), ('30.6055', 3), (' move date and a few other factors. Please keep in mind that pricing is subject to change hourly', 3), (' individual bathroom and more!  Price listed is the per person rate. Individual leases', 3), (' Woodburning fireplaces with chainscreen and glass doors with brass and wood hardware', 3), (' Air Conditioning', 3), (' Service Requests', 3), (\" Landlord and Employment verification and investigations. - FAQ's Q. How much is the security deposit? A. The Security Deposit is One and One Half Times the expected first full months rent and does not take into account any promotions that maybe discounted upon tenancy and move in.  Q. Do you always have rentals available? A. Not always\", 3), ('36.6403', 3), (' with an 18-month lease term. **Some restrictions apply--please contact us for details.\"', 3), (' a den', 3), ('36.0878', 3), (' a 17.5 CU FT Top-Freezer Refrigerator w/ Ice Maker', 3), (' carefree maintenance', 3), (' 3 Bedroom Floorplans - Central HVAC - Spacious Kitchens with Dishwashers', 3), ('35.4851', 3), (' PA 17527.\"', 3), (' and $500 for two pets. Pet rent is $10 per month. Weight and breed restrictions apply. Driving Directions From 1-385; Exit Haywood Road. Turn south on Haywood Road', 3), ('41.0753', 3), (' hospital', 3), (' call us today at  show contact info  or click on the REPLY box above for our email contact info.    *Photos represent similar units. Units may vary.             MN Bedford', 3), (' 1 year    Office Hours:  Monday through Friday 8am to 5pm', 3), (' Greenville', 3), (' bus schedules available in the office  Waking distance from Autzen Stadium the Alton Parks Near local biking trails  An hours drive from the beach   CALL NOW at  show contact info  or COME TO THE OFFICE NOW** for a showing!!  Facts 2 bedroom | 2 bathrooms  Rent $1225 to $1325* *Upgrade to a luxury unit', 3), (' PA 17519.\"', 3), (' refrigerator and central A/C (in selective units).  Head to: www3890cambridge.com       Nearby Amenities:  â\\x9e\\x9d Boulevard Mall   http://boulevardmall.com/    â\\x9e\\x9d Vons Shopping Center   https://local.vons.com/nv/las-vegas/1155-e-twain-ave.html  *Featuring restaurants', 3), ('44.0456', 3), (' full front porch', 3), (' and modern surfaces. Office Hours: Mon-Fri: 9am-6pmWe are professionally managed by Prodigy Property Management', 3), (' per pet). This fee is to cover the cost of cleaning and fumigating guest room. Height and length restrictions apply: pets can be no longer than 36 inches and no taller than 36 inches. Larger', 3), (' VA', 3), (' 202', 3), (' Huskies', 3), (' pecan fields and alfalfa fields. It is a very quiet with the small town feel. We are about 20-25 minutes away from the Las Palmas Market Place. The Paso Del Norte Paranormal Society does ghost tours the 1st Friday of the month.  Your perfect home awaits you .....Move in Today!\"', 3), (' Richland', 3), ('-97.0832', 3), (' discounted rent promotions', 3), (' and furniture in your apartment.  Our leasing office is located at: 313 Lincoln Avenue College Station', 3), (' and public school teachers that are first time residents are all eligible to participate. Contact us for details...but hurry', 3), (' Deposit $500.00Dogs -  allowed', 3), ('30.4153', 2), ('39.6875', 2), (' Upgrades available (include granite', 2), (' 24-Hour Emergency Maintenance', 2), (' granite countertops and glass tile backsplash. Bathroom 10\\'6\"\" x 7\\'2\"\" has new tub with shower', 2), (' park', 2), ('295/month.  This is a one-bedroom apartment that sleeps two people', 2), ('-121.153', 2), (' trails for bikers', 2), (' Walmart', 2), (' quiet and upscale neighborhood', 2), (' and Landscapes  - Full-size Washer and Dryer in Every Apartment Home  - Stainless steel', 2), (' all in a quiet', 2), ('-157.85', 2), (' windows', 2), ('-86.1398', 2), (' makes The Buckingham the choice of the Triad for 3 bedrooms. We price each apartment individually.Prices change daily based on lease term', 2), ('-87.4054', 2), (' this gorgeous home features a farmstead style decor!!! A stunning great room greets you upon entry', 2), (' ensconced within a highly energized and walkable lifestyle', 2), ('41.9478', 2), (' as well as off street parking. The apartments have spacious floor plans with one and two bedrooms', 2), ('-76.9835', 2), (' but we do. We also offer Corporate Suites. Contact us today and reserve your new home at The Grande Reserve at Geist.   *Pricing', 2), (' go to Douglas Avenue turn right. Kenwood Gables is on the corner of Douglas Avenue and Hennepin Avenue. Office Hours Monday-Thursday: 9:00am to 6:00pmFriday: 9:00am to 5:00pmSaturday: 10:00am to 3:00pmSunday: 12:00pm to 3:00pm Kenwood Gables Apartments 700 Douglas Avenue', 2), (' managed by Blue Ridge Companies 5269 Hilltop Road Greensboro', 2), (' Indianapolis', 2), ('-85.6925', 2), ('42.0636', 2), (' and take advantage of the surrounding businesses that offer our Valued Resident special discounts and offers!  Give us a call today to schedule your guided tour! We are here to make your move in process a breeze!  *Does not include $27.00 service fee.  Windmill Creek North Apartments 3535 Apollo Drive Metairie', 2), (\" it's located in Saline Schools\", 2), ('-87.3901', 2), (' multiple high-speed Internet connections', 2), (\" Landlord and Employment verification and investigations. -  FAQ's Q. How much is the security deposit? A. The Security Deposit is One and One Half Times the expected first full months rent and does not take into account any promotions that maybe discounted upon tenancy and move in.  Q. Do you always have rentals available? A. Not always\", 2), (' wood look tile floors', 2), ('-75.1569', 2), (' 7 days a week     Details      Pictures shown may not reflect this floor plan     Beds/Baths: 1BD/1.0BA     Square feet: Approximately 508     Rental Criteria: BGIJ     Area: Campus     Type: Apartment - Luxury One Bedroom     Pet Criteria:  Pet friendly     Lease terms: 12/31/19', 2), (' (d) bathroom & kitchen fixtures and (e) updated lighting package  Please call  show contact info  to schedule a showing. Rented on a first come', 2), ('-81.8227', 2), (' a sun porch', 2), (' 13 Month Lease Parking:Type - Covered Lot Assigned Covered Parking Available. Speak with your Leasing Consultant for details or please call for parking information. Pet Policy: Cats and Dogs are allowed. We welcome your pet', 2), (' Quail Springs Marketplace', 2), ('-78.8775', 2), ('39.9098', 2), (' new siding on rear section', 2), (' submit maintenance requests', 2), (' please call for your private viewing now.  **Photos represent similar units. Units may vary. AP                    Bedford', 2), (\" it's on the first floor for an easy move\", 2), ('-84.2743', 2), (' and Much More * Outdoor Grill Area * Easy Freeway Access * Bike Racks * Package Acceptance * Professionally Managed * After-Hours Emergency Maintenance * Renters Insurance is Required * Long Term Lease Available * Easy Access to Public Transportation * Spa * Swimming Pool * Community Lounges * Controlled Access Parking * Non Smoking Community  Monday 9:00am - 6:00pm Tuesday 9:00am - 6:00pm Wednesday 9:00am - 6:00pm Thursday 9:00am - 6:00pm Friday 9:00am - 6:00pm Saturday 10:00am - 5:00pm Sunday 12:00pm - 5:00pm  VIEW OUR WEBSITE: http://www.mainandstone.com  Main and Stone Apartments', 2), (' and colored ceramic tile bathrooms. We offer monthly pest control', 2), (' OH 44313  show contact info   Open M', 2), (' Old City', 2), ('39.8881', 2), (' off street parking', 2), (' LUCY Loop', 2), ('40.325', 2), ('-70.7438', 2), (' & island for extra prep space Bathroom -- Extra large soaking tub', 2), (' caring landlords who actually maintains our buildings', 2), (' Drexel', 2), ('-75.1451', 2), (' too!Looking for a new home for you and your pet? We are one of the few pet friendly communities in the area and enthusiastically welcome you and your pet (Some restrictions apply). Office Hours M - T: 10:00 am - 6:00 pmW: 11:00 am - 6:00 pmTh - F: 10:00 am - 6:00 pmS: 10:00 am - 5:00 pmSu:12pm-5pm The Residence at Barrington Apartments 226 Barrington Place', 2), (' en-suite baths for both bedrooms with extra storage area', 2), (' adult 55+ community', 2), (' no smoking inside the apartment.  Sorry', 2), (' AL 35401 Contact our leasing office at  show contact info  EQUAL HOUSING OPPORTUNITYThe leasing office is located at 1200 Greensboro Avenue Tuscaloosa AL 35401. There is no leasing office at the property. Please come for your appointment to the Corporate location.\"', 2), ('-97.7487', 2), (' new dishwasher', 2), (' color schemes', 2), (' and the keys to the house', 2), (' Fieldstone will offer 60 income restricted senior (55 and older) units', 2), (' please contact: The Balcony Phone:  show contact info  2230 11th Street  Tuscaloosa', 2), (' Bark Park', 2), (' Rent $35.00', 2), (' High: West Parking Location:\\tpaid parking (subject to availability) near by No Pets Allowed  Madison Property Management 1202 Regent St. Madison', 2), (' climate controlled interior hallways', 2), (' and indoor malls featuring some of the best brand-name stores. We are Newer', 2), ('30.3069', 2), (' Come and go with DART just steps away', 2), (' 6 miles from Seadrift Cove', 2), (' Courtyard', 2), (' multi station spin room', 2), (' it has a large living/dining area with cathedral ceilings and skylights that open up to a secluded', 2), (' That offers a wide variety of unique shops', 2), (' Individual Hot Water Heaters', 2), ('  Employment and 5yrs rental verification. Good to Excellent Credit and Fico score of 720+  Preferred 8am to 5pm daytime job', 2), (' High tech cardio stations and spin room', 2), (' and entertainment area with Apple TV', 2), ('38.9996', 2), (' they must remain off the bed', 2), (' Electric Stove', 2), (' Capitol Hill', 2), ('-80.5875', 2), (' shampoo', 2), ('-116.207', 2), (' 1 bedrooms', 2), (' Alaskan Malamute', 2), ('34.162', 2), (' 7-Month', 2), (' Electric', 2), (' tranquility pond', 2), (' and furniture in your apartment\"', 2), ('-85.6927', 2), (' a nice walk in closet', 2), ('Watertown', 2), (\" you'll find yourself at home in a country-like setting with centuries-old massive oaks\", 2), (' Metairie', 2), ('-85.3653', 2), (' the looks of a castle', 2), (' lights', 2), (' and furniture in your apartment.   Swimming Pool', 2), (' 64134 Prices are subject to change', 2), (' comfortable', 2), (' Downtown Baltimore', 2), (' updated light fixtures', 2), ('-95.0101', 2), (\" so don't miss this!!  Our amenities include: -Quartz counter tops -Upgraded stainless steel appliances -Full size washer/dryer -Gourmet kitchens -Farmhouse sinks -Security lock technology -Private terrace  Don't worry\", 2), ('-85.8195', 2), (\" James Court Apartments has been providing fine apartment living to many local individuals and families. Many working people prefer James Court because of its distance from N.I.U. and it's friendly neighborhood atmosphere.    *Studio\", 2), ('-93.3345', 2), (' and I75', 2), (' updated paint', 2), (' electric water heater.  Please inquire on any additional questions you may have. Email is the preferred method of contact!  Home is located at 2 Locust Lane Airville', 2), (' air conditioning/heating', 2), ('40.0292', 2), (' Frankford Hall', 2), ('-75.1396', 2), (' Kitchen Cabinets and Appliances. Generous floor plans with large living room', 2), (' and much more.  Theyâ\\x80\\x99re renting fast', 2), ('-75.1213', 2), ('-122.414', 2), (' employment', 2), ('36.1433', 2), ('-122.973', 2), (' call us today at  show contact info  or click on the REPLY box above for our email contact info.    *Photos represent similar units. Units may vary. AP                  Bedford', 2), (' and $1', 2), (' energy efficient windows', 2), (' OR 97030Rental Terms: Rent: $1', 2), (' standard background and credit check required for all applicants over the age of 18.Office Hours Monday-Friday:9:00AM-6:00PM Saturday:10:00AM-5:00PM Sunday:1:00PM-5:00PM Equal Housing Opportunity jz1WnrdF6Z\"', 2), (' beautiful new carpeting including new floor coverings in bathroom and kitchen and numerous new vinyl double hung windows', 2), ('40.2959', 2), (' a master bedroom that can accommodate a king-sized bed', 2), ('39.1432', 2), ('-73.6816', 2), (' including a large refrigerator', 2), (' Milwaukie', 2), (' and comes with an ATTACHED single car garage with automatic opener and full size washer/dryer!  In addition', 2), ('40.5677', 2), (' lighting', 2), (' business center', 2), (' gas stove', 2), (' and get community news by logging in securely to your Resident Portal. Apartments at Oak Park Village are equipped with Heat Individual - Electric', 2), (' Package Concierge', 2), (' etc. Need references and credit report(s). One year lease. No pets or smoking. Available January 15th', 2), (' Inc. 44539 Sterling Highway Suite 104 Soldotna', 2), (' offers spectacular finishes', 2), (' AL 35401 Get More Information Now! Call us at:  show contact info   Professionally managed by Sealy Management Co.', 2), ('-94.1745', 2), (' etc. * Comfortable swing with sturdy picnic table underneath the cottage.* Attractive and well landscaped yard with shrubs', 2), ('-149.877', 2), (' Online Payments Available', 2), (' which is anchored by the Metropolitan Market Grocery store recently opened', 2), (' open kitchen & living room concept with built in pantries', 2), (' park like  with  a great mix of  residents.   www.riverside-townhomes.com  Melissa-  show contact info\"', 2), (' UAA', 2), (' and right off of the Beltline Highway.  Call us today to schedule a tour  show contact info ! Photos shown are of model unit.  Looking for a virtual tour? Visit brownridge.stevebrownapts.com for a 360 tour of this unit!  Application Criteria: All prospective residents who are over the age of 18 must complete a rental application form.  Photo identification', 2), (' pecan fields and alfalfa fields. It is a very quiet with the small town feel. We are about 20-25 minutes away from the Las Palmas Market Place. The Paso Del Norte Paranormal Society does ghost tours the 1st Friday of every month.    Your perfect home awaits you  .....Move in Today!\"', 2), ('-95.736', 2), (' 6-Month', 2), (' change', 2), (' sundeck', 2), ('-89.3687', 2), (' swimming pool', 2), (' great shopping and many to choose from local parks. We offer great customer service and monthly events for all our current and future residents. Call Us or Stop By Today for more information and to schedule your tour to see your future apartment home! Unit Amenities: -Private Backyard', 2), ('-149.878', 2), (' you will be impressed by the high-end finishes including granite countertops', 2), ('-117.879', 2), (' and is subject to change at any time.  Offered prices are for base rent only as other charges', 2), ('-80.4031', 2), (' is intended to provide housing for persons 55 years of age or older', 2), (' Santa Fe College', 2), (' low key tenant(s) with stable employment and good references  \"\"Quiet Neighbors want Quiet Neighbors\"\"  Please Drive By  1822 Buckeye St. 30310  If you like what you see from the outside leave your name', 2), (' arcade games', 2), (' Washer & Dryer in Home', 2), ('-82.674', 2), (' Large Outdoor Tanning Deck', 2), (' close to Valley Mall and most importantly', 2), (' www.jasminecreek.com. All of our apartment home include the following features:  â\\x80¢\\tTub style showers â\\x80¢\\tAll kitchen Appliances', 2), (' Ceiling fans', 2), (' modern fitness facilities', 2), ('-158.017', 2), (' IL 61704  Igualdad De Oportunidades De Vivienda. Especiales estÃ¡n sujetas a disponibilidad y pueden terminar o modificar en cualquier momento. Ofertas y descuentos no se pueden combinar. Las tarifas estÃ¡n sujetas a cambio sin previo aviso.\"', 2), ('34.4587', 2), ('-157.84', 2), ('-82.4751', 2), ('34.4386', 2), ('25.7709', 2), (' Simi Valley', 2), (' heated', 2), (' central air', 2), (' 2 bedrooms', 2), (' wifi', 2), (' Shuffle Board', 2), (' 7-Channel Surround Sound System', 2), (\" or s'mores around the gas fire pit. In addition\", 2), (' managed by Blue Ridge Companies 5402 Friendly Manor Drive Greensboro', 2), ('-80.8914', 2), (' Volleyball Court', 2), (' management and maintenance team. In building laundry.  Gas', 2), ('-85.8169', 2), ('38.3508', 2), ('502.00\\t\\t\\t\\t\\t\\t\\t\\t\\t\\t\\t\\t\\t\\t\\t  Community Amenities\\t\\t\\t\\t\\t\\t\\t\\t\\t\\t\\t\\t\\t\\t\\t\\t\\t 24 Hour Fitness Gym\\t\\t\\t\\t\\t\\t\\t\\t\\t Club House\\t\\t\\t\\t\\t\\t\\t\\t\\t Swimming Pool\\t\\t\\t\\t\\t\\t\\t\\t\\t On-site Maintenance\\t\\t\\t\\t\\t\\t\\t\\t\\t TV Lounge\\t\\t\\t\\t\\t\\t\\t\\t\\t Playground\\t\\t\\t\\t\\t\\t\\t\\t\\t Pet Spa\\t\\t\\t\\t\\t\\t\\t\\t\\t Gated Community\\t\\t\\t\\t\\t\\t\\t\\t\\t Off Leash Dog Park\\t\\t\\t\\t\\t\\t\\t\\t\\t\\t\\t\\t\\t\\t\\t\\tProperty Contact\\t\\t\\t\\t\\t\\t\\t\\t \\t\\t\\t\\t\\t\\t\\t\\t\\t show contact info \\t\\t\\t\\t\\t\\t\\t\\t\\t\\t\\t\\t\\t\\t\\t\\t\\t\\t\\t\\t\\t\\t\\tEQUAL HOUSING OPPORTUNITY\"', 2), (' LED can lights', 2), (' smartphone connectivity', 2), (\" and doesn't have a window. But it does have two ways out of the room\", 2), ('-80.7054', 2), (' Criminal', 2), (' 2 full baths (en suite bath in master bedroom) top floor apartment at Manchester West apartments. This apartment is at the corner of the building', 2), (' Washer & Dryer', 2), ('-85.6366', 2), (' Home Depot & Bus Station.   Features: * 2 bedroom apt $850 / Per month (Non Smoker / No Pets) *Central A/C & Heat *Refrigerator *Stove *Microwave *Dishwasher.  *Garbage Disposal *Washer & Dryer Ready For Hookups *Private Parking Lot. -- Included: WATER / Garbage Pick up & Snow Remover.  * 1st month / Last and security deposit. * Location: 2405 Harlem Road', 2), ('-84.5217', 2), ('40.0793', 2), (' dish washer', 2), ('-75.1866', 2), (' banquet room', 2), (' please call for your private viewing now.  **Photos represent similar units. Units may vary. AP                 Bedford', 2), (' please call for your private viewing now.  **Photos represent similar units. Units may vary. AS1                Bedford', 2), ('000 gallon POOL\"', 2), (' 984 sq. ft apartment home', 2), (' 1 Full Bath', 2), (' wood grained drawer spaces', 2), (' Ravanel Bridge', 2), (' cathedral ceiling', 2), (' garage parking on-site', 2), (' Departamentos Tulsa', 2), (' \"\"old town', 2), (' call us today at  show contact info  or click on the REPLY box above for our email contact info.    *Photos represent similar units. Units may vary.           KH  Bedford', 2), (' low-traffic area. * Nice Neighborhood', 2), (' SD 57702   Equal Housing Opportunity  â\\x80¢do NOT contact me with unsolicited services or offers\"', 2), ('-95.3228', 2), ('36.9663', 2), (' \"\"Want an application\"\"', 2), (' Siena College', 2), (' alerting residents arrival of visitors Plenty of closet and storage space Super friendly', 2), (' EHO*\"', 2), ('-75.174', 2), ('40.2109', 2), ('36.0771', 2), (' religion', 2), (' recreation path and public beaches?  Then this is where you want to be!  Whether you have a car or not', 2), ('-110.267', 2), (' I work for Coldwell Banker La Mansion Real Estate in McAllen', 2), (' Deck', 2), (' schedule a tour', 2), (' 4-Month', 2), (' Lazy River', 2), ('-94.1739', 2), ('040  **Hear what our residents have to say:  â\\x80\\x9cI am coming up on my 3rd year and I love it here. Stephanie has instigated so many improvements. I have not encountered anything that was not attended to right away. Stephanie has brought a lot of happiness and activity to Park Glen. Love her.â\\x80\\x9d -J. Gibson  â\\x80\\x9cWe are in our 15th year and are very happy â\\x80\\x93 everything is good! V. & B. Johnson  â\\x80\\x9cI have found Park Glen to be very friendly and caring. Stephanie has been supportive of all of us', 2), (' please call Woodland Twin Homes @  show contact info  to make an appointment.                  house', 2), (' Spacious Closets   Community Amenities: Resort Style Pool', 2), ('-91.516', 2), ('-77.4681', 2), (' new vanity and so much more! Ready to rent in December 2019. Rent is $725.00/month and includes water', 2), (' our community places residents close to everything of importance. Shopping', 2), (' LLCEQUAL HOUSING OPPORTUNITY\"', 2), (' pecan fields and alfalfa fields. It is a very quiet with the small town feel. We are about 20-25 minutes away from the Las Palmas Market Place. The Paso Del Norte Paranormal Society does ghost tours the 1st Friday of the month.   Your perfect home awaits you .....Move in Today\"', 2), (' Ceramic tile throughout apartment home with exception of bedrooms', 2), ('-81.2635', 2), (\" VA Medical Center and Children's Hospital.  Our community also includes: -Business Center -Laundry Facilities -Friendly\", 2), ('26.1079', 2), (' trash fee', 2), ('34.4389', 2), ('-75.1885', 2), ('-84.3958', 2), (' new Water heater', 2), (' and range Loft-living design influences Exterior storage space at no extra charge  Off-street personal parking space--free of charge Additional parking space', 2), ('29.1056', 2), (' and no one answers please leave a voicemail and we will be in touch as soon as possible.  Fortunato Properties participates in Equal Opportunity Housing.  Leasing Agent: Mallory Ohl  *Advertisement may not be displayed correctly on map.  If you are viewing this property on any other website besides https://www.fortunatoproperties.com/available-homes/ there could be incorrect information.\"', 2), (' McDonalds', 2), ('39.6987', 2), ('-84.2268', 2), (\" you will feel like your living in affordable luxury. Don't miss out on the chance to lease this unit. Including a nice washer/dryer in unit\", 2), ('34.4381', 2), (' Oakview Place Apartments is an ideal location.   Schedule a tour today and visit our website at http://www.oakviewplace.com/  APPLY TODAY FOR YOUR NEW HOME AT https://www.betterleasing.com/apply/?key=AEF5F5F2-00B9-4D01-B307-977847916109&uk=8D69A13F-F9A4-4535-9FB6-3F12B9C85C6E  Your new home is waiting for you and we are waiting to give you the lifestyle you deserve.\"', 2), (' Lake views available', 2), (\" you'll be steps away from restaurants and recreation immersed in Downtown Orlando. Think of all the time and money you'll save from commuting and enjoy the flexibility our Live+Work Homes have to offer.  Apply today and be amongst the first to live and work in Downtown Orlando's newest neighborhood\", 2), (' Dishwasher', 2), (' ', 2), ('  5 blocks north of White House  Minutes walk to red / orange blue', 2), ('28.6583', 2), (' Shuffleboard', 2), ('-116.192', 2), (' managed by Blue Ridge Companies 3902 Pallas Way High Point', 2), (' controlled access community conveniently located in Brannon Crossing.  At The Avenue we offer many wonderful amenities at our apartment community.  We have the Trash Fairies trash service 5 nights a week', 2), (' and take advantage of the surrounding businesses that offer our Valued Resident special discounts and offers!  Give us a call today to schedule your guided tour! We are here to make your move in process a breeze!  *Does not include $32.00 service fee  Windmill Creek North Apartments 3535 Apollo Drive Metairie', 2), ('-81.1205', 2), (' large closets and thoughtfully added details', 2), (' MI | Apartments Near MSU | Apartments Close to 127\"', 2), ('-85.6916', 2), ('42.2679', 2), ('36.6439', 2), (' a gated dog park', 2), ('35.2359', 2), ('36.0592', 2), (' centrally-located yet relaxing Motel.   CURRENT \"\"OFF SEASON\"\" SPECIAL: $150/week or $650/mo  CALL NOW:  show contact info\"', 2), (' Garage', 2), ('-90.1293', 2), (' please call for your private viewing now.  **Photos represent similar units. Units may vary. AP                  Bedford', 2), (' 4.5% Fixed/5.607% APR', 2), ('900 - 4 occupants -$44', 2), (' and includes a dishwasher', 2), ('-77.9246', 2), (' call us today at  show contact info  or click on the REPLY box above for our email contact info.    *Photos represent similar units. Units may vary.            AS  Bedford', 2), (' and deep oversized under mounted sink - Extra large', 2), (' washer dryer', 2), (' please call for your private viewing now.  **Photos represent similar units. Units may vary.         KH  Bedford', 2), (' call us today at  show contact info  or click on the REPLY box above for our email contact info.    *Photos represent similar units. Units may vary.  Bedford', 2), (' Doggie Day Spa and also a \"\"bark park!\"\". There will be scenic views overlooking the lake', 2), (' Bixby', 2), ('-75.2545', 2), ('5', 2), (' as well as premium appliances and decorative accents. Get the style', 2), ('39.9695', 2), (' Sparta', 2), (' restaurants and shops.  2 Blocks to Tri-Met Free Online Rent Payment Walk Score 67 Transit Score 54 Bike Score 82 Pet Welcome (Weight and Breed Restrictions Apply)  2 Bedroom with 1 Full Baths from only $1349/Month 2 Bedroom with 2 Full Baths from only $1399/Month  Call Today  show contact info    The Heights Apartments 8049 SE Monroe Street Milwaukie', 2), (' vanities', 2), (' 1st serve. The first person to turn in an application will get a hold on the apartment while the application is being processed. â\\x80¢ Applications can be found at the leasing office', 2), (' please call for your private viewing now.  **Photos represent similar units. Units may vary.             MN Bedford', 2), (' a playground', 2), (' thermostatic shower column', 2), (' please call for your private viewing now.  **Photos represent similar units. Units may vary.  Bedford', 2), (' credit & criminal background.    PAYING FOR APPLICATIONS: APPLICATION WILL NOT BE PROCESSED UNTIL THE NON-REFUNDABLE $55.00 APPLICATION FEE IS RECEIVED (PER APPLICANT) ONLINE OR IN OUR OFFICE. FOR APPLICATION FEES IN OFFICE', 2), ('-81.0784', 2), (' dryer', 2), (' tanning bed', 2), (' entertainment & grocery  Call  show contact info  www.WindrushLiving.com  *Pricing and availability subject to change.\"', 2), ('-96.9925', 2), ('-94.174', 2), (' a state-of-the-art fitness center', 2), ('-148.215', 2), (' Monthly pet Rent $20.00 for dogs & $20.00 for cats per month per pet. Office Hours Monday-Friday 9:00 AM-6:00 PMSaturday 10:00 AM-5:00 PMSunday Closed Island View  1529 Columbia Park Trail ', 2), (' Rules or Regulations (other than what the county says). The gate at the end of the driveway that meets the county road will keep out any unwanted visitors. This land is totally capable of being subdivided into as many lots as the county will allow', 2), (' plenty of storage in the unit', 2), (' and an additional full bath', 2), (' and public transportation in beautiful North Richland. Schedule your tour today! We are located on 2895 Pauling Ave in Richland', 2), (' Internet', 2), (' 2 beehives', 2), (' & Playground  For more information go to our website  www.yescommunities.com\"', 2), (\" availability and specials subject to change at any moment. Contact me for up to date information. Corey Jenkins - Licensed Real Estate Agent / Apartment Locator with Dallas Apartment Locators  show contact info   Please feel free to Call or text me at anytime.Follow @LeasingDallas on Instagram for periodic deals!I work with a vast variety of apartments in the area. If you do not like this particular one then I'm positive I can find you something you enjoy. I specialize in Oak Lawn \", 2), ('-149.543', 2), (' WI 53715 MadisonProperty.com  Call', 2), ('-96.7843', 2), (' Chester', 2), (' Starbucks And Other Restaurants and Shops-- Pilates/ Yoga Studio-- Breakfast/Coffee Concierge-- State-Of-The-Art Dog Wash Station-- Priority Maintenance Service-- Property Manager on Site  Our unit features:    -- Expansive Walk-In Closets-- Energy Star Stainless Steel Appliances-- Double Compartment Stainless Steel Sinks with Designer Faucets-- Dishwasher-- Balcony-- Eat-In Kitchen-- Hardwood Floors-- Storage Units-- Elegant Quartz Countertops with Kitchen Islands   Call us for more information!  --  show contact info  --Professionally managed by Weidner Apartment Homes', 2), (' 4.5% Fixed', 2), ('-76.2666', 2), (' or 24 hour response time for service requests', 2), (' AZ', 2), (' Seattle Central Community College', 2), (' and access to plenty of parking', 2), (' or roommate if desired. We are an affordable housing community.  Website: http://www.ameliaparc2.com/  Phone:   show contact info     Professionally managed by Westlake Housing', 2), (' Stainless Steel Appliances', 2), (' Long Beach', 2), (' or be the \"\"hostess with the mostest\"\" in our rent-able clubhouse and party space!     This luxury apartment home also includes....  -In-home washer and dryer  -Stainless steel appliances (gas range)   -Over-sized soaking tub  -Central A/C and heat   -Designer light fixtures  -Countless community events (free to residents)  -Pet spa available    Don\\'t wait! Call us to schedule your personal tour today!    www.parkviridian.com   1515 E Katella Ave   Anaheim', 2), (' with an amazing floor plan', 2), (' Resort style saltwater pool with sundeck', 1), (' or drive by and see us today. You will like what you see! Features - Ceiling Fans  - Pantry  - Extra Storage  - Private Balcony or Patio  - Walk-in Closets  - All Electric Kitchen  - Vaulted Ceilings  - Breakfast Bar  - Central Air/Heating  - Full size Washer/Dryer In-Unit  - Dishwasher Community Amenities - Covered Parking  - Tennis Court  - On-Site and On Call Maintenance  - Landscaping  - Spa  - Fitness Center  - Swimming Pool Pet Policy We are proud to be a Pet Friendly Communityâ\\x80¢Allow Max of 1 pet per unit (either cat or dog', 1), (' Disposal', 1), (' 24-hour package pickup', 1), ('-75.1887', 1), (' 95821Interested in more information? Visit link below:http://leasing.amcllc.net/0k34wh Call Now:  show contact info  x 20OR Text 20 to  show contact info  to text our team.Welcome Home to Sur Apartments This is a 1 Bedroom', 1), (' large work office and ne storage (you will to share with the person who live in the front-side house).  I am looking for SINGLE \"\"ADULT\"\" Professional (you must to be over 40 years old - community rules). Normal Person', 1), (' work and party down!Deposit now only $850!Our AmenitiesComfortable Community AreasLiving Room / Dining RoomWell-maintained LandscapeTennis CourtsAmazing LocationSwimming PoolClose to shopping', 1), (' and wi-fi cafe. Take advantage of uptown living in the midst of serene beauty! Office Hours:Monday:9:00AM-6:00PMTuesday:10:00AM-6:00PMWednesday-Friday:9:00AM-6:00PMSaturday:10:00AM-5:00PMSunday:1:00PM-5:00PM Equal Housing Opportunity MKS4nmoT\"', 1), (' and just minutes from downtown Ft. Lauderdale', 1), ('-77.0932', 1), (' Shops and Train \\t  2 Bedrooms', 1), (' beautiful master bath with double wall floating vanities', 1), ('-157.884', 1), (' SS appliances. Cable TV included  Short term rates: $3200/mo (or $1200 per week)  Annual @ $1950/mo (minimum 5 consecutive month off-season rental or annual rental to get this rate)  4 people max per unit', 1), (' Restaurants & Freeways  - Covered Parking  - Community Barbecues  - Fitness Center  - Sparkling Pool & Spa  - Carport  - Lush Landscaped Gated Community Disclaimer: Please be aware of scams on Craigslist. It is our practice never to require someone to complete a credit application or provide personal credit information before touring an apartment home. Rent is based on lease term selected. Please contact office for more details. Prices subject to change.Equal Housing Opportunity Uo72F0vyGPg\"', 1), ('39.087', 1), (' and music scene. 3 minutes from the Bloomingdale 606 bike and hike trail. One year lease. .  One owner building for 35 years.   Available for March  occupancy : 2', 1), (' maintaining the pond and occasional watering.\"', 1), (' IL  60201 847-869-4200 http://www.schemerhorn-realestate.com We require a $250 move-in fee and a $50 non-refundable application fee per adult at the time of application.\"', 1), (' I am looking for a person who shares my values: non smoker', 1), (' and wi-fi cafe. Take advantage of uptown living in the midst of serene beauty! Office Hours:Monday:9:00AM-6:00PMTuesday:10:00AM-6:00PMWednesday-Friday:9:00AM-6:00PMSaturday:10:00AM-5:00PMSunday:1:00PM-5:00PM Equal Housing Opportunity e8qrDdU4H\"', 1), (\" no broker's fees.  *No-Fee Leasing Services\", 1), ('-80.2973', 1), ('30.3801', 1), (' it will be professionally cleaned', 1), (' shop for personal items and gifts from around the world at neighborhood stores', 1), (' 30907Equal Housing Opportunity lhQvvdgK6\"', 1), (' 2 spare bedrooms', 1), (' and internet  Water', 1), (' work and party down!  This quiet', 1), (\" Noi and Doi's Thai Food\", 1), (' iron+board -bed linens', 1), ('-76.884', 1), ('-158.087', 1), (' exclusive Gulf-side dining', 1), (' FL 33603Phone:  show contact info   Website: http://www.rampartnersllc.com/tampa-ga-apartments/the-legacy-apartments/   EQUAL HOUSING OPPORTUNITY\"', 1), (' work and party down! Enjoy the efficient living space in a spectacular setting. Feed the geese and ducks by the river', 1), (' Designer Cabinetry With Two Unique Finish Options to Choose From', 1), (' West End', 1), (' and wi-fi cafe. Take advantage of uptown living in the midst of serene beauty! Features - Washer and Dryer  - Screened-in patio  - Wood fireplace  - Ceramic tiling  - Cherry wood fans  - Custom California Closets  - Satina refrigerator with French doors  - Stainless steel appliances  - Ceiling fans in every room  - Vaulted ceiling  - 42\"\" maple cabinetry  - Premium views * Apartment amenities not available in every home. Community amenities may require an additional fee. Community Amenities - Stand-alone shower  - Jetted whirlpool spa  - Stainless steel appliances  - ClubHouse  - Sun deck  - Walk-in closet  - Furnished apartments available  - Nest thermostat  - OnSiteMaintenance  - Lake view  - Short term leases available  - Fitness center  - External storage  - Breakfast bar  - Closet built-ins  - Tile backsplash  - Crown molding  - Quartz countertops  - Waterfront pool  - Wag! Preferred Partner  - Car care center  - Outdoor Kitchen  - Smart home package  - Vaulted ceilings  - Limited access gates  - On-site management  - Pet Friendly  - Tennis court  - On-site self-storage  - Fireplace  - Pantry  - Premium cabinetry  - Ceiling fan  - Washer and dryer  - Tile floors  - Off-leash Bark Park  - Side-by-side Satina finish refrigerator Office Hours Monday:9:00AM-6:00PMTuesday:10:00AM-6:00PMWednesday-Friday:9:00AM-6:00PMSaturday:10:00AM-5:00PMSunday:1:00PM-5:00PM Equal Housing Opportunity LqR0lPO5l\"', 1), (' Den with wet bar/wine tasting table', 1), (' Community Gas Grill', 1), (' the pro-rated rent amount for December 2019 will be waived!!!!  Here at BelCielo Apartments', 1), (' this freshly painted 3/2 condo boasts new A/C', 1), (' and range Loft-living design influences Extra exterior storage space at no charge  Off-street personal parking space--free of charge Additional parking space', 1), (\" beach days and outings with the girls are how I prefer to spend my free time. I like to keep a VERY CLEAN home but as far as everything else goes I'm pretty laid back. I also have a video tour of the room but CL will not let me post.  **If you are a messy person or someone who hates to clean this is NOT the place for you!!!  TO APPLY:  text/E-mail me with the following details:  * Name- First and last please.  *Employment situation.  *Brief Bio about yourself!!!!!  *Looking for long or short term rental? *Should be willing to speak on the phone/facetime prior to viewing and provide references.   NO CIGARETTE SMOKERS OR COUPLES PLEASE.  **Rent includes: water\", 1), (' and master bedroom windows 2nd floor', 1), (\" once a week April - October. -Water for lawn is on a well (you don't pay to water the lawn)  -Automatic sprinklers  Income must reflect 3 times the rent amount per month minimum or approximately $39\", 1), (' Full Size Washer and Dryer', 1), ('41.2806', 1), (' and future Herndon metro station Minutes to the Dulles Toll Road', 1), ('43.7318', 1), ('000 square feet of on-site retail around the central plaza  - Pet-friendly community  - Open-air plaza with a fountain', 1), (' double sinks', 1), (' 30907Equal Housing Opportunity AGjCAwu8Zb5\"', 1), (' All flooring is solid wood or limestone - No adhesives! \\t\\t\\tNo pesticides allowed on the premises - inside or out. No Sealants! Only \\t\\t\\tenvironmentally friendly cleaning products used.   \\t\\t\\tThis is a SaferBuilding \\t\\t\\tGold Standard Certified Building  Calls & E-mails Friday evenings will be returned on Saturday night.\"', 1), (' Block C is the place for you.  Apartment Features: -Contemporary Appliance Package -Gourmet Kitchen with Quartz Countertops -Central Heat and Air Conditioning -Ceiling Fans -Studio', 1), (' cable TV and Internet Service  Photos are representative of apartments in the building and do show any particular unit.  Schermerhorn & Co. 2737 Central Street Evanston', 1), (' Ceiling Fan in Master Bedroom & Living Room  *In Select Homes\"\" Community Amenities: Clubhouse Featuring a Game Room with Billiards', 1), (' 30907Equal Housing Opportunity 9crNSztI\"', 1), (' Tysons Corner and Arlington  - Limited access building  - 24-hour fitness center Pet Policy We welcome you and your best friend', 1), ('-83.9684', 1), (' 24 hour emergency maintenance', 1), (\" Vaughn's\", 1), (' 24-hour security', 1), (' vaping or pets. References required.\"', 1), ('-84.2819', 1), (' Parking', 1), (' Modern fitness center open 24/7', 1), ('883. You choose!  Covered parking in attached garage for additional monthly fee!  Lease now to get parking specials too!  Text for tours!  *Pet Friendly: Breed or Weight Restrictions may Apply *Good Previous Renter History *Good Credit/Criminal Background Check to Apply  ***Restrictions apply. Price', 1), (' work and party down! Our caring committed management team will help you feel comfortable.Deposit now only $850!Our AmenitiesAmazing LocationWell-maintained LandscapeClose to shopping', 1), (' the complete renovation of Arundel Apartments adds a new dimension to this popular American lifestyle and its result is one of the most exciting apartment communities around! Our setting is private and serene. Our landscaping is maintained to perfection', 1), (' built in micros', 1), ('-82.6742', 1), (' Two & Three Bedroom Apartments Pet Ownership Policy: Cat(s);Dog(s);Breed Restriction;Weight Restriction;We welcome your pets at Coral Club! (60 lbs max for two) Non-Refundable Pet Fee $370 / $600 for two pets. Aggressive Breeds are prohibited: Akita', 1), (' electricity and overhead light; 4-section steel roII-up door with secure t-bar lock; many have garage door openers  - Electric', 1), (' and dishwasher. The laundry area is tucked in a closet off the dining room and includes washer and dryer hook-ups.  There are two good sized bedrooms and a full bath with a tub/shower combo.  The single car garage is a usable storage space for your vehicle or other items and includes a garage door opener.  The patio slider off of the dining room leads out to the deck and backyard.  Follow the link below to view a video walkthrough of this home:  https://www.youtube.com/watch?v=PFr0MwbZDp4  No smoking.  One small dog may be considered and upon owner approval.  Application fee: $35 Security Deposit: $1100 Pet Deposit: $400 per pet Monthly Pet Rent: $35 per pet  Apply online at www.ht-pm.com Please call  show contact info  for more information.  *Property information deemed reliable but not guaranteed*        Amenities          garage/storage       patio       washer/dryer hook-ups       mature landscaping       deck       breakfast bar       Details           Beds/Baths: 2BD/1.0BA       Square Feet: 780        Rental Terms         Rent: $900.00       Available: Now     Application Fee: $35.00     Security Deposit: $1', 1), (' social lounge', 1), (' Restaurants & Freeways Disclaimer: Please be aware of scams on Craigslist. It is our practice never to require someone to complete a credit application or provide personal credit information before touring an apartment home. Rent is based on lease term selected. Please contact office for more details. Prices subject to change.Equal Housing Opportunity 63VNr6yt\"', 1), (' Large Dogs (> 25lb) Pet notes: Cat Rent: $10 Dog Rent: $10 Cat Fee: $350 Dog Fee: $350 Deposit: $100.00 - One Month Rent (Based on approval) Leasing options:  Leasing notes: None Application fee: $50.00 per adult Amenities Included in Utilities Cost: Pest Control', 1), ('-80.5018', 1), (' 80138Equal Housing Opportunity DP9vwiPId\"', 1), ('200 due upon move-in.  Proof of income required.  Minimum of 12 months lease.  When inquiring about this apartment', 1), (' gaming console', 1), (' Block C is the place for you.  -Yoga and Stretching Room -Resident Lounge with 60 -Studio', 1), ('-157.854', 1), (' Roku/Amazon included    BUILDING AMENITIES - Full gym with cardio room', 1), ('-157.933', 1), ('39.5109', 1), ('-157.797', 1), ('-157.845', 1), (' kitchenette with electric plate for simple meals and refrigerator', 1), (' the ceiling heights are relatively low. If you are tall', 1), (' washer/dryer hookups', 1), ('35.6703', 1), ('-85.1962', 1), (\" where they'd verify your credit and whatnot. If you have any questions\", 1), (\" but it is just up the street from neighborhood outreach center.  HOME AMENITIES Kitchen (large eat-in) w/Gas Stove & Refrigerator Laundry Room w/Washer & Dryer Bathroom w/Shower (No tub) Pocket Doors & French Doors Attic has small finished room at top of stairs Basement (unfinished) Enclosed Back Porch Fenced Yard (36' X 141') Garage (576 sq ft\", 1), (' FILTERED WATER', 1), (' Kenilworth Apartments lets you live like youâ\\x80\\x99ve always wanted at a price youâ\\x80\\x99ll love.  -Business center -Shawnee mission school district -Indoor heated swimming pool -Newly renovated resident clubhouse -Fitness center -Outdoor swimming pool -Resident social events -Natural stone fireplaces -Sauna -Covered parking available -Completely renovated kitchens -Flexible lease terms -24/7 maintenance services -Library & reading lounge -Fabulous views  Call:  show contact info   *Equal housing opportunity*  Kenilworth Prices change daily', 1), (' one bathroom and central air and a storage shed. Stop in at the community office any weekday between 9 and 4:30. We are closed weekends. If you decide you like the home and want to apply', 1), (' connect with neighbors', 1), (' pantry area with built ins', 1), (' Dishwasher & Electric Stove * Wood-Like Floors * Full sized Washer and Dryer in unit * Furnished Options Available', 1), (' and there is a closet directly opposite that could be used as either a coat or linen closet.    Plenty of off-street parking. Within walking distance to shopping and dining', 1), (' Kenilworth Apartments lets you live like youâ\\x80\\x99ve always wanted at a price youâ\\x80\\x99ll love.  -Indoor heated swimming pool -24/7 maintenance services -Outdoor swimming pool -Business center -Completely renovated kitchens -Natural stone fireplaces -Library & reading lounge -Newly renovated resident clubhouse -Fabulous views -Resident social events -Shawnee mission school district -Fitness center -Washer & dryer connections -Flexible lease terms -Covered parking available  Call:  show contact info   *Equal housing opportunity*  Kenilworth Prices change daily', 1), ('silverware', 1), ('-86.1388', 1), (' Well-Appointed Kitchens', 1), (' Indiana 46202 Hours: Monday - Friday 9-5p', 1), ('37.9422', 1), ('-93.6623', 1), (' tennis', 1), (' Appliances include built in microwave', 1), (\" price listed is based on today's availability. Call for details. * Swimming Pool * Short Term Lease Available * WiFi Access * Outdoor Grill Area * Guest Parking * Laundry Care Center * We are a social community! Find our Yelp\", 1), (' 24/7. -2 Leash-Free Pet Parks -Rejuvenating Dry Spa -Elite Fitness CenterFeaturing a variation of cardio stations', 1), (' Kenilworth Apartments lets you live like youâ\\x80\\x99ve always wanted at a price youâ\\x80\\x99ll love.  -Completely renovated kitchens -Brooks', 1), (' and more..  This spacious 1993 3bed/2 bath 52x28 is sleek and beautiful in design including all the must haves for your new home Includes: â\\x80¢ Range/Refrigerator â\\x80¢ Microwave/Dishwasher  â\\x80¢ Central Air/ Heating (Natural Gas) â\\x80¢ Your Own Homesite - Plant Flowers', 1), (' NC', 1), (' and more..  This spacious 2016 2bed/2 bath 16X66 Champion is sleek and beautiful in design including all the must haves for your new home Includes: â\\x80¢ Range/Refrigerator â\\x80¢ Microwave/Dishwasher  â\\x80¢ Central Air/ Heating (Natural Gas) â\\x80¢ Your Own Homesite - Plant Flowers', 1), (' Kenilworth Apartments lets you live like youâ\\x80\\x99ve always wanted at a price youâ\\x80\\x99ll love.  -Completely renovated kitchens -Clothes care until 10:00 pm -Flexible lease terms -Private fenced patios -Business center -Granite countertops -Fitness center -Indoor heated swimming pool -Brooks', 1), ('44.9567', 1), ('41.6613', 1), (' this cute apartment is for you!   I will also let you keep the security deposit', 1), (' 1 bath townhouses that are about 850 sq ft and each have their own back patios. These townhomes have a big', 1), ('-76.5413', 1), (' MS 39402  show contact info     Community Features * Playground * Outdoor Grill Area * Gaming Area * Fitness Studio * Professionally Managed * After-Hours Emergency Maintenance * DVD Rentals * Credit Cards Accepted * Bark Park * Renters Insurance is Required * Short or Long Term Lease Available * All Inclusive Living', 1), (' call for details.  We price each apartment individually', 1), ('35.2279', 1), (' please contact the leasing office. Additional deposit and fees will apply.The application fee is $40 per lease holder and guarantor.Apply NOW!Phone:  show contact info  Website: https://www.autumnridge-apartments.comCome by and see us TODAY!Monday: 9AM-6PMTuesday: 9AM-6PMWednesday: 9AM-6PMThursday: 9AM-6PMFriday: 9AM-6PMSaturday: 10AM-4PMFederal law prohibits housing discrimination on the basis of race', 1), (' Ceiling Fans', 1), ('-85.2957', 1), ('-93.6632', 1), (' and great location with easy access to I-35', 1), (' jacuzzi and tennis courts. -45 acre Nature Preserve with jogging/bike trails -Proud Supporter of Move for Hunger -Proud affiliate of the National Apartment Association  Call:  show contact info\"', 1), (' 01/24/2020 with an 18-month lease term. **Some restrictions apply--please contact us for details.\"', 1), (' and it also just steps away from one of the newly renovated dog parks. There is a deep closet right between the bedroom and bathroom', 1), ('-85.6903', 1), (' restaurants- as well as many alluring onsite amenities', 1), (' MS 39402  show contact info   VIEW OUR WEBSITE:  http://www.breckenridgeparkapts.com    [#6947078]\"', 1), (' garbage collection all included in rent.  One parking space is available for $100', 1), (' and follow directions from there.***  Contact Us: Luna Properties Rental Department  show contact info   See better photos and SCHEDULE A SHOWING at  https://lunarentals.appfolio.com/listings/detail/c1baf8c4-765d-416e-a7d0-9af1bc80cf0a\"', 1), (' kitchens and baths  - Nine-foot ceilings *In select apartments Community Amenities - Complimentary bicycles for riding around town  - Elite health club with Cardio Theater and separate cross-training room  - Pet-friendly community with expansive', 1), ('37.438', 1), (' cable weight training circuits', 1), ('32.5929', 1), (' with overhead microwave oven', 1), (' and Stadium Club Seating -Tile Backsplash -Electric Car Charging Stations -Media Room -Washer/Dryer Connections -Summer KitchenThis poolside element offers a bar area and kitchenette full-sized refrigerator', 1), (' a dishwasher and ceramic tile flooring.  Our residents enjoy our sparkling outdoor pool and take advantage of the convenient on-site laundry facility. Life changes all the time', 1), (' Kenilworth Apartments lets you live like youâ\\x80\\x99ve always wanted at a price youâ\\x80\\x99ll love.  -Resident social events -Completely renovated kitchens -Granite countertops -Business center -Fabulous views -Shawnee mission school district -Natural stone fireplaces -Library & reading lounge -Brooks', 1), (' gourmet kitchens  - Full-size washers and dryers *In select apartments Community Amenities - Convenient car wash with vacuum  - Scenic pond surrounded by walking trail  - 100% smoke-free community  - Fiber optic cable to each apartment for ultra-fast Internet access  - Outdoor yoga lawn  - Fresh-ground coffee from our StarbucksÂ® coffee bar', 1), ('-86.1014', 1), (' privacy fence', 1), ('42.2765', 1), (' Bull Run Coffee Bar', 1), (' clubhouse', 1), (' beach access and a big blue swimming pool. This top floor', 1), ('-78.965', 1), ('36.0387', 1), (' MS 39402  show contact info   VIEW OUR WEBSITE:  http://www.breckenridgeparkapts.com  Monday 9:00am - 6:00pm Tuesday 9:00am - 6:00pm Wednesday 9:00am - 6:00pm Thursday 9:00am - 6:00pm Friday 9:00am - 6:00pm Saturday 10:00am - 5:00pm    Community Features * Professionally Managed * Movie Theatre * Credit Cards Accepted * Car Wash Area * Gaming Area * DVD Rentals * Renters Insurance is Required * Sun Deck * Short or Long Term Lease Available * Sand Volleyball Court * Our prices can change daily', 1), (' 2 & 3 bedroom apartment homes. Many have been completely remodeled.CALL FOR AVAILABILITY! Features - Huge living and dining area  - Window coverings on all windows  - Ceiling Fans  - Heated underground parking available  - Generous closets throughout  - Private balcony  - Heat and Water Paid Community Amenities - Cats Welcome  - Walking paths with lakeside picnic/grilling area  - Professional on-site management and maintenance  - Private dock and sun deck  - Fitness center and sauna  - Elevators  - Paddle boat', 1), ('44.9432', 1), (' and bark park - you and your four legged friends will feel right at home at Ashland Apartment Homes!  -Convenient Online Rent Payment -Pet Friendly -Smoke-Free Living -Spacious Floor Plans -On City Bus Line -24-Hr Emergency Maintenance -Bark Park -Intercom Entrances  Call:  show contact info     Find more info at https://www.iretapartments.com/ashland-apartment-homes/craigslist   Price and availability subject to change.\"', 1), (' take 169 North to Northwest Englewood Road eastbound to North Oak Trafficway. To 68th Street. Crown Heights on the East side of N. Oak Trafficway Office Hours Monday-Friday:8:30AM-5:30PMSaturday:10:00AM-4:00PM Pet Policy Pets are welcome! There is a limit of two pets per apartment. A non-refundable pet fee of $250 is required for each pet in the apartment and $20 per month pet rent. Income Requirements: We require 3x the rent as a gross monthly household income.Equal Housing Opportunity wDM0Z1faA\"', 1), (\" Lowe's and the rest just 9 miles away.  Boat launch location just around the corner.  Beautiful Setting just .7 miles north of Hwy 24 on Nine Mile Road (Croatan/Colony St.)  RENT + Electric + Cleaning Deposit - Minimum 1 year Lease Required  PET Friendly (pet deposit required paid over first 3/mo)  Includes Washer-Dryer on first level. Refrigerator\", 1), ('-85.6019', 1), (' Call for Details  [#6980839]\"', 1), (' and access to the large community swimming pool. There is laundry on-site to be used at resident convenience.  ** Lower deposit with approved credit **  Features & Amenities: Short-Term Leases Available Trash Collection Cable Ready Laundromat Deck/Patio On-Site Parking Swimming Pool Lawn Care Dishwasher Central Air  Prices:   1BR/1BA - Classic ----------------------------$675/mo 1BR/1BA - Premier ----------------------------$775/mo 2BR/1BA - Classic ----------------------------$775/mo 2BR/1BA - Premier -------------------------- $875/mo 2BR/1BA - Premier (washer/dryer incl) - $925/mo 3BR/1BA - Premier (washer/dryer incl) - $1025/mo  Willowbrook Apartments are located right off of upper Bardstown Rd', 1), ('-92.3748', 1), (' Kenilworth Apartments lets you live like youâ\\x80\\x99ve always wanted at a price youâ\\x80\\x99ll love.  -Shawnee mission school district -Natural stone fireplaces -Private fenced patios -Business center -Flexible lease terms -Indoor heated swimming pool -Fabulous views -Granite countertops -Sauna -Washer & dryer connections -Newly renovated resident clubhouse -Completely renovated kitchens -Fitness center -Covered parking available -24/7 maintenance services  Call:  show contact info   *Equal housing opportunity*  Kenilworth Prices change daily', 1), ('-76.5049', 1), (' 2 end tables', 1), ('46.792', 1), (' and much more!  There are lots of upgrades.  The windows have all been changed out to the double pane', 1), (' Kenilworth Apartments lets you live like youâ\\x80\\x99ve always wanted at a price youâ\\x80\\x99ll love.  -Sauna -Library & reading lounge -Flexible lease terms -Natural stone fireplaces -Fitness center -Attentive management -Indoor heated swimming pool -Clothes care until 10:00 pm -Granite countertops -24/7 maintenance services -Covered parking available -Business center -Washer & dryer connections -Private fenced patios -Resident social events  Call:  show contact info   *Equal housing opportunity*\"', 1), (' Kenilworth Apartments lets you live like youâ\\x80\\x99ve always wanted at a price youâ\\x80\\x99ll love.  -Flexible lease terms -Outdoor swimming pool -Clothes care until 10:00 pm -Sauna -Resident social events -Covered parking available -Fitness center -Attentive management -Completely renovated kitchens -Washer & dryer connections -Natural stone fireplaces -Newly renovated resident clubhouse -Indoor heated swimming pool -Fabulous views -24/7 maintenance services  Call:  show contact info   *Equal housing opportunity*  Kenilworth Prices change daily', 1), ('39.1552', 1), (' perhaps a different haircut.        Or', 1), ('-82.6078', 1), (' sink & faucet. New flooring in the bathroom and landing. There are mini-blinds on all windows.  There is a back porch area that contains the washer/dryer hook-ups.  Fridge and stove included.   The back yard has a very large area fully fenced in with a gate right off the back door of the house.   There are 3 bedrooms upstairs that have carpet replaced a couple years ago.  Some tenants have used the main floor living room as their bedroom as there is a closet in it as well.  The basement is just one small room', 1), ('and bamboo flooring. The house has ceiling fans in all living areas and a open floor plan for entertaining', 1), ('-85.6924', 1), (' poolside fireplace', 1), (\" price listed is based on today's availability. Call for details. * Liability Insurance is Required * After-Hours Emergency Maintenance * Long Term Lease Available * Short Term Lease Available * Professionally Managed * Swimming Pool * Minutes from Restaurants\", 1), ('100 Style: Apartment *Square Ft: 1', 1), (' refrigerator and dishwasher) New bath and kitchen cabinets New bath and kitchen counter tops and fixtures Air conditioning Storage 1 garage per unit for your vehicle   Call or email today for an appointment  show contact info  Apply online now at www.hornigcompanies.com and search for Duluth Street Flats.   RENTAL FEATURES _________________________________________________________________________________ On-site laundry Elevator in building Large community room with walkout to garden space Large patio space with gas grills Multiple closets Cable-ready Balcony in each unit for private outdoor space Non-smoking building  COMMUNITY FEATURES _________________________________________________________________________________ Controlled access Bus line steps away Professionally managed Minutes to highway 100 or 55 On-site caretaker 24 Hour emergency maintenance Professional management   LEASE TERMS ________________________________________________________________________________ Available Soon! Managed and maintained by Hornig Companies', 1), (' and Stadium Club Seating -Resort-Inspired PoolFeatures include an exquisite pool with bubblers', 1), (' and within walking distance to shopping', 1), ('-84.1771', 1), (' DETAILS', 1), (' water. Very nice 800 sq ft apartment with dishwasher and a small patio off the living room. Smoke free building. $800 Security Deposit. Coin-op laundry in building. Please call 651-Three-one-seven-98-one-one rather than text or email. Leave message we will return your call during normal business hours.  1 year lease required. Income 3X rent. Good credit/landlord references. No prior eviction or felony. No S8. No DWI/DUI. Unit shown in photos may not be exactly the same as the unit available.\"', 1), ('-85.8294', 1), ('810.00\\t\\t\\t\\t\\t\\t\\t\\t\\t\\t\\t\\t\\t\\t\\t  Community Amenities\\t\\t\\t\\t\\t\\t\\t\\t\\t\\t\\t\\t\\t\\t\\t\\t\\t 24 Hour Fitness Gym\\t\\t\\t\\t\\t\\t\\t\\t\\t Club House\\t\\t\\t\\t\\t\\t\\t\\t\\t Swimming Pool\\t\\t\\t\\t\\t\\t\\t\\t\\t On-site Maintenance\\t\\t\\t\\t\\t\\t\\t\\t\\t TV Lounge\\t\\t\\t\\t\\t\\t\\t\\t\\t Playground\\t\\t\\t\\t\\t\\t\\t\\t\\t Pet Spa\\t\\t\\t\\t\\t\\t\\t\\t\\t Gated Community\\t\\t\\t\\t\\t\\t\\t\\t\\t Off Leash Dog Park\\t\\t\\t\\t\\t\\t\\t\\t\\t\\t\\t\\t\\t\\t\\t\\tProperty Contact\\t\\t\\t\\t\\t\\t\\t\\t \\t\\t\\t\\t\\t\\t\\t\\t\\t show contact info \\t\\t\\t\\t\\t\\t\\t\\t\\t\\t\\t\\t\\t\\t\\t\\t\\t\\t\\t\\t\\t\\t\\tEQUAL HOUSING OPPORTUNITY\"', 1), ('42.3828', 1), (' an updated on-site office', 1), (' eviction', 1), ('-85.6923', 1), ('44.0183', 1), (' and the new multi-purpose stadium. The Commons will serve the downtown community', 1), (' Wireless Internet access', 1), (' KS', 1), (' Climate Controlled Corridors  - 24-Hour Emergency Maintenance  - Nearby Running And Bike Paths  - Online Rent Payment  - Controlled Access Community  - Elegant Clubhouse With Expansive Great Room', 1), ('35.3136', 1), (' gourmet kitchens *In select apartments Community Amenities - Scenic pond surrounded by walking trail  - Storage units and garages available  - Fresh-ground coffee from our StarbucksÂ® coffee bar', 1), (' 21208Equal Housing Opportunity A9JAg0fa\"', 1), ('-85.817', 1), ('46.6626', 1), ('  4 seasons room with patio', 1), ('396.00\\t\\t\\t\\t\\t\\t\\t\\t\\t\\t\\t\\t\\t\\t\\t  Community Amenities\\t\\t\\t\\t\\t\\t\\t\\t\\t\\t\\t\\t\\t\\t\\t\\t\\t 1', 1), (' new lighting', 1), (\" REALTORS will represent you as a Buyer's/Tenant's Agent. Buyers agency contract will be required.  R.P. Murphy MORE\", 1), (' NC 28262  show contact info   VIEW OUR WEBSITE:  http://haltonpark.com    [#7007311]\"', 1), (\" so don't miss your chance!!  Our amenities include: -Quartz counter tops -Upgraded stainless steel appliances -Full size washer/dryer -Gourmet kitchens -Farmhouse sinks -Security lock technology -Private terrace  Don't worry\", 1), (' quartz countertops', 1), (' claw ft tub & walk in closet! Updated 2nd bath! Amazing mural & unique light in formal DR. LG family Rm w/FP & hardwoods. Front door accesses unfinished bsmt w/FP-potential here! Great highway access! Please contact My Email  show contact info\"', 1), (' No Smoking Home ***\"', 1), (' MS 39402  show contact info     [#6991595]\"', 1), ('37.4367', 1), (' I-77', 1), ('-75.2274', 1), (' standing pantry', 1), (' hardwood floors in bedroom. off street parking.\"', 1), (' and make it home in time for the holidays!!  **Pictures may vary depending on apartment availability.**   The Cliffs Apartments   show contact info   621 McAlpin Avenue  Cincinnati', 1), (' outdoor pool & Club room.\"', 1), ('33.6519', 1), (' a desk and a dresser. Also', 1), (' SD 57701.  nwemanagement.com.\"', 1), (' Stacked Washer & Dryer Set in Each Home', 1), (' Fire Pit', 1), ('    REFRIGERATOR', 1), (' standard background and credit check required for all applicants over the age of 18.Office Hours Monday-Friday:9:00AM-6:00PM Saturday:10:00AM-5:00PM Sunday:1:00PM-5:00PM Equal Housing Opportunity 7GK9u2fl\"', 1), (' Soaking Tub or Stand-Up Shower with Custom Tile Surround*  - Elegant Hardwood-Inspired Flooring  - Gourmet Kitchen: Granite Countertops', 1), (' full bath', 1), (' and bark park - you and your four legged friends will feel right at home at Ashland Apartment Homes!  -Bark Park -Convenient Online Rent Payment -Spacious Floor Plans -On City Bus Line -Pet Friendly -24-Hr Emergency Maintenance -Intercom Entrances -Smoke-Free Living  Call:  show contact info     Find more info at http://www.iretapartments.com/property/north-dakota/grand-forks-east-grand-forks/ashland-apartment-homes/   Price and availability subject to change.\"', 1), (' Nine-foot ceiling', 1), (' please call for your private viewing now.  **Photos represent similar units. Units may vary.  AS1                Bedford', 1), (' and clients.v\"', 1), ('-83.0252', 1), (' oversized medicine chest', 1), (' Pickup & Drop-Off Services - Cat care  Call today to schedule your tour!   show contact info  \"\"\"', 1), (' and bark park - you and your four legged friends will feel right at home at Ashland Apartment Homes!Bedrooms: 3Bathrooms: 2Rent: 1200Amenities Include:Intercom EntrancesPet Friendly24-Hr Emergency MaintenanceSpacious Floor PlansBark ParkSmoke-Free LivingConvenient Online Rent PaymentOn City Bus LineCall:  show contact info Find more info at https://www.iretapartments.com/ashland-apartment-homes/craigslistOffice Hours: Mon-Fri 8am-6pm | Sat 8am-1pm | Sun Closed Price and availability subject to change.\"', 1), (' and 95 (NJ Turnpike).  Located next to town pool; near Overpeck County Park.  650 Sq Ft (approx.) not including terrace. Updated kitchen includes hardwood cabinets', 1), (' please call for your private viewing now.  **Photos represent similar units. Units may vary.                       MH   Bedford', 1), ('44.0455', 1), (' and bark park - you and your four legged friends will feel right at home at Ashland Apartment Homes!  -24-Hr Emergency Maintenance -Pet Friendly -Convenient Online Rent Payment -Intercom Entrances -Bark Park -Spacious Floor Plans -Smoke-Free Living -On City Bus Line  Call:  show contact info     Find more info at https://www.iretapartments.com/ashland-apartment-homes/craigslist   Price and availability subject to change.\"', 1), ('-75.9226', 1), (' standard background and credit check required for all applicants over the age of 18.Office Hours Monday-Friday:9:00AM-6:00PM Saturday:10:00AM-5:00PM Sunday:1:00PM-5:00PM Equal Housing Opportunity O98m3LU8\"', 1), (' and Entertainment  FLOORPLAN AMENITIES â\\x9c¶ Air Conditioning â\\x9c¶ Balcony or Patio â\\x9c¶ Breakfast Bar â\\x9c¶ Built-In Bookshelves â\\x9c¶ Cable Ready â\\x9c¶ Carpet â\\x9c¶ Ceiling Fans â\\x9c¶ Crown Molding â\\x9c¶ Den â\\x9c¶ Dining Room â\\x9c¶ Dishwasher â\\x9c¶ Disposal â\\x9c¶ Eat-in Kitchen â\\x9c¶ Family Room â\\x9c¶ Freezer/Ice Maker â\\x9c¶ Island Kitchen â\\x9c¶ Linen Closet â\\x9c¶ Office â\\x9c¶ Pantry â\\x9c¶ Range/Oven â\\x9c¶ Refrigerator â\\x9c¶ Storage Units â\\x9c¶ Vinyl Flooring â\\x9c¶ Walk-In Closets â\\x9c¶ Warming Drawer â\\x9c¶ Window Coverings COMMUNITY ADDRESS:  The Reserve at Oakleigh3562 Pin Hook Rd - Antioch', 1), (' trash. Tenant pays electric and gas.\"', 1), (' single car attached garage and very large walled in backyard. Newly remodeled', 1), ('-121.509', 1), ('300.00        Pet Policy           Cats not allowed       Dogs not allowed\"', 1), (' call us today at  show contact info  or click on the REPLY box above for our email contact info.    *Photos represent similar units. Units may vary.                                                 BS  Bedford', 1), (' $650 for two pets. $10 Pet Rent per pet each month. Maximum of two pets. Equal Housing Opportunity loa2H6LY3\"', 1), (' and Frigidaire microwave.  Beautiful black granite counters have been installed in the kitchen and bathroom.  LED lighting has been installed throughout with new ceiling fans installed in the living room and bedroom.  ELFA closets have been installed in both the bedroom and entry to maximize storage.  The bathroom features a new tub', 1), ('45.5303', 1), (' 1 car detached garage', 1), (' and bark park - you and your four legged friends will feel right at home at Ashland Apartment Homes!  -Smoke-Free Living -On City Bus Line -24-Hr Emergency Maintenance -Spacious Floor Plans -Bark Park -Pet Friendly -Convenient Online Rent Payment -Intercom Entrances  Call:  show contact info     Find more info at https://www.iretapartments.com/ashland-apartment-homes/craigslist   Price and availability subject to change.\"', 1), (' One and two bedroom apartment homes', 1), (' spacious and well-designed floor plans that are sure to complement your everyday lifestyle!   All of our two bedrooms are 890 sq. ft and have a large living area', 1), (' front sitting porch', 1), (' and bark park - you and your four legged friends will feel right at home at Ashland Apartment Homes!  -On City Bus Line -Pet Friendly -Intercom Entrances -Bark Park -24-Hr Emergency Maintenance -Convenient Online Rent Payment -Smoke-Free Living -Spacious Floor Plans  Call:  show contact info     Find more info at http://www.iretapartments.com/property/north-dakota/grand-forks-east-grand-forks/ashland-apartment-homes/   Price and availability subject to change.\"', 1), ('40.043', 1), (' small bedroom/office', 1), (' Faux Granite Countertops', 1), (' the Railroaders Museum', 1), (' standard background and credit check required for all applicants over the age of 18.Office Hours Monday-Friday:9:00AM-6:00PM Saturday:10:00AM-5:00PM Sunday:1:00PM-5:00PM Equal Housing Opportunity DfS4L2irT80R\"', 1), (' WEEKENDS AND HOLIDAYS.  WINTER HAS COME A BIT EARLIER THIS YEAR.  NO WORRIES HERE.  WE HAVE A SNOW PLOW', 1), ('45.4318', 1), (' OR 97030        Details           Beds/Baths: 1BD/1.0BA       Square Feet: 900        Rental Terms         Rent: $1', 1), (' washer dryer and walk in closet.    The Club at Tanasbourne', 1), (' and bark park - you and your four legged friends will feel right at home at Ashland Apartment Homes!Bedrooms: 3Bathrooms: 2Rent: 1200Amenities Include:On City Bus LinePet FriendlyBark ParkSpacious Floor PlansConvenient Online Rent PaymentSmoke-Free Living24-Hr Emergency MaintenanceIntercom EntrancesCall:  show contact info Find more info at https://www.iretapartments.com/ashland-apartment-homes/craigslistOffice Hours: Mon-Fri 8am-6pm | Sat 8am-1pm | Sun Closed Price and availability subject to change.\"', 1), ('195.00       Available: Now     Application Fee: $50.00     Security Deposit: $1', 1), (' dishwasher and built-in microwave.  You can easily do your laundry right in your home', 1), (' not included (or can be for small additional fee) (all cement walls/floor) Rear covered porch and fenced in rear grass yard Nice', 1), ('with gray walls', 1), ('995 per month!!  Property Move In Requirements: 1. Monthly Income of at least $4', 1), (' 87109Equal Housing Opportunity HMZ5Rm31atpE\"', 1), (' french doors', 1), (' too!Looking for a new home for you and your pet? We are one of the few pet friendly communities in the area and enthusiastically welcome you and your pet (Some restrictions apply). Photos on this ad may not reflect all floorplans.Advertised pricing and availability are subject to change without notice and cannot be guaranteed. Equal Housing Opportunity Photos on this ad may not reflect all floorplans.Advertised pricing and availability are subject to change without notice and cannot be guaranteed. BdJot07r7r\"', 1), (' The Ray is $1', 1), ('-83.0556', 1), (\"000 sf clubhouse overlooking Smith's Pond  - Gated access evenings and weekends  - Three-quarter glass front doors  - Hardi Siding  - Architectural Shingles  - Lounge/Clubroom area  - Community grills adjacent to pool cabana  - Pella windows  - Conference Room for Residents' use  - Community Pool with sunshelf and deck  - Screened in porch with fireplace  - Rear deck overlooking lake provides outdoor space for clubhouse events and fitness classes  - 2\", 1), (' Hot water', 1), (' Large Dogs (> 25lb) Pet notes: Pets - allowed Cats - allowed Dogs - allowed Comments: Hawthorne at Murrayville is a pet-friendly community; we love our furry friends! There is a one-time', 1), ('-75.0244', 1), ('33.6212', 1), (' and restaurants.  A small', 1), (' and bark park - you and your four legged friends will feel right at home at Ashland Apartment Homes!  -Smoke-Free Living -Spacious Floor Plans -Pet Friendly -Intercom Entrances -24-Hr Emergency Maintenance -On City Bus Line -Convenient Online Rent Payment -Bark Park  Call:  show contact info     Find more info at http://www.iretapartments.com/property/north-dakota/grand-forks-east-grand-forks/ashland-apartment-homes/   Price and availability subject to change.\"', 1), (' Subway Tile backsplash and tub surround', 1), (' just minutes away from downtown Espanola', 1), ('42.871', 1), (' too!Looking for a new home for you and your pet? We are one of the few pet friendly communities in the area and enthusiastically welcome you and your pet (Some restrictions apply). Photos on this ad may not reflect all floorplans.Advertised pricing and availability are subject to change without notice and cannot be guaranteed. Equal Housing Opportunity Photos on this ad may not reflect all floorplans.Advertised pricing and availability are subject to change without notice and cannot be guaranteed. joeKdh0f\"', 1), (' Soaking Tub or Stand-Up Shower with Custom Tile Surround*  - Washer & Dryers  - Ceiling Fans in Living and Bedrooms  - Gourmet Kitchen: Granite Countertops', 1), (' Gourmet Kitchen: Granite Countertops', 1), ('200.00       Available: 02/14/2020     Application Fee: $55.00     Security Deposit: $1', 1), (' and contact the property manager today to ask for more details! We feature bright and well designed kitchens', 1), (' and bark park - you and your four legged friends will feel right at home at Ashland Apartment Homes!Bedrooms: 3Bathrooms: 2Rent: 1190Amenities Include:Pet Friendly24-Hr Emergency MaintenanceIntercom EntrancesSpacious Floor PlansConvenient Online Rent PaymentOn City Bus LineSmoke-Free LivingBark ParkCall:  show contact info Find more info at https://www.iretapartments.com/ashland-apartment-homes/craigslistOffice Hours: Mon-Fri 8am-6pm | Sat 8am-1pm | Sun Closed Price and availability subject to change.\"', 1), (' AND FRIDGE.   ALONG WITH EVERY UTENSIL THAT WOULD BE NEEDED', 1), (' Energy efficient', 1), (' no pets', 1), (' gated parking', 1), (' North Dakota!\"\" Call Now:  show contact info Use this link for more information:http://cl.greystar.com/v3e264 This is a 1 Bedroom + 1 Den', 1), (' and a Blu-ray player that also is connected to the Internet for Netflix and the like.  Fir wood floors', 1), (' or patios. Close to Chemeketa Community College', 1), (' OR and is managed by Princeton Property Management', 1), ('42.9107', 1), (' 74137Equal Housing Opportunity zhq3XbZ0tVRW\"', 1), (' Complimentary Bike Storage', 1), ('-85.3146', 1), (' refrigerator and central A/C (in selective units).  Head to: www1101dumont.com       Nearby Amenities:  â\\x9e\\x9d Boulevard Mall   http://boulevardmall.com/    â\\x9e\\x9d Vons Shopping Center   https://local.vons.com/nv/las-vegas/1155-e-twain-ave.html  *Featuring restaurants', 1), (' one', 1), (' too!Looking for a new home for you and your pet? We are one of the few pet friendly communities in the area and enthusiastically welcome you and your pet (Some restrictions apply). Photos on this ad may not reflect all floorplans.Advertised pricing and availability are subject to change without notice and cannot be guaranteed. Equal Housing Opportunity Photos on this ad may not reflect all floorplans.Advertised pricing and availability are subject to change without notice and cannot be guaranteed. 2vlWS7d0KR3p\"', 1), (' Oxford Oaks', 1), (' and bark park - you and your four legged friends will feel right at home at Ashland Apartment Homes!  -Convenient Online Rent Payment -Smoke-Free Living -Spacious Floor Plans -Bark Park -Intercom Entrances -Pet Friendly -On City Bus Line -24-Hr Emergency Maintenance  Call:  show contact info     Find more info at http://www.iretapartments.com/property/north-dakota/grand-forks-east-grand-forks/ashland-apartment-homes/   Price and availability subject to change.\"', 1), (' and various parks and green spaces. Call us today to schedule a tour of your new home!   Apartment Features * Linen Closet * Vertical Blinds * Electric Stove * Pre-wired for internet and cable * Disposal * Pantry * Refrigerator * Washer and Dryer in apartment home * Wood-Like Floors  Application Fee: Waived', 1), (' Undermount Dual Sink', 1), (' the metropolitan doylestown has what you have been looking for. Call today to set an appointment to see your new apartment home. metropolitan doylestown. Apartment homes for living.    Starting at $1420 Call:  show contact info  For more information', 1), (' a hair dryer', 1), (' Deposit $250.00Comments: We love our furry friends - cats and dogs welcome!Restrictions: Some breed restrictions apply.Federal law prohibits housing discrimination on the basis of race', 1), (\" please include your phone number AND email address in your response so that we know you're an actual person. We will automatically delete inquiries that don't have complete contact info included. Thanks for your patience.   Offered by: Croman and Associates Realty/Property Mgmt. 116 Highway 101 South MAIL TO: PO Box 418 Rockaway Beach\", 1), (' polaris mall', 1), (' standard background and credit check required for all applicants over the age of 18.Office Hours Monday-Friday:9:00AM-6:00PM Saturday:10:00AM-5:00PM Sunday:1:00PM-5:00PM Equal Housing Opportunity fuHwd293\"', 1), (' $650 for two pets. $10 Pet Rent per pet each month. Maximum of two pets. Equal Housing Opportunity 9BbUDOIcs\"', 1), (' standard background and credit check required for all applicants over the age of 18.Office Hours Monday-Friday:9:00AM-6:00PM Saturday:10:00AM-5:00PM Sunday:1:00PM-5:00PM Equal Housing Opportunity C8JUU76uO\"', 1), (\" outdoor basketball courts and sand volleyball. Take a dip in our pool that's open seasonally! Conveniently located in the Highlands of NW Lincoln were mins from grocery stores\", 1), (' clean and affordable. There is ample parking', 1), (' y un baÃ±o nuevo con ducha de lujo. Patio trasero privado significa que siempre tienes espacio para barbacoas', 1), (' and bark park - you and your four legged friends will feel right at home at Ashland Apartment Homes!Bedrooms: 3Bathrooms: 2Rent: 1195Amenities Include:Intercom Entrances24-Hr Emergency MaintenanceSpacious Floor PlansPet FriendlySmoke-Free LivingOn City Bus LineConvenient Online Rent PaymentBark ParkCall:  show contact info Find more info at https://www.iretapartments.com/ashland-apartment-homes/craigslistOffice Hours: Mon-Fri 8am-6pm | Sat 8am-1pm | Sun Closed Price and availability subject to change.\"', 1), (' flooring and cabinets. The bedroom has a large walk-thru closet into the bathroom. The living room has a pass-thru bar between the kitchen and open concept dining/living room area. The wood-burning fireplace and patio with storage', 1), ('45.424', 1), (' and a patio w/small storage room. Fabulous kitchen with lots of cabinets', 1), (' call us today at  show contact info  or click on the REPLY box above for our email contact info.    *Photos represent similar units. Units may vary.           AS  Bedford', 1), ('44.5932', 1), (' and bark park - you and your four legged friends will feel right at home at Ashland Apartment Homes!  -Spacious Floor Plans -Smoke-Free Living -Convenient Online Rent Payment -Pet Friendly -Bark Park -24-Hr Emergency Maintenance -On City Bus Line -Intercom Entrances  Call:  show contact info     Find more info at https://www.iretapartments.com/ashland-apartment-homes/craigslist   Price and availability subject to change.\"', 1), (' standard background and credit check required for all applicants over the age of 18.Office Hours Monday-Friday:9:00AM-6:00PM Saturday:10:00AM-5:00PM Sunday:1:00PM-5:00PM Equal Housing Opportunity kUW1ZH2S\"', 1), (' window seat with storage drawers and flanked on each side by china cabinets. The updated eat-in kitchen has a ceiling fan', 1), (' and bark park - you and your four legged friends will feel right at home at Ashland Apartment Homes!  -Bark Park -24-Hr Emergency Maintenance -Smoke-Free Living -Spacious Floor Plans -Convenient Online Rent Payment -Pet Friendly -On City Bus Line -Intercom Entrances  Call:  show contact info     Find more info at http://www.iretapartments.com/property/north-dakota/grand-forks-east-grand-forks/ashland-apartment-homes/   Price and availability subject to change.\"', 1), ('-83.0166', 1), ('-83.9542', 1), (' as well as top rated appliances and beautifully detailed accents and trimmings.   Come and live a palace lifestyle convenient to the world! Call Us Today  show contact info  \"\"\"', 1), ('food at the door 24 hr/day. 2 nd floor  ', 1), ('46.7842', 1), (' ABP Tulsa Apartment', 1), (' lots of closet space. PLUS private patio surrounded by lush trees with a park/patio view. Reserved covered parking space included!  Amenities: Community center with morning coffee service', 1), (' picnic area with grill', 1), (' the metropolitan doylestown has what you have been looking for. Call today to set an appointment to see your new apartment home. metropolitan doylestown. Apartment homes for living.     Starting at $1420 Call:  show contact info  For more information', 1), (' and bark park - you and your four legged friends will feel right at home at Ashland Apartment Homes!  -Convenient Online Rent Payment -Pet Friendly -On City Bus Line -Intercom Entrances -Spacious Floor Plans -Smoke-Free Living -Bark Park -24-Hr Emergency Maintenance  Call:  show contact info     Find more info at https://www.iretapartments.com/ashland-apartment-homes/craigslist   Price and availability subject to change.\"', 1), ('42.0404', 1), ('425/month   Available: NOW!   Application Fee: $35/adult (online application available)   Security Deposit: $500 On Approved Credit\"', 1), (' whirlpool', 1), (' and bark park - you and your four legged friends will feel right at home at Ashland Apartment Homes!Bedrooms: 1Bathrooms: 1Rent: 805Amenities Include:Intercom EntrancesSmoke-Free LivingOn City Bus LineSpacious Floor PlansBark Park24-Hr Emergency MaintenanceConvenient Online Rent PaymentPet FriendlyCall:  show contact info Find more info at http://www.iretapartments.com/property/north-dakota/grand-forks-east-grand-forks/ashland-apartment-homes/Office Hours: Mon-Fri 8am-6pm | Sat 8am-1pm | Sun Closed Price and availability subject to change.\"', 1), ('-75.0895', 1), (\" A PLOW AND SALT SPREADERS MOUNTED ON OUR 4X4 MAINTENANCE VEHICLES.  OUR UNITS HAVE NICE PATIOS AND DECKS SO YOU CAN ENJOY OUR BEAUTIFUL WOODED PROPERTY WHEN THE SPRING RETURNS.  WE HAVE 100% OFF-STREET PARKING TO KEEP YOUR VEHICLES NICE AND CLEAN.  WE ALSO OFFER COVERED PARKING IF YOU NEED FOR A SMALL MONTHLY FEE.  FULL SIZED APPLIANCES AND PLENTY OF CUPBOARD AND COUNTER SPACE IN YOUR KITCHEN.  WE'LL NOT HAVE THOSE TINY LITTLE EFFICIENCY STYLE APPLIANCES.  COOK A TURKEY OR A HAM AND ALL THE FIXINS' OVER THE HOLIDAYS THIS YEAR.  COME CHECK THIS OUT RIGHT AWAY. AS MENTIONED  WE SELL OUT OF TWO BEDROOM HOMES EVERY WINTER\", 1), (' Lenoir City', 1), (' Upgraded lighting package*', 1), (' since we meticulously care for the outside grounds.  Enjoy having your very own full sized washer and dryer in your apartment. No need to find a laundromat.  Each building has its own parking lot just steps away from your home. And with only a few units in each building', 1), (' and more. Our community also allows pets. Be sure to view our pet policy to learn more about our requirements and guidelines for your four-legged friends. Apply online now to begin making Riviera at Seaside your new home. www.RivierAtSeaside.com  Call Now:  show contact info Use the link below for more details:http://cl.greystar.com/u5iyL4 This is a 2 Bedroom', 1), ('-78.7551', 1), (' range', 1), ('-122.793', 1), (' please call for your private viewing now.  **Photos represent similar units. Units may vary. AS1           Bedford', 1), (' and bark park - you and your four legged friends will feel right at home at Ashland Apartment Homes!  -Intercom Entrances -On City Bus Line -24-Hr Emergency Maintenance -Spacious Floor Plans -Convenient Online Rent Payment -Pet Friendly -Smoke-Free Living -Bark Park  Call:  show contact info     Find more info at http://www.iretapartments.com/property/north-dakota/grand-forks-east-grand-forks/ashland-apartment-homes/   Price and availability subject to change.\"', 1), (' Bedroom One 13\\'6\"\"x11\\'6\"\"', 1), (' please call for your private viewing now.  **Photos represent similar units. Units may vary.            AP  Bedford', 1), (' per pet.   All applicants must view our homes to satisfy themselves as to the condition', 1), ('40.1756', 1), (' and applications.   \\t\\t\\t\\t  In 45224 zip code and near 45231', 1), (' tree-lined streets', 1), (' the unit (s) is available.  tags: Lockport', 1), ('45.3023', 1), (' electric heat', 1), (' and full width/height mirrors Â· Huge closet space with customizable storage   Â· Room To Socialize Â· Exclusive access to Sora Pool Club  Â· Infinity edge pools', 1), (' and bark park - you and your four legged friends will feel right at home at Ashland Apartment Homes!Bedrooms: 3Bathrooms: 2Rent: 1185Amenities Include:Intercom EntrancesOn City Bus LineConvenient Online Rent PaymentSpacious Floor PlansSmoke-Free LivingBark Park24-Hr Emergency MaintenancePet FriendlyCall:  show contact info Find more info at http://www.iretapartments.com/property/north-dakota/grand-forks-east-grand-forks/ashland-apartment-homes/Office Hours: Mon-Fri 8am-6pm | Sat 8am-1pm | Sun Closed Price and availability subject to change.\"', 1), (' building is super clean', 1), (' BBQ Area', 1), ('000.00       Available: 01/07/2020     Application Fee: $60.00     Security Deposit: $950.00        Pet Policy           Cats allowed       Small dogs allowed\"', 1), (' standard background and credit check required for all applicants over the age of 18.Office Hours Monday-Friday:9:00AM-6:00PM Saturday:10:00AM-5:00PM Sunday:1:00PM-5:00PM Equal Housing Opportunity 6wjCsXGyU\"', 1), (' and bark park - you and your four legged friends will feel right at home at Ashland Apartment Homes!  -Smoke-Free Living -Bark Park -Intercom Entrances -Convenient Online Rent Payment -Pet Friendly -Spacious Floor Plans -24-Hr Emergency Maintenance -On City Bus Line  Call:  show contact info     Find more info at https://www.iretapartments.com/ashland-apartment-homes/craigslist   Price and availability subject to change.\"', 1), (' 2 hot tubs - world-class sun deck and stylish cabanas - huge grilling and dining area - fire pits and lounge areas throughout - state-of-the-art fitness center with free weights', 1), ('-82.9489', 1), ('-83.0239', 1), (' a reputable property management company with verified listings. Apartments at Oak Park Village are equipped with Heat Individual - Electric', 1), (' the apartment is at walking distance to the lake', 1), ('-83.0136', 1), ('-123.089', 1), (' modern fixtures', 1), (' standard background and credit check required for all applicants over the age of 18.Office Hours Monday-Friday:9:00AM-6:00PM Saturday:10:00AM-5:00PM Sunday:1:00PM-5:00PM Equal Housing Opportunity N83YAtjbGwDA\"', 1), (' music night', 1), (' fireplace and dining areas!   Hanover North Broad brings all of your needs footsteps away from your apartment door. Monthly rent amount varies based on move-in date and lease term', 1), (' safe neighborhood.  Charm of an old house with new/modern updates.  NON-SMOKING PROPERTY (INSIDE & OUTSIDE)  Separate \"\"townhouse\"\"-style (downstairs and upstairs) unit of charming New Englander-style house (converted into two additional apartments) built in 1900. Only three units total.   Bedroom: On second floor', 1), (' please call for your private viewing now.  **Photos represent similar units. Units may vary. AP                   Bedford', 1), (' and the Fair/Expo   This spacious apartment has a large walk-in closet. This apartment is 986 square feet.  Managers Special-- Reduced Security Deposit for a Limited Time -$500 (Approved as is) or $750 (approved  with additional Deposit).    Apartment Features              Dishwasher           Refrigerator           Private Patio or Deck           Pre-wired for internet and cable           Electric Stove           Washer and Dryer hook-ups            Community Features              Easy Access to Public Transportation           Smoke Free Community           Fitness Studio           Easy Freeway Access           Laundry Care Center           Professionally Managed           Covered Parking           Community Lounge            3835 Knox Butte Rd. E.Albany', 1), (' standard background and credit check required for all applicants over the age of 18.  Equal Housing Opportunity    ajQ4vGFV\"', 1), (' Full Size Washer & Dryer Included', 1), (' 78045Equal Housing Opportunity Q73LsK8zj\"', 1), (' resident billiards', 1), (' Valet Trash and Recycling', 1), (\" have a business meeting and receive your package deliveries.  #LIVHERE And wait until you see the Sports Lovers' Lounge with the Big Screens\", 1), (' grocery', 1), (' some breed restrictions apply. Additional fee for pets.  Security Deposit and fee is $500.00/$100.00. Credit', 1), ('38.0681', 1), (' Sandwiches', 1), (' move in date and availability. Additional fees may apply. This apartment requires a $250 deposit.    [#6986995]\"', 1), (' and feel free to email us', 1), (' or to answer any questions you may have.  Not what you are looking for? Please visit our website to view our other available apartments.     Montpelier', 1), (' or roommate if desired. We are an affordable housing community.  Our community features:    .. Emergency Maintenance.. Garage(s).. Access Gate.. Spa.. Clubhouse.. Business Center.. Grill.. Swimming Pool.. Picnic Area.. Gameroom.. Indoor / Outdoor Dining Area.. Arts and Crafts Activity Room.. Convenience Store.. Executive Game and Billiards Room.. State-of-the-Art Fitness Facility.. Computer Room with Free Internet Access.. Picnic Patio and Bar-B-Que Areas.. Big Screen Television with Surround Sound  Our unit features:    .. Spacious Rooms.. Crown Molding.. Frost-Free Refrigerator with Icemaker.. Ceiling Fans.. Tile Entry.. Oval Garden Tub.. Energy-Efficient All-Electric Kitchen.. Walk-In Closets.. Full-Size Washer and Dryer Connections   Call us for more information!  --  show contact info  --Professionally managed by Westlake Housing', 1), (' Three and Four Bedroom Suites   Community Amenities - Pulse: Fitness Studio  - Controlled-access covered parking  - Outdoor kitchen at pool plaza  - Two electric car charge stations in the parking garage  - Edge: Infinity Pool  - Connect: Clubroom With HD TVs And Gaming Center  - Pet friendly  - Smart: Study Lounge  - Across from Greek Village  - Performance stage  - Commanding view of campus  - Garage parking on apartment\\'s level  - Directly Across from Campus    Office Hours Monday-Friday:10:00AM-6:00PM Saturday:12:00PM-5:00PM Sunday:1:00PM-5:00PM    Equal Housing Opportunity    AEWGf4fAw49\"', 1), (\" Norfolk's cultural center  - Expansive resident clubhouse facilities  - Outdoor grilling areas  - Open floor plans designed by award-winning architects  - Private courtyards  - Live Video Tour! Call today to schedule a live property tour.  - Limited access building  - Pet-friendly courtyards  - Walkable location with central plaza for community events  - Social and networking events  - Bike storage  - Flexible lease terms available  - Massage therapy room  - Fitness center  - Interior climate control corridors  - Online Payments Available  - Billiards  - Landscaped resident courtyard  - Controlled access building  - Privately owned parking garage with reserved spaces  - Seeking GBI Green Globes building certification  - Media center and business hub with Wifi  - Elevator access to every floor  - Swimming pool with poolside WiFi  - Clubhouse with lounge and WiFi Pet Policy We welcome you and your best friend\", 1), (' or roommate if desired. We are an affordable housing community.  Our community features:    ** Clubhouse** Sport Court** Planned Social Activities** Garage(s)** Spa** Picnic Area** Business Center** Gameroom** Fitness Center** Swimming Pool** On-Site Church Services** Free Refreshment Bar** Big Screen Television with Surround Sound** Indoor / Outdoor Dining Area** Convenience Store** Picnic Patio and Bar-B-Que Areas** Hair Salon** Arts and Crafts Activity Room  Our unit features:    ** Energy-Efficient All-Electric Kitchen** Frost-Free Refrigerator with Icemaker** Spacious Rooms** Full-Size Washer and Dryer Connections** Oval Garden Tub** Tile Entry** Walk-In Closets** Ceiling Fans** Crown Molding   Call us for more information!  --  show contact info  --Professionally managed by Westlake Housing', 1), ('36.8638', 1), ('650 monthly', 1), (\" you'll be greeted to newer construction (Built in 2016!)\", 1), (' 78045Equal Housing Opportunity piMvV8I8QT\"', 1), (' 9-Month', 1), (' move in date and availability. Additional fees may apply. This apartment requires a $250 deposit.  VIEW OUR WEBSITE:  http://www.theorchardsapts.com    Community Features * Tennis Court * We are a social community! Find our Yelp', 1), (' Convenient to Evergreen Memorial Park', 1), (' and furniture in your apartment.          Student Housing Tucson', 1), (' move in date and availability. Additional fees may apply. This apartment requires a $250 deposit.  VIEW OUR WEBSITE:  http://www.theorchardsapts.com  Apartment Features * Furnished Options Available', 1), (' glasses', 1), (' Deposit $300.00 Restrictions: The following dogs will not be accepted: Pitbull Terriers', 1), ('095/mo KEY FEATURES  Sq Footage:  1350 sqft. Bedrooms:  3 Beds Bathrooms:  2 Baths Parking:  3 Lease Duration:  1 Year (See Details Below) Deposit:  $1', 1), (' Townhomes and Penthouses  - Walk-in Showers*  - Double Wall Ovens and French Door Refrigerators* *In select apartment homes Community Amenities - Resident Lounge with Computers', 1), (' and furniture in your apartment. do NOT contact me with unsolicited services or offers\"', 1), (' pricing can change daily  *Check out the rest of my adds under â\\x80\\x9c Nu Edge Realty â\\x80\\x9c  100% Free Service with a Licensed Agent with Nu Edge Realty. Serving All Austin Area\\'s: Austin | SoLa | South Congress | Lady Bird Lake | Downtown | Travis Heights | Central | Condo | Lamar | Clarksville | Loft | Domain | 78704 | South Central | 78703 | 78701 | SoCo | 78745 | Arboretum | Far West | West | Southwest | East | South | Northwest | Round Rock | Zilker | Wood Floors | Specials Discounts available!\"', 1), ('-80.0692', 1), (' WiFi-Enabled', 1), ('37.0623', 1), ('42.8736', 1), (\" and indoor malls featuring some of the best brand-name stores. Kick back and relax with a day at the spa or a night out on the town.The award-winning Madison Children's Museum and the historic Cave of the Mounds are just the tip of the iceberg when considering great attractions in Madison. Make the New The Villages Apartments your new home.  We're sure to have just what you're looking for. We are located across the street from shopping and on the bus line. Year-round\", 1), (' permitted parking', 1), (' gutters', 1), (' Olympic-Size Pool With Swimming Lane - Forthcoming Amenity', 1), (' private', 1), (' home is both the destination and the journey; however you choose to get there. Welcome to the neighborhood. Welcome to Riverside Village. Features and Amenities: -- Smoke-Free-- Pet Friendly-- On-Site Retail-- New Construction-- Sprinkler System-- Walking/Biking Trails-- Heating-- Range-- Island Kitchen-- Stainless Steel Appliances-- Freezer-- Bright Glass Facades-- Brand New Buildings with Modernized Systems Throughout-- Multiple Nearby Housing Developments as well as Pantops-- Excellent Access & Exposure-- Shopping CentersPet Policy: Cat(s);Dog(s);Cats and Dogs Allowed: $300 Deposit. $25 Monthly Pet Rent. 1 Pet Limit.  Leasing Options - 6-Month', 1), (' move in date and availability. Additional fees may apply. This apartment requires a $250 deposit.  VIEW OUR WEBSITE:  http://www.theorchardsapts.com  Monday 9:00am - 6:00pm Tuesday 9:00am - 6:00pm Wednesday 9:00am - 6:00pm Thursday 9:00am - 6:00pm Friday 9:00am - 6:00pm Saturday 10:00am - 5:00pm Sunday By Appointment Only    [#6912243]\"', 1), (' move in date and availability. Additional fees may apply. This apartment requires a $250 deposit.  VIEW OUR WEBSITE:  http://www.theorchardsapts.com    [#6970113]\"', 1), ('-149.511', 1), (' Peoria', 1), ('29.5448', 1), (' Garbage', 1), (' self cleaning Electric Range', 1), (' stainless steel appliances', 1), (' with cutting-edge design', 1), ('-94.1746', 1), (' from the natural beauty at the Arboretum to the free Henry Vilas Zoo. Make the New The Villages Apartments your new home.  We are located across the street from shopping and on the bus line. The award-winning Madison Children\\'s Museum and the historic Cave of the Mounds are just the tip of the iceberg when considering great attractions in Madison.  The city forms the core of the United States Census Bureau\\'s Madison Metropolitan Statistical Area. Kick back and relax with a day at the spa or a night out on the town. We\\'re sure to have just what you\\'re looking for.A small $50 unit deposit is required when you submit an application. It is refunded if you are denied or do not take the apartment.Our AmenitiesLaundry StationsAir ConditioningEntry Area with Spot for Shoes and Hooks for Coats24 Hour Emergency MaintenanceExtra StorageOn Bus LineNEW Friendly On-site Management & New OwnershipFitness CenterWalk to Shopping & DiningCarpeting in BedroomsComfortable Living in a Friendly AtmosphereUnderground Parking is AvailableRecycle Center\"', 1), (' or screened in porch  Community Amenities: Poolside cabana nest', 1), (' 7 from Bolton Valley and 200 yards from the Long Trail or the Winooski River  Get off Richmond exit and head south for about 3 miles', 1), (' Playground Tot Lot', 1), (' 78756Equal Housing Opportunity NiI2CNeRQzV\"', 1), ('-147.716', 1), (' move in date and availability. Additional fees may apply. This apartment requires a $250 deposit.    [#6964327]\"', 1), ('-149.569', 1), (' with both income eligible and market-rate options available.  We are pleased that you are considering the Harbor at State and Main for your new home and we\\'d like the opportunity to have you as our resident.  We have several apartment homes reserved at reduced rents should your household income fall within area guidelines. Call today for details on this great money saving opportunity. This is made possible due to our participation in Wisconsin\\'s affordable housing program.     FLOORPLAN/UNIT FEATURES  ________________________________________  Open floor plans  Pet friendly  Built-in Dishwasher/Garbage Disposal   Huge Master Bedroom   Private Storage Lockers    OFFICEâ\\x80\\x82 â\\x80\\x82HOURS  ________________________________________  Monday Closed  Tuesday 12:00pm to 5:00pm â\\x80\\x82 â\\x80\\x82   Wednesday 12:00pm to 5:00pm â\\x80\\x82 â\\x80\\x82   Thursday 12:00pm to 5:00pm â\\x80\\x82 â\\x80\\x82   Friday 12:00pm to 5:00pm  â\\x80\\x82 â\\x80\\x82\"', 1), (' courteous management * exceptional maintenance accessible after hours for emergencies * courtesy officer * onsite laundry facilities * gorgeous', 1), (' and Much More * After-Hours Emergency Maintenance * Sun Deck * Professionally Managed * Laundry Care Center * Outdoor Grill Area  Office:  show contact info  *SeaGlass Village* | Managed by New Standard Equities  1619 Wheaton Way | Bremerton', 1), (' 78045Equal Housing Opportunity O1DCwvCZ\"', 1), (' Linen Closets and Kitchen Pantries  Call  show contact info  www.WindrushLiving.com  *Pricing and availability subject to change.\"', 1), (' so if you like privacy and a rural setting', 1), (' brand new bathroom', 1), (' VA 24506  show contact info   VIEW OUR WEBSITE:  http://Legacyatlindenpark.com  Monday 8:30am - 5:30pm Tuesday 8:30am - 5:30pm Wednesday 8:30am - 5:30pm Thursday 8:30am - 5:30pm Friday 8:30am - 5:30pm Saturday 10:00am - 4:00pm Sunday 1:00pm - 4:00pm    [#6920495]\"', 1), ('26.0771', 1), (' CA 93711  show contact info   OFFICE HOURS Mon-Wed 10AM-5PM Thursday 10AM-2PM Friday 10AM-2PM Saturday 10AM-2PM    VIEW OUR WEBSITE:  http://www.westwoodbluffs.com  Apartment Features * Pre-wired for internet and cable * Walk-in Closet * Private Patio or Private Balcony (on select apartments) * Ceiling Fan * Central Heat and Air * Gas Stove * Energy Star Appliances * Full sized Washer and Dryer in unit * Dishwasher * Linen Closet * Disposal * Refrigerator', 1), (' criminal and rental background checks are conducted on all applicants. Office Hours: Monday-Saturday:8:30AM-5:30PM  Call Now:  show contact info La Posada 6300 S Headley Road Tucson', 1), (' 78045Equal Housing Opportunity anEBhX9DXwAg\"', 1), (\" you'll be home in no time from work and then off to dining and shopping!  You are just minutes away from fabulous shopping\", 1), (' 3-Month', 1), (' including a side-by-side refrigerator with a water and ice dispenser', 1), ('  Starbucks', 1), (' 85020Equal Housing Opportunity 4JR2t4ol4\"', 1), ('29.8931', 1), (' VA 24506  show contact info   Monday 8:30am - 5:30pm Tuesday 8:30am - 5:30pm Wednesday 8:30am - 5:30pm Thursday 8:30am - 5:30pm Friday 8:30am - 5:30pm Saturday 10:00am - 4:00pm Sunday 1:00pm - 4:00pm  Apartment Features * Washer and Dryer hook-ups * Ceiling Fan * Dishwasher * Garden Tub * Microwave * Alarm Activation Available    Community Features * Bark Park * Garage Parking * Swimming Pool * DVD Rentals * Extra Storage * Movie Theatre * After-Hours Emergency Maintenance * Car Wash Area * Professionally Managed * Sand Volleyball Court * Outdoor Grill Area * Fitness Studio  [#6991639]\"', 1), ('-72.649', 1), ('-111.695', 1), (' and previous rental references. You pay $35 for each credit check ( required for each adult person(s) over 18. Exception: We will accept a current recent Credit /Background Check Report.   Leases under 6 -Months are at a $100 per month premium', 1), (' many bars and restaurants', 1), (' a dog pen and a covered 10 x 20 patio area with picnic table. Just bring your clothes and personal items. Lease is either short (minimum of one month) or longer.  It is over 1400 square feet with 1/2 the space (15 x 40) a parking/storage/laundry area; the rest is living.  The electric is the responsibility of the tenant.   Property deposit is $500 and an application is required ($25 non-refundable fee.) Pet fee is $100 per pet and non-refundable.   The lease is month to month which makes it perfect for a person in transition or in Waco on business; due to septic limitations', 1), (' and security\"', 1), (' 12 month lease.   $850 security deposit.  Credit/background check required - $30 per adult cost payable by money order', 1), ('37.659', 1), (' and halls.  This home looks brand new and is on one of the best lots in Harlan Ranch.  Its also very energy efficient', 1), ('-119.796', 1), (' 78045Equal Housing Opportunity qCk0kVSJvz\"', 1), (' and dishwasher.  New paint', 1), (' pricing can change daily  *Check out the rest of my adds under â\\x80\\x9cnu edge realty â\\x80\\x9d  100% Free Service with a Licensed Agent with Nu Edge Realty. Serving All Austin Area\\'s: Austin | SoLa | South Congress | Lady Bird Lake | Downtown | Travis Heights | Central | Condo | Lamar | Clarksville | Loft | Domain | 78704 | South Central | 78703 | 78701 | SoCo | 78745 | Arboretum | Far West | West | Southwest | East | South | Northwest | Round Rock | Zilker | Wood Floors | Specials Discounts available!\"', 1), (' breakfast bar', 1), (' Lawn and Pest Control Paid. Ceiling Fans.Call or Text Budah with On-Line Real Estate on his cell at  show contact info . Check out our website at http://www.bcsonlinerealestate.com to view our expanding inventory and availabilities.RENTAL FEATURESLiving roomDining roomWalk-in closetRange / OvenRefrigeratorDishwasherYardHeat: forced airCentral A/CCeiling fansCable-readyLEASE TERMS$650.00 / month for a one year lease$650.00 deposit$400.00 pet deposit per pet w/ $200.00 non-refunableAll information in this presentation is from sources deemed reliable by our firm', 1), (' 78045Equal Housing Opportunity hzANa6oJYJ0A\"', 1), (' Ceiling fans  Cherry cabinets with stainless steel/black appliances  Heat pumps  Beautiful fireplace mantels', 1), (\" tall tub dishwasher and front-end control electric range Opulent track lighting in the kitchen and dining areas Generous pantries with wood shelving* Expansive 10' ceilings* Vaulted ceilings* Authentic hand-scraped hardwood floors 2'' stylized wood blinds Spacious studies with glass doors* Integrated desk\", 1), (' 4.5% Fixed / 5.607% APR', 1), (' set up home services and digital moving announcements Income Requirements: CURRENT INCOME LIMITS:1 PERSON - $31', 1), (' 93277$975 per monthAvailable now3 beds', 1), ('-149.917', 1), (' Flat/Single Level  Interior Features Open Style Floor Plans Air Conditioning Stylish Chrome Faucets & Stainless Sinks European Style Soft Close Cabinets Dishwasher Microwave Oven Pendant Lighting Floor to Ceiling Windows Quartz Counters and Custom Tile Backsplash Full Size', 1), ('37.6585', 1), (' 78756Equal Housing Opportunity jzMr3zbOu9f\"', 1), (' carefree living for seniors.    Here are some of the features that make White Oaks a place to call home! *Professional and friendly on-site manager *Controlled access entry with private intercom  *Mailboxes located within the building  *Elevator access to all floors  *Urgency call system  *Heated underground parking  *Community room with fireplace', 1), (' two dining areas Sport court with 1/2 basket ball', 1), (' move in date and availability. Additional fees may apply. This apartment requires a $250 deposit.    [#6949661]\"', 1), (' your new home awaits you!! Artesa boasts a suburban charm only Mequon could offer. Brunch at nearby local favorites', 1), (' and indoor malls featuring some of the best brand-name stores. Chicly remodeled one and two bedroom floor plans available. We\\'re sure to have just what you\\'re looking for.A small $50 unit deposit is required when you submit an application. It is refunded if you are denied or do not take the apartment.\\tOur AmenitiesComfortable Living in a Friendly AtmosphereWi-Fi CafeCarpeting in BedroomsAir ConditioningPets Welcome. Some RestrictionsLimited Access EntryExtra StorageModern FurnishingsModern KitchensEntry Area with Spot for Shoes and Hooks for CoatsProfessionally ManagedWalk to Shopping & Dining\"', 1), ('-149.876', 1), (' Utah! With the most beautiful', 1), ('   1115 Gregory St', 1), ('000/mo KEY FEATURES  Sq Footage:  1121 sqft. Bedrooms:  3 Beds Bathrooms:  2 Baths Parking:  3 Lease Duration:  1 Year (See Details Below) Deposit:  $900 Pets Policy:  Cats & Dogs OK Laundry:  Washer and Dryer Connections Property Type:  Duplex  DESCRIPTION Lawn Care Provided.  Call or Text Budah with On-Line Real Estate on his cell at  show contact info . Check out our website at http://www.bcsonlinerealestate.com to view our expanding inventory and availabilities.  RENTAL FEATURESLiving roomDining roomWalk-in closetMaster bathRange / OvenRefrigeratorDishwasherMicrowaveGarbage disposalFenced yardHeat: forced airCentral A/CCeiling fansDouble pane / Storm windowsCable-ready  LEASE TERMS  $1', 1), ('-95.2866', 1), ('44.238', 1), (' move in date and availability. Additional fees may apply. This apartment requires a $250 deposit.  Monday 9:00am - 6:00pm Tuesday 9:00am - 6:00pm Wednesday 9:00am - 6:00pm Thursday 9:00am - 6:00pm Friday 9:00am - 6:00pm Saturday 10:00am - 5:00pm Sunday By Appointment Only    [#6892058]\"', 1), ('43.0339', 1), (' and Much More * After-Hours Emergency Maintenance * Sun Deck * Professionally Managed * Laundry Care Center * Outdoor Grill Area   *SeaGlass Village* | Managed by New Standard Equities  1619 Wheaton Way | Bremerton', 1), ('-149.542', 1), (' VA 24506  show contact info   Monday 8:30am - 5:30pm Tuesday 8:30am - 5:30pm Wednesday 8:30am - 5:30pm Thursday 8:30am - 5:30pm Friday 8:30am - 5:30pm Saturday 10:00am - 4:00pm Sunday 1:00pm - 4:00pm  Apartment Features * Garden Tub * Alarm Activation Available * Microwave * Washer and Dryer hook-ups * Ceiling Fan * Dishwasher    [#6989093]\"', 1), ('37.3429', 1), (' Phenomenally-sized Bedrooms', 1), (\" Norfolk's cultural center  - Swimming pool with poolside WiFi  - Pet-friendly courtyards  - Controlled access building  - Seeking GBI Green Globes building certification  - Expansive resident clubhouse facilities  - Massage therapy room  - Interior climate control corridors  - Elevator access to every floor Pet Policy We welcome you and your best friend\", 1), (' great Whitefish Bay schools', 1), (' WA 98052 www.thetrailsofredmond.com   Equal Housing Opportunity.  Pricing and availability subject to change.\"', 1), (' home is both the destination and the journey; however you choose to get there. Welcome to the neighborhood. Welcome to Riverside Village.  Our community features:    .. Pet Friendly.. On-Site Retail.. New Construction.. Smoke-Free.. Sprinkler System.. Walking/Biking Trails.. Multiple Nearby Housing Developments as well as Pantops.. Bright Glass Facades.. Excellent Access & Exposure.. Brand New Buildings with Modernized Systems Throughout.. Shopping Centers  Our unit features:    .. Oven.. Microwave.. Eat-in Kitchen.. Refrigerator.. Pantry.. Views.. Granite Countertops.. Tub/Shower.. Island Kitchen   Call us for more information!  --  show contact info  --Professionally managed by ThalhimerPrice is subject to change without prior notice  EQUAL HOUSING OPPORTUNITY\"', 1), ('-89.6413', 1), (' Master-planned Legacy Business Park Pet Policy Contact Leasing Agent Income Requirements: 3 times the rent.Office Hours Monday-Friday:8:30AM-5:30PMSaturday:10:00AM-5:00PMSunday:1:00PM-5:00PMEqual Housing Opportunity N8G6BtU0a7Cw\"', 1), (' or Background check will be required at this time. For further screening each applicant must pass a credit', 1), (' duck pond', 1), ('34.0763', 1), (' Trader Joes', 1), ('-120.805', 1), (' work and party down!This ideal location provides easy access to I-80 and McCarran. Come live at Shoreline Plaza! From first-class entertainment to the flash and fancy of casino hopping', 1), ('33.5183', 1), (' Neutral grey paint', 1), (' work and party down! Our caring committed management team will help you feel comfortable. From first-class entertainment to the flash and fancy of casino hopping', 1), (\" Humanistic and Spiritual topics; I also teach comedy and stunt. If you want to know more about me facebook me and or send me a friend request at www.facebook.com/intothemysticart Or type 2 words : intothe mystic (long bch) you ll see my pix with a golden shirt.  We Rent for the owners and with the owners approval. Don't get evicted by subleasing from a tenant that doesn't have the owners ok to sublease! Also when you Rent from us you can move through all our properties without having to do a new application or background check! one application per life!!We have rooms\", 1), (' 73 Freeway', 1), (' (1 year $2250. month)', 1), (' Custom Blinds', 1), (' Rancho Santa Margarita', 1), (' and stove before occupying mobile.**  This mobile has 2 new', 1), (' work and party down! This ideal location provides easy access to I-80 and McCarran. Come live at Shoreline Plaza! Feed the geese and ducks by the river', 1), (' work and party down! Enjoy the efficient living space in a spectacular setting. Situated just off the main flow of traffic', 1), ('33.7895', 1), (' RPB', 1), ('42.8669', 1), (' Small Pets are always welcome! Our community also features a 24 Hour on-site laundry facility for all residents.\"', 1), (' and Pet Walk Areas', 1), (' and newspaper and mail service  - On-site fitness center', 1), ('-119.822', 1), (' keurig', 1), ('38.4232', 1), ('38.8152', 1), (' work and party down!Deposit now only $850!Our AmenitiesPlayground/Grass AreaAmazing LocationClose to shopping', 1), ('heat', 1), (' Custom Paint', 1), (' and youâ\\x80\\x99re not on the hook if the Airbnb doesnâ\\x80\\x99t get booked. - Plus', 1), ('30.3584', 1), (' lighted and covered U.S. Mail delivery  - Lighted', 1), ('39.6606', 1), (' showers', 1), ('21.2887', 1), (' Upscale FEATURES: Stainless Appliances Granite Countertops Flat-screen HDTV DVD player Stereo/CD Player Angled ceilings Hi-end Faucets & Finishes Large Closet  Ceiling Fan Designer Paint Accents  Glass-top Stove Bagless Vacuum Ironing Board & Iron  Custom Shower Head Custom Tile Gas Fireplace! Hardwood Floors  Central Heat & A/C Extra Storage All Towels & Linens Fully Stocked Kitchen HI-END FINISHES! Bright', 1), ('-116.214', 1), (\" there's no better place to have it all than Avana on the Platte (formerly Riverton on the Platte).   Features: Plush carpet\", 1), (' Fees', 1), (' $200 for the 2nd pet. Pet rent: $10 monthly per cat', 1), (' laminate wood floors and paint throughout. This home includes a NEW Hot water heater', 1), ('21.3446', 1), ('26.108', 1), ('-157.821', 1), (' Police and First Responder  & Preferred Employer Call or Visit Today For Details!\"', 1), (' smoking or any lease non compliance will not be allowed.  This unit has been partially remodeled. It has exposed wood beam ceilings', 1), (\" I'm able to afford an Oakland studio on my own\", 1), (' for approved 55+ RESIDENTIAL RETIREES (starting at $799+ Most-inclusive Utils & Services!)...VACATION STAY GUESTS...1', 1), (' Lawn Service Included. Sorry', 1), (' Block C is the place for you.  -Pool & Hot Tub with Sundeck -Modern Wood Grain Plank Flooring -Patio or Balcony -Fitness Center -Central Heat and Air Conditioning -WiFi in Common Areas -Ceiling Fans -C-LOUNGE roof top living room -Clean Paws Pet Grooming Station -Yoga and Stretching Room -ELECTRONIC parcel package system -Gourmet Kitchen with Quartz Countertops  Call:  show contact info   Equal Housing Opportunity Prices Change Daily Flexible Lease Terms\"', 1), (' climate controlled corridors  - Clubhouse with WiFi cafÃ© and billiards  - Walkable location with central plaza for community events  - Business hub with Wifi  - On-site recycling  - Two blocks from the Vienna/Fairfax Metro Station Online Payments Available  - Expansive resident clubhouse facilities  - Direct access to Route 66  - Concierge services  - Ample garage parking  - Social and networking events  - Real-Time Tours! Call and schedule a live property tour.  - 24-hour fitness center  - Landscaped resident courtyard with covered porticos Pet Policy We welcome you and your best friend', 1), (' Police & First Responder Discount &  Preferred Employer Call or Visit for Details.\"', 1), (' and wi-fi cafe. Take advantage of uptown living in the midst of serene beauty!  Call Now:  show contact info  x 52Need more information? Copy this link:http://www.aptsview.com/30635c This is a 1 Bedroom', 1), (' close to all pharmacies and grocery stores etc etc   Quiet neighbors...we know because they are our tenants. safe area.  ** READ **  IF YOU DO NOT HAVE ALL OF THE DEPOSIT PLEASE DO NOT WASTE YOUR TIME', 1), (\" you will feel like your living in affordable luxury. Don't miss out on the chance to lease this unit.  Including a nice washer/dryer in unit\", 1), ('-104.838', 1), (' Starbucks', 1), (' dishwasher and microwave hood and a spacious pantry.  The unit also features an in unit washer / dryer', 1), ('-88.9465', 1), (' central heat/air.  Bedrooms and hall carpeted', 1), ('28.8181', 1), ('-104.982', 1), (' utilities (Wifi', 1), (' and a friendly and professional Management Team. Come and visit us today and see why Cedar Glen is one of El Cajon\\'s best kept secrets.  â\\x80¢\\tAc and Heat â\\x80¢\\tCeiling Fans â\\x80¢\\tSpacious Bedrooms â\\x80¢\\tCarpet floors â\\x80¢\\tDouble sink disposals  â\\x80¢\\tLush Landscaping â\\x80¢\\tSwimming pool â\\x80¢\\tLaundry facilities  â\\x80¢\\tBBQ Area â\\x80¢\\tAmple parking spaces   Office Hours Monday to Friday  8:00am to 4:00pm\"', 1), (' Hot water and Gas.      *Refrigerator *Range/Oven-Gas     Tile flooring in kitchen and bath. Wood laminate flooring in living room and bedrooms.  Community (Coin-op) Laundry room on site.  Walking distance to the Beach.  Close to Grocery Store', 1), (' kitchen island', 1), (' facsimile. Clubhouse with Plasma TV', 1), (' refrigerator/freezer and Microwave', 1), ('38.8547', 1), (' 32828Equal Housing Opportunity mFMpeaW2s\"', 1), ('-81.0658', 1), (' text or leave me a voice message of introduction***   In Gratitude ~ Michelle\"', 1), (' public transportation', 1), ('000+ per year annual household income.Please visit: www.KeysForAll.com or Text \"\"Home\"\" to  show contact info    Lease Terms Please visit: www.KeysForAll.com or Text \"\"Home\"\" to  show contact info     Details    3 Bed / 2 Bath        Rent: $1', 1), (' if applicable) are willing to compromise and are of sound mind (as am I). Occasional pot smoking is okay but no habitual/daily smokers. Cigarettes are fine provided you smoke outside. Please', 1), (' monthly events (pizza nights especially)We highly recommend this apartment complex to anyone.\"\" -ApartmentRatings online reviewer  *prices change daily', 1), ('-89.6175', 1), (' money order or check.  Credit Report: If you can provide a current credit report PER ADULT', 1), (' garage', 1), ('-88.2209', 1), ('250/ Mo rent $1', 1), ('33.5229', 1), (' including the metro rail', 1), (' 2 Playgrounds and even a Bark Park for our 4-legged friends plus much more  Spacious two bedroom apartment with two baths', 1), (' and range Loft-living design influences Off-street personal parking space--free of charge Additional parking space', 1), (' Buckhead', 1), (' clean 2 bedroom 1 bath apartment with washer and dryer1', 1), ('-105.686', 1), ('-80.6853', 1), (' Inc. 375 E. Horsetooth Road Building 3 Suite 100 Fort Collins', 1), (' 30907Equal Housing Opportunity XxHjGX7z8e\"', 1), (' & 3-Bedroom Apartment Homes  - Plush Carpeting in Bedroom and Spacious Walk-In Closet  - Fully Equipped Kitchen with Stainless Steel Appliances', 1), ('-76.8156', 1), (' 95821Call Now -  show contact info  x 22OR Text 22 to  show contact info  to text us.Interested in more information? Visit link below:http://leasing.amcllc.net/w6ne33 Welcome Home to Sur Apartments This is a 1 Bedroom', 1), (\" rich in natural and cultural resources.  CLOSE TO CORONADO;  MANY OF THESE BUSINESS'S ARE INVESTING IN IMPERIAL BEACH ALSO  A NUMBER OF SUMMER FESTIVALS ARE HELD INCLUDING SAND CASTLES - KNOWN WORLDWIDE.                                                                                  NOTE:  DATE ON PICTURES ARE NOT CURRENT\", 1), (' Flat/Single Level  Miles from the stress. Away from the bustle. Close to perfection.  Situated on 45 acres of beautifully landscaped grounds and bordered by peaceful lakes', 1), (' pizza oven & TVs', 1), (' it has 4 rooms and 1 bedroom ', 1), ('-82.7617', 1), (' including internet and yard maintenance. There are TV channels from an Apple TV with free Netflix and other available apps there is no \"\"Cable\"\" TV. There is a mostly new washer and dryer in the attached garage.  Davis shores is a historic neighborhood on the Island side of the \"\"Bridge of Lions\"\" the advantage of this location is that it is very close to downtown', 1), (' work and party down!Deposit now only $850!Our AmenitiesAmazing LocationWell-maintained LandscapeComfortable Community AreasPlayground/Grass AreaTennis CourtsLaundry FacilitiesClose to shopping', 1), (' etc) and with any questions you need answered. I\\'m happy to send a rental application after we chat.   Previous rental references will be required and verified.  Credit report and background checks may be done as well.   Thank you!\"', 1), (' 30907Equal Housing Opportunity UJj43UlV\"', 1), (' open kitchen concept', 1), ('-116.183', 1), (\" PLEASE don't ask me to call you. I wish I could call everyone that asks me to call them - but for now\", 1), (' etc. If you like to garden', 1), (' Complimentary Zumba class and On-Demand fitness by Wellbeats) Two story clubhouse available 24/7 featuring 2 conference rooms', 1), (' decorated laundry room with 6 washers and 6 dryers with \"\"his and hers\"\" individual restrooms  - Electric', 1), ('26.1035', 1), ('30.4144', 1), (' a few blocks away from Town Center at Aurora', 1), (' accented with Beautiful Hardwood floors', 1), (' mounted bookshelves', 1), (' outdoor sink and clothes line for your use.  Convenient to shopping mall', 1), (' and newspaper and mail service  - Smoke-free building and eco-friendly living  - Storage units available  - Controlled-access garage parking  - On-site fitness center', 1), (' Private Balconies/Patios', 1), (' Restaurants & Freeways  - Dog run  - Covered Parking  - Fitness Center  - EV Charging Stations  - Small Pets Welcome (up to 25lbs) Disclaimer: Please be aware of scams on Craigslist. It is our practice never to require someone to complete a credit application or provide personal credit information before touring an apartment home. Rent is based on lease term selected. Please contact office for more details. Prices subject to change.Equal Housing Opportunity Ac8UHqzQEX\"', 1), (' HomeSmart\"', 1), ('-84.3334', 1), ('-84.5023', 1), ('-82.352', 1), (\" outgoing and have a fun personality. I'm looking for a drama free\", 1), (' Community Playground', 1), (' 1 bedroom with a queen bed', 1), (' minutes to shopping', 1), (' Kenilworth Apartments lets you live like youâ\\x80\\x99ve always wanted at a price youâ\\x80\\x99ll love.  -Business center -Fabulous views -Private fenced patios -Completely renovated kitchens -Shawnee mission school district -Brooks', 1), (' so lock into this rate today!\"', 1), (' Designer LED Lighting Package And Designer Grey Two-Tone Paint Scheme  - Custom California closets w/built-in shelving and organizer*  - Additional Private Storage Available *Only available in select apartments Community Amenities - 24-Hour Business Center And Conference Hub With Multi-Function AirprintÂ® Printer And Wi-Fi  - On-Site Management  - 24-Hour Package Access Via Package ConciergeÂ© Locker System  - Fenced-in bark park featuring astro-turf underlayment', 1), (' entertainment and excellent selection of restaurants within walking distance.Apply NOW!Phone:  show contact info  Website: https://www.autumnridge-apartments.comThe application fee is $40 per lease holder and guarantor.Canâ\\x80\\x99t wait to meet you!Monday: 9AM-6PMTuesday: 9AM-6PMWednesday: 9AM-6PMThursday: 9AM-6PMFriday: 9AM-6PMSaturday: 10AM-4PMFederal law prohibits housing discrimination on the basis of race', 1), (' close to bus stop. Lilac', 1), (' Hardwood Floors', 1), ('42.4817', 1), (' Washer and Dryer Features: Central Heat & AC', 1), (\" open family room as you walk in. The kitchen has plenty of cabinet/counter space and a breakfast area. There's access to the back patio via the kitchen. The upstairs has two spacious bedrooms (both with good closet space). They share a full bathroom that's been newly remodeled.   VISIT OUR WEBSITE AT: upscaleproperties.org FOR ADDITIONAL PROPERTIES\", 1), ('-92.8877', 1), (' much more!!  Studio units (furnished) starting at $999 plus electric 1 Bedroom units (furnished) starting at $1299 plus electric!  To schedule a showing call  show contact info .  For same day showings call  show contact info .  Visit our website at www.7southlinn.com for more details.  LIVE SIMPLE', 1), (' built in desk', 1), (' and so much more!! We only have one coming available', 1), (' Call for Details * Bark Park * Our prices can change daily', 1), (' and more..   This 2 Bedroom 2 Includes:  â\\x80¢ Range/Refrigerator  â\\x80¢ Microwave/Dishwasher  â\\x80¢ Central Air/ Heating (Natural Gas)  â\\x80¢ Your Own Homesite - Plant Flowers', 1), (' trash removal', 1), (' and stylish new countertops that all pop against the sleek white cabinets. The bathroom has been polished with new tile', 1), (' On site Management', 1), (' entertainment and excellent selection of restaurants within walking distance.You will LOVE living here!Phone:  show contact info  Website: https://www.autumnridge-apartments.comThe application fee is $40 per lease holder and guarantor.Monday: 9AM-6PMTuesday: 9AM-6PMWednesday: 9AM-6PMThursday: 9AM-6PMFriday: 9AM-6PMSaturday: 10AM-4PMFederal law prohibits housing discrimination on the basis of race', 1), (' full size washer and dryer', 1), (' Kenilworth Apartments lets you live like youâ\\x80\\x99ve always wanted at a price youâ\\x80\\x99ll love.  -Library & reading lounge -Washer & dryer connections -Shawnee mission school district -Natural stone fireplaces -Newly renovated resident clubhouse -Brooks', 1), (' text', 1), (' approximately 860 Sq. Ft. Features - Gray Cabinetry  - Patios & Balconies  - Granite Counters  - 3-13 Month Lease Terms  - Newly Renovated  - Wood Grain Plank Flooring  - Online Rent Payments  - Black Appliances  - Subway Tile Kitchen Backsplashes Community Amenities - BBQ Deck with newer furniture  - 2 Dog Parks  - Pet Friendly', 1), (' fenced-in yards* *In select apartments Community Amenities - Complimentary bicycles for riding around town  - Fresh-ground coffee from our StarbucksÂ® coffee bar', 1), (' 1 bath duplex is a rare find at only $595 per month.  Rent includes water', 1), (' Playground   Pet Policy: -Maximum 2 pets per apartment. -Maximum weight limit: 75 lbs.  -Breed Restrictions   More unit details at: http://fairfield-apts.com/w2v3xe  Photos on this ad may not reflect all floorplans. Advertised pricing and availability are subject to change without notice and cannot be guaranteed.  Equal Housing Opportunity Photos on this ad may not reflect all floorplans. Advertised pricing and availability are subject to change without notice and cannot be guaranteed.    s0Tvuyk3FS\"', 1), (' MS 39402  show contact info   Monday 9:00am - 6:00pm Tuesday 9:00am - 6:00pm Wednesday 9:00am - 6:00pm Thursday 9:00am - 6:00pm Friday 9:00am - 6:00pm Saturday 10:00am - 5:00pm    Community Features * Professionally Managed * Renters Insurance is Required * Swimming Pool * Tanning Bed * Outdoor Grill Area * Short or Long Term Lease Available * After-Hours Emergency Maintenance * Car Wash Area * Bark Park * Bike Racks * DVD Rentals * Sun Deck * Gaming Area * Movie Theatre * Playground * All Inclusive Living', 1), (' entertainment and excellent selection of restaurants within walking distance.Apply NOW!Phone:  show contact info  Website: https://www.autumnridge-apartments.comThe application fee is $40 per lease holder and guarantor.Monday: 9AM-6PMTuesday: 9AM-6PMWednesday: 9AM-6PMThursday: 9AM-6PMFriday: 9AM-6PMSaturday: 10AM-4PMFederal law prohibits housing discrimination on the basis of race', 1), (' LARGER kitchen. $400.00 weekly or 6 month or 1 year  LEASE. CALL FOR PRICE. DISCOUNT ON     DEPOSIT for 6 months or 1 year lease.  4 Week  Minimum ð\\x9f\\x9b\\x91\"', 1), ('41.6306', 1), (' hardwood floor', 1), (' A Range of Spacious One and Two Bedroom Apartment Homes', 1), (' around 850 sq ft apartment.  The layout is great.  Huge family room that is next to a dining area.  The kitchen has lots of cabinet and counterspace.  The bedrooms are both very spacious.  Laundry facility on site.  VISIT OUR WEBSITE AT: findhomesinky.com FOR ADDITIONAL PROPERTIES', 1), (' Guttering', 1), ('38.9982', 1), (' Fridge', 1), (' very close to many hiking trails and the Long Lake Grocery Store.  Amenities would include:  â\\x80¢\\tWasher / Drier included in unit â\\x80¢\\tCommunity (indoor) and private (outdoor) entrances â\\x80¢\\tOne car garage (automatic door) â\\x80¢\\tWater', 1), ('39.7644', 1), ('46.9075', 1), ('-90.2062', 1), (' MS 39402  show contact info   Monday 9:00am - 6:00pm Tuesday 9:00am - 6:00pm Wednesday 9:00am - 6:00pm Thursday 9:00am - 6:00pm Friday 9:00am - 6:00pm Saturday 10:00am - 5:00pm    [#6916226]\"', 1), (' stretch out at a nearby yoga class', 1), (' as well as door and cabinet hardware', 1), (' SEWER', 1), (' patio', 1), (' gourmet kitchen with an island', 1), (' Paid Cable TV', 1), (' fenced-in yards*  - Nine-foot ceilings *In select apartments Community Amenities - Storage units and garages available  - Outdoor kitchen complete with fireplace and fire pit for relaxing and entertaining  - Elite health club with Cardio Theater and separate cross-training room  - Pet-friendly community with expansive', 1), (' submitted', 1), (' FIRST SERVED BASIS.\"', 1), (' MS 39402  show contact info   VIEW OUR WEBSITE:  http://www.breckenridgeparkapts.com  Monday 9:00am - 6:00pm Tuesday 9:00am - 6:00pm Wednesday 9:00am - 6:00pm Thursday 9:00am - 6:00pm Friday 9:00am - 6:00pm Saturday 10:00am - 5:00pm    [#7002318]\"', 1), (' available 24/7  - Pet-friendly community with expansive', 1), (' Garages Available', 1), (' Carpeting in bedrooms', 1), (' STAINLESS APPLIANCES & hot water heater! Loads of storage space in FULL basement & closets', 1), (' quietest', 1), (' and ice maker. It opens up into a grand light-filled living/dining room with unique columns and vaulted ceiling. Stay warm in front of the cozy hassle-free gas fireplace with elegant mantle. Also features a full size washer and dryer', 1), (' and night life are all within easy steps from your door. Park Place Lofts offer unique 1870 character in each loft along with: â\\x80¢\\tStainless steel kitchen appliances including a refrigerator', 1), (' large oven', 1), ('42.6797', 1), (' and let our friendly leasing staff answer all your questions', 1), (' and more..  This spacious 1993 3bed/2 bath 52x28  is sleek and beautiful in design including all the must haves for your new home Includes: â\\x80¢ Range/Refrigerator â\\x80¢ Microwave/Dishwasher  â\\x80¢ Central Air/ Heating (Natural Gas) â\\x80¢ Your Own Homesite - Plant Flowers', 1), ('31.3535', 1), (' The Mall St. Matthews Taylorsville Lake Marina 20 minutes away Close to Grociers', 1), ('-86.019', 1), ('-90.1262', 1), (' and dog park  - Sand volleyball court  - Ten miles from downtown Indianapolis  - Playground  - Flexible lease terms available Pet Policy -Maximum 2 pets per apartment.-Maximum weight limit: 75 lbs. -Breed Restrictions Office Hours Mo - Tu: 10:00 am - 6:00 pmWe: 11:00 am - 6:00 pmTh - Fr: 10:00 am - 6:00 pmSa: 10:00 am - 5:00 pmSu: CLOSED Steeplechase at Shiloh Crossing Apartments 10272 Steeplechase Dr.', 1), ('35.4898', 1), (' Kenilworth Apartments lets you live like youâ\\x80\\x99ve always wanted at a price youâ\\x80\\x99ll love.  -Natural stone fireplaces -Sauna -Newly renovated resident clubhouse -Business center -Outdoor swimming pool -Granite countertops -Flexible lease terms -Fitness center -Attentive management -Fabulous views -Indoor heated swimming pool -Shawnee mission school district -Library & reading lounge -Private fenced patios -Clothes care until 10:00 pm  Call:  show contact info   *Equal housing opportunity*  Kenilworth Prices change daily', 1), ('-85.1491', 1), (' two-sided fireplace', 1), ('-112.546', 1), ('35.4901', 1), (' Call for Pricing * Alarm Activation Available * Refrigerator', 1), ('47.503', 1), (' Call for Pricing * Alarm Activation Available * Refrigerator * Walk-in Closet * Microwave * Dishwasher * Pre-wired for internet and cable * Ceiling Fan * Garden Tub * Washer and Dryer hook-ups * Electric Stove * Refrigerator', 1), (' a gated door', 1), (' refundable $500 pet deposit', 1), (' I-71 Close to Westport Village', 1), (' no dogs', 1), (' fitness facilities', 1), ('-85.6891', 1), (' after 6:00 P.M. leave message', 1), (' Dining ', 1), (' high efficiency washer/dryers', 1), (' MS 39402  show contact info     [#6878121]\"', 1), ('46.2837', 1), (' Dishwasher & Electric Stove * Ceiling Fan * Roommate Friendly Floor Plan * Breakfast Bar * Dishwasher * Wood-Like Floors * Microwave * Private Patio or Private Balcony (on select apartments) * Refrigerator * Alarm Activation Available * Furnished Options Available', 1), (' and more..    This spacious 2019 3 bed/2 bath Clayton Home is sleek and beautiful in design including all the must haves for your new home   Includes: â\\x80¢ Range/Refrigerator â\\x80¢ Microwave/Dishwasher  â\\x80¢ Central Air/ Heating (Natural Gas) â\\x80¢ Your Own Home Site - Plant Flowers', 1), ('-86.1394', 1), ('-93.6536', 1), (' Kenilworth Apartments lets you live like youâ\\x80\\x99ve always wanted at a price youâ\\x80\\x99ll love.  -Library & reading lounge -Covered parking available -Granite countertops -Clothes care until 10:00 pm -Shawnee mission school district -Business center -Sauna -Washer & dryer connections -Newly renovated resident clubhouse -Natural stone fireplaces -Brooks', 1), (' bedroom & paint. Rent includes nearly everything: gas', 1), (' and has a private upright washer/dryer on the same floor', 1), (' Additional Storage Available', 1), (' wooded dog park  - Resort-style saltwater pool with lounging areas and aqua sundeck  - Elite health club with Cardio Theater and separate cross-training room  - Fiber optic cable to each apartment for ultra-fast Internet access  - Fresh-ground coffee from our StarbucksÂ® coffee bar', 1), ('000.00        Pet Policy           Cats allowed       Dogs allowed\"', 1), ('-90.2495', 1), (' always classy and cool. Urban rustic.   Url: http://www.foundrylakestreet.com/t/ad?ref=5a2747f665f4bcd68b0f7b3fc7ab836d   Foundry Lake Street  From studios to three bedrooms', 1), ('44.0208', 1), ('181 # Bedrooms: 3 # Baths: 1 Master Bedroom: 11 x 10 Bedroom 2: 10 x 8 Bedroom 3:\\t9 x 8 Kitchen: 11 x 10 Living Room/Family Room: 31 x 11\\t Dining Room:\\t12 x 12 Basement:\\tUnfinished Garage:\\tNone HVAC: Forced Air Schools: Fitzgerald Amenities: Porch', 1), (' rain-shower head', 1), (' MS 39402  show contact info   Apartment Features * Breakfast Bar * Dishwasher * Electric Stove * Wood-Like Floors * Private Balcony * Central Heat and Air * Garden Tub * Air Conditioning * Full sized Washer and Dryer in unit * Walk-in Closet * Pre-wired for internet and cable * Alarm Activation Available * Furnished Options Available', 1), (\" and has relative seclusion since it's located at the end of Bluebird Drive.  As you walk into this available\", 1), ('35.9399', 1), (' Maine Mall', 1), (' Tall Tub Dishwasher and Electric Range  - Well-Appointed Kitchens  - Gourmet Preparation Island with Pendant Lighting*  - 2\"\" Stylized Wood Blinds Community Amenities - Resort-Style Swimming Pool with Expansive Tanning Areas and Fire Pit  - Spa Inspired Baths  - Upscale Framed Mirror  - Private One-Car Garages  - Business Center with PC and Macs  - Water Efficient Plumbing Fixtures  - Oversized Soaking Tubs and Walk-in Showers*  - Custom Cabinetry  - Controlled Access  - Granite Countertops with Designed Undermount Sinks  - Community Conference Room  - Multi-level Clubhouse with Elaborate Entertainment Lounge with Wi-Fi CafÃ©', 1), ('42.2514', 1), ('600.00       Available: 02/05/2020     Application Fee: $35.00     Security Deposit: $1', 1), ('35.7493', 1), (' last', 1), (' butcher block counters', 1), ('054        Rental Terms         Rent: $875.00       Available: Now     Application Fee: $25.00     Security Deposit: $875.00        Pet Policy           Cats not allowed       Dogs not allowed\"', 1), (\" along with double closets for storage. You won't believe how many closets this apartment has: one as soon as you walk in the front door\", 1), (' and follow directions from there.***  Contact Us: Luna Properties Rental Department  show contact info   See better photos and SCHEDULE A SHOWING at   https://lunarentals.appfolio.com/listings/detail/d16bd953-c76f-4dc9-8a77-11af93fa119f\"', 1), (' Gaylord', 1), (' Dishwasher & Electric Stove * Furnished Options Available', 1), (' Kenilworth Apartments lets you live like youâ\\x80\\x99ve always wanted at a price youâ\\x80\\x99ll love.  -Sauna -Indoor heated swimming pool -Flexible lease terms -Business center -Shawnee mission school district -Clothes care until 10:00 pm -Completely renovated kitchens -Natural stone fireplaces -Outdoor swimming pool -Brooks', 1), (' Derby Ridge Elementary School', 1), (' 6 miles from Trident', 1), ('-74.558', 1), (' please call for your private viewing now.  **Photos represent similar units. Units may vary. AS1             Bedford', 1), ('32.9662', 1), (' standard background and credit check required for all applicants over the age of 18.Office Hours Monday-Friday:9:00AM-6:00PM Saturday:10:00AM-5:00PM Sunday:1:00PM-5:00PM Equal Housing Opportunity F9MspiWKxF\"', 1), (' Beautiful panoramic views of Hampton Lake', 1), (' call us today at  show contact info  or click on the REPLY box above for our email contact info.    *Photos represent similar units. Units may vary.        KH  Bedford', 1), (' call us today at  show contact info  or click on the REPLY box above for our email contact info.    *Photos represent similar units. Units may vary. AP            Bedford', 1), (' Renovated Fitness Center', 1), ('45.4529', 1), (\" Garbage  ABSOLUTELY NO PETS allowed on premises. Please don't ask.  This is not negotiable. No W/D hook-up.  Two laundromats very close... practically walking distance. No smoking on premises. Good rental history\", 1), ('42.377', 1), (' and bark park - you and your four legged friends will feel right at home at Ashland Apartment Homes!Bedrooms: 2Bathrooms: 2Rent: 1065Amenities Include:Convenient Online Rent PaymentSpacious Floor Plans24-Hr Emergency MaintenanceBark ParkSmoke-Free LivingIntercom EntrancesPet FriendlyOn City Bus LineCall:  show contact info Find more info at http://www.iretapartments.com/property/north-dakota/grand-forks-east-grand-forks/ashland-apartment-homes/Office Hours: Mon-Fri 8am-6pm | Sat 8am-1pm | Sun Closed Price and availability subject to change.\"', 1), (' standard background and credit check required for all applicants over the age of 18.Office Hours Monday-Friday:9:00AM-6:00PM Saturday:10:00AM-5:00PM Sunday:1:00PM-5:00PM Equal Housing Opportunity q8g5US2G\"', 1), (' please call for your private viewing now.  **Photos represent similar units. Units may vary.          AS  Bedford', 1), (' Central Eastside Lofts', 1), (' (d) bathroom & kitchen fixtures and (e) updated lighting package (f) new flooring  https://charleston3dadvantage.com/3d-model/1000king_2br/fullscreen/  Please call our office at  show contact info  to schedule a showing. Rented on a first come', 1), (' and bark park - you and your four legged friends will feel right at home at Ashland Apartment Homes!Bedrooms: 2Bathrooms: 2Rent: 930Amenities Include:On City Bus LinePet FriendlySpacious Floor PlansIntercom Entrances24-Hr Emergency MaintenanceBark ParkSmoke-Free LivingConvenient Online Rent PaymentCall:  show contact info Find more info at http://www.iretapartments.com/property/north-dakota/grand-forks-east-grand-forks/ashland-apartment-homes/Office Hours: Mon-Fri 8am-6pm | Sat 8am-1pm | Sun Closed Price and availability subject to change.\"', 1), ('40.8225', 1), (' Arcadia Lake', 1), (' kitchen', 1), (' & restaurants; 10-plex movie theater is 2 minute drive away.  One Year Lease Required--No short term leases.  Applicants must meet income and credit history requirements.  1.5 months security deposit required.   No Broker Fee. (there is an application/credit report fee of $100.00 per adult)    Showings by appointment only.\"', 1), (' standard background and credit check required for all applicants over the age of 18.Office Hours Monday-Friday:9:00AM-6:00PM Saturday:10:00AM-5:00PM Sunday:1:00PM-5:00PM Equal Housing Opportunity UBIwMTIkDb3\"', 1), (' call us today at  show contact info  or click on the REPLY box above for our email contact info.    *Photos represent similar units. Units may vary.            KH  Bedford', 1), (' designer lighting', 1), (' Bedroom 2 has queen bed', 1), (' call us today at  show contact info  or click on the REPLY box above for our email contact info.    *Photos represent similar units. Units may vary. AS1          Bedford', 1), (' Cats Welcome', 1), ('-82.996', 1), (' parks and much more', 1), (' New luxury bath. new Energy star windows and New high efficiency Furnace & Central Air installed', 1), (' FURNISHED    >  $615 A MONTH FOR EACH', 1), (' it is still available Please donâ\\x80\\x99t call', 1), (' adjacent to 73012', 1), ('-81.4898', 1), ('40.2953', 1), (\" Garbage  ABSOLUTELY NO PETS allowed on premises. Please don't ask. This is not negotiable. No W/D hook-up. Two laundromats very close... practically walking distance. No smoking on premises. Good rental history\", 1), (' brand new wood laminate flooring in the living and dining rooms.  The home has a huge bedroom with a double closet and room for a king size bedroom set. The bathroom is also very spacious and includes full size washer/dryer connections in an adjoining closet.   All of our homes feature Central Air and Natural Gas heat!  The property features a seasonal swimming pool and a 24/7 laundry/fitness facility.    Must Credit/Income Qualify!  Pets welcome.  Fees and restrictions apply.    We offer lease terms from 4 months to 15 months.  The rent includes basic cable', 1), (' the Joint Base Charleston and we are within the Top Rated Hanahan School District. Pet Policy:Pets up to 75 lbs. welcome. Up to 2 pets per apartment. Breed qualifications do apply. Office Hours:Monday-Friday:9:00AM-6:00PMSaturday:10:00AM-5:00PM Equal Housing Opportunity zlJCZ1TK\"', 1), ('42.6324', 1), (' 1 month realtors commission due on signing of lease as well as proof of Renters Insurance for the 18 months.  We will have an open house for customers (tenants) this Saturday the 14th and this Sunday the 15th of December.  If you want to see the place next weekend please text me with your name and Ill put you on the list for a time slot. Please bring proof of legal ability to pay. If you dont know what that is text me.  show contact info   Please text  show contact info  for the address with your name.   Its a small unit and we wish to schedule the showings.   If interested please bring proof of ability to pay to the open house. We believe it will be rented at the open house.  Private agency listing. Not on MLS.  $1', 1), ('41.4816', 1), (' 2 tables', 1), (' February', 1), (' living area and features.  Our wheelchair accessible features include barrier-free areas with hardwood flooring throughout with easy access to move through apartment including wider hallways and doorways.   We also have accessible parking.  Our world-class design offers luxury living with comfort and convenience.   show contact info \"\"   1/2 Month Rent Free\"', 1), (' standard background and credit check required for all applicants over the age of 18.Office Hours Monday-Friday:9:00AM-6:00PM Saturday:10:00AM-5:00PM Sunday:1:00PM-5:00PM Equal Housing Opportunity QZeFzCIvy2g\"', 1), (' heated pool (seasonal)', 1), ('900.00        Pet Policy                  Dogs not allowed\"', 1), ('-100.774', 1), (' and bark park - you and your four legged friends will feel right at home at Ashland Apartment Homes!Bedrooms: 3Bathrooms: 2Rent: 1180Amenities Include:Smoke-Free LivingOn City Bus LineConvenient Online Rent PaymentBark ParkPet FriendlySpacious Floor PlansIntercom Entrances24-Hr Emergency MaintenanceCall:  show contact info Find more info at https://www.iretapartments.com/ashland-apartment-homes/craigslistOffice Hours: Mon-Fri 8am-6pm | Sat 8am-1pm | Sun Closed Price and availability subject to change.\"', 1), (' Saint Anthony Healthplex', 1), (' Keurig', 1), (' Exit Memorial Dr. and we are 2.5 miles South on the West side of the street (Memorial Drive & 126th St.) Office Hours Mon - Fri: 8:30 am to 5:30 pmSat: 10am to 5pmSun: 1pm - 5pm Encore Memorial 7860 E. 126th Street', 1), (\" the special pricing is subject to change real soon. I'm the one that likes to make sure that you get the bang for your buck! Can't do it without you calling today. Don't don't hold off. I feel that if you wish to take advantage of the special  you must act N-O-W! The pricing is subject to change daily. It's based on availability\", 1), (' microwave and full-size stainless steel appliances.  We offer you a flexible short term lease (not a sublet) with terms from 1 month to 2 years to best fit your plans.  Only minutes walk to Christ Hospital', 1), ('248 sq. ft. - 1', 1), (' too!Looking for a new home for you and your pet? We are one of the few pet friendly communities in the area and enthusiastically welcome you and your pet (Some restrictions apply). Photos on this ad may not reflect all floorplans.Advertised pricing and availability are subject to change without notice and cannot be guaranteed. Equal Housing Opportunity Photos on this ad may not reflect all floorplans.Advertised pricing and availability are subject to change without notice and cannot be guaranteed. FP9iJpJ5X6H\"', 1), (' 74135Equal Housing Opportunity wFhAP9jaXfcg\"', 1), ('-75.9442', 1), (' storage shed. Tenant is responsible for all utilities and must provide proof of renters insurance\"', 1), (' and bark park - you and your four legged friends will feel right at home at Ashland Apartment Homes!  -On City Bus Line -Smoke-Free Living -Convenient Online Rent Payment -Spacious Floor Plans -24-Hr Emergency Maintenance -Pet Friendly -Bark Park -Intercom Entrances  Call:  show contact info     Find more info at http://www.iretapartments.com/property/north-dakota/grand-forks-east-grand-forks/ashland-apartment-homes/   Price and availability subject to change.\"', 1), ('36.086', 1), (' Soaking Tub or Stand-Up Shower with Custom Tile Surround*  - Storage Available  - Generous Walk-In Closets  - Gourmet Kitchen: Granite Countertops', 1), (' standard background and credit check required for all applicants over the age of 18.Office Hours Monday-Friday:9:00AM-6:00PM Saturday:10:00AM-5:00PM Sunday:1:00PM-5:00PM Equal Housing Opportunity 1oP63aol8uY5\"', 1), (' standard background and credit check required for all applicants over the age of 18.Office Hours Monday-Friday:9:00AM-6:00PM Saturday:10:00AM-5:00PM Sunday:1:00PM-5:00PM Equal Housing Opportunity o16hGi85C\"', 1), (' Brushed Nickel Finishes', 1), ('-80.2609', 1), (' we are a pet friendly community for well-behaved', 1), (' three infinity edge pools', 1), (' two outdoor storage areas', 1), (' open style kitchen', 1), (' Rocksino  - Playground  - Indoor swimming pool  - Fitness center  - Social and networking events  - Two outdoor swimming pools  - Located in the prestigious Greenwood Village Online Payments Available  - Picnic area with grills  - Stocked fishing pond  - Flexible lease terms available  - Pets welcome    Office Hours Mo - Tu: 10:00 am - 6:00 pm We: 11:00 am - 6:00 pm Th - Fr: 10:00 am - 6:00 pm Sa: 10:00 am - 5:00 pm Su: 12:00 pm - 5:00 pm   Pet Policy We allow two pets per apartment! (Breed restrictions apply)  Photos on this ad may not reflect all floorplans. Advertised pricing and availability are subject to change without notice and cannot be guaranteed.  Equal Housing Opportunity Photos on this ad may not reflect all floorplans. Advertised pricing and availability are subject to change without notice and cannot be guaranteed.    gFFDg0jkw8F\"', 1), (' income verification', 1), (' plus monthly pet rent of $25.00/mth per pet.  Disclaimer: Property amenities/features listed above are deemed reliable but are not guaranteed. Prospective applicants should verify all amenities/features to their satisfaction. Landlord is not liable for any typographical errors or mistakes in amenities/features listed.         Details           Beds/Baths: 3BD/2.0BA       Square Feet: 1', 1), (' hardwood floors throughout', 1), (' in a garden setting. Half the units are at ground level; the other half are up one flight of covered outside stairs. These apartments have the feel of a quiet village', 1), (' call us today at  show contact info  or click on the REPLY box above for our email contact info.    *Photos represent similar units. Units may vary.         KH  Bedford', 1), (' please call for your private viewing now.  **Photos represent similar units. Units may vary.                              MH  Bedford', 1), (' repairs made', 1), ('-82.9991', 1), (' and stove is gas) Lawncare and Snow Removal are included! Trash removal service. Landlord provides all of these! Off-street parking provided at no additional cost. Storage unit is large', 1), (' & restaurants; 10-plex movie theater is 2 minute drive away.  No Broker Fee. (there is an application/credit report fee of $100.00 per adult)   One Year Lease Required--No short term leases.   Applicants must meet income and credit history requirements.   1.5 months security deposit required.    Tenant pays electricity separately--budget $30-$60 average monthly depending on how you use A/C; water (both hot and cold) provided by landlord.   Showings by appointment only.  Convenient to: Hackensack', 1), (' spacious and well-designed floor plans that are sure to complement your everyday lifestyle!  ***Lease a 2 Bedroom TODAY and WE WILL GIVE YOU FREE RENT!***  All of our two bedrooms are 890 sq. ft and have a large living area', 1), (' view fitness center  - Concierge service  - Additional parking above ground  - Entertaining lounge  - Dry cleaning pick-up and delivery  - Available paddleboats (free checkout) and jet skis (modest rental)  - Bike storage  - Not just waterfront', 1), (' and bark park - you and your four legged friends will feel right at home at Ashland Apartment Homes!Bedrooms: 1Bathrooms: 1Rent: 825Amenities Include:On City Bus LineBark ParkIntercom EntrancesSpacious Floor PlansPet FriendlySmoke-Free Living24-Hr Emergency MaintenanceConvenient Online Rent PaymentCall:  show contact info Find more info at http://www.iretapartments.com/property/north-dakota/grand-forks-east-grand-forks/ashland-apartment-homes/Office Hours: Mon-Fri 8am-6pm | Sat 8am-1pm | Sun Closed Price and availability subject to change.\"', 1), (' 9 foot ceilings', 1), ('-81.5267', 1), (' only general questions to help pre-qualify you.\"', 1), ('40.0306', 1), ('-83.0144', 1), (' latching gates. A campfire pit with firewood and a unique', 1), ('650.00       Available: 08/01/2020     Application Fee: $25.00     Security Deposit: $1', 1), ('-74.6123', 1), (' BIG/WILD PARTIES', 1), (' and bark park - you and your four legged friends will feel right at home at Ashland Apartment Homes!  -Spacious Floor Plans -Bark Park -Pet Friendly -On City Bus Line -Intercom Entrances -Smoke-Free Living -Convenient Online Rent Payment -24-Hr Emergency Maintenance  Call:  show contact info     Find more info at http://www.iretapartments.com/property/north-dakota/grand-forks-east-grand-forks/ashland-apartment-homes/   Price and availability subject to change.\"', 1), (' a reputable property management company with verified listings. We feature bright and well designed kitchens', 1), ('40.296', 1), (' NV', 1), (' Living and Dining Rooms', 1), (' 29910Equal Housing Opportunity 3DJEwr0Pu\"', 1), (' Boat dock for canoes/kayaks', 1), (' drinks and live music! www.downtown.vegas  Head to: http://www.plentyofplaces.com/nevada-properties/ogden-villas/       Nearby Amenities:  â\\x9e\\x9d Fremont Experience    https://vegasexperience.com/?gclid=EAIaIQobChMI3NaJ0NPx4wIVwhd9Ch2ijQ96EAAYASAAEgJJ4_D_BwE  â\\x9e\\x9d Container Park   https://downtowncontainerpark.com/  *Featuring restaurants', 1), ('-83.0615', 1), (' just ask. Single Tenant is getting very popular in my Two Bedroom Apartments and if you are interested in living by yourself it can be yours for $550.00 per month. Landlord pay all utilities except Electric.. Call or Text FOUR O FIVE-612-9522  if you are interested in looking at the unit.\"', 1), (' standard background and credit check required for all applicants over the age of 18.Office Hours Monday-Friday:9:00AM-6:00PM Saturday:10:00AM-5:00PM Sunday:1:00PM-5:00PM Equal Housing Opportunity FhQJF34W\"', 1), ('41.0814', 1), (' and ready for move In Application Fee: $45.00 Security Deposit: $1800.00  No Smoking  Pets considered with deposit and monthly surcharge   Please give me a shout if interested  show contact info   Thanks Art\"', 1), (' picnic area', 1), (' television and covered seating  - 2', 1), (' yet it is on a quiet', 1), (' Dallas. Choose from the studio', 1), (' Granite Islands', 1), (' the Joint Base Charleston and we are within the Top Rated Hanahan School District.Features - Accommodating Bedrooms  - Washer & Dryer Connections*  - Cable Ready  - High Speed Internet Access  - NEW Appliance Package Dishwasher', 1), (' 97229Equal Housing Opportunity BDn2FgOwvlG\"', 1), (' and bark park - you and your four legged friends will feel right at home at Ashland Apartment Homes!Bedrooms: 2Bathrooms: 2Rent: 925Amenities Include:Pet FriendlyOn City Bus LineConvenient Online Rent Payment24-Hr Emergency MaintenanceSmoke-Free LivingBark ParkSpacious Floor PlansIntercom EntrancesCall:  show contact info Find more info at http://www.iretapartments.com/property/north-dakota/grand-forks-east-grand-forks/ashland-apartment-homes/Office Hours: Mon-Fri 8am-6pm | Sat 8am-1pm | Sun Closed Price and availability subject to change.\"', 1), (' standard background and credit check required for all applicants over the age of 18.Office Hours Monday-Friday:9:00AM-6:00PM Saturday:10:00AM-5:00PM Sunday:1:00PM-5:00PM Equal Housing Opportunity HaiQnyvOd2h\"', 1), ('-98.0171', 1), (' availability and other information check our website!  WWW.StayInMyDistrict.COM  Short Term Executive Rentals - Monthly Pricing\"', 1), (' Doorstep Valet Trash Service', 1), (' HVAC', 1), (' the metropolitan doylestown has what you have been looking for. Call today to set an appointment to see your new apartment home. metropolitan doylestown. Apartment homes for living.     Starting at $1715 Call:  show contact info  For more information', 1), (' Voorhees', 1), (' Major Highways and Many Area Attractions   Learn more about us at www.TheGreensAtPineHill.com Find us on Facebook: The Greens At Pine Hill  Contact us TODAY to arrange your personal consultation!   Income restrictions apply.  We are currently estimating a 60-90 day waiting list for move-in dates.\"', 1), (' and bark park - you and your four legged friends will feel right at home at Ashland Apartment Homes!  -Pet Friendly -Convenient Online Rent Payment -Smoke-Free Living -Bark Park -On City Bus Line -Intercom Entrances -Spacious Floor Plans -24-Hr Emergency Maintenance  Call:  show contact info     Find more info at https://www.iretapartments.com/ashland-apartment-homes/craigslist   Price and availability subject to change.\"', 1), (' corner bistros', 1), (' openings at Woodstock Art Museum', 1), (' 408 sq.ft. garage', 1), (' Soaking Tub or Stand-Up Shower with Custom Tile Surround*  - Package Concierge  - Overlook Lake Views*  - Private Garages Available  - Ceiling Fans in Living and Bedrooms  - Valet Trash with Recycling  - Washer & Dryers  - Gourmet Kitchen: Granite Countertops', 1), ('-85.3104', 1), ('-105.954', 1), (' standard background and credit check required for all applicants over the age of 18.Office Hours Monday-Friday:9:00AM-6:00PM Saturday:10:00AM-5:00PM Sunday:1:00PM-5:00PM Equal Housing Opportunity 32JYHx75aa\"', 1), (' Designer Fixtures', 1), (' Carpet', 1), (' with rain style heads. â\\x80¢ Extra Large 6â\\x80\\x99x3â\\x80\\x99 soaking tub  General Touches: â\\x80¢ Well placed outlets â\\x80¢ Deluxe Halogen lighting', 1), ('-75.1262', 1), (' standard background and credit check required for all applicants over the age of 18.Office Hours Monday-Friday:9:00AM-6:00PM Saturday:10:00AM-5:00PM Sunday:1:00PM-5:00PM Equal Housing Opportunity h4BC39qEE2g\"', 1), (' movie theaters; built 2006; country-like surroundings; outdoor smoking only; convenient I-90 access for Ellsworth AFB personnel; rear door to common patio area; heating is economical heat pump; HVAC air separated from other units; heavily insulated; wintertime heat meter discount; U-shaped kitchen with abundant kitchen cabinet space', 1), (' and lots of natural light. The large kitchen has ceramic tile', 1), ('40.2941', 1), (' the Joint Base Charleston and we are within the Top Rated Hanahan School District.Features - NEW Faux Wood Flooring  - Large Dining Area  - Washer & Dryer Connections*  - NEW Plumbing & Lighting Fixtures  - NEW Kitchen & Bathroom Cabinetry  - NEW 2\"\" Faux Wood Window Blinds  - High Speed Internet Access  - Central HVAC  - Cable Ready  - NEW Appliance Package Dishwasher', 1), ('-71.3224', 1), (' Rocksino  - Pets welcome  - Ample parking  - Stocked fishing pond  - Picnic area with grills  - Indoor swimming pool  - Tennis court  - Sauna    Office Hours Mo - Tu: 10:00 am - 6:00 pm We: 11:00 am - 6:00 pm Th - Fr: 10:00 am - 6:00 pm Sa: 10:00 am - 5:00 pm Su: 12:00 pm - 5:00 pm   Pet Policy We allow two pets per apartment! (Breed restrictions apply)  Photos on this ad may not reflect all floorplans. Advertised pricing and availability are subject to change without notice and cannot be guaranteed.  Equal Housing Opportunity Photos on this ad may not reflect all floorplans. Advertised pricing and availability are subject to change without notice and cannot be guaranteed.    hIV99s01od\"', 1), (\" so you don't have to worry about lugging groceries up the stairs or noisy upstairs neighbors. The community is also pet friendly and welcomes furry companions of all sizes.   Call us\", 1), (' Generous Walk-In Closets', 1), (' and luxury finishes.  IDEAL FEATURES Water', 1), (' close proximity to beaches and Atlantic City and the NJ Transit bus stops right out front!  Application fee is $50.00  for credit and background check', 1), (' visiting scholars', 1), (' Soaking Tub or Stand-Up Shower with Custom Tile Surround*  - Private Garages Available  - Overlook Lake Views*  - Valet Trash with Recycling  - Elegant Hardwood-Inspired Flooring  - Storage Available  - Ceiling Fans in Living and Bedrooms  - Package Concierge  - Generous Walk-In Closets *select units Community Amenities - Entertaining and Catering Kitchen in Club  - Outdoor Fireside Retreat  - Coffee Bar  - Car Wash  - Bike Racks  - Resident-Exclusive Strength and Cardio  - Covered Veranda  - Poolside Outdoor Kitchen with Grilling Station  - Cyber Lounge with WiFi and iMac access  - Peaceful Community Green  - Gaming Area with Shuffleboard  - Dog Park & Pet Spa  - Center with Fitness on Demandâ\\x84¢ featuring a Cross-Functional Studio for Yoga', 1), (' Indoor/Outdoor Recreational Activities', 1), ('050.00 per month.  Twelve or eighteen month lease terms available.  Call  show contact info .  Short walk to local conveniences', 1), (' bonus office room', 1), ('-84.5245', 1), ('-75.1187', 1), (' Soaking Tub or Stand-Up Shower with Custom Tile Surround*  - Generous Walk-In Closets  - Private Garages Available  - Valet Trash with Recycling  - Personal Pet Yard*  - Gourmet Kitchen: Granite Countertops', 1), (' standard background and credit check required for all applicants over the age of 18.Office Hours Monday-Friday:9:00AM-6:00PM Saturday:10:00AM-5:00PM Sunday:1:00PM-5:00PM Equal Housing Opportunity hN47V0oEbF\"', 1), (' DECK', 1), (' (six zero seven)  two two one - six six nine four', 1), (' please call for your private viewing now.  **Photos represent similar units. Units may vary.                                            BS  Bedford', 1), (' Stainless-steel appliances', 1), (' please call for your private viewing now.  **Photos represent similar units. Units may vary.   AP                   Bedford', 1), (' and bark park - you and your four legged friends will feel right at home at Ashland Apartment Homes!  -Smoke-Free Living -24-Hr Emergency Maintenance -Bark Park -Intercom Entrances -Convenient Online Rent Payment -Pet Friendly -Spacious Floor Plans -On City Bus Line  Call:  show contact info     Find more info at http://www.iretapartments.com/property/north-dakota/grand-forks-east-grand-forks/ashland-apartment-homes/   Price and availability subject to change.\"', 1), (' and everywhere in between', 1), (' please call for your private viewing now.  **Photos represent similar units. Units may vary.                                    BS  Bedford', 1), (' we have a top floor 1 bedroom that\\'s ready now and we\\'re offering 1 month free with a 12 month lease on select apartment homes!  Now for some fine print:  We do have some parking available in the underground garage for $130 per month for a single or $170 per month for a tandem space. Pets are welcome here with $25 per month pet rent per pet and a refundable $300 deposit. Residents are responsible for water/sewer/trash which depends on occupancy and apartment size. Your security deposit is equal to either a half month of rent or a full month and is determined by your screening.   Hours:  M-F 9-5  Sat 10-5  Sun Closed  TTY: 711  We\\'re professionally managed by Guardian Real Estate. Equal Opportunity Housing\"', 1), ('-75.2282', 1), (' queen size bed', 1), (' Major Highways and Many Area Attractions   Learn more about us at www.TheGreensAtPineHill.com Find us on Facebook: The Greens At Pine Hill  Contact us TODAY for your personal consultation!  Income restrictions apply.  We are currently estimating a 120-150 day waiting list for move-in dates.\"', 1), (' oak floors', 1), (' walk in closets and a patio/balcony. Out town is very walkable and bicycle-friendly', 1), (' and bark park - you and your four legged friends will feel right at home at Ashland Apartment Homes!Bedrooms: 2Bathrooms: 2Rent: 930Amenities Include:Intercom Entrances24-Hr Emergency MaintenanceSmoke-Free LivingBark ParkSpacious Floor PlansPet FriendlyConvenient Online Rent PaymentOn City Bus LineCall:  show contact info Find more info at http://www.iretapartments.com/property/north-dakota/grand-forks-east-grand-forks/ashland-apartment-homes/Office Hours: Mon-Fri 8am-6pm | Sat 8am-1pm | Sun Closed Price and availability subject to change.\"', 1), (' please call for your private viewing now.  **Photos represent similar units. Units may vary.            KH  Bedford', 1), ('39.3513', 1), (' please call for your private viewing now.  **Photos represent similar units. Units may vary.                                          BS  Bedford', 1), (' and bark park - you and your four legged friends will feel right at home at Ashland Apartment Homes!  -Intercom Entrances -Smoke-Free Living -Pet Friendly -24-Hr Emergency Maintenance -Spacious Floor Plans -On City Bus Line -Convenient Online Rent Payment -Bark Park  Call:  show contact info     Find more info at http://www.iretapartments.com/property/north-dakota/grand-forks-east-grand-forks/ashland-apartment-homes/   Price and availability subject to change.\"', 1), (' Patio/Balcony', 1), (' and stainless steel kitchen appliances. 2 bedroom 1 bath. Includes Garage!   Youâ\\x80\\x99ll know you found home the minute you arrive.   Pet Friendly!  Non-Smoking Community!!  Bethany 5 Apartments Leasing Office 15420 NW Marianna Dr. #102 Portland', 1), (' call us today at  show contact info  or click on the REPLY box above for our email contact info.    *Photos represent similar units. Units may vary. AP                   Bedford', 1), (' with additional seating for 2 at the kitchen counter. Fully equipped kitchen with stainless steel appliances', 1), ('-115.22', 1), (' and restaurants all within walking distance of all of our locations. Take a look at the map and see for yourself! Stop by today to take a tour or visit us at shadowridgeapartmentselpaso.com  We would love to have you as a resident and guess what! You can apply online today at shadowridgeapartmentselpastx.com or please call us at  show contact info\"', 1), (' 2 minutes to public golf course and 5 minutes to beautiful Beaver Lake.  Lawn maintenance included. 1-year lease. Small indoor pet (20 pounds) welcome with $200 pet fee. Non-smoking property.  Drive by 8675 Golf Creek Dr. Rogers', 1), (' Starbucks And Other Restaurants and Shops.. Property Manager on Site. . . . . . . . . . . . . . . . . . . . . . . . . . . . . . . . . . . . . . . . . . . . . . . . . . . . . . . . . . . . . . . . . . . . Call us for more information! --  show contact info  --  Website: https://wisconsin.weidner.com/apartments/wi/milwaukee/avenir/  EQUAL HOUSING OPPORTUNITY\"', 1), ('-149.124', 1), (' behind two chic styled doors located in the kitchen! When the doors are closed ', 1), (\" your fur baby or your family to enjoy. Not to mention that we currently have specials on EVERY APARTMENT AVAILABLE! So what are you waiting for? It's time to LOVE where you LIVE!!  Check Out Our Amazing Amenities!  â\\x98\\x86â\\x98\\x86â\\x98\\x86â\\x98\\x86â\\x98\\x86â\\x98\\x86â\\x98\\x86â\\x98\\x86â\\x98\\x86â\\x98\\x86â\\x98\\x86â\\x98\\x86â\\x98\\x86â\\x98\\x86â\\x98\\x86â\\x98\\x86â\\x98\\x86â\\x98\\x86â\\x98\\x86â\\x98\\x86â\\x98\\x86â\\x98\\x86â\\x98\\x86â\\x98\\x86â\\x98\\x86â\\x98\\x86â\\x98\\x86â\\x98\\x86â\\x98\\x86â\\x98\\x86â\\x98\\x86â\\x98\\x86â\\x98\\x86â\\x98\\x86â\\x98\\x86â\\x98\\x86â\\x98\\x86â\\x98\\x86â\\x98\\x86â\\x98\\x86â\\x98\\x86â\\x98\\x86â\\x98\\x86â\\x98\\x86â\\x98\\x86â\\x98\\x86â\\x98\\x86â\\x98\\x86â\\x98\\x86â\\x98\\x86â\\x98\\x86â\\x98\\x86â\\x98\\x86â\\x98\\x86â\\x98\\x86â\\x98\\x86â\\x98\\x86â\\x98\\x86â\\x98\\x86â\\x98\\x86â\\x98\\x86â\\x98\\x86â\\x98\\x86â\\x98\\x86â\\x98\\x86  â\\x80¢ Minutes to shopping\", 1), (' 78045Equal Housing Opportunity J3W6yWQXhyC\"', 1), (' Dog Run w/ Agility Equipment', 1), (' and fitness center.  Minutes away from Zilker Park and downtown. Right next to S Lamar Blvd so you have access to all sorts of shopping', 1), ('-96.7851', 1), (' biking', 1), (' Large Dogs (> 25lb) Pet notes: Dogs Allowed: Breed restrictions may apply. Dogs over 35 lbs can be on 1st floor only  â\\x80¢$25 Monthly Pet Rent â\\x80¢$340 Fee â\\x80¢35 lb Weight Limit â\\x80¢2 Pet Limit Cats Allowed  â\\x80¢$25 Monthly Pet Rent â\\x80¢$300 Fee â\\x80¢2 Pet Limit Deposit: $400 Leasing options:10', 1), (' move in date and availability. Additional fees may apply. This apartment requires a $250 deposit.  VIEW OUR WEBSITE:  http://www.theorchardsapts.com  Apartment Features * Private Patio or Private Balcony (on select apartments) * Disposal * Air Conditioning * Furnished Options Available', 1), (' Dallas? Come experience exclusive luxury living at these Apartments. Relax and unwind beside the two sparkling swimming pools', 1), ('-95.3478', 1), (' move in date and availability. Additional fees may apply. This apartment requires a $250 deposit.    [#6872421]\"', 1), (' VA 24506  show contact info   VIEW OUR WEBSITE:  http://Legacyatlindenpark.com  Monday 8:30am - 5:30pm Tuesday 8:30am - 5:30pm Wednesday 8:30am - 5:30pm Thursday 8:30am - 5:30pm Friday 8:30am - 5:30pm Saturday 10:00am - 4:00pm Sunday 1:00pm - 4:00pm  Apartment Features * Garden Tub * Washer and Dryer hook-ups * Alarm Activation Available * Ceiling Fan * Dishwasher * Microwave    [#6946142]\"', 1), (' stainless steel appliances and a lovely new LED fireplace! The High Point Commons community lays tucked away on acres of manicured lawn and mature foliage with just enough privacy while still living near many dining and shopping options.  Apply today and receive $500 off your first month\\'s rent!!\"', 1), ('35.3177', 1), (' Verifiable Income of 2 1/2 times the rent or higher', 1), (' TX', 1), (' private bath', 1), ('-149.11', 1), ('-123.805', 1), (' and indoor malls featuring some of the best brand-name stores.We are Newer', 1), (' hrs. worked', 1), (' from the natural beauty at the Arboretum to the free Henry Vilas Zoo.A small $50 unit deposit is required when you submit an application. It is refunded if you are denied or do not take the apartment.Our AmenitiesNEW Friendly On-site Management & New OwnershipExtra StorageOn Bus LineRecycle CenterComfortable Living in a Friendly AtmosphereEntry Area with Spot for Shoes and Hooks for CoatsAir ConditioningLaundry StationsColored Kitchens and BathsPlank Flooring in Main AreasModern KitchensUnderground Parking is Available\"', 1), ('-97.2804', 1), ('44.5051', 1), (' and furniture in your apartment.  Stadium View', 1), (' 78045Equal Housing Opportunity Dx1k1RC6vq\"', 1), (' 78045Equal Housing Opportunity S1nlbhcEstc\"', 1), (' most convenient perks! Our wood-look flooring in the living room/dining room area creates an even sleeker affect to this sstunning home!  Each comfy apartment home features a full kitchen complete with a pantry and washer & dryer connections hidden just on the other side of your partition walls', 1), (' 78045Equal Housing Opportunity 8YAJiA44Ds\"', 1), ('-147.884', 1), ('-89.6382', 1), (' or three bedroom apartments', 1), (' walk-in closet', 1), (' new vanity and so much more! Ready to rent in December 2019. Rent is $500.00.00/month and includes water', 1), ('33.1969', 1), ('-147.72', 1), ('37.2743', 1), (' from the natural beauty at the Arboretum to the free Henry Vilas Zoo.  If sports and recreation are more your speed', 1), (' hard wood flooring', 1), (' washer/dryer hook-up are also included. The master bedroom comes with a walk-in closet', 1), (' boating and BBQing with plenty of playground areas', 1), ('-149.434', 1), (' stainless appliances including dishwasher', 1), (' and walk in closets in both bedrooms. You will experience modern day living at its finest!You will love our amenities and well kept landscaping through out the property. We have 2 commercial fitness centers', 1), ('-106.276', 1), (' Dishwasher & Gas Stove * Gas Stove * Walk-in Closet * Dishwasher * Disposal * Pre-wired for internet and cable * Linen Closet * Energy Star Appliances * Private Patio or Private Balcony (on select apartments) * Garden Tub * Ceiling Fan   1st month rent free when you move in before 01/31    [#6990560]\"', 1), ('-76.543', 1), ('900 4.5% Fixed/5.596% APR', 1), ('-122.748', 1), (' Linen Closets and Kitchen Pantries -Online conveniences including rent payments', 1), ('-122.343', 1), (' Linen Closets and Kitchen Pantries -Package Receiving -Cable TV Available -Balconies & patios -Close to Restaurants -Pet Friendly -Close to Schools -Online Service Requests -Large Closet  Call  show contact info  www.WindrushLiving.com  *Pricing and availability subject to change.\"', 1), ('-79.7888', 1), (' new paint inside and out', 1), ('33.292', 1), (' and walk in closets in both bedrooms. You will experience modern day living at its finest! You will love our amenities and well kept landscaping through out the property. We have 2 commercial fitness centers', 1), (' Turtle Creek', 1), (' entertainment & grocery -Package Receiving  Call  show contact info  www.WindrushLiving.com  *Pricing and availability subject to change.\"', 1), (' and indoor malls featuring some of the best brand-name stores.A small $50 unit deposit is required when you submit an application. It is refunded if you are denied or do not take the apartment.  Our AmenitiesRecycle CenterNEW Friendly On-site Management & New OwnershipLaundry StationsProfessionally ManagedComfortable Living in a Friendly AtmosphereWi-Fi CafeLimited Access EntryEntry Area with Spot for Shoes and Hooks for CoatsExtra StoragePlank Flooring in Main AreasColored Kitchens and BathsFitness CenterAir ConditioningAll Black Appliances Including Dishwasher *Appliance Types May VaryOn Bus Line\"', 1), (' theater', 1), ('30.4177', 1), (' Glass Shower And Bathtub Doors', 1), (' windows 2nd floor', 1), (' 78045Equal Housing Opportunity y0hDqNE5qBco\"', 1), ('-119.168', 1), (' not to mention 5 swimming pools and 3 hot tubs Links  http://sunserra.com  No Smoking. Lease options 6 month', 1), (' fans', 1), ('38.063', 1), (' electric stove and refrigerator along with Plenty of storage.  We have Three Great Communities in Bryan Tx', 1), (' 78045Equal Housing Opportunity 0kB9Nul0XRI8\"', 1), (' wood burning fire place', 1), ('-95.4903', 1), (' and much more. You will also find attached garages', 1), (' night life', 1), ('-97.2486', 1), ('33.3851', 1), (' Max weight 60 lb each', 1), (' 78045Equal Housing Opportunity HrOvuT5gd40\"', 1), (' AND AMENTITY RICH. INCLUDING AN INDOOR STATE OF THE ART BASKETBALL COURT! AND A VERY INVITING THEATER ROOM TO HOST A SUPERBOWL PARTY!!  CALL FOR MORE INFORMATION ON THIS FABULOUS LOFT FLOOR PLAN! ~~ show contact info ~~ lic. agent.  Matt Davidson ~~over 28 years of experience~~ Dash Realty Apartment Locator  Property Listing#705  ***Set Prices\"', 1), ('26.4481', 1), ('-114.343', 1), (' and indoor malls featuring some of the best brand-name stores. If sports and recreation are more your speed', 1), (' Dining Sets and Kiddie pool Sport Court with 1/2 basketball court', 1), (' or roommate if desired. We are an affordable housing community.  show contact info  Our Amenities:  - Gameroom- Senior Living- Access Gate- Planned Social Activities- Swimming Pool- Frost-Free Refrigerator with Icemaker- Full-Size Washer and Dryer Connections- Oval Garden Tub- Ceiling Fans- Energy-Efficient All-Electric Kitchen- Spacious Rooms- Walk-In Closets- Tile Entry- Private Garage- Arts and Crafts Activity Room- Big Screen Television with Surround Sound- Indoor / Outdoor Dining Area- Picnic Patio and Bar-B-Que Areas- Hair Salon- Executive Game and Billiards Room- On-Site Church Services- Free Refreshment Bar Our Pet-Policy: Cat(s);Dog(s);Dogs Allowed. $150 Deposit. $10 Monthly Pet Rent. $150 Fee. 25 lb Weight Limit. 2 Pet Limit. Cats Allowed. $150 Deposit. $10 Monthly Pet Rent. $150 Fee. 2 Pet Limit.  Our Phone-Number:  show contact info Website: http://www.ameliaparc2.com/ Directions: Call for direction  EQUAL HOUSING OPPORTUNITY\"', 1), (' Fitness Center with Free Weights & Machine Weights  Pet Policy: We love your pets almost as much as you do', 1), (' hardwood floors in bath and hallway just refinished', 1), (' all of which have attracted families and individuals for generations.   Hanover is a gated community with the feel and look of the old Coastal South. With charming wrought iron', 1), (\" 7' island\", 1), ('-96.7921', 1), (' XBOXâ\\x84¢ and arcade tables  - Poolside grilling area  - 24 hr Emergency Maintenance Service Pet Policy Call for details. Office Hours Mon-Fri 9-6 Sat 10-5Sun 12-5 River Oaks Apartments 2940 Shumard Oak Dr', 1), ('900 4.75% Fixed/5.606% APR', 1), (' Linen Closets and Kitchen Pantries -Central Laundry Facilities -Online Payments Available  Call  show contact info  www.WindrushLiving.com  *Pricing and availability subject to change.\"', 1), (' very welcoming and easy to get along with. He is quick to address and fix issues that arise. He maintains a lovely garden in the summer and likes to keep his tenants involved.   I am moving out due to my upcoming wedding', 1), (' Sizzling Spa / Hot Tub', 1), (' and public transportation in beautiful North Richland. Visit The Lofts at Innovation Center in Richland', 1), (' and even stainless kitchen counter tops.  Other upgrades include an \"\"on demand\"\"', 1), ('-89.0025', 1), (' additional fees may apply.  Equal Housing Opportunity    aBVPcwR0buA9\"', 1), ('  Marble Kitchen Floor', 1), (' Agent\"', 1), ('47.6772', 1), (' walking/biking trails', 1), (' carpet in bedroom/living room *Cable jacks in living room and bedroom *Owner-installed \"\"Blackout\"\" blinds in bedroom; Lighter blinds in the living room *Owner installed brand-new', 1), (' lawn mowing and snow removal.  No pets.  No smoking.  Off-street parking.  First', 1), (\" and we are located in a prime location so our residents can experience what it's like to live on campus while also being able to enjoy the greater Capitol Hill area. Seattle University's Office of Financial Services and Admissions Office are located on our first two floors\", 1), (' Bike Trails and Recreation  - Poolside Cabanas with Complimentary Wi-Fi  - Close to Heritage District and Downtown Gilbert Restaurants and Shopping  - Professional and Friendly On-Site Management  - 24-Hour Fitness Center  - Barbecue Lounge  - 24 Hour Emergency Maintenance Available Pet Policy No more than two pets per apartment. No aggressive breeds. Monthly pet rent is $35 per pet.Pet deposit is $150 for one pet & $300 for two pets. Non-refundable pet cleaning fee is: $250 Income Requirements: Monthly income must be equivalent to three (3) times the net effective rental rate. Driving Directions Major crossroads are Gilbert Road and Guadalupe Road. Office Hours Monday through Friday: 9:00 am - 5:30 pmSaturday: 10:00 am - 4:30 pmSunday: Closed Equal Housing Opportunity 1Ae2F9b39k\"', 1), (' move in date and availability. Additional fees may apply. This apartment requires a $250 deposit.  VIEW OUR WEBSITE:  http://www.theorchardsapts.com  Apartment Features * Full sized Washer and Dryer in unit * Ceiling Fan * Furnished Options Available', 1), (' large living room', 1), (' and Entertainment  FLOORPLAN AMENITIES â\\x9c¶ Air Conditioning â\\x9c¶ Balcony or Patio â\\x9c¶ Breakfast Bar â\\x9c¶ Built-In Bookshelves â\\x9c¶ Cable Ready â\\x9c¶ Carpet â\\x9c¶ Ceiling Fans â\\x9c¶ Crown Molding â\\x9c¶ Den â\\x9c¶ Dining Room â\\x9c¶ Dishwasher â\\x9c¶ Disposal â\\x9c¶ Eat-in Kitchen â\\x9c¶ Family Room â\\x9c¶ Freezer/Ice Maker â\\x9c¶ Island Kitchen â\\x9c¶ Linen Closet â\\x9c¶ Office â\\x9c¶ Pantry â\\x9c¶ Range/Oven â\\x9c¶ Refrigerator â\\x9c¶ Storage Units â\\x9c¶ Vinyl Flooring â\\x9c¶ Walk-In Closets â\\x9c¶ Warming Drawer â\\x9c¶ Window Coverings     Website: http://apartmentsinantioch.com/EQUAL HOUSING OPPORTUNITY\"', 1), (' 3', 1), ('47.2374', 1), (' set up home services and digital moving announcements  - 10 minutes to Downtown Portsmouth  - Community room  - Clothes care center  - Online Payments Available Income Requirements: CURRENT INCOME LIMITS:1 PERSON - $31', 1), (' you need: 1.  $2', 1), (\" gorgeous rose and lots of trees!  A bedroom area features a king sized sleep number bed with adjustable settings for the best night's sleep\", 1), (' maintenance requests & more -Cable TV Available -Black Appliance Packages -Pet Friendly -Wood-style flooring & designer carpet -Covered Parking -Online Service Requests  Call  show contact info  www.WindrushLiving.com  *Pricing and availability subject to change.\"', 1), (' 78045Equal Housing Opportunity dl6J8cp6\"', 1), (' Playground', 1), (' kitchen and bathroom  - 7\"\" deep stainless steel sink with single lever pull out faucet**  - Single white enamel sink with brown cabinets  - Stainless steel appliances**  - Walk-in closets in master bedrooms  - Carpet in bedrooms  - 3\"\" x 6\"\" subway tile backsplash**  - 2 door frost free refrigerator  - New kitchen cabinets and counter tops**  - Single lever faucet in chrome finish*  - Double stainless steel sink*  - Exhaust fan  - Double handle bathroom faucet in chrome finish  - Mirror over vanity  - Chrome towel bars and toilet paper holders Community Amenities - Wi-Fi in Pool Area  - Fitness Center  - Washer/Dryer in Unit  - 2 Sparkling Pools  - Courtesy Patrol  - Covered Parking  - On Call Maintenance  - BBQ Areas Pet Policy If you are looking for a pet friendly community in Phoenix', 1), (' or West William Cannonð\\x9f\\x9a\\x97. Not to mention the hundreds of dinning', 1), (' Washer and Dryer in Home', 1), ('-149.821', 1), (' Redstone Arsenal', 1), (' move in date and availability. Additional fees may apply. This apartment requires a $250 deposit.  Monday 9:00am - 6:00pm Tuesday 9:00am - 6:00pm Wednesday 9:00am - 6:00pm Thursday 9:00am - 6:00pm Friday 9:00am - 6:00pm Saturday 10:00am - 5:00pm Sunday By Appointment Only  Apartment Features * Central Heat and Air * Furnished or Unfurnished * Pantry * Roommate Friendly Floor Plan * Pre-wired for internet and cable * Refrigerator * Air Conditioning * Refrigerator', 1), ('33.5647', 1), (' water/sewer and HVAC. Private', 1), ('-149.588', 1), ('38.0673', 1), ('33.5145', 1), ('33.983', 1), (' water & some lawn care included).  Wifi & garbage service avail on site for additional fees. Security deposit required', 1), (' custom lighting systems', 1), (' and stove before occupying mobile.**  Scheduled Viewings of #24 & #7- mobile homes for sale:  **Stop by #24 and ask for Armando. He can show #7 on request.   Monday & Tuesday Dec. 30 & 31st 11am & 4 pm Thursday & Friday Jan. 2 & 3rd 11am & 4pm Come take a look at our large lots', 1), ('33.9761', 1), (' Stater Bros.', 1), (' and Public Transportation  - Library and Laundry Facilities on Site  - Sparkling pool and spa  - Controlled Access Pet Policy Pet Friendly Community*Breed and Weight Restrictions Apply Office Hours Monday to Sunday9:00am to 6:00pm Prices are subject to change', 1), ('-120.961', 1), ('33.855', 1), (' Subway Sandwich', 1), (\" perfect for entertaining! Soak away a long day in your huge garden tub or dine al fresco on your very own balcony! This apartment will go fast; so don't miss out! Apply Today!  Call or Stop By Today:  show contact info   The Fairways at Westridge  25343 Silver Aspen Way  Valencia\", 1), (\" 133 Freeways.  You'll love how close the Yosemite park outdoor hiking paths enter right off of Moulton Parkway.  Wine and dine at some of the best restaurants and entertainment complex in South Orange County!!!!  Come in today to take advantage of this amazing deal!Call us today! show contact info   The Palms at Laguna Niguel 28188 Moulton Parkway Laguna Niguel\", 1), (' â\\x96ºâ\\x96ºUPDATED! GREAT AMENITIES! GREAT LOCATION! AMAZING APARTMENT UNITS!', 1), ('36.686', 1), (' call to schedule a tour between the hours of 9 am to 5:30 pm daily.  Call Now:  show contact info  x 59OR Text 59 to  show contact info  to text us.Want more information on this unit? See link (below):http://cl.greystar.com/646got This is a 2 Bedroom', 1), (' Generous Closet Space', 1), (\" dining and kitchen area!  You'll find full size washer and dryer in the laundry room just off the kitchen area.   \\t \\tThe Reserve at Empire Lakes apartments are less than one mile from the Metrolink station and the PGA golf course\", 1), (' call to schedule a tour between the hours of 9 am to 5:30 pm daily.   Features: Quartz Counter Tops*', 1), (' level 2 electric car charger', 1), (' Deposit - $500 (max weight 40 lbs.)  Breed Restrictions Apply.   Want more info? See the link below: http://rwselby.aptdetails.com/55t3L5   Equal Housing Opportunity    m8GrJrA8F9dc\"', 1), (' you have it. The amazing Rancho Delusion Library', 1), (' at day of the house walk-through. 4) First month\\'s rent and security deposit due at lease signing. 5) One year lease required. 6) Single or small family. 7) No pets preferred.\"', 1), (' Freeways  - Enjoyable Coastal Climate  - Public Transportation  - Small Building Lifestyle  - Laundry Facilities  - Online Payments Available Pet Policy We are pet friendly (some breed restrictions apply) Office Hours Mon - Fri: 8:00 am - 5:00 pmSat: ClosedSun: Closed Equal Housing Opportunity u8Zf98pt\"', 1), (' parties', 1), (' bars and lots of restaurants. You\\'re in the heart of it all!  Perfect Bachelor/Bachelorette pad.\"', 1), (' two pools', 1), (' Walk-In Closets', 1), ('       4)     when you and all roommates are available to see the unit;      5)    and when you would like occupancy.    If you have any questions', 1), (' a one-time fee of $300 and a rental surcharge of $30 per month. Please contact us for a list of our restricted breeds. Income Requirements: 2.5Equal Housing Opportunity o31dRvRnqr\"', 1), (' a Culinary Resident Kitchen', 1), (' 30907Equal Housing Opportunity 4wknoVEAR0\"', 1), (' Optional walk in shower', 1), (' 2020Deposit:Â\\xa0$1', 1), ('-75.1883', 1), (' Trash', 1), (' work and party down!Deposit now only $850!Our AmenitiesLaundry FacilitiesTennis CourtsOn-site ManagerLiving Room / Dining RoomPlayground/Grass AreaSwimming PoolWell-maintained LandscapeComfortable Community AreasClose to shopping', 1), (' 1 Full Bath Central Heat & Air Pretty', 1), (\" including Trader Joe's\", 1), (' 30907Equal Housing Opportunity 61XuOtRhqGb9\"', 1), (' Team AJ', 1), (' designer kitchen and large laundry room. Authentic lofts with dramatic wall of windows', 1), (' USB Outlets in Kitchens', 1), (' new tile floor', 1), (' 99163Equal Housing Opportunity 3fpyxmUR6\"', 1), (' FL apartments homes', 1), (' dining and nestled within acres of beautiful Florida landscape.  Call  show contact info  and ask about ID# 34040  c951\"', 1), (' Extra Storage*', 1), (' we have an on-site pampering dog spa. Take them down for a bath so you donâ\\x80\\x99t have to worry about the clean-up in your apartment!  Pets - Max 2 allowed', 1), (' or Mt. Vernon Trail. At home take a dip in the pool', 1), (' look no further than our community of attractive', 1), (' too! Photos on this ad may not reflect all floorplans.Advertised pricing and availability are subject to change without notice and cannot be guaranteed. Equal Housing Opportunity Photos on this ad may not reflect all floorplans.Advertised pricing and availability are subject to change without notice and cannot be guaranteed. v105q2VL\"', 1), (' Energy-Efficient Stainless Steel Appliances', 1), (' and wi-fi cafe. Take advantage of uptown living in the midst of serene beauty!  Features: Ceramic tiling', 1), (' heat', 1), (' 2 bath floor plans', 1), (' the pro-rated rent amount for December 2019 will be waived!!  AND if you are one of the first 4 qualified applicants we will also waive half the rent for Jan. 2020.  Here at BelCielo Apartments', 1), (' work and party down!From first-class entertainment to the flash and fancy of casino hopping', 1), (' Bright - Sun Drenched Living Room / dining area with 2 walk-in closets', 1), ('080 A Month! ð\\x9f\\x8f\\xa0 1', 1), (' DOUBLE OVEN', 1), ('-158.008', 1), ('43.6712', 1), (\" etc.  Combine the credit restoration with our partnered lender and get the BEST rates and the lowest mortgage amount (when you're ready)\", 1), (' and a short distance from Backus Hospital and easy highway access. A bonus attic room for storage. Pavement parking (on terrace away from the main road). Security Deposit: 1st month and 1 month security. Tenant Pays: Credit Check', 1), (' washer/dryer - Skip-troweled ceilings for a modern look - Covered parking with storage closets  Included:   - Cable - Lawn maintenance - Quarterly pest control - Waste services  Community Amendments: - Two heated swimming pools - Clubhouse with fitness room', 1), (' and newspaper and mail service  - Controlled-access garage parking  - IKKO Sushi restaurant right downstairs  - Resident-focused services', 1), (' dining and living area.  Second floor is accessed by spiral staircase which leads to the 2nd floor Master Suite (Queen Size poster bed) ', 1), ('300Minimum Lease:Â\\xa0AnnualIncluded Utilities:Â\\xa0Water\"', 1), (' we put the Resident first. Come see our beautifully constructed 1', 1), (' Miromar Outlet', 1), (' Rent Includes Heat and Water. Tenant pays for Electric', 1), (' and newspaper and mail service', 1), ('-157.83', 1), (' too! Office Hours Monday - Tuesday 10:00 am - 6:00 pmWednesday 11:00 am - 6:00 pmThursday - Friday 10:00 am - 6:00 pmSaturday 10:00 am - 5:00 pmSunday 12:00 pm - 5:00 pm Riverside Station Apartments 14110 Big Crest Lane', 1), ('-82.7084', 1), (' there\\'s no better place to have it all than Avana on the Platte (formerly Riverton on the Platte).     Office Hours:  M-F - 9 to 6PM Sat - 9 to 5PM Sun - 12 to 5PM   Equal Housing Opportunity    u2F3KNwd\"', 1), (' electricity and overhead light; 4-section steel roII-up door with secure t-bar lock; many have garage door openers  - Clustered buildings with nearby open and carport parking are wood-paneled with fire-retardant composition shingle roofing  - Lighted', 1), (' 30907Equal Housing Opportunity LYxAh13d\"', 1), (' locked. *Off street parking - (hard gravel)  New sidewalks along 37th going in', 1), ('Washer and dryer.                       *Central air....                                                *Large front porch and back deck for those nice summer days and nights!!   *Finish basement only accessible to 1st floor', 1), (' Aurora ', 1), ('-80.1435', 1), (' Two-Tone Interior Color Scheme', 1), ('34.2656', 1), (' RECESSED LIGHTING', 1), ('100/month. Prefer no pets', 1), ('30.4147', 1), (' shopping and entertainment. Amazing rooftop pool and jacuzzi with panoramic city views.\"', 1), (' lighted and covered U.S. Mail delivery  - Individual 12x20 garages have slab floor', 1), (' and Landscapes - Pre-wired Intrusion Alarm - Ceiling Fans with Lighting in Bedrooms and Living Rooms - Walk-in Showers - Oversized Soaking Tubs - Stainless steel', 1), (' transporte en autobÃºs', 1), (' plus much more!   Schedule a tour today and find out why The Mills at Riverbend Commons is the best in apartment living for the Quad Cities.   Office Hours: Monday-Friday 9:00am - 4:00pm Saturday-Sunday Closed\"', 1), (' decorated laundry room with 6 washers and 6 dryers with \"\"his and hers\"\" individual restrooms  - Clustered buildings with nearby open and carport parking are wood-paneled with fire-retardant composition shingle roofing  - Electric', 1), ('-75.1878', 1), ('-120.681', 1), ('-80.3507', 1), (' and private balconies. Schedule a tour today and see for yourself!  This one bedroom one bathroom apartment features a fully equipped kitchen with a breakfast bar', 1), (' 30907Equal Housing Opportunity xl6PnEvTIPQ\"', 1), (' Dishwasher   Community Amenities: Saunas', 1), (' several restaurants and grocery shopping', 1), (' Movie Rentals', 1), (' bathroom and window coverings  * Secured entry  * Coin laundry on site.  * Great location; easy access to freeway', 1), (' storage locker in basement Just 1 block to CTA Blue Line stop! Assigned parking spot for $50/month. Easy I-290 access. Walk to local shops & restaurants.\"', 1), (' CT 06057  Tel:  show contact info  (call or text)  Licensed Real Estate Broker in CT  www.SellitMike.com   WARNING: Please beware of fake postings for apartments and houses for rent.  Scammers will try to steal your personal information by posting ads for properties that do not exist', 1), (' washer and dryer included', 1), (' we\\'re a full service real estate/relocation company with over 20 years of experience in the Atlanta rental market. We\\'re your experienced guide to finding the perfect rental and our service is always 100% Free! We\\'ll save you time and money while helping you make the most educated decision on the rental that\\'s right for you.  For more information on this rental please contact Amanda or her assistant Heather at The Charlesworth Group.  Cell Phone :  show contact info  ------ Best Contact for quickest response   Office :  show contact info  www.atllease.com\"', 1), (' or Passport  * Social Security # or Tax ID number  * Last 3-4 current check stubs  * Phone and Fax of current and previous Landlords and Employers  * Self Employed: 4 current bank statements (reflecting Deposits only) & 2018 Taxes  * Any other documents supporting income verification (Social Security', 1), ('26.1078', 1), ('-157.848', 1), ('-157.838', 1), (' Black GE Appliances including Stove', 1), (' meadow walking trails and schools.  Sorry', 1), (' all that Washington DC has to offer is within your reach. Metro your way to a destination of your choice such as Old Town Alexandria', 1), ('27.9992', 1), (' work and party down!This ideal location provides easy access to I-80 and McCarran. Come live at Shoreline Plaza! Our caring committed management team will help you feel comfortable. Situated just off the main flow of traffic', 1), ('-82.1412', 1), (' second floor with balcony facing South', 1), (' work and party down!Deposit now only $850!Our AmenitiesClose to shopping', 1), (' plus a bright day room that contains a full kitchen and a bathroom with a stand up shower. Flooring includes Italian tile in the kitchen and bathroom', 1), (' no pets.  Application fee $20. Security deposit $1195 plus first months rent. (or pro-rated)  24/7/365 management provided by Class Acts Property Management. Call or email for appointment to see the unit- we are showing starting Sunday-Friday.\"', 1), (' tiled roof and is situated on a beautifully landscaped home site. Outstanding up-grades include wood cabinets', 1), ('-80.1564', 1), ('43.5885', 1), (' Police and First Responder Discount Call or Visit For Details.\"', 1), (' Synergy', 1), ('-97.6761', 1), ('41.5614', 1), (' and maintenance staff is on call. Income restriction may apply', 1), ('-77.8913', 1), (' CD player', 1), ('-82.5646', 1), ('-90.2585', 1), (' resident events and more.   Our homes include:  Stove / Refrigerator Dishwasher Central Air Your own yard! Plant a garden!  Pet Friendly Off Street Parking!  Community Pool / Playground / Basketball Court  We are conveniently located close to 131 and I-94 offering easy access to a variety of attractions', 1), (\" sewer and trash!  All of the rooms are very spacious. The living room is 12' x 15'\", 1), (' Call for Pricing * Microwave * Wood-Like Floors * Alarm Activation Available * Whirlpool Appliances * Walk-in Closet * Breakfast Bar * Private Balcony * Garden Tub * Roommate Friendly Floor Plan * Ceiling Fan * Extra Storage * Private Patio or Private Balcony (on select apartments) * Central Heat and Air * Electric Stove * Refrigerator', 1), (' Kenilworth Apartments lets you live like youâ\\x80\\x99ve always wanted at a price youâ\\x80\\x99ll love.  -Business center -Library & reading lounge -Shawnee mission school district -Clothes care until 10:00 pm -Fitness center -Newly renovated resident clubhouse -Flexible lease terms -Sauna -24/7 maintenance services -Brooks', 1), (' kitchen appliances', 1), (' & preventative pest control services  -LARGE pets welcome - just a few breed restriction and fees apply  -LOFTY Vaulted Ceiling!  -HUGE Laundry Room with Full Size Hook ups!  Award winning service! Quiet small community! Well maintained!  â\\x80¢do NOT contact me with unsolicited services or offers   Annhurst Apartments  4958 Dawn Drive   Indianapolis ', 1), ('-82.4264', 1), (' Kenilworth Apartments lets you live like youâ\\x80\\x99ve always wanted at a price youâ\\x80\\x99ll love.  -24/7 maintenance services -Natural stone fireplaces -Attentive management -Resident social events -Fabulous views -Newly renovated resident clubhouse -Private fenced patios -Shawnee mission school district -Library & reading lounge -Indoor heated swimming pool -Brooks', 1), (' some furniture can be removed to accommodate the tenant accordingly. Newly installed door lock and Nest Smart thermostat.  White', 1), (' 28277Want more information on this unit? See link (below):http://cl.greystar.com/3oiz8e This is a 2 Bedroom', 1), (' no voicemail available at this time. Signed lease required + PLUS DEPOSIT of $895.00 to hold the cottage at signing Lease Length:  5 MONTHS or more - $895.00 PER MONTH + plus ALL UTILITIES.... WATER IS INCLUDED AND SOFTENER    Yellow cottage with green roof as pictured..... FURNISHED', 1), (' call our office at  show contact info  to set up a showing before it\\'s gone. Our office hours are 9-12 and 1-4 Monday through Friday.        Details           Beds/Baths: 2BD/1.0BA       Square Feet: 400        Rental Terms         Rent: $500.00       Available: Now     Application Fee: $25.00     Security Deposit: $500.00        Pet Policy           Cats allowed       Small dogs allowed\"', 1), (' Kenilworth Apartments lets you live like youâ\\x80\\x99ve always wanted at a price youâ\\x80\\x99ll love.  -Outdoor swimming pool -Newly renovated resident clubhouse -24/7 maintenance services -Library & reading lounge -Granite countertops -Washer & dryer connections -Sauna -Private fenced patios -Flexible lease terms -Brooks', 1), (' and garbage) Electricity is in your own name (Electricity is not for heat or hot water/only what you turn on or plug in).  Walk to: Lake-walk', 1), ('35.948', 1), (' Resort-Style Saltwater Pool With Sundeck', 1), (' please.  No deposit', 1), (' offering several public beaches', 1), (' shared HVAC: Forced Air Garage: 1.5 car', 1), (' and Much More * Reserved Parking * Renters Insurance is Required * Guest Parking * After-Hours Emergency Maintenance  [#6997102]\"', 1), (' resident events and more.   Our homes include:  Stove / Refrigerator Dishwasher Washing Machine / Dryer Central Air Your own yard! Plant a garden!  Pet Friendly Off Street Parking!  Community Pool / Playground / Basketball Court  We are conveniently located close to 131 and I-94 offering easy access to a variety of attractions', 1), (' a front and back yard and has a flower bed ready to be planted.   VISIT OUR WEBSITE AT: findhomesinky.com FOR ADDITIONAL PROPERTIES', 1), (' Call for Details * Credit Cards Accepted * Car Wash Area * Gaming Area * Outdoor Grill Area * Tanning Bed * Movie Theatre  [#6900057]\"', 1), ('-85.4941', 1), ('35.5378', 1), ('-96.8331', 1), (' private storage room', 1), ('35.4896', 1), (' double pane windows', 1), (' AND OTHER USEFUL INFORMATION!  ***PLEASE READ: Rent is $575. Deposit is $575. Tenants pay electric', 1), (' I-65', 1), ('-86.1205', 1), (' Netflix', 1), (' VETERANS BLVD', 1), ('-89.9444', 1), (' Milford', 1), (' a single-bowl stainless steel sink and plenty of cabinet spaces with new paint. Just next to the kitchen is an open entryway to the dining room with excellent tile flooring too!  The newly updated bathroom offers cozy space with vanity and mirror', 1), (' Dishwasher & Electric Stove * Extra Storage * Garden Tub * Whirlpool Appliances * Wood-Like Floors * Roommate Friendly Floor Plan * Walk-in Closet * Ceiling Fan * Refrigerator * Furnished Options Available', 1), (' Private Driveway', 1), (' MS 39402  show contact info   Monday 9:00am - 6:00pm Tuesday 9:00am - 6:00pm Wednesday 9:00am - 6:00pm Thursday 9:00am - 6:00pm Friday 9:00am - 6:00pm Saturday 10:00am - 5:00pm    [#6939279]\"', 1), ('38.3045', 1), (' Tall Tub Dishwasher and Electric Range  - Opulent Track Lighting in Kitchen and Dining Areas  - Full-Size Washer & Dryer  - Granite Countertops  - Private Balconies Community Amenities - Upscale Framed Mirror  - Community Conference Room  - Oversized Soaking Tubs and Walk-in Showers*  - Grilling Areas with Premium Outdoor Cooking Equipment  - Resort-Style Swimming Pool with Expansive Tanning Areas and Fire Pit  - Business Center with PC and Macs  - Relaxation Courtyard with Ornate Landscaping  - Multi-level Clubhouse with Elaborate Entertainment Lounge with Wi-Fi CafÃ©', 1), (' Call today for details.  We price each apartment individually', 1), ('42.468', 1), ('45.5713', 1), (' NEW LIGHTING - UPDATED EAT-IN KITCHEN WITH NEW ENERGY STAR APPLIANCES- GAS STOVE', 1), ('-90.4312', 1), ('-93.3567', 1), (' Linen Closets', 1), (' Shopping', 1), (' but we do. We also offer Corporate Suites. Contact us today and reserve your new home at The Grande Reserve at Geist.  *Pricing and specials may vary  Apartment Features: Business Center Clubhouse Corporate Suites Fitness Center Playground Pool Air Conditioning Cable Ready Fireplace Dishwasher Disposal Microwave Tile Floors Crown Molding Hardwood Floors  Please call for an appointment today   Office Hours: Monday-Friday 9a-6p\"', 1), (' this community offers spacious and affordable living. Our amenities include: Air conditioning', 1), (' parks', 1), (' Media Room', 1), (' NC 28262  show contact info     [#6996237]\"', 1), ('37.4346', 1), ('-70.2468', 1), (' 24/7. -Faux Wood Flooring -Washer/Dryer Connections -Premium Hardwood Shaker-Style CabinetryPremium Hardwood Shaker-Style Cabinetry -Online Rent Payments -Resident Lounge  Call:  show contact info   Pricing and availability are subject to change.\"', 1), (' just in time for the holidays! Restrictions apply!\"', 1), (' Kenilworth Apartments lets you live like youâ\\x80\\x99ve always wanted at a price youâ\\x80\\x99ll love.  -Sauna -Library & reading lounge -Granite countertops -Outdoor swimming pool -Fabulous views -24/7 maintenance services -Completely renovated kitchens -Resident social events -Private fenced patios -Newly renovated resident clubhouse -Attentive management -Clothes care until 10:00 pm -Flexible lease terms -Natural stone fireplaces -Brooks', 1), (' like walkthroughs of the available homes.\"', 1), (' Kenilworth Apartments lets you live like youâ\\x80\\x99ve always wanted at a price youâ\\x80\\x99ll love.  -Business center -Natural stone fireplaces -Sauna -Fabulous views -Flexible lease terms -Resident social events -Shawnee mission school district -Brooks', 1), (' but we do. We also offer Corporate Suites. Contact us today and reserve your new home at The Grande Reserve at Geist.  *Pricing', 1), ('-86.5769', 1), ('46.9064', 1), ('-85.6374', 1), (' Young Joni and Matchbox Coffee.  Anchor Fish & Chips is only two blocks away and many other restaurants', 1), (' and 3 Bedrooms and 2', 1), (' flat screen TV', 1), ('37.9509', 1), (' microwave oven', 1), ('35.4894', 1), ('406.00\\t\\t\\t\\t\\t\\t\\t\\t\\t\\t\\t\\t\\t\\t\\t  Community Amenities\\t\\t\\t\\t\\t\\t\\t\\t\\t\\t\\t\\t\\t\\t\\t\\t\\t 24 Hour Fitness Gym\\t\\t\\t\\t\\t\\t\\t\\t\\t Club House\\t\\t\\t\\t\\t\\t\\t\\t\\t Swimming Pool\\t\\t\\t\\t\\t\\t\\t\\t\\t On-site Maintenance\\t\\t\\t\\t\\t\\t\\t\\t\\t TV Lounge\\t\\t\\t\\t\\t\\t\\t\\t\\t Playground\\t\\t\\t\\t\\t\\t\\t\\t\\t Pet Spa\\t\\t\\t\\t\\t\\t\\t\\t\\t Gated Community\\t\\t\\t\\t\\t\\t\\t\\t\\t Off Leash Dog Park\\t\\t\\t\\t\\t\\t\\t\\t\\t\\t\\t\\t\\t\\t\\t\\tProperty Contact\\t\\t\\t\\t\\t\\t\\t\\t \\t\\t\\t\\t\\t\\t\\t\\t\\t show contact info \\t\\t\\t\\t\\t\\t\\t\\t\\t\\t\\t\\t\\t\\t\\t\\t\\t\\t\\t\\t\\t\\t\\tEQUAL HOUSING OPPORTUNITY\"', 1), (' conveniently located just off Highway 54 in Carrboro/Chapel Hill.  -Washer & Dryer Appliances Included In Every Home -Pet Friendly -24-Hour Fitness Center with Cardio & Weight Equipment -Bike Friendly -Free Chapel Hill Transit -Playground -Beautiful Outdoor Living Spaces including a Firepit Lounge & Outdoor Kitchens -Luxury Lighting Fixtures -2  Resort Style Refinished Swimming Pools with Tropical Sundeck & Cabanas -Open Floor Plans -Screened-In Patios/Balconies -Beautiful Shaker Style White Cabinetry   Call:  show contact info\"', 1), (' Kenilworth Apartments lets you live like youâ\\x80\\x99ve always wanted at a price youâ\\x80\\x99ll love.  -Private fenced patios -Covered parking available -Washer & dryer connections -Clothes care until 10:00 pm -Business center -Resident social events -Indoor heated swimming pool -Granite countertops -Newly renovated resident clubhouse -Library & reading lounge -Sauna -Flexible lease terms -Fabulous views -Shawnee mission school district -Completely renovated kitchens  Call:  show contact info   *Equal housing opportunity*  Kenilworth Prices change daily', 1), ('42.2787', 1), (' Movie Lounge Area', 1), ('-85.6824', 1), (' MaintenanceÂ\\xa0Â\\xa0Online portal- access your account online to pay rent & submit work ordersÂ\\xa0Â\\xa0Student & Preferred Employer DiscountsÂ\\xa0Â\\xa0Flexible lease terms (short term rates may apply)Â\\xa0Resident Referral ProgramÂ\\xa0Resident events/functions/socials every monthÂ\\xa0Great location minutes from Washington University', 1), (' covered parking spot and extra storage unit. This condo has around 900 square feet and has an ideal layout. Huge family room that has awesome views of Lexington. Big master bedroom with plenty of closet space. Nice galley kitchen with plenty of cabinet and counterspace.  You also have a separate storage unit in the basement.  Hanover Towers features a coin-operated laundry in basement', 1), ('37.4257', 1), ('-106.543', 1), (' Durham', 1), ('-85.5941', 1), (' snowplowing', 1), (' back deck', 1), ('41.818', 1), (' 1 Bedroom', 1), (' water filtration', 1), (' subway tiled showers', 1), ('35.963', 1), ('-85.6376', 1), (' Walking Trails', 1), (' a beautifully furnished large master bedroom with a spacious walk in closet and private bath; plus a second office/bedroom that can be set up for a long term stay by colleague). There is a fully equipped kitchen', 1), ('42.7388', 1), (' mirrored walls', 1), (' Built-In Banquettes', 1), ('36.0597', 1), (' upgraded vanities and kitchen cabinetry and more. You get fine country living still close to town - just 4 miles off hwy. 87 halfway between Sanford and Spring Lake. It is twelve miles to Sanford', 1), (' including', 1), (' Kenilworth Apartments lets you live like youâ\\x80\\x99ve always wanted at a price youâ\\x80\\x99ll love.  -Indoor heated swimming pool -Fitness center -Newly renovated resident clubhouse -Completely renovated kitchens -Sauna -Flexible lease terms -Resident social events -Library & reading lounge -Shawnee mission school district -Private fenced patios -Outdoor swimming pool -Fabulous views -Washer & dryer connections -Attentive management -Clothes care until 10:00 pm  Call:  show contact info   *Equal housing opportunity*  Kenilworth Prices change daily', 1), (' and more..  This spacious 1993 3bed/2 bath 28x44  is sleek and beautiful in design including all the must haves for your new home Includes: â\\x80¢ Range/Refrigerator â\\x80¢ Microwave/Dishwasher  â\\x80¢ Central Air/ Heating (Natural Gas) â\\x80¢ Your Own Homesite - Plant Flowers', 1), (' Resort-Style Saltwater Pool With Sundeck   Pet Policy: Pet Friendly   Want more information? Follow this link: http://cl.greystar.com/4m60c1   Equal Housing Opportunity    oYNkljffVsf9\"', 1), ('-86.1381', 1), (' disposal. ice maker in frig', 1), (' MS 39402  show contact info   Apartment Features * Private Patio or Private Balcony (on select apartments) * Whirlpool Appliances * Electric Stove * Garden Tub * Pre-wired for internet and cable * Breakfast Bar * Refrigerator', 1), ('44.9481', 1), (' Kenilworth Apartments lets you live like youâ\\x80\\x99ve always wanted at a price youâ\\x80\\x99ll love.  -Washer & dryer connections -Natural stone fireplaces -Business center -Attentive management -Outdoor swimming pool -24/7 maintenance services -Completely renovated kitchens -Fabulous views -Fitness center -Newly renovated resident clubhouse -Shawnee mission school district -Indoor heated swimming pool -Private fenced patios -Covered parking available -Clothes care until 10:00 pm  Call:  show contact info   *Equal housing opportunity*  Kenilworth Prices change daily', 1), ('37.4329', 1), (' MS 39402  show contact info   VIEW OUR WEBSITE:  http://www.breckenridgeparkapts.com  Apartment Features * Wood-Like Floors * Microwave * Furnished Options Available', 1), ('35.8111', 1), ('-93.6336', 1), (' Bank', 1), (' MS 39402  show contact info     [#6893288]\"', 1), (' and major highways â\\x80¢ Resort style Outdoor Pool Area â\\x80¢ Brand new kitchens with white cabinetry and stainless appliances â\\x80¢ New luxury plank flooring and fresh paint throughout â\\x80¢ Laundry facilities on each floor â\\x80¢ ALL utilities included', 1), (' Pool', 1), (' no deposit. Call Jennifer for private showing!   UNIT FEATURES Balcony', 1), (' open concept', 1), (' skylights', 1), (' Neumann University', 1), ('-75.7522', 1), (' you are social and enjoy something resembling beer (eg', 1), (' and bark park - you and your four legged friends will feel right at home at Ashland Apartment Homes!  -On City Bus Line -Convenient Online Rent Payment -24-Hr Emergency Maintenance -Smoke-Free Living -Pet Friendly -Intercom Entrances -Bark Park -Spacious Floor Plans  Call:  show contact info     Find more info at https://www.iretapartments.com/ashland-apartment-homes/craigslist   Price and availability subject to change.\"', 1), (' Suite', 1), (' fixtures and more. Each bedroom has in wall closets with additional space in the master.   Laundry is conveniently located on the same floor just down the hallway for easy access.   Fountain Glen offers several great amenities for our residents. Enjoy our renovated 24-hour fitness room', 1), ('39.9455', 1), (' Outdoor Fireside Retreat', 1), (' Patios and Juliette balconies   Community Amenities: Covered', 1), (' standard background and credit check required for all applicants over the age of 18.Office Hours Monday-Friday:9:00AM-6:00PM Saturday:10:00AM-5:00PM Sunday:1:00PM-5:00PM Equal Housing Opportunity 7oFgJNCsBde\"', 1), (' the metropolitan doylestown has what you have been looking for. Call today to set an appointment to see your new apartment home. metropolitan doylestown. Apartment homes for living.    Starting at $1715 Call:  show contact info  For more information', 1), (' with rain style heads - Floating wall hung Italian style vanity', 1), (' Upgraded Light Package Throughout', 1), ('42.7904', 1), (' the Joint Base Charleston and we are within the Top Rated Hanahan School District. Pet Policy:Pets up to 75 lbs. welcome. Up to 2 pets per apartment. Breed qualifications do apply. Office Hours:Monday-Friday:9:00AM-6:00PMSaturday:10:00AM-5:00PM Equal Housing Opportunity Z67uc8QLYv\"', 1), ('34.1973', 1), ('45.4528', 1), (' standard background and credit check required for all applicants over the age of 18.Office Hours Monday-Friday:9:00AM-6:00PM Saturday:10:00AM-5:00PM Sunday:1:00PM-5:00PM Equal Housing Opportunity H8zLWCimrGO\"', 1), (' appliances', 1), ('43.2744', 1), (' Spin', 1), (' Home Depot & Bus Station.    Features: * 2 bedroom apt $850 / Per month (Non Smoker / No Pets)  *Central A/C & Heat *Refrigerator *Stove *Microwave *Dishwasher.   *Garbage Disposal *Washer & Dryer Ready For Hookups *Private Parking Lot.  -- Included: WATER / Garbage Pick up & Snow Remover.   * 1st month / Last and security deposit.  * Location: 2405 Harlem Road', 1), (' then it is still available- no questions via email', 1), (' standard background and credit check required for all applicants over the age of 18.Office Hours Monday-Friday:9:00AM-6:00PM Saturday:10:00AM-5:00PM Sunday:1:00PM-5:00PM Equal Housing Opportunity j2IocV33Pya\"', 1), ('-86.7178', 1), (' Kelly Drive', 1), (' Stainless appliances   Community Amenities: Covered', 1), (' 87109Equal Housing Opportunity WfMmScZ4Awfd\"', 1), (' the metropolitan doylestown has what you have been looking for. Call today to set an appointment to see your new apartment home. metropolitan doylestown. Apartment homes for living.     Starting at $1670 Call:  show contact info  For more information', 1), (' and bark park - you and your four legged friends will feel right at home at Ashland Apartment Homes!  -On City Bus Line -Convenient Online Rent Payment -Smoke-Free Living -Pet Friendly -Spacious Floor Plans -24-Hr Emergency Maintenance -Bark Park -Intercom Entrances  Call:  show contact info     Find more info at http://www.iretapartments.com/property/north-dakota/grand-forks-east-grand-forks/ashland-apartment-homes/   Price and availability subject to change.\"', 1), (' plus $925sec.   plus utility', 1), (' off street parking and coin-op washer/dryer on site! There is a minimum 15 DAY STAY. Security deposit required. We do allow some small pets. No smoking  Call Suites On Chocolate Office @  show contact info  or Ryan @  show contact info  with interest.   Available February 8', 1), (' full bedding sets', 1), ('-73.9199', 1), (' standard background and credit check required for all applicants over the age of 18.Office Hours Monday-Friday:9:00AM-6:00PM Saturday:10:00AM-5:00PM Sunday:1:00PM-5:00PM Equal Housing Opportunity jPk5M893IX\"', 1), (\" TV'S\", 1), (' standard background and credit check required for all applicants over the age of 18.Office Hours Monday-Friday:9:00AM-6:00PM Saturday:10:00AM-5:00PM Sunday:1:00PM-5:00PM Equal Housing Opportunity 35BgppKP\"', 1), (' or Manley Manor Apartments.  Hurry!  Apartments in Coburg are very popular!  I will look forward to hearing from you!  Owned and managed by Umbrella Properties Management.\"', 1), (' Carpeted Floors', 1), (' standard background and credit check required for all applicants over the age of 18.Office Hours Monday-Friday:9:00AM-6:00PM Saturday:10:00AM-5:00PM Sunday:1:00PM-5:00PM Equal Housing Opportunity pM2ZVS58VYa\"', 1), ('-75.1815', 1), (' and more. Our community also allows pets. Be sure to view our pet policy to learn more about our requirements and guidelines for your four-legged friends. Apply online now to begin making Riviera at Seaside your new home. www.RivierAtSeaside.com Features - Polished concrete floors*  - 12-foot first floor ceilings  - Luxury vinyl plank floors (non-first floor units)  - Patios and Juliette balconies*  - Island kitchens with granite countertops and top-quality appliances  - Contemporary cabinets and finishes  - Elevator-equipped buildings and fenced yards*  - Open floor plans *in select units Community Amenities - Covered grilling area  - Contemporary clubroom', 1), (' standard background and credit check required for all applicants over the age of 18.Office Hours Monday-Friday:9:00AM-6:00PM Saturday:10:00AM-5:00PM Sunday:1:00PM-5:00PM Equal Housing Opportunity B0Ow7FMVrr\"', 1), (' North Dakota!\"\" Call Now:  show contact info Want more info on this unit? See the link (below):http://cl.greystar.com/L54ri5 This is a 2 Bedroom', 1), ('40.2957', 1), ('490/month   Available: Now!   Application Fee: $35/adult (online application available)   Security Deposit: $500 On Approved Credit   *Photo\\'s are of a similar home. Actual finishes and layout may vary.\"', 1), (' standard background and credit check required for all applicants over the age of 18.Office Hours Monday-Friday:9:00AM-6:00PM Saturday:10:00AM-5:00PM Sunday:1:00PM-5:00PM Equal Housing Opportunity dnAJ0HOAxQY\"', 1), (' and bark park - you and your four legged friends will feel right at home at Ashland Apartment Homes!  -Intercom Entrances -Pet Friendly -Smoke-Free Living -Convenient Online Rent Payment -24-Hr Emergency Maintenance -Spacious Floor Plans -On City Bus Line -Bark Park  Call:  show contact info     Find more info at https://www.iretapartments.com/ashland-apartment-homes/craigslist   Price and availability subject to change.\"', 1), (' no more than 2 per apartment\"', 1), (' Edmond ISD', 1), (' wood grain and high gloss cabinetry - Custom European style tilt-and-turn windows give incredible views and great natural light - Advanced LED overhead recessed lighting and ceiling fans in every room   (+2) Spa Bathroom For All Guests - Spacious bathroom comes with a 6â\\x80\\x99 x 3â\\x80\\x99 extra large soaking tub to comfortably fit two - Modern glass shower doors - Full width/height mirrors with built-in lighting  (+3) Amenities  - 24-hour concierge services - Parking available - Club Sora membership; access to PostFit fitness center', 1), ('-75.7523', 1), (' standard background and credit check required for all applicants over the age of 18.Office Hours Monday-Friday:9:00AM-6:00PM Saturday:10:00AM-5:00PM Sunday:1:00PM-5:00PM Equal Housing Opportunity ar7HFC3M\"', 1), (' licensed real estate broker', 1), ('39.8978', 1), (' Cornbread Cafe', 1), (' Valet Trash with Recycling', 1), (' vinyl', 1), (' desk and electric fireplace.  There is DSL wifi', 1), (' standard background and credit check required for all applicants over the age of 18.Office Hours Monday-Friday:9:00AM-6:00PM Saturday:10:00AM-5:00PM Sunday:1:00PM-5:00PM Equal Housing Opportunity SajZd8RqSN\"', 1), (' Condominium level finishes', 1), (' and bark park - you and your four legged friends will feel right at home at Ashland Apartment Homes!Bedrooms: 3Bathrooms: 2Rent: 1195Amenities Include:24-Hr Emergency MaintenanceSpacious Floor PlansSmoke-Free LivingIntercom EntrancesBark ParkPet FriendlyConvenient Online Rent PaymentOn City Bus LineCall:  show contact info Find more info at https://www.iretapartments.com/ashland-apartment-homes/craigslistOffice Hours: Mon-Fri 8am-6pm | Sat 8am-1pm | Sun Closed Price and availability subject to change.\"', 1), (' 97229Equal Housing Opportunity 14zTMvGd\"', 1), (' this property does not allow the use of a co-signer.  Please be advised that the availability date is an estimate only. Due to factors beyond our control', 1), (' and more. Our community also allows pets. Be sure to view our pet policy to learn more about our requirements and guidelines for your four-legged friends. Apply online now to begin making Riviera at Seaside your new home. www.RivierAtSeaside.com  Call Now:  show contact info Use this link for more information:http://cl.greystar.com/8769g9 This is a 1 Bedroom', 1), ('41.5287', 1), (\" 6 month - $1600/month)  Security Deposit = 1 month's rent.  ABSOLUTELY NO PETS - Please do not even ask! This Oceanfront complex provides a great opportunity to be right in the center of Hilton Head's beach and activities.  Walk easily to the beach via a wooden boardwalk\", 1), (' OR 97526.   show contact info .  visit our website for this and other available units at www.221propertyservices.com\"', 1), (' NEW REFRIGERATOR AND NEW RANGE ----- LAUNDRY ROOM', 1), (' or Direct Deposit Only  PETS:  DOGS Considered on individual basis:  **Must be pre-approved **Local Vaccine Requirements Must Be Met **Maximum Limit: Two [2] Dogs **Additional [Non Refundable] $600 Pet Fee No CATS permitted  DISCLAIMER: Arrow Head is in close proximity to a *****Full Service Kennel***** This is a PLUS for DOG OWNERS who desire for their fur babies to be SOCIALIZED', 1), (' you will be responsible for your own driveway as well as your own lawn mowing and landscaping.  Rent is $950/month plus utilities and a $1', 1), (' rubbish removal (recycling mandatory)', 1), ('-121.299', 1), ('45.6644', 1), (' the metropolitan doylestown has what you have been looking for. Call today to set an appointment to see your new apartment home. metropolitan doylestown. Apartment homes for living.    Starting at $1765 Call:  show contact info  For more information', 1), (' and Entertainment  FLOORPLAN AMENITIES â\\x9c¶ Air Conditioning â\\x9c¶ Balcony or Patio â\\x9c¶ Breakfast Bar â\\x9c¶ Built-In Bookshelves â\\x9c¶ Cable Ready â\\x9c¶ Carpet â\\x9c¶ Ceiling Fans â\\x9c¶ Crown Molding â\\x9c¶ Den â\\x9c¶ Dining Room â\\x9c¶ Dishwasher â\\x9c¶ Disposal â\\x9c¶ Eat-in Kitchen â\\x9c¶ Family Room â\\x9c¶ Freezer/Ice Maker â\\x9c¶ Island Kitchen â\\x9c¶ Linen Closet â\\x9c¶ Office â\\x9c¶ Pantry â\\x9c¶ Range/Oven â\\x9c¶ Refrigerator â\\x9c¶ Storage Units â\\x9c¶ Vinyl Flooring â\\x9c¶ Walk-In Closets â\\x9c¶ Warming Drawer â\\x9c¶ Window Coverings   Website: http://apartmentsinantioch.com/*Price is subject to change without prior noticeEQUAL HOUSING OPPORTUNITY\"', 1), (' Soaking Tub or Stand-Up Shower with Custom Tile Surround*  - Gourmet Kitchen: Granite Countertops', 1), (' 1 mile from Stratton Air National Guard base.  Private off street parking', 1), (\" without the hassle and price. Our Location is Just the Beginning! Energy efficient windows and great shading means your electric heating and cooling won't be outrageous\", 1), (' etc.  This Lovely 3BR/2BA home in The Farm @ Carolina Forest is available now. This home features upgraded cabinetry', 1), ('40.0832', 1), (' Poolside WiFi', 1), (' complete with art walks', 1), (' 4.5% Fixed/5.617% APR', 1), ('-122.54', 1), (' stainless steel appliances. You also get a movable', 1), (' call us today at  show contact info  or click on the REPLY box above for our email contact info.    *Photos represent similar units. Units may vary. AP                    Bedford', 1), (' standard background and credit check required for all applicants over the age of 18.  Equal Housing Opportunity    U15iJxrw\"', 1), (' Valet Trash & Recycle Pickup', 1), (' full swing golf simulator', 1), (' please call for your private viewing now.  **Photos represent similar units. Units may vary.                                                             BS  Bedford', 1), ('-80.8475', 1), ('40.0338', 1), (' ALL summer long! Ideally situated for an easy commute', 1), (' OH 44313  show contact info  Call Now  Open: M', 1), (' I-90', 1), (' Italian', 1), (' call us today at  show contact info  or click on the REPLY box above for our email contact info.    *Photos represent similar units. Units may vary. AS1             Bedford', 1), ('-98.083', 1), (' standard background and credit check required for all applicants over the age of 18.Office Hours Monday-Friday:9:00AM-6:00PM Saturday:10:00AM-5:00PM Sunday:1:00PM-5:00PM Equal Housing Opportunity tBa0xyMKuo\"', 1), ('-115.133', 1), (' travertine in bathroom. New refrigerator', 1), (' Wood Style Flooring in Entrance & Kitchen', 1), (' or laugh and play in our activity pool.  Then go ahead and relax in one of our two outdoor Jacuzzis.   Presidential City is a great place to make friends!  show contact info  \"\"\"', 1), (' large pantry and lots of cabinet space. A separate utility room offers a washer and dryer as well as a storage/coat/shoe closet. Other features include central AC', 1), (' hardware', 1), (\" kitchen with pantry.  There's an electric stove and full-sized fridge. The bathroom has a tub/shower combo. The hook-ups for your washer and dryer (gas or elect) are located in the divided basement.  Newer roof\", 1), ('44.6158', 1), (' coffeemaker', 1), (' Wed 8:30-7:00pm and Sat 10:00-4:00pm\"', 1), (' Intercom building entry', 1), (' please.  Price Reflects Discount.  Professionally managed by C&R Real Estate Services Co. Equal Housing Opportunity Prices subject to change.    North Ridge Apartment Homes  21187 N.W. Galice Lane  Portland', 1), ('42.9125', 1), (' Shaker Style Cabinets', 1), ('595.00       Available: Now     Application Fee: $60.00     Security Deposit: $1', 1), ('  two and three bedroom apartments. Amenities include a 24/7 front desk attendant', 1), (' work history', 1), (' movable kitchen island for extra storage', 1), (' please call for your private viewing now.  **Photos represent similar units. Units may vary.  AS1               Bedford', 1), (' w/d', 1), (' Soaking Tub or Stand-Up Shower with Custom Tile Surround*  - Individual Patios and Balconies  - Generous Walk-In Closets *select units Community Amenities - Peaceful Community Green  - Outdoor Fireside Retreat  - Dog Park & Pet Spa  - Coffee Bar  - Resort-Style Saltwater Pool with Aqua Sundeck  - Gaming Area with Shuffleboard  - Resident-Exclusive Strength and Cardio  - Cyber Lounge with WiFi and iMac access  - Car Wash  - Poolside Outdoor Kitchen with Grilling Station  - Entertaining and Catering Kitchen in Club  - Covered Veranda  - Wi-Fi In Common Areas  - Bike Racks  - Center with Fitness on Demandâ\\x84¢ featuring a Cross-Functional Studio for Yoga', 1), (' 4.5% Fixed/5.240% APR', 1), (' bus stop', 1), (' and bark park - you and your four legged friends will feel right at home at Ashland Apartment Homes!Bedrooms: 3Bathrooms: 2Rent: 1160Amenities Include:Spacious Floor PlansConvenient Online Rent PaymentIntercom Entrances24-Hr Emergency MaintenanceBark ParkOn City Bus LineSmoke-Free LivingPet FriendlyCall:  show contact info Find more info at http://www.iretapartments.com/property/north-dakota/grand-forks-east-grand-forks/ashland-apartment-homes/Office Hours: Mon-Fri 8am-6pm | Sat 8am-1pm | Sun Closed Price and availability subject to change.\"', 1), (' please call for your private viewing now.  **Photos represent similar units. Units may vary.  AP            Bedford', 1), (' Nashville', 1), (' bedrooms for that large queen sized bed', 1), (' and a rooftop lounge', 1), (' Not a Party Place Excellent Credit Required', 1), (' Soaking Tub or Stand-Up Shower with Custom Tile Surround*  - Individual Patios and Balconies  - Storage Available  - Washer & Dryers  - Generous Walk-In Closets  - Personal Pet Yard* *select units Community Amenities - Dog Park & Pet Spa  - Entertaining and Catering Kitchen in Club  - Outdoor Fireside Retreat  - Resort-Style Saltwater Pool with Aqua Sundeck  - Cyber Lounge with WiFi and iMac access  - Resident-Exclusive Strength and Cardio  - Gaming Area with Shuffleboard  - Bike Racks  - Coffee Bar  - Wi-Fi In Common Areas  - Center with Fitness on Demandâ\\x84¢ featuring a Cross-Functional Studio for Yoga', 1), (' picnic table and a canopy. Walkable to Starbucks. Minutes to all three downtown hospitals', 1), (' Tile Surrounds in Baths & Showers', 1), (' Credit Card Payments Accepted', 1), ('-76.7248', 1), (' sewer and trash removal.  We are pet friendly - cats or small dogs (20 pounds) or less with breed restrictions and a one time pet deposit.   Office Hours: Monday - Friday  9 AM to 5 PM Saturdays - 10 AM to 4 PM *Appointments preferred*  Please visit our website at www.albanyriversedge.com  Must credit/income qualify.\"', 1), (' the Joint Base Charleston and we are within the Top Rated Hanahan School District. Call Now:  show contact info  x 4OR Text 4 to  show contact info  to contact our team.See our property details here:http://burlingtoncapital.aptdetails.com/ubgyte This is a 2 Bedroom', 1), (' and bark park - you and your four legged friends will feel right at home at Ashland Apartment Homes!Bedrooms: 1Bathrooms: 1Rent: 845Amenities Include:On City Bus LinePet FriendlySpacious Floor PlansIntercom EntrancesConvenient Online Rent PaymentSmoke-Free Living24-Hr Emergency MaintenanceBark ParkCall:  show contact info Find more info at http://www.iretapartments.com/property/north-dakota/grand-forks-east-grand-forks/ashland-apartment-homes/Office Hours: Mon-Fri 8am-6pm | Sat 8am-1pm | Sun Closed Price and availability subject to change.\"', 1), (' 74137Equal Housing Opportunity bSvUBjYwN4y\"', 1), (' standard background and credit check required for all applicants over the age of 18.Office Hours Monday-Friday:9:00AM-6:00PM Saturday:10:00AM-5:00PM Sunday:1:00PM-5:00PM Equal Housing Opportunity 0W8m2zrZe\"', 1), (\" don't just live there. Energy efficient windows and great shading means your electric heating and cooling won't be outrageous\", 1), ('232   Rent: $1', 1), ('460 - 3 occupants - $39', 1), ('42.6327', 1), (' Breakfast bar', 1), (' Patio/Balcony and more.  Apartments at Oak Park Village are equipped with Heat Individual - Electric', 1), (' and bark park - you and your four legged friends will feel right at home at Ashland Apartment Homes!  -Spacious Floor Plans -Bark Park -Intercom Entrances -Smoke-Free Living -Convenient Online Rent Payment -On City Bus Line -Pet Friendly -24-Hr Emergency Maintenance  Call:  show contact info     Find more info at https://www.iretapartments.com/ashland-apartment-homes/craigslist   Price and availability subject to change.\"', 1), (' and bark park - you and your four legged friends will feel right at home at Ashland Apartment Homes!  -Spacious Floor Plans -24-Hr Emergency Maintenance -Pet Friendly -On City Bus Line -Convenient Online Rent Payment -Smoke-Free Living -Intercom Entrances -Bark Park  Call:  show contact info     Find more info at http://www.iretapartments.com/property/north-dakota/grand-forks-east-grand-forks/ashland-apartment-homes/   Price and availability subject to change.\"', 1), ('40.3597', 1), (' $650 for two pets. $10 Pet Rent per pet each month. Maximum of two pets. Equal Housing Opportunity j9tkDi9Mqgq\"', 1), (' standard background and credit check required for all applicants over the age of 18.Office Hours Monday-Friday:9:00AM-6:00PM Saturday:10:00AM-5:00PM Sunday:1:00PM-5:00PM Equal Housing Opportunity fp4THlvn\"', 1), (' Attic storage', 1), (' Patio/Balcony and more. Nestled in the expansive forests of central Oregon', 1), (\" and schools.  There's a LR\", 1), ('-87.7029', 1), (' home is both the destination and the journey; however you choose to get there. Welcome to the neighborhood. Welcome to Riverside Village. Features and Amenities: - On-Site Retail- Smoke-Free- New Construction- Pet Friendly- Sprinkler System- Walking/Biking Trails- Heating- Tile Floors- Microwave- Island Kitchen- Carpet- Excellent Access & Exposure- Brand New Buildings with Modernized Systems Throughout- Multiple Nearby Housing Developments as well as Pantops- Bright Glass Facades- Shopping CentersPet Policy: Cat(s);Dog(s);Cats and Dogs Allowed: $300 Deposit. $25 Monthly Pet Rent. 1 Pet Limit.  Leasing Options - 6-Month', 1), (' or roommate if desired. We are an affordable housing community.  Our community features:    _ Planned Social Activities_ Spa_ Emergency Maintenance_ Fitness Center_ Senior Living_ Swimming Pool_ Garage(s)_ Pool_ Business Center_ Curbside Trash Pickup_ Arts and Crafts Activity Room_ Hair Salon_ Computer Room with Free Internet Access_ Free Refreshment Bar_ On-Site Church Services_ Convenience Store_ Executive Game and Billiards Room_ State-of-the-Art Fitness Facility  Our unit features:    _ Energy-Efficient All-Electric Kitchen_ Ceiling Fans_ Walk-In Closets_ Frost-Free Refrigerator with Icemaker_ Full-Size Washer and Dryer Connections_ Spacious Rooms_ Oval Garden Tub_ Tile Entry_ Crown Molding   Call us for more information!  --  show contact info  --Professionally managed by Westlake Housing', 1), (' and keyless entries everywhere on the property.  Schedule your tour today and discover a wide selection of amenities and features at this community. These include: a coffee bar', 1), (' AL 36542Phone:  show contact info   Website: https://www.oneclubcondos.com/   EQUAL HOUSING OPPORTUNITY\"', 1), (' or roommate if desired.  We are an Affordable Senior Housing community. Call us today!  show contact info   Professionally managed by Westlake Housing', 1), (' 78045Equal Housing Opportunity HrYcGJ70rv5D\"', 1), (' and washer and dryers in the unit. The bedroom is spacious enough to have a king size bed in', 1), ('-88.9133', 1), ('64.8422', 1), ('-97.39', 1), (' Pest Control and Trash.  PET FRIENDLY! NO BREED RESTRICTIONS!  VERY SAFE LOCATION!  Amenity-Rich Lifestyle Includes: Resort-Style Pool 24/7 Fitness Center Basketball Court Tanning Bed  Community Grill 2 Fenced in Pet Areas On-site Parking Online Payments Available  Apartment Amenities Stainless Steel Appliances Dishwasher Wood Flooring Private Balcony *Select units Privacy Fence *Select Units Handicap Accessible High Speed Internet ------ I have really enjoyed staying in this apartment! The Staff is great!  Contact: Kim at:  show contact info  (Calls Only. No Texts Please). Thank you.\"', 1), (' Bike Trails and Recreation  - Covered Parking  - Professional and Friendly On-Site Management Pet Policy No more than two pets per apartment. No aggressive breeds. Monthly pet rent is $35 per pet.Pet deposit is $150 for one pet & $300 for two pets. Non-refundable pet cleaning fee is: $250 Income Requirements: Monthly income must be equivalent to three (3) times the net effective rental rate. Driving Directions Major crossroads are Gilbert Road and Guadalupe Road. Office Hours Monday through Friday: 9:00 am - 5:30 pmSaturday: 10:00 am - 4:30 pmSunday: Closed Equal Housing Opportunity 3zC5vSfSWE0\"', 1), (\" and indoor malls featuring some of the best brand-name stores.The city forms the core of the United States Census Bureau's Madison Metropolitan Statistical Area. Year-round\", 1), (' Hallways and Bedrooms(s)  - Hallway Light Sconces*  - Private Balcony/Terrace  - Flat Panel Interior Doors  - Appliance Package  - Garbage Disposal  - Front Entry Door with Privacy Screen Door  - Large Spacious Floor Plan(s)  - 2 in 1 Washer and Dryer*  - Full-Size Ceramic Smooth Top Oven  - Lighting in Brushed Nickel Finish and Mirror Over Vanity*  - Showerhead and Tub Hardware in Chrome Finish Community Amenities - Fully Equipped Fitness Center  - Business Center with Internal and Fax  - Putting Green  - Resort Style Swimming Pool and Spa  - Covered Parking and Additional Guest Parking  - Modern Lounge  - Billiards Room  - Mature Landscaping with an Abundance of Palm Trees  - Barbeque Grills Pet Policy Cats - allowed', 1), ('-96.7676', 1), (' 78045Equal Housing Opportunity efdKC3kLG\"', 1), (' or roommate if desired.  We are an Affordable Senior Housing community. + + + + + + + + + + + + + + + + + + + + + + + + + + + + + + Address:  15001 Crosswinds Dr Houston', 1), (' master bath with garden tub', 1), (' state-of-the-art fitness center', 1), (' blue and curtain rods \\t8. 2 wooden tables : big and small \\t9. 2 moisturizer machine        10.  a vacuum cleaner\\t         11. a nice electric kettle        12. a Modern Lounge chair        13. a PUR Ultimate Pitcher with Lead Reduction  Was $ 1998  With Deal: $ 599.40 You Save: $ 1398.60 (70%)\"', 1), (' and is full of color and charm. The  kitchen is fully furnished with pots', 1), (' gated community with immaculate award-winning landscaping * Newly remodeled clubhouse * 2 mile walking trail * 2 fitness rooms * 2 pools  * 5 playgrounds * Newly expanded dog park * Tennis courts * Soccer field * Baseball diamond * Car washing stations * Monthly resident events * Spotsylvania Towne Center and Central Park  * Historic downtown Fredericksburg only 10 minutes away * I95 exit 126 entrance less than 4 miles away * Discounts for: seniors', 1), (' Sumner has maintained its small-town', 1), ('500 security deposit  Application and Credit/Background check required $40 fee\"', 1), ('-122.453', 1), (' Upgraded cable included: HBO', 1), (' High efficiency light fixtures   Community Amenities: R-54 high density foam insulation', 1), (' and up to $50.00 per month separately metered electrical meter.  Call for appointment to see.\"', 1), ('195/mo KEY FEATURES  Sq Footage:  1390 sqft. Bedrooms:  3 Beds Bathrooms:  3 Baths Parking:  3 Lease Duration:  1 Year (See Details Below) Deposit:  $1', 1), (' move in date and availability. Additional fees may apply. This apartment requires a $250 deposit.  VIEW OUR WEBSITE:  http://www.theorchardsapts.com    Community Features * Playground * Hiking Trails * Car Wash Area * Our prices can change daily', 1), (' Pendant Lighting Over Kitchen Bars/Islands', 1), (' comfort and affordability. Our studio and one-bedroom apartment homes have recently been renovated', 1), (' Maryview Park and I-264  - Sparkling swimming pool  - Community room  - Clothes care center Income Requirements: CURRENT INCOME LIMITS:1 PERSON - $31', 1), (' maintenance requests & more -Close to Restaurants -Wood-style flooring & designer carpet -Air Conditioning  Call  show contact info  www.WindrushLiving.com  *Pricing and availability subject to change.\"', 1), (' 1210 sq ft living space finished with BRAND NEW kitchen hood/gas stove', 1), (' ceramic tile on tub/shower enclosure and floor', 1), (' home is both the destination and the journey; however you choose to get there. Welcome to the neighborhood. Welcome to Riverside Village.    Call us to schedule a personal tour!  show contact info EQUAL HOUSING OPPORTUNITY\"', 1), (' or screened in porch', 1), (' Belle Meade Shopping  Amenities:  doorman', 1), ('-79.944', 1), (' call Platinum Properties of NWA Real Estate & Management  3291 S Thompson St', 1), (' 78045Equal Housing Opportunity o3cUEFYu\"', 1), (' central heating and air', 1), (' and hesitant to leave. Call today!   Pet Policy:  Large pets welcome (select breeds)    Income Requirements:  2 /12 times base rent    Office Hours:  Monday-Friday:8:30AM-5:30PM Saturday:10:00AM-5:00PM   Equal Housing Opportunity    IynT30vTj\"', 1), (' Bishops Arts District and downtown Dallas - and a new way of living in north Oak Cliff. Our 1', 1), (' 78045Equal Housing Opportunity t6zmY6dYW\"', 1), ('29.392', 1), (' and extra deposit and extra monthly fee.  Call Brent Hill', 1), (' Spring Pull-down Faucets & Under-cabinet Lighting  - Large Walk-in Closets With Wood Shelving  - Energy Efficient Whirlpool Stainless Steel Appliances Including Side-by-side & French Door Refrigerators* With Water & Ice Dispenser & Slide-in Ranges*  - Double Vanities* *In Select Apartment Homes Community Amenities - State-of-the-art Athletic Center With Cardio Theater', 1), (' gorgeous pool and hot tub', 1), (' Our rent to own program may be your solution!!  CONTACT TONY @  show contact info  to schedule your private consultation!  Many more homes and many more neighborhoods are available for this program', 1), (' move in date and availability. Additional fees may apply. This apartment requires a $250 deposit.  Apartment Features * Disposal * Pre-wired for internet and cable * Private Patio or Private Balcony (on select apartments) * Central Heat and Air * Alarm Activation Available * Washer and Dryer in unit * Electric Stove * High Definition Digital Cable Packages Available * Microwave * Furnished Options Available', 1), (' 78045Equal Housing Opportunity gWqgxNYqv6l\"', 1), ('-149.579', 1), (' 22405Equal Housing Opportunity QgK3l1QyP\"', 1), (' Private yards in select homes', 1), ('-89.6412', 1), ('33.0004', 1), ('-111.385', 1), (' Bike Trails and Recreation  - Pet Friendly!! We Love Pets!  - Excellent Freeway Access  - Poolside Cabanas with Complimentary Wi-Fi  - Online Payment and Service Requests Pet Policy No more than two pets per apartment. No aggressive breeds. Monthly pet rent is $35 per pet.Pet deposit is $150 for one pet & $300 for two pets. Non-refundable pet cleaning fee is: $250 Income Requirements: Monthly income must be equivalent to three (3) times the net effective rental rate. Driving Directions Major crossroads are Gilbert Road and Guadalupe Road. Office Hours Monday through Friday: 9:00 am - 5:30 pmSaturday: 10:00 am - 4:30 pmSunday: Closed Equal Housing Opportunity 0y81MS2y\"', 1), (' 78045Equal Housing Opportunity L2RVYlnmeq\"', 1), (' tile floors', 1), (' XBOXâ\\x84¢ and arcade tables  - Private Garages*  - Poolside grilling area  - Separate clubroom seating space  - Package Receiving  - 24 hr Emergency Maintenance Service  - Copy/Fax Available  - Fitness Center  - Poolside green space with bocce ball  - Professional Landscaping Pet Policy Call for details. Office Hours Mon-Fri 9-6 Sat 10-5Sun 12-5 River Oaks Apartments 2940 Shumard Oak Dr', 1), (' and a microwave.  The Grande is fully furnished', 1), (' 78045Equal Housing Opportunity BuPcQf6TaF\"', 1), (' VA 24506  show contact info     [#7006523]\"', 1), ('700/mo in verifiable gross pay). All residents can combine their pay to achieve this threshold. - Provide accurate and complete information on the application form - $50 application fee PER ADULT (18+) - Application must be filled out for each adult living on the premises  APPLICANTS MUST NOT HAVE: - Been evicted from a property in the past 10 years - Been a convicted felony (NO FELONS!!!)  PLEASE NOTE: - Washing machine and dryer are not provided - All utilities are paid by the tenant / owner - Tenant is responsible for yard care - We have a zero tolerance policy for late payments. Rent is due on the 1st. Grace period ends on the 3rd. The eviction process begins on the 4th. - We perform a thorough background check on all applicants which includes criminal and credit investigations', 1), (' Lights', 1), (' 78045Equal Housing Opportunity yoT58zVO\"', 1), (' Linen Closets and Kitchen Pantries -Sparkling Swimming Pool -Laundry Facility -Cable TV Available -Spacious Floorplans -Close to Shopping  Call  show contact info  www.WindrushLiving.com  *Pricing and availability subject to change.\"', 1), (' Full Bath/Vanity~~~~  On Site Management. Gazebo/BBQ Area Wonderful for Family Gatherings.  $450 Includes Water', 1), (' or roommate if desired. We are an affordable housing community.  show contact info  Our Amenities:  -- Pool-- Curbside Trash Pickup-- Access Gate-- Grill-- Sport Court-- Private Garage-- Full-Size Washer and Dryer Connections-- Frost-Free Refrigerator with Icemaker-- Walk-In Closets-- Spacious Rooms-- Energy-Efficient All-Electric Kitchen-- Crown Molding-- Ceiling Fans-- Oval Garden Tub-- Hair Salon-- Picnic Patio and Bar-B-Que Areas-- Big Screen Television with Surround Sound-- Convenience Store-- On-Site Church Services-- Computer Room with Free Internet Access-- Arts and Crafts Activity Room-- Indoor / Outdoor Dining Area Our Pet-Policy: Cat(s);Dog(s);Dogs Allowed. $150 Deposit. $10 Monthly Pet Rent. $150 Fee. 25 lb Weight Limit. 2 Pet Limit. Cats Allowed. $150 Deposit. $10 Monthly Pet Rent. $150 Fee. 2 Pet Limit.  Our Phone-Number:  show contact info Website: http://www.ameliaparc2.com/ Directions: Call for direction  EQUAL HOUSING OPPORTUNITY\"', 1), ('-102.148', 1), (' no pets and no smoking inside.  Please call Don at  show contact info  to schedule a showing or if you have questions.\"', 1), ('-149.864', 1), ('36.0917', 1), (' AL 36542  Our Apartment Homes Feature:   + Ceiling Fan(s)+ All Residences are Pre-Wired to Accommodate State-of-the-Art Technology with Integrated USB outlets+ Patio or Balcony+ 9 Ft Ceilings+ Modern Design+ Spacious Laundry Closets+ Storage Units+ Vaulted Ceiling+ Air Conditioning Our Residents Enjoy:  + Jacuzzi & Sauna+ Conference Room+ Online Services+ LuxuryÂ\\xa0Clubhouse+ Full Service Bar & Restaurant+ Energy Efficient Construction+ Luxury Community+ One- to Three-Bedroom Floor Plans+ State-of-the-Art Strength and Cardiovascular Equipment+ Outdoor Fireplace+ Conveniently Located Near Jack Edwards National Airport and Only a Short Drive Away from the Pensacola International and Mobile Regional Airports+ Renters Insurance Program+ Property Manager on Site Pets: Cat(s);Dog(s);Pet Friendly: No Aggressive Breed Dogs. $20 Monthly Pet Rent. $500 Fee. 2 Pet Limit.  Contact info:  show contact info    Website: https://www.oneclubcondos.com/  EQUAL HOUSING OPPORTUNITY\"', 1), ('-149.396', 1), (' Lawn and Pest Control Paid.  Call or Text Budah with On-Line Real Estate on his cell at  show contact info . Check out our website at www.bcsonlinerealestate.com to view our expanding inventory and availabilities.  RENTAL FEATURESLiving roomDining roomWalk-in closetRange / OvenRefrigeratorDishwasherGarbage disposalHeat: forced airCentral A/CCeiling fansDouble pane / Storm windowsCable-readyFireplace COMMUNITY FEATURESShared poolCovered parking  LEASE TERMS  $725.00 / month for a one year lease  $500 Deposit  All information in this presentation is from sources deemed reliable by our firm', 1), (' 78045Equal Housing Opportunity U3nWp9T8J\"', 1), (' Central Air', 1), (' covered parking space??  Oakridge has them! Contact us today to schedule a tour!!  Oakridge Apartments are conveniently located just off the Loop', 1), (' entertainment & grocery -Package Receiving -Black Appliance Packages -On-Site Maintenance -Electricity Included -Central Laundry Facilities -Private Yards  Call  show contact info  www.WindrushLiving.com  *Pricing and availability subject to change.\"', 1), (' indoor parking garage. Utilities provided include: water', 1), (' and modern surfaces. We are professionally managed by Prodigy Property Management', 1), (' Utah just off Bangerter Highway', 1), (' move in date and availability. Additional fees may apply. This apartment requires a $250 deposit.  Monday 9:00am - 6:00pm Tuesday 9:00am - 6:00pm Wednesday 9:00am - 6:00pm Thursday 9:00am - 6:00pm Friday 9:00am - 6:00pm Saturday 10:00am - 5:00pm Sunday By Appointment Only  Apartment Features * Furnished Options Available', 1), ('34.7666', 1), ('  electric  and grass mowing Credit check  and backround check', 1), (' and solid wood cabinetry.\"', 1), ('-96.8836', 1), (' entertainment & grocery -Private Yards -Electricity Included  Call  show contact info  www.WindrushLiving.com  *Pricing and availability subject to change.\"', 1), (' maintenance requests & more -Online Service Requests -Close to Shopping -Online Payments Available -Professional On-site Maintenance Team -Package Receiving -Close to Restaurants -Spacious Floorplans  Call  show contact info  www.WindrushLiving.com  *Pricing and availability subject to change.\"', 1), (' Wood Vinyl Flooring', 1), (' move in date and availability. Additional fees may apply. This apartment requires a $250 deposit.    [#6901214]\"', 1), (' Full size washer/dryer', 1), (\" and indoor malls featuring some of the best brand-name stores.  The award-winning Madison Children's Museum and the historic Cave of the Mounds are just the tip of the iceberg when considering great attractions in Madison. Chicly remodeled one and two bedroom floor plans available. If sports and recreation are more your speed\", 1), (' AT&T fiber ready', 1), (' 78045Equal Housing Opportunity EwmGgj7ffdB\"', 1), (' please feel free to call us 488-1001 .   8a1; last updated on 12/30/2019\"', 1), (' and the life style that living by Dallas Uptown/Midtown can offer.   Call or text anytime at  show contact info  for more information.  Apartment tours are made by appointment only.      To better assist you please provide us with the following:  First and Last Name Phone number Email Desired move in date Price range Desired Locations', 1), (' 78045Equal Housing Opportunity 42d3SUvRs7\"', 1), (' and keyless entries everywhere on the property.  Schedule your tour today! We are located on 2895 Pauling Ave in Richland', 1), (' 98126 We do not accept Comprehensive Reusable Tenant Screening Reports as defined by and pursuant to RCW 59.18.Equal Housing Opportunity RdkPha70\"', 1), ('64.7805', 1), (' double closets and an attached full bath. The rear room has plenty of room for the king size bed and also plenty of storage space. Another full bath is accessed just outside this bedroom from the hallway.   Great location just minutes to Taft Corners', 1), (' sports court', 1), (' or roommate if desired. We are an affordable housing community.  Our community features:    _ Pool_ Spa_ Garage(s)_ Sport Court_ Curbside Trash Pickup_ Business Center_ Fitness Center_ Senior Living_ Clubhouse_ Gameroom_ State-of-the-Art Fitness Facility_ Convenience Store_ Computer Room with Free Internet Access_ Arts and Crafts Activity Room_ Big Screen Television with Surround Sound_ Free Refreshment Bar_ Indoor / Outdoor Dining Area_ Hair Salon  Our unit features:    _ Energy-Efficient All-Electric Kitchen_ Tile Entry_ Spacious Rooms_ Full-Size Washer and Dryer Connections_ Private Garage_ Frost-Free Refrigerator with Icemaker_ Crown Molding_ Oval Garden Tub_ Walk-In Closets   Call us for more information!  --  show contact info  --Professionally managed by Westlake Housing', 1), (' pensions', 1), ('30.506', 1), (' Dishwasher and Built-in Microwave plus Disposal.  Just off the Kitchen', 1), (' and right off of the Beltline Highway.  Call today for details:  show contact info  or stop by our on-site offices. Visit Brownridge.stevebrownapts.com for a virtual tour of this apartment.  *Images shown are of model unit.  Application Criteria: All prospective residents who are over the age of 18 must complete a rental application form. Photo identification', 1), ('000 is refundable. This large 2 Bedroom Unit is located in downtown Fairbanks near hospital', 1), (' Full-Service Coffee Bar and Billiards Table Fully-Equipped Athletic Center with State-of-the- Art Cardio Theater', 1), (' High Speed internet (WiFi)', 1), (' Hardwood floors', 1), (' 78045Equal Housing Opportunity sm9lJ9iu\"', 1), (' Flat/Single Level  Features Open Style Floor Plans Air Conditioning Stylish Chrome Faucets & Stainless Sinks European Style Soft Close Cabinets Dishwasher Microwave Oven Pendant Lighting Floor to Ceiling Windows Quartz Counters and Custom Tile Backsplash Full Size', 1), (' VA 24506  show contact info   Monday 8:30am - 5:30pm Tuesday 8:30am - 5:30pm Wednesday 8:30am - 5:30pm Thursday 8:30am - 5:30pm Friday 8:30am - 5:30pm Saturday 10:00am - 4:00pm Sunday 1:00pm - 4:00pm  Apartment Features * Microwave * Ceiling Fan * Washer and Dryer hook-ups * Alarm Activation Available * Dishwasher * Garden Tub    Community Features * DVD Rentals * Swimming Pool * Extra Storage * Car Wash Area * Outdoor Grill Area * Garage Parking * Sand Volleyball Court * Professionally Managed * Fitness Studio * Movie Theatre * After-Hours Emergency Maintenance * Bark Park  [#6961492]\"', 1), (' Custom Wood Cabinetry with 42\"\" Upper Cabinets', 1), (' UT', 1), (' Perimeter Park', 1), ('36.0838', 1), (\" and are stylishly appointed with the kind of premium materials and finishes you won't find in any other apartment homes for rent in Houston\", 1), ('-149.138', 1), (' shopping & TX 130 Office Hours Monday:9:00AM-6:00PMTuesday-Thursday:9:00AM-7:00PMFriday:9:00AM-6:00PMSaturday-Sunday:10:00AM-5:00PMEstraya Georgetown 1 Gabriels Loop', 1), ('-122.507', 1), (' Basic Cable TV.   Washer & Dryer', 1), (\" and Foosball  - 24-hour maintenance  - 3 Elevators  - 24-Hour Maintenance  - Tropical Style Pool with Fire Pit  - Business Lounge  - BBQ grills Office Hours Mon - Sat: 9:00 am - 6:00 pm Sunday's 9:00 am - 6:00 pm  Prices are subject to change\", 1), (' & 2 BEDROOMS  PUBLIC TRANSPORTATION!  CLOSE TO SHOPPING!  Super Wal-Mart', 1), (' call to schedule a tour between the hours of 9 am to 5:30 pm daily.   Features: Refrigerator with Ice Maker', 1), (' Laguna Niguel', 1), ('33.9754', 1), (' 92606Equal Housing Opportunity eXFAoR3I5nmU\"', 1), (' call to schedule a tour between the hours of 9 am to 5:30 pm daily.   Features - Stainless Steel Appliances*  - Washer/Dryer Included  - Ceiling Fan*  - Nine-foot Ceilings  - Gourmet Kitchens  - Wood Flooring*  - Gas Cooking  - Quartz Counter Tops*  - Large Walk-in Closets*  - Plush Stain Resistant Carpeting*  - Central Air and Heat  - Refrigerator with Ice Maker  - Dishwasher  - Built-in Microwave  * Select Apartment Homes   Community Amenities - Playground  - Yoga Room  - Resort Style Pool and Spa  - 24 Hr. Fitness Center  - Fitness on Demand  - Out Door Pool Fire Place  - Harveston Lake House Access  - Pet Refreshment Pit-Stop  - Greystar Green Community  - Clubhouse with Catering Kitchen  - Spin Room  - Courtyard Lounge & Fire Pit  - Built-in BBQ areas  - Tech Cafe  - HOA Amenity Package-Additional Fees Apply   Driving Directions Take CA-91 E and I-15 S', 1), ('000        Rental Terms         Rent: $1', 1), (\" Arrowhead water dispenser or more...  Thereâ\\x80\\x99s a beautiful front yard/patio.  There is ample street parking.  The property owner:  ** (I'm the one writing this ad\", 1), (' unlimited hot showers', 1), (' work and party down!Feed the geese and ducks by the river', 1), ('38.5347', 1), (' approximately 1097 Sq. Ft. Features - Floor to Ceiling Windows*  - Roman Style Tubs  - Den  - 42\"\" Wooden Cabinets  - Walk-In Closets  - Hardwood Style Flooring  - Washer/Dryer in Unit  - Spacious Studio', 1), ('21.2924', 1), (' kitchen  Hardwood floors', 1), (' we have cut our application fee in half to $40 and we have waived our $200 administration fee- this makes for a great savings when applying for your future home! Feel free to check out our website at www.vertexfsu.com for more floor-plan layouts and community pictures. We can\\'t wait to see you!\"', 1), ('28.0776', 1), (' one bedroom ', 1), ('30.4625', 1), (' Government office complexes of South Capital Circle', 1), (' Peloton Bikes', 1), (' Flat/Single Level  Nestled around three beautiful lakes in Centre Ridge', 1), (' 24-hour fitness center with separate cardio and yoga studios', 1), (' large work office and one storage (you will to share with the person who live in the front-side house).  I am looking for SINGLE \"\"ADULT\"\" Professional (you must to be over 40 years old - community rules). Normal Person', 1), (' rich in natural and cultural resources  Shown by Appointment   Complete the online Application uandhproperties.com/rentals or rtd4.com/287275  Contact: Marva or Maria', 1), (' towels', 1), (' Information Technology.  Quiet', 1), (' Private balconies upstairs', 1), (' Saltwater Resort-Style Swimming Pool', 1), (' Lockheed', 1), (' work and party down!  Our caring committed management team will help you feel comfortable.Deposit now only $850!Our AmenitiesPlayground/Grass AreaAmazing LocationTennis CourtsOn-site ManagerLaundry FacilitiesWell-maintained LandscapeComfortable Community AreasLiving Room / Dining Room\"', 1), (' not to mention  your new home will be centrally located', 1), ('39.7359', 1), (' heated Spa in private gated gazebo area  - Clean', 1), (' online application.  Contact the rental office today for more information!  show contact info\"', 1), (' large open floorplan w HIGH 14 FOOT TIMBER CEILINGS and exposed brick has spacious living/dining room', 1), (' spacious living/dining room area', 1), (' Coffee bar', 1), (' 30907Equal Housing Opportunity 5sC9r8Hrkj\"', 1), (' 30907Equal Housing Opportunity An4u23PnbJC\"', 1), (' 80227 Prices are subject to change', 1), (' stainless steel', 1), (' Walk-in Closets.   Move In Ready   Amenities Include 2 Pools', 1), (' Police and First Responder Discount &  Preferred Employer Discount Call or Visit for Details!\"', 1), (' work and party down!Deposit now only $850!Our AmenitiesSwimming PoolLaundry FacilitiesTennis CourtsClose to shopping', 1), (' work and party down!Our caring committed management team will help you feel comfortable. Enjoy the efficient living space in a spectacular setting. From first-class entertainment to the flash and fancy of casino hopping', 1), (' Resort-Style Pool wit Water Features Including a Year-Round Infinity Edge Hot Tub and Indoor/Outdoor Terrace Seating', 1), (' work and party down! Enjoy the efficient living space in a spectacular setting. This ideal location provides easy access to I-80 and McCarran. Come live at Shoreline Plaza!Feed the geese and ducks by the river', 1), ('34.4388', 1), (' HUGE CLOSETS WITH LOADS OF SPACE. TILED THROUGHOUT. CARDS AND PARTY ROOMS', 1), (' living room and bedroom.  Intercom entry', 1), ('40.4109', 1), (' 12-MonthApartment Amenities:*Balcony*Vaulted Ceilings*Fireplace*Garbage Disposal*Ceiling Fan(s)*Carpet*Cable or Satellite Ready*New/Renovated Interior*Patio or Balcony Community Features: *Swimming Pool*Fitness Center*Freeway Access*Pets*Pet Friendly*Washer/Dryer Connections in all Apartments*24 Fitness center*Sunken living room*Valet Trash Pick-up*3 sparkling pools*Tile Partial*Wood-beam cathedral ceilings Call us:  show contact info   5205 North Boulevard Tampa', 1), (' 1 hour north of Panama City Beach.   Absolutetly no smoking inside the house. Smoking outside is OK.  1 year lease', 1), (' and dishwasher included.  Water', 1), ('38.6356', 1), (' 30907Equal Housing Opportunity OKwD4GlWX\"', 1), (' etc) would be very helpful.\"', 1), (' Block C is the place for you.Amenities Include:Clean Paws Pet Grooming StationIn Home Washer & DryerReserved Covered ParkingGourmet Kitchen with Quartz CountertopsC-LOUNGE roof top living roomWiFi in Common AreasYoga and Stretching RoomELECTRONIC parcel package systemFitness CenterModern Wood Grain Plank FlooringPool & Hot Tub with SundeckStudio', 1), (' complete showers with hot and cold water  - Electric', 1), ('-116.296', 1), (' Bike', 1), (' I-805 Deposit: $2', 1), (' AND STUDENT DISCOUNTS!   show contact info  http://www.magnoliavillassavannah.com/  Why not call or stop by today\"', 1), (' Granite or Quartz Countertops', 1), (' 32828Equal Housing Opportunity 71WiJYZNOA\"', 1), (' Screened in private patios or balconies', 1), ('-157.842', 1), ('-117.418', 1), (' snow and trash removal. Landlord pays water and sewer.  Tenants are responsible for their electric and gas(heat', 1), (' we will waive the second half of Jan. 2020 rent.  Contact the office for details.  Here at BelCielo Apartments', 1), ('40.4063', 1), (' work and party down!Situated just off the main flow of traffic', 1), (' 30907Equal Housing Opportunity 1E1o4IgbCJ\"', 1), ('-105.082', 1), (' Private deck/patio', 1), (' Kohler Toilet with Soft Close Lid', 1), (' 5 minutes from PAFB', 1), ('128 A Month! ð\\x9f\\x8f\\xa0 1', 1), (\" once a week April - October. -Water for lawn is on a well (you don't pay to water the lawn)  -Automatic sprinklers  Income must reflect 3 times the rent amount per month minimum or approximately $40\", 1), ('-75.1877', 1), (' or drive by and see us today. You will like what you see! Features - Walk-in Closets  - Private Balcony or Patio  - Extra Storage  - Central Air/Heating  - Full size Washer/Dryer In-Unit  - Vaulted Ceilings  - Dishwasher  - All Electric Kitchen  - Pantry  - Breakfast Bar  - Ceiling Fans Community Amenities - Tennis Court  - Swimming Pool  - Spa  - Fitness Center  - Covered Parking  - Landscaping  - On-Site and On Call Maintenance Pet Policy We are proud to be a Pet Friendly Communityâ\\x80¢Allow Max of 1 pet per unit (either cat or dog', 1), (' FL 34210-3649 Pet Policy: Cat(s);Dog(s);Breed Restriction;Weight Restriction;We welcome your pets at Coral Club! (60 lbs max for two) Non-Refundable Pet Fee $370 / $600 for two pets. Aggressive Breeds are prohibited: Akita', 1), (' Billiards and Plasma TVs -Car Care Center -Walking Distance to Avenue Shops   Call:  show contact info\"', 1), (' telephone', 1), (' Oversized Walk-in Closets', 1), (' and a concrete patio. Huge 10x5 walk in closet. Access to washer and dryer on main level of home. Front parking spot included. Entry through the garage/laundry room with passcode.  0.7 miles from the I-225 Iliff entrance and Iliff RTD Light Rail Station', 1), (' Expansive Windows', 1), ('-82.4768', 1), (' Double-sink vanities in select apartments', 1), (' automatic card key operated gate system  - Lighted', 1), (' Full-size washer & dryer', 1), (' bowls', 1), ('28.3644', 1), ('000+ per year annual household income.Please visit: www.NestingDown.com or Text \"\"Home\"\" to  show contact info    Lease Terms Please visit: www.NestingDown.com or Text \"\"Home\"\" to  show contact info   Or if you want to connect to a live person please call/text Leilani at  show contact info    Details    3 Bed / 1 Bath        Rent: $1', 1), (' Outdoor courtyards with fireplace area', 1), (' Oval Soaking Tubs in Master Bath', 1), ('38.876', 1), (' electricity', 1), (' family-owned and operated Retirement & Vacation Stay Community', 1), (' heated pool with sundeck and sail shades ~An executive business center and concierge service ~24-hour emergency maintenance ~Valet Trash pickup. Come make Coral Club your new home today! Located at: 5970 35th Street West Bradenton', 1), (' Shower Surrounds and Porcelain Tile In Bathrooms -Bark Park with Canine Cleanse -Private Patio or Balcony -Charge in a Snap with USB Outlets in your Kitchen -Wood-like plank flooring in Kitchens and Living Rooms -Business Center with Wi-Fi Cafe -Energy Star Stainless Steel Appliance Package  Call:  show contact info   Pricing and Specials subject to change daily and restrictions may apply. Please contact leasing agent for details.\"', 1), (' tennis court', 1), ('granite modern  bath. Enjoy the view form you balcony while enjoying those sunny days. New updates: new flooring', 1), (' Voodo', 1), (' & Wi-Fi Access  - Pet Friendly Community with Fenced Off-Leash Dog Area  - Attached Garages with Direct Access into Your Corridor*  - Non-Smoking Community  - Fantastic Location!  - Resort Style Heated Saltwater Swimming Pool and Jacuzzi Spa  - Pool Side Pavilion with BBQ Grilling Area', 1), (' Clearwater Beach', 1), (' layout plans', 1), (' Outside Patio Area', 1), (' or Walk to the downtown \"\"Night Life\"\". The new \"\"Depot Park', 1), (' 33615Disclaimer: Please be aware of scams on Craigslist. It is our practice never to require someone to complete a credit application or provide personal credit information before touring an apartment home. Rent is based on lease term selected. Please contact office for more details. Prices subject to change.Equal Housing Opportunity E50WuSNcN\"', 1), (' with modern architecture and design', 1), (' bar', 1), (' originally hardwood floors', 1), ('42.5167', 1), ('-79.008', 1), (' Fort Bragg or Pope AFB and 18 miles to Fayetteville. Also it is not too far to Aberdeen', 1), (' Kenilworth Apartments lets you live like youâ\\x80\\x99ve always wanted at a price youâ\\x80\\x99ll love.  -Outdoor swimming pool -Newly renovated resident clubhouse -Brooks', 1), (' the Opera House', 1), (' etc. This is a huge 2 bed', 1), ('-80.6899', 1), (' art studio or play room. STILL AVAILABLE.  Yard is separated into individual spaces.  Washer and Dryer each side. Tenant pays Utilities. Close to MARFORRES', 1), ('-78.6008', 1), (',,,ky', 1), (' Kenilworth Apartments lets you live like youâ\\x80\\x99ve always wanted at a price youâ\\x80\\x99ll love.  -Completely renovated kitchens -Attentive management -Library & reading lounge -Shawnee mission school district -Natural stone fireplaces -24/7 maintenance services -Resident social events -Granite countertops -Flexible lease terms -Fabulous views -Sauna -Covered parking available -Washer & dryer connections -Clothes care until 10:00 pm -Newly renovated resident clubhouse  Call:  show contact info   *Equal housing opportunity*  Kenilworth Prices change daily', 1), (' and Zen designs include a kitchen with peninsula and the Harmony design includes a beautiful kitchen island. -Shuffleboard -Electric Heating and Cooling -Elite Fitness CenterFeaturing a variation of cardio stations', 1), (' cutting-edge stainless-steel appliances', 1), (' NC 27407  show contact info   VIEW OUR WEBSITE:  http://www.legacyattwinoaks.com  Apartment Features * Ceiling Fan * Electric Stove * Dishwasher * Washer and Dryer hook-ups * GE Appliances * Disposal * Pantry * Microwave * Refrigerator * Breakfast Bar * Alarm Activation Available * Washer and Dryer available for rent * Central Heat and Air * Refrigerator', 1), ('054        Rental Terms         Rent: $875.00       Available: 12/01/2019     Application Fee: $25.00     Security Deposit: $875.00        Pet Policy           Cats not allowed       Dogs not allowed\"', 1), (' CCTV cameras in common areas', 1), (' Free Weights and Individual Strength Training Machines Driving Directions Across from King of Pops and Club Fetch Office Hours Monday-Friday:9:00AM-6:00PMSaturday:10:00AM-5:00PMSunday:1:00PM-5:00PMPet Policy 2 pets max; certain breed and weight restrictions. We require vaccination records and a picture of your pet. Income Requirements: 3X Monthly RentEqual Housing Opportunity s1VZm9Ck\"', 1), ('39.9015', 1), (' cannot be guaranteed due to on-site leasing activity', 1), ('-94.4569', 1), (' Waterloo West High. Cat okay', 1), (' and the Hiawatha Golf Course are within easy walking distance. Additionally', 1), (' MS 39402  show contact info   VIEW OUR WEBSITE:  http://www.breckenridgeparkapts.com  Apartment Features * Air Conditioning * Roommate Friendly Floor Plan * Ceiling Fan * Pre-wired for internet and cable * Full sized Washer and Dryer in unit * Microwave * Refrigerator', 1), ('435 Sq. ft- $995.00 3 bedroom 1', 1), (' 2 & 3 bedroom apartment homes. Many have been completely remodeled.CALL FOR AVAILABILITY! Features - Private balcony  - Ceiling Fans  - Huge living and dining area  - Heat and Water Paid  - Generous closets throughout  - Heated underground parking available  - Window coverings on all windows Community Amenities - Controlled access entry  - Elevators  - Private dock and sun deck  - Professional on-site management and maintenance  - Paddle boat', 1), (' casual and fine dining', 1), (' KY 40241 Call us at:  show contact info     Website: https://www.aspenwoodpeakliving.com/Professionally managed by Peak Living  EQUAL HOUSING OPPORTUNITY\"', 1), (' and each a full kitchen with fridge', 1), (' 2500 sq ft', 1), ('-93.1861', 1), ('-89.0037', 1), (' Towel service', 1), (' internet', 1), (' Stove Year Built: 1939 Lot Size: 35x116 Location: E of Harper / N Of Vernier Pets: TBD; Extra Fee  DESCRIPTION This 2/1 Ranch is strategically situated in Harper Woods neighborhood. There are schools', 1), (' Laundry', 1), (' NC 27407  show contact info   Apartment Features * Alarm Activation Available * Pantry * Washer and Dryer available for rent * Electric Stove * Ceiling Fan * Breakfast Bar * Microwave * Central Heat and Air * Washer and Dryer hook-ups * Refrigerator', 1), (' controlled access community conveniently located in Brannon Crossing.  At The Avenue we offer many wonderful amenities at our apartment community. We have the Trash Fairies trash service 5 nights a week', 1), (' and sprinkler system.   FRESHLY PAINTED!  No smoking.  Pets on a case-by-case basis with $300 non-refundable pet deposit.    First month', 1), (' Chrysler Park and the Boardwalk! We offer Studios', 1), (' St. Paul', 1), (' covered patio and fenced back yard access. The kitchen features a pass through window to the family room', 1), (' and TV Gallery  - Relaxation Courtyard with Ornate Landscaping  - Controlled Access Driving Directions Across from King of Pops and Club Fetch Office Hours Monday-Friday:9:00AM-6:00PMSaturday:10:00AM-5:00PMSunday:1:00PM-5:00PMPet Policy 2 pets max; certain breed and weight restrictions. We require vaccination records and a picture of your pet. Income Requirements: 3X Monthly RentEqual Housing Opportunity NIDg44OTIZ\"', 1), (' central air conditioning', 1), (' side tables', 1), (' dishes and silverware. Dinette in the kitchen. TV (local channels and internet connection) Wifi Bedroom furnished plus linens Great secured storage in the unit. Washer and Dryer in the building. Ironing board and iron. Newly updated bathroom with clawfoot tub and towels East facing porch overlooking the back yard gardens. Perfect for relaxing morning or evening.  On street parking is usually available right in front of the unit. Lots of local business within easy walking/biking distance.   No pets. Tenant responsible for gas and electric usage during occupancy.\"', 1), ('-93.2777', 1), (' full basement. Around the corner from Greater Mack.\"', 1), ('37.4365', 1), ('  You have a full functional kitchen: Glass Top Electrical range', 1), (' PLATES', 1), (' MS 39402  show contact info   VIEW OUR WEBSITE:  http://www.breckenridgeparkapts.com  Apartment Features * Pre-wired for internet and cable * Air Conditioning * Dishwasher * Ceiling Fan * Alarm Activation Available * Private Patio or Private Balcony (on select apartments) * Breakfast Bar * Private Balcony * Walk-in Closet * Refrigerator * Extra Storage * Wood-Like Floors * Garden Tub * Furnished Options Available', 1), (' Kenilworth Apartments lets you live like youâ\\x80\\x99ve always wanted at a price youâ\\x80\\x99ll love.  -Sauna -Natural stone fireplaces -Outdoor swimming pool -Fitness center -Brooks', 1), ('-78.5507', 1), (' and a link to the post you are inquiring about.   *P & I. Price $269', 1), (' Schlafly Bottleworks', 1), (' deep sink', 1), (' Gas Fireplace', 1), (' Call for Details * Car Wash Area * Sand Volleyball Court * Bark Park * DVD Rentals * Credit Cards Accepted * Our prices can change daily', 1), (\" price listed is based on today's availability. Call for details. * Credit Cards Accepted * All Inclusive Living\", 1), (\" a new refrigerator and stove electric approximately 4 years old . Newer replacement windows throughout. New laminate flooring installed in both BR's.\", 1), ('000 # Bedrooms: 1 # Baths: 1 Bedroom: 16 x 15 Kitchen: 7 x 11 Living Room: 20 x 12 Dining Room: 11 x 11 Basement: Shred (with coin washer & dryer', 1), (' and more..  This spacious 2016 3bed/2 bath 16x76 Champion is sleek and beautiful in design including all the must haves for your new home Includes: â\\x80¢ Range/Refrigerator â\\x80¢ Microwave/Dishwasher  â\\x80¢ Central Air/ Heating (Natural Gas) â\\x80¢ Your Own Homesite - Plant Flowers', 1), (' Kenilworth Apartments lets you live like youâ\\x80\\x99ve always wanted at a price youâ\\x80\\x99ll love.  -Fitness center -Sauna -Library & reading lounge -24/7 maintenance services -Covered parking available -Resident social events -Flexible lease terms -Fabulous views -Private fenced patios -Completely renovated kitchens -Outdoor swimming pool -Natural stone fireplaces -Indoor heated swimming pool -Newly renovated resident clubhouse -Shawnee mission school district  Call:  show contact info   *Equal housing opportunity*  Kenilworth Prices change daily', 1), ('42.2901', 1), (' Showtime', 1), (' playground', 1), (' dazzling flooring and new appliances will delight any cook.  The relaxing living room is big enough for lots of company and a big screen TV!   Buena Vista is located in the heart of West Acres Mall district and within a few blocks of Hornbachers', 1), (' Opulent Track Lighting in Kitchen and Dining Areas', 1), ('37.4382', 1), (' energy-efficient appliances', 1), ('-71.6219', 1), (' a peaceful location', 1), (' 2 & 3 bedroom apartment homes. Many have been completely remodeled.CALL FOR AVAILABILITY! Features - Ceiling Fans  - Heat and Water Paid  - Private balcony  - Generous closets throughout  - Window coverings on all windows  - Heated underground parking available  - Huge living and dining area Community Amenities - Fitness center and sauna  - Professional on-site management and maintenance  - Elevators  - Cats Welcome  - Party room with deck overlooking lake with WiFi  - Private dock and sun deck  - Walking paths with lakeside picnic/grilling area  - Controlled access entry  - Paddle boat', 1), (' and pots', 1), (' updated double pane windows', 1), ('-85.691', 1), (' beautiful ornate ceilings in all rooms', 1), (' MS 39402  show contact info     [#6951786]\"', 1), (' Gray Cabinetry', 1), (' Call for Details * Sun Deck * Renters Insurance is Required * Short or Long Term Lease Available * Bark Park * Playground * Outdoor Grill Area * Bike Racks * Credit Cards Accepted * Tanning Bed * Sand Volleyball Court * Swimming Pool * Car Wash Area * After-Hours Emergency Maintenance * Our prices can change daily', 1), (' they will go securely into the Hub. The Hub will allows residents the convenience of picking up packages at any time', 1), (' Sat 10am-4pm\"', 1), ('47.5034', 1), ('39.0762', 1), (' ER Nurses', 1), (' please read the FULL listing. 1 Bedroom apartment with kitchen', 1), (' and security required.Pamela ColettiRealtor/PartnerKeller Williams Realty Colonial Partners show contact info Licensed In: MALicense #: 9084673    Equal Housing Opportunity\"', 1), (' and verifying rental history (2-3 years good', 1), (' Kenilworth Apartments lets you live like youâ\\x80\\x99ve always wanted at a price youâ\\x80\\x99ll love.  -Flexible lease terms -Sauna -Completely renovated kitchens -Outdoor swimming pool -Private fenced patios -Business center -Shawnee mission school district -Library & reading lounge -Newly renovated resident clubhouse -Brooks', 1), (\" the Metals Bank Building is sited at the very heart of Montana's most celebrated city. With a metropolitan character found lacking in other Montana cities\", 1), (' MS 39402  show contact info   VIEW OUR WEBSITE:  http://www.breckenridgeparkapts.com  Monday 9:00am - 6:00pm Tuesday 9:00am - 6:00pm Wednesday 9:00am - 6:00pm Thursday 9:00am - 6:00pm Friday 9:00am - 6:00pm Saturday 10:00am - 5:00pm    Community Features * Outdoor Grill Area * Our prices can change daily', 1), (' walkin closet', 1), (' Tall Tub Dishwasher and Electric Range  - Granite Countertops  - Opulent Track Lighting in Kitchen and Dining Areas  - Custom Color Accent Wall  - Undermount Stainless Sinks  - Private Balconies  - Well-Appointed Kitchens  - A Range of Spacious One and Two Bedroom Apartment Homes  - Authentic Hand-Scraped Hardwood Floors  - Full-Size Washer & Dryer  - 2\"\" Stylized Wood Blinds  - Gourmet Preparation Island with Pendant Lighting* Community Amenities - Fully-Equipped Wellness Center with Highly-Specialized TechnogymÂ® Cardio Machines', 1), (' inventario actual', 1), (' two car garage and charm galore. There is a large bonus room in the basement perfect for exercise equipment', 1), (' Kenilworth Apartments lets you live like youâ\\x80\\x99ve always wanted at a price youâ\\x80\\x99ll love.  -Attentive management -Resident social events -Private fenced patios -Outdoor swimming pool -Washer & dryer connections -Completely renovated kitchens -Business center -Fabulous views -Natural stone fireplaces -Newly renovated resident clubhouse -Library & reading lounge -24/7 maintenance services -Indoor heated swimming pool -Covered parking available -Flexible lease terms  Call:  show contact info   *Equal housing opportunity*  Kenilworth Prices change daily', 1), (' MS 39402  show contact info   VIEW OUR WEBSITE:  http://www.breckenridgeparkapts.com    [#6905674]\"', 1), ('-94.9868', 1), (' IN', 1), (' WALK TO CREIGHTON SHUTTLE', 1), ('42.2404', 1), ('-87.39', 1), (' YES to pets and YES to customer service!  We offer amazing amenities', 1), (' you will enjoy serene suburbs with a modern twist as well as an easy commute to Charlotte.**Prices and Availability Subject to Change Without Notice** Details Availability date: February 15', 1), ('-92.1124', 1), (' managed by Blue Ridge Companies 17701 Halton Park Dr Charlotte', 1), (' Free Weights and Individual Strength Training Machines  - Water Efficient Plumbing Fixtures  - Private One-Car Garages  - Custom Cabinetry  - Grilling Areas with Premium Outdoor Cooking Equipment  - Oversized Soaking Tubs and Walk-in Showers* Pet Policy 2 pets max; certain breed and weight restrictions. We require vaccination records and a picture of your pet. Income Requirements: 3X Monthly RentDriving Directions Across from King of Pops and Club Fetch Office Hours Monday-Friday:9:00AM-6:00PMSaturday:10:00AM-5:00PMSunday:1:00PM-5:00PMJunction 1504 1504 Mainline Blvd', 1), (' lots of storage space. All tile', 1), ('called \"\"9G4\"\") and the third is about 350sf', 1), (' MS 39402  show contact info     Community Features * Short or Long Term Lease Available * Bark Park * Playground * Tanning Bed * Swimming Pool * Our prices can change daily', 1), ('-86.1206', 1), (' and a gazebo. When you need to take care of business', 1), ('41.5613', 1), (' please contact the leasing office. Additional deposit and fees will apply.The application fee is $40 per lease holder and guarantor.You will LOVE living here!Phone:  show contact info  Website: https://www.autumnridge-apartments.comCanâ\\x80\\x99t wait to meet you!Monday: 9AM-6PMTuesday: 9AM-6PMWednesday: 9AM-6PMThursday: 9AM-6PMFriday: 9AM-6PMSaturday: 10AM-4PMFederal law prohibits housing discrimination on the basis of race', 1), (' cable', 1), (' 22', 1), (' New York State Highway(Route 7)', 1), ('-82.9967', 1), ('36.6807', 1), (' the Joint Base Charleston and we are within the Top Rated Hanahan School District. Pet Policy:Pets up to 75 lbs. welcome. Up to 2 pets per apartment. Breed qualifications do apply. Office Hours:Monday-Friday:9:00AM-6:00PMSaturday:10:00AM-5:00PM Equal Housing Opportunity wqwoIssmQH4m\"', 1), (' Saturday 10 am to 3pm. www.warrenwoodapartments. com\"', 1), (' $25 monthly pet rent + $300 Additional Deposit.  * Smoking Policy: No Smoking within 10 feet of the property.   Interested? Email or call Brent at  show contact info  to schedule an appointment to view this amazing apartment. Let us show you why this classic building continues to be such a great place to call home.  Johnson Street flats is an Equal Housing Opportunity community', 1), ('-75.2444', 1), (' call us today at  show contact info  or click on the REPLY box above for our email contact info.    *Photos represent similar units. Units may vary. ap                 Bedford', 1), (' cable. Water - sewer -  snow removal-  yard maintenance included.   $ 785 month', 1), (' the Ashland Hi-Speed Line and right across the street from Nexxt Level Sports Coliseum.We offer an additional 5% off for anyone age 60 and over. You can also visit our website at www.DanJonmgmt.com to view all of our Beautiful Apartment Communities throughout New Jersey and Pennsylvania. Sorry', 1), (' cardio and resistance machines.  Resident Lounge A great place to unwind and hangout with your community. Come shoot some pool', 1), (' ornately carved doors', 1), (' and Frigidaire microwave. Beautiful black granite counters have been installed in the kitchen and bathroom. LED lighting has been installed throughout with new ceiling fans installed in the living room and bedroom. ELFA closets have been installed in both the bedroom and entry to maximize storage. The bathroom features a new tub', 1), (' NH 03857\"', 1), (' hamster', 1), ('39.1348', 1), ('45.3581', 1), (' Ceramic and Bamboo Flooring', 1), (' Walk In Closets', 1), (' along with lots of counter space', 1), (' the Joint Base Charleston and we are within the Top Rated Hanahan School District. Features: Spacious Closet Space', 1), ('-86.7594', 1), (' please call for your private viewing now.  **Photos represent similar units. Units may vary. AP               Bedford', 1), (' and a superior management team; Quatama Village is the place to call home.We are located steps away from the Quatama Max station', 1), (' walk in closets and a patio/balcony. Spacious one and two bedrooms with washers and dryers', 1), (' Condo', 1), (' standard background and credit check required for all applicants over the age of 18.Office Hours Monday-Friday:9:00AM-6:00PM Saturday:10:00AM-5:00PM Sunday:1:00PM-5:00PM Equal Housing Opportunity oUx2XSmR\"', 1), (' please call for your private viewing now.  **Photos represent similar units. Units may vary.  AP                Bedford', 1), (' Sat. 10am to 5pm or Sun. 1pm -5pm.  PLEASE GIVE US A CALL  show contact info\"', 1), (' OH', 1), (' no matter the season! Beautiful Landscaping and Views add to the great location. Enjoy your home', 1), ('40.1391', 1), ('-105.917', 1), (' bedding', 1), ('-78.6721', 1), (' plus monthly pet rent of $25.00/mth  Disclaimer: Property amenities/features listed above are deemed reliable but are not guaranteed. Prospective applicants should verify all amenities/features to their satisfaction. Landlord is not liable for any typographical errors or mistakes in amenities/features listed.         Details           Beds/Baths: 1BD/1.0BA       Square Feet: 670        Rental Terms         Rent: $1', 1), (' $650 for two pets. $10 Pet Rent per pet each month. Maximum of two pets. Equal Housing Opportunity d9dyeAN3gqt\"', 1), (' unknown when). Has a small backyard that is a mess due to construction of garage. Long 3+ car driveways will be made on both sides. Once finished', 1), (' 24/7 fitness center', 1), ('36.1157', 1), (' stone and glass mosaic backsplash', 1), (' please call for your private viewing now.  **Photos represent similar units. Units may vary.                                                  BS  Bedford', 1), (' and bark park - you and your four legged friends will feel right at home at Ashland Apartment Homes!  -Intercom Entrances -Bark Park -Pet Friendly -On City Bus Line -Smoke-Free Living -24-Hr Emergency Maintenance -Convenient Online Rent Payment -Spacious Floor Plans  Call:  show contact info     Find more info at http://www.iretapartments.com/property/north-dakota/grand-forks-east-grand-forks/ashland-apartment-homes/   Price and availability subject to change.\"', 1), (' Grove City', 1), (' New ath. new Energy star windows and New high efficiency Furnace &  Free laundry', 1), (' ALL summer long!  Ideally situated for an easy commute', 1), (' pleasant partially fenced deck', 1), (' and the VA on Marquam Hill.    Pet Policy: Fee: $25.00 per pet  Cats & Dogs Allowed  Breed Restrictions Apply Deposit: $300.00 First pet / $150.00 second    Managed by Affinity Property Management.  Equal Housing Opportunity. Pricing', 1), (\" across from the Appletree Business Park and just seconds from Dave's Christmas store.  December Giveway- Apply Now- All applicants go into a drawing for Tickets to the Buffalo Sabre's. Open seven (7) days a week our professional staff will help you tour our community.  Don't delay\", 1), ('-83.0552', 1), ('-82.9297', 1), ('44.9734', 1), (' and bark park - you and your four legged friends will feel right at home at Ashland Apartment Homes!  -Bark Park -Smoke-Free Living -Spacious Floor Plans -Convenient Online Rent Payment -Intercom Entrances -On City Bus Line -24-Hr Emergency Maintenance -Pet Friendly  Call:  show contact info     Find more info at https://www.iretapartments.com/ashland-apartment-homes/craigslist   Price and availability subject to change.\"', 1), (' Luxurious Bath: Granite Vanity', 1), ('35.4891', 1), (' TDY', 1), (' the Peace Bridge', 1), (' and bark park - you and your four legged friends will feel right at home at Ashland Apartment Homes!  -Bark Park -Convenient Online Rent Payment -Intercom Entrances -Pet Friendly -24-Hr Emergency Maintenance -Spacious Floor Plans -On City Bus Line -Smoke-Free Living  Call:  show contact info     Find more info at http://www.iretapartments.com/property/north-dakota/grand-forks-east-grand-forks/ashland-apartment-homes/   Price and availability subject to change.\"', 1), (' Edmond Memorial High School', 1), (' standard background and credit check required for all applicants over the age of 18.  Equal Housing Opportunity    Z1Rbmy2ULLf4\"', 1), ('-81.5026', 1), ('34.107', 1), ('-86.6546', 1), ('37.4354', 1), (' spacious closets including linen area and washer/dryer connections.  On-Site Management BBQ/Picnic Area Ceiling Fan Flexible Lease Terms Available Window Coverings Package Receiving Playground Close to Freeway Air Conditioner Community web site Individual Climate Control Heat Pump   To Honor our Veterans all Veterans will receive a $50 rent credit and the administrative will be waived. Thank you for your service!    Call:  show contact info   Prices and availability are subject to change at anytime without notice. Â\\xa0 Professionally Managed By:Â\\xa0 Yopp Properties', 1), ('-123.082', 1), (' quartz countertops and solid maple vanity -Full size new washer and dryer -New Heater and Air Conditioner  -Beautiful private lake and walking path directly behind condo (see photos) -Just steps to the Voorhees Town Center', 1), (' stainless steel new 14cu.ft refrigerator is perfect for two people', 1), (' (d) bathroom & kitchen fixtures and (e) updated lighting package  Please call our office to schedule a showing. Rented on a first come', 1), (' $1057 security deposit. First and security required at move in. If you are interested in owning: Add the Option to Purchase for 1 year. Option Deposit of $1900', 1), (' University District', 1), ('-122.752', 1), (' fixtures and more! This apartment home has two bedrooms on the main floor and a third bedroom in the loft. The upper bedroom features a walk in closet and bathroom off the living space.   Our community laundry is conveniently located on the same floor just down the hallway.  Fountain Glen offers several great amenities for our residents. Enjoy our renovated 24-hour fitness room', 1), ('-75.0132', 1), (' and bark park - you and your four legged friends will feel right at home at Ashland Apartment Homes!Bedrooms: 1Bathrooms: 1Rent: 815Amenities Include:Bark ParkSpacious Floor PlansConvenient Online Rent PaymentSmoke-Free LivingIntercom Entrances24-Hr Emergency MaintenanceOn City Bus LinePet FriendlyCall:  show contact info Find more info at http://www.iretapartments.com/property/north-dakota/grand-forks-east-grand-forks/ashland-apartment-homes/Office Hours: Mon-Fri 8am-6pm | Sat 8am-1pm | Sun Closed Price and availability subject to change.\"', 1), ('-74.2165', 1), ('-75.1731', 1), (' and bark park - you and your four legged friends will feel right at home at Ashland Apartment Homes!Bedrooms: 3Bathrooms: 2Rent: 1135Amenities Include:Bark ParkIntercom EntrancesConvenient Online Rent PaymentSmoke-Free Living24-Hr Emergency MaintenanceOn City Bus LinePet FriendlySpacious Floor PlansCall:  show contact info Find more info at http://www.iretapartments.com/property/north-dakota/grand-forks-east-grand-forks/ashland-apartment-homes/Office Hours: Mon-Fri 8am-6pm | Sat 8am-1pm | Sun Closed Price and availability subject to change.\"', 1), (' 74135Equal Housing Opportunity S9UwAY5Cni\"', 1), (' standard background and credit check required for all applicants over the age of 18.Office Hours Monday-Friday:9:00AM-6:00PM Saturday:10:00AM-5:00PM Sunday:1:00PM-5:00PM Equal Housing Opportunity hs7rUqoJk1\"', 1), (' Patio/Balcony and more. Oak Park is located at 4495 Pacifica Road Salem', 1), (' holistic treatment', 1), (' open-style kitchens with breakfast bar', 1), (\" 9' ceiling*  *Select homes. Community Amenities: Business center\", 1), (' specials', 1), (' the Joint Base Charleston and we are within the Top Rated Hanahan School District. Features: NEWLY Updated 1 & 2 Bedroom Apartments', 1), ('-122.684', 1), (' NC.   Now is the time to move to this beautiful community!!   Hawthorne at Leland is a pet - friendly community', 1), ('-77.3361', 1), (' that are not just thinking about a sale', 1), (' and bark park - you and your four legged friends will feel right at home at Ashland Apartment Homes!Bedrooms: 1Bathrooms: 1Rent: 815Amenities Include:Smoke-Free LivingBark ParkSpacious Floor PlansPet Friendly24-Hr Emergency MaintenanceOn City Bus LineConvenient Online Rent PaymentIntercom EntrancesCall:  show contact info Find more info at https://www.iretapartments.com/ashland-apartment-homes/craigslistOffice Hours: Mon-Fri 8am-6pm | Sat 8am-1pm | Sun Closed Price and availability subject to change.\"', 1), (' Spacious Linen', 1), (' there is plenty of open space', 1), ('40.2954', 1), (' 74137Equal Housing Opportunity ZgP1KjOS4\"', 1), (' standard background and credit check required for all applicants over the age of 18.Office Hours Monday-Friday:9:00AM-6:00PM Saturday:10:00AM-5:00PM Sunday:1:00PM-5:00PM Equal Housing Opportunity RlAoZt8YLQ9\"', 1), (' lots of shelving  * Beautiful kitchen with all appliances (stove', 1), ('39.9478', 1), ('-75.1379', 1), (' as well as an central courtyard. Our property is elegantly landscaped with grilling and patio area', 1), (' $1395 for 6+ months. All very nice. Please call Ellie Wallace', 1), (' and stainless steel kitchen appliances. 2 bedroom 1 bath. Includes Reserved Parking Space!   Youâ\\x80\\x99ll know you found home the minute you arrive.   Pet Friendly!  Non-Smoking Community!!  Bethany 5 Apartments Leasing Office 15420 NW Marianna Dr. #102 Portland', 1), (' NC.  Now is the time to move to this beautiful community!!  Hawthorne at Leland is a pet - friendly community', 1), (' all trash and recycling removal and one reserved off street parking space. Tenants pay their units NYSEG electric which controls your electric heat system', 1), (' and bark park - you and your four legged friends will feel right at home at Ashland Apartment Homes!Bedrooms: 3Bathrooms: 2Rent: 1190Amenities Include:24-Hr Emergency MaintenanceSpacious Floor PlansOn City Bus LinePet FriendlyConvenient Online Rent PaymentBark ParkSmoke-Free LivingIntercom EntrancesCall:  show contact info Find more info at https://www.iretapartments.com/ashland-apartment-homes/craigslistOffice Hours: Mon-Fri 8am-6pm | Sat 8am-1pm | Sun Closed Price and availability subject to change.\"', 1), (\" and near two major freeways. Travel across the city to anywhere in Columbus is a breeze!  Now leasing a wonderful 1BR/1BA ranch style apartment home: New Beige plush carpet so soft it transcends the walking barefoot experience. New Breakfast bar and counters - perfect for entertaining. New Neutral wall coverings that make any decor awesome A huge utility room with washer dryer hook-ups Bonus attic storage that's well lit and private Private patio  Equal Housing Opportunity  *requires move in by January 31st and a 12 month lease  Larkspur Apartments 5350 Jasmine Lane Hilliard\", 1), (' new Kitchen', 1), (' standard background and credit check required for all applicants over the age of 18.Office Hours Monday-Friday:9:00AM-6:00PM Saturday:10:00AM-5:00PM Sunday:1:00PM-5:00PM Equal Housing Opportunity kJZB1EDMo\"', 1), (' please call for your private viewing now.  **Photos represent similar units. Units may vary.                     MH  Bedford', 1), (' (15 minutes)', 1), (' drugs', 1), (' plank flooring and white trim.  For the first 2 applicant that apply in the next 24 hrs and get approved and move in by Jan. 10', 1), ('-81.7695', 1), (' and updated bathroom. Economical Natural Gas heat and hot water', 1), ('35.6234', 1), (\" stand-up paddleboards  - Private massage room  - On-site restaurant  - It's a place where you can actually use the water\", 1), (' please call for your private viewing now.  **Photos represent similar units. Units may vary.            AS  Bedford', 1), (' Hayesville presents an abundance of opportunities to get out and enjoy the pristine natural beauty of the area. We feature bright and well designed kitchens', 1), (' Energy Efficient Black Appliances with Overhead Microwave', 1), (' tenant only has to pay extra for the electric appliances and lights.  There is a laundry room in the building', 1), (' please call for your private viewing now.  **Photos represent similar units. Units may vary.                         MH  Bedford', 1), ('33.6211', 1), ('42.8884', 1), (' a reputable property management company with verified listings. Our apartment community also offers amenities such as Business Center', 1), ('40.8233', 1), (' Pets Allowed (with Limitations)', 1), ('45.6504', 1), ('45.2986', 1), (' laundry room with full size washer/dryer', 1), (' and lots of windows for natural light. The spacious kitchen has ceramic tile flooring and includes lots of counter space', 1), (' should be able to get by with just the fireplace.    Rental Criteria  Area- Whiteaker  Type- House  Pet- Dogs upon approval  Lease- 1 year   Amenities â\\x80¢\\tFULLY FURNISHED â\\x80¢\\tWASHER & DRYER â\\x80¢\\tINTERNET & TRASH INCLUDED IN PRICE   Details â\\x80¢\\tBeds/Baths: 2BD/2BA â\\x80¢\\tSquare Feet: 1571  Rental Terms â\\x80¢\\tRent: $1800.00  â\\x80¢\\tAvailable: 02/01/2019 â\\x80¢\\tApplication Fee: $50.00 â\\x80¢\\tSecurity Deposit: $3', 1), ('-83.0104', 1), (\" plus a reversible ceiling fan/light and disposal.  On those blistering hot summer days you'll want to cool off in our pristine solar heated pool. Forget about buying a washer and dryer and their maintenance costs; we provide a neat and tidy on-site laundry facility only steps away with state-of-the-art washers and dryers.  Enjoy living in this charming 29-unit\", 1), (' and bark park - you and your four legged friends will feel right at home at Ashland Apartment Homes!Bedrooms: 1Bathrooms: 1Rent: 855Amenities Include:Convenient Online Rent Payment24-Hr Emergency MaintenanceOn City Bus LineIntercom EntrancesBark ParkSmoke-Free LivingSpacious Floor PlansPet FriendlyCall:  show contact info Find more info at http://www.iretapartments.com/property/north-dakota/grand-forks-east-grand-forks/ashland-apartment-homes/Office Hours: Mon-Fri 8am-6pm | Sat 8am-1pm | Sun Closed Price and availability subject to change.\"', 1), (' Covered Veranda', 1), (' Kings Gate West Apartments also has 1 bedroom apartments available. 3 bedroom town homes as well.   Move-in ready apartments available now.   *Offered prices are for base rent only. Other charges', 1), (' please call for your private viewing now.  **Photos represent similar units. Units may vary. AS1                 Bedford', 1), (' standard background and credit check required for all applicants over the age of 18.Office Hours Monday-Friday:9:00AM-6:00PM Saturday:10:00AM-5:00PM Sunday:1:00PM-5:00PM Equal Housing Opportunity 8vkpGgtmDI\"', 1), (' NO UTILITIES INCLUDED.  This unit has oil heat', 1), (' Army', 1), (' rain style shower head/body jets â\\x80¦Gourmet kitchen with anti-microbial quartz countertops', 1), ('-75.0818', 1), (' and bark park - you and your four legged friends will feel right at home at Ashland Apartment Homes!  -24-Hr Emergency Maintenance -Smoke-Free Living -Spacious Floor Plans -Bark Park -Pet Friendly -Intercom Entrances -On City Bus Line -Convenient Online Rent Payment  Call:  show contact info     Find more info at https://www.iretapartments.com/ashland-apartment-homes/craigslist   Price and availability subject to change.\"', 1), (' carpet/vinyl flooring', 1), (' Subway', 1), (' and more. Our community also allows pets. Be sure to view our pet policy to learn more about our requirements and guidelines for your four-legged friends. Apply online now to begin making Riviera at Seaside your new home. www.RivierAtSeaside.com   Pet Policy:  Call for breed restrictions.    Office Hours:  Monday-Friday:9:00AM-6:00PM Saturday:10:00AM-5:00PM Sunday:11:00AM-5:00PM   Equal Housing Opportunity    PndcWhp6qq90\"', 1), (' and a large bathroom!  Here at Highland View we have a brand new 24-hour fitness room and 9am-9pm seasonal access to our swimming pool! We also have basketball courts', 1), (' and most desired Mt Tabor Neighborhood.Â\\xa0Our open one and two bedroom floor plans entice excitement toÂ\\xa0make it yours. Boasting with convenient advantages and location must-haves Connery Place is made for you.-Cable Ready-Close to Schools-Upgraded Lighting fixtures-Dishwasher-Window Coverings-Wired for Technology-Private Patio-Spacious Floorplans-Patio-Online Payments Available-Pet Friendly Community-Close to ShoppingCall:  show contact info Southeast', 1), (' authentic Philly neighborhood!  The Irvine has your future apartment ready for you. Choose from The Irvineâ\\x80\\x99s luxurious collection of studio', 1), ('195', 1), (' 18 and older', 1), ('-76.4676', 1), (' please call for your private viewing now.  **Photos represent similar units. Units may vary.  AP                  Bedford', 1), (' and bark park - you and your four legged friends will feel right at home at Ashland Apartment Homes!  -On City Bus Line -Smoke-Free Living -24-Hr Emergency Maintenance -Pet Friendly -Spacious Floor Plans -Bark Park -Convenient Online Rent Payment -Intercom Entrances  Call:  show contact info     Find more info at https://www.iretapartments.com/ashland-apartment-homes/craigslist   Price and availability subject to change.\"', 1), (' 74135Equal Housing Opportunity P2C9gebV\"', 1), ('-73.6683', 1), (' standard background and credit check required for all applicants over the age of 18.Office Hours Monday-Friday:9:00AM-6:00PM Saturday:10:00AM-5:00PM Sunday:1:00PM-5:00PM Equal Housing Opportunity wq1bohqb2H\"', 1), (' call us today at  show contact info  or click on the REPLY box above for our email contact info.    *Photos represent similar units. Units may vary. AP                Bedford', 1), ('-74.9036', 1), (' union school', 1), (' world-class amenities and panoramic views of Philadelphia and City Ave.  Come say hello to Presidential City and wave goodbye to all the other outdated apartment communities!  Call now', 1), (' the toilet is new and clean', 1), (' call us today at  show contact info  or click on the REPLY box above for our email contact info.    *Photos represent similar units. Units may vary.              MN Bedford', 1), ('35.0356', 1), (' Soaking Tub or Stand-Up Shower with Custom Tile Surround*  - Overlook Lake Views*  - Personal Pet Yard* *select units Community Amenities - Car Wash  - Poolside Outdoor Kitchen with Grilling Station  - Wi-Fi In Common Areas  - Bike Racks  - Resort-Style Saltwater Pool with Aqua Sundeck  - Dog Park & Pet Spa  - Gaming Area with Shuffleboard  - Outdoor Fireside Retreat  - Resident-Exclusive Strength and Cardio  - Cyber Lounge with WiFi and iMac access  - Entertaining and Catering Kitchen in Club  - Center with Fitness on Demandâ\\x84¢ featuring a Cross-Functional Studio for Yoga', 1), (' Links Golf & Athletic Club\"', 1), (' 78045Equal Housing Opportunity m9Yo01c8r\"', 1), (' Contemporary-Style Kitchen Cabinet Doors   Community Amenities: River View', 1), (' VA 24506  show contact info   VIEW OUR WEBSITE:  http://Legacyatlindenpark.com  Monday 8:30am - 5:30pm Tuesday 8:30am - 5:30pm Wednesday 8:30am - 5:30pm Thursday 8:30am - 5:30pm Friday 8:30am - 5:30pm Saturday 10:00am - 4:00pm Sunday 1:00pm - 4:00pm    [#6923096]\"', 1), (' 78045Equal Housing Opportunity 0Kabxxcw277\"', 1), (' VA 24506  show contact info     Community Features * Movie Theatre * Garage Parking * DVD Rentals * Professionally Managed * Sand Volleyball Court * Extra Storage * Bark Park * Car Wash Area * After-Hours Emergency Maintenance * Fitness Studio * Outdoor Grill Area * Swimming Pool  [#6900104]\"', 1), ('43.0816', 1), (' hardwood floors', 1), ('37.6594', 1), ('  (but can be considered). Contact for Immediate Move in and more information on:  show contact info\"', 1), (' 78045Equal Housing Opportunity J2gB7aEalUN\"', 1), ('045 Available:\\t08-16-2020 Bedroom(s):\\t2 Bathroom(s):\\t1 Square Footage:\\t430  Sq. Ft. Resident Responsible For:\\tElectric Laundry Location:\\tOn Site Washer: $2.00\\tDry: $2.00 School District:\\tElem: Franklin- Randall', 1), (' gym', 1), (' 2 pools', 1), ('38.068', 1), ('32.2138', 1), (' 3 closets', 1), (\" etc.) and would be contingent upon the terms of the lease. If you're looking for something for a shorter rental (i.e weekend)\", 1), (' or roommate if desired. We are an affordable housing community.  show contact info  Our Amenities:  .. Senior Living.. Gameroom.. Picnic Area.. Spa.. Pool.. Oval Garden Tub.. Tile Entry.. Full-Size Washer and Dryer Connections.. Crown Molding.. Spacious Rooms.. Ceiling Fans.. Frost-Free Refrigerator with Icemaker.. Energy-Efficient All-Electric Kitchen.. Walk-In Closets.. Executive Game and Billiards Room.. Indoor / Outdoor Dining Area.. Hair Salon.. Computer Room with Free Internet Access.. Big Screen Television with Surround Sound.. Convenience Store.. Picnic Patio and Bar-B-Que Areas.. On-Site Church Services Our Pet-Policy: Cat(s);Dog(s);Dogs Allowed. $150 Deposit. $10 Monthly Pet Rent. $150 Fee. 25 lb Weight Limit. 2 Pet Limit. Cats Allowed. $150 Deposit. $10 Monthly Pet Rent. $150 Fee. 2 Pet Limit.  Our Phone-Number:  show contact info Website: http://www.ameliaparc2.com/ Directions: Call for direction  EQUAL HOUSING OPPORTUNITY\"', 1), (' maintenance requests & more -Professional On-site Maintenance Team -Spacious 1and 2 Bedroom Homes -Black Appliance Packages -Online Payments Available  Call  show contact info  www.WindrushLiving.com  *Pricing and availability subject to change.\"', 1), (' 78045Equal Housing Opportunity 0o3udz6lLI9\"', 1), ('-89.4261', 1), (' maintenance requests & more  Call  show contact info  www.WindrushLiving.com  *Pricing and availability subject to change.\"', 1), (' you cannot beat this value!  Sand Pebble Apartments', 1), ('33.3611', 1), ('40.7161', 1), (' and the life style that living by Dallas Uptown/Midtown can offer.      Call or text anytime at  show contact info  for more information.  Apartment tours are made by appointment only.     To better assist you please provide us with the following:  First and Last Name Phone number Email Desired move in date Price range Desired Locations', 1), ('  http://www.inspirecom/independence-hill/community-overview.php                               ~ Key words: New Home', 1), (' etc.   Second bedroom luxuriously furnished with new bamboo floors', 1), (' broker/owner at  show contact info  to set up a time to view the interior.  We do NOT accept Section 8 (HUD).\"', 1), ('32.9979', 1), (' or breed restrictions for dogs. 3 dogs max', 1), ('-88.0363', 1), (' cookware).  All beds', 1), (' modern brushed nickel fixtures', 1), (' and lawn care. Absolutely no big parties', 1), (' designer', 1), (' Lawn Care and Pest Control Provided  Contact Budah with On-Line Real Estate on his cell at  show contact info  or in the office at  show contact info . Check out our website at http://www.bcsonlinerealestate.com to view our expanding inventory and availabilities.  RENTAL FEATURESLiving roomRange / OvenRefrigeratorDishwasherHeat: forced airAir conditioningCable-ready  LEASE TERMS  $575.00 / month for a one year lease  $400.00 deposit  $400.00 pet deposit per pet w/ $200.00 non-refunable  All information in this presentation is from sources deemed reliable by our firm', 1), (' German Shepherds', 1), (' and 3 Bedroom Floor Plans', 1), (' all tile floors', 1), (' entertainment & grocery -On-Site Maintenance -Balconies & patios -Central Laundry Facilities -Sparkling Swimming Pool -Pet Friendly -Covered Parking -Walk-in-Closets', 1), ('080', 1), (' 78045Equal Housing Opportunity EiWQ7xp9g63\"', 1), (' High: West Parking Location:\\tPaid parking near by No Pets Allowed  Madison Property Management 1202 Regent St. Madison', 1), (' please. No pets allowed. I pay gas', 1), (' Flat/Single Level  *More About This Property* Neighborhood: TRANSPORTATION  Whether youâ\\x80\\x99re hopping on the highway or catching the bus daily', 1), (' one bath', 1), (' Expansive wooded or courtyard views', 1), (\" as it's not about the money.  If you're interested\", 1), (' walk-in closets * Custom built-ins for art', 1), (' and the life style that living by Dallas Uptown/Midtown can offer.      Call or text anytime at  show contact info  to find out more about this apartment.      To better assist you please provide us with the following:  First and Last Name Phone number Email Desired move in date Price range Desired Locations', 1), (' Saturday 9-2 . To request an application or for other questions not covered here.   show contact info    After hours  show contact info\"', 1), (' and walk in closets in both bedrooms. You will experience modern day living at its finest!   You will love our amenities and well kept landscaping through out the property. We have 2 commercial fitness centers', 1), (' luxury 2 bedroom / 2 bath apartment homes in beautiful Door County', 1), (' and Kitchen Areas  - Washer and Dryer  - Ceiling Fans with Light Kits in Bedrooms and Living Room  - Walk-in Showers*  - Designer Lighting in Kitchen', 1), (' and business', 1), (' move in date and availability. Additional fees may apply. This apartment requires a $250 deposit.  VIEW OUR WEBSITE:  http://www.theorchardsapts.com  Apartment Features * Pre-wired for internet and cable * Linen Closet * Walk-in Closet * Full sized Washer and Dryer in unit * Furnished Options Available', 1), (' gas and lawn maintenance. Residents are only responsible for electric which is about $40-$60 a month. 1 year lease is required. There is a $25 background and application fee for every adult applicant. Only cats are allowed/sorry no dogs.  You will be impressed with the quality of the apartment and location! Very competitive price compared to other 2 bedroom apartments. It will not last long! Please call/text via  show contact info  to schedule for a view or with any questions!   RENTAL FEATURESLiving roomDining roomStorage spaceRange / OvenRefrigeratorDishwasherMicrowaveparking spaces Coin-op Washer and dryer  Additional storage  COMMUNITY FEATURES Walking distance Near transportationOff-street parking   Contact info:    show contact info\"', 1), (' AL 36542  Our Apartment Homes Feature:   _ Spacious Laundry Closets_ Premium ENERGY STAR Certified Frigidare Appliances_ Designer Kitchens w/ Custom Cabinetry_ All Residences are Pre-Wired to Accommodate State-of-the-Art Technology with Integrated USB outlets_ Double Pane Windows_ Modern Design_ Air Conditioning_ Dishwasher_ All New Low-VOC Carpeting Our Residents Enjoy:  _ TV Lounge_ Pet Friendly_ Pickle Ball Courts_ Putting Greens_ LuxuryÂ\\xa0Clubhouse_ Surf Shack Snack Bar offers Snacks', 1), (' move in date and availability. Additional fees may apply. This apartment requires a $250 deposit.  VIEW OUR WEBSITE:  http://www.theorchardsapts.com  Monday 9:00am - 6:00pm Tuesday 9:00am - 6:00pm Wednesday 9:00am - 6:00pm Thursday 9:00am - 6:00pm Friday 9:00am - 6:00pm Saturday 10:00am - 5:00pm Sunday By Appointment Only    [#6869024]\"', 1), ('46.251', 1), (' ceilings', 1), (' Restaurants & Other Conveniences  - Internet Access Available  - Resident Business Center  - Near Public Transit  - 2 Laundry Facilities on Site  - 2 Spas  - Clubhouse & social activities  - Cable and high-speed internet ready  - Close to Major Freeways  - 24 Hour Fitness Center with Brand New Equipment  - Business Center with free Wi-Fi  - 24 hour maintenance emergency service  - 2 Swimming Pools  - $1.6M in Extreme Makeovers!  - 2 Sparkling Swimming Pools *Not available in all units. See our manager for more details. Pet Policy Pet Friendly! (Restrictions do Apply) Driving Directions 83rd Ave', 1), (' 78045Equal Housing Opportunity dRyczjSX8\"', 1), (' move in date and availability. Additional fees may apply. This apartment requires a $250 deposit.  Apartment Features * Refrigerator * Washer and Dryer in unit * Full sized Washer and Dryer in unit * Private Patio * Central Heat and Air * Pre-wired for internet and cable * Disposal * Refrigerator', 1), (' which means you will get a number of extra amenities like new flooring', 1), ('-111.658', 1), (' featuring Technogym Cardio Equipment', 1), (' poker', 1), (' shed', 1), (' there is a washer and dryer in the garage. Water and garbage paid.  Sorry', 1), (\" and the Community Center. Also plenty of outdoor recreation opportunities in the area including Smugglers' Notch Resort\", 1), ('-88.0767', 1), (' for more then one car.  Three story building with elevator   Granite kitchen countertops  New Stainless Refrigerator', 1), (' new appliances & counters', 1), ('-95.4924', 1), (' shopping & TX 130  - Outdoor fireplace retreat with seating    Office Hours Monday:9:00AM-6:00PM Tuesday-Thursday:9:00AM-7:00PM Friday:9:00AM-6:00PM Saturday-Sunday:10:00AM-5:00PM    Equal Housing Opportunity    HiOgjnr2\"', 1), (\" availability and specials subject to change at any moment. Contact me for up to date information. Corey Jenkins - Licensed Real Estate Agent / Apartment Locator with Dallas Apartment Locators  show contact info   Please feel free to Call or text me at anytime.Follow @LeasingDallas on Instagram for periodic deals!REF#  - 111I work with a vast variety of apartments in the area. If you do not like this particular one then I'm positive I can find you something you enjoy. I specialize in Oak Lawn \", 1), (' Flat/Single Level  * Interior Features*   â\\x80¢ Luxury hard surface flooring  â\\x80¢ All units have balconies/patios  â\\x80¢ High speed internet  â\\x80¢ Washer and dryers  â\\x80¢ Natural ventilation  â\\x80¢ Built Green property  â\\x80¢ Abundant natural light  â\\x80¢ Energy efficient lighting and plumbing fixtures  â\\x80¢ Low-VOC paints  â\\x80¢ Centrally wired for DirecTVÂ® as well as cable  â\\x80¢ Hard-surface floors throughout all units  â\\x80¢ Stainless steel', 1), (' Gorgeous Kitchen tile back splash', 1), (' 4.5% Fixed/5.596% APR 3.5% Down', 1), ('43.0347', 1), (' home is both the destination and the journey; however you choose to get there. Welcome to the neighborhood. Welcome to Riverside Village.  Our community features:    -- Sprinkler System-- On-Site Retail-- Pet Friendly-- Smoke-Free-- New Construction-- Walking/Biking Trails-- Brand New Buildings with Modernized Systems Throughout-- Multiple Nearby Housing Developments as well as Pantops-- Excellent Access & Exposure-- Bright Glass Facades-- Shopping Centers  Our unit features:    -- Eat-in Kitchen-- Tub/Shower-- Heating-- Tile Floors-- Ice Maker-- Oven-- Views-- Disposal-- Stainless Steel Appliances   Call us for more information!  --  show contact info  --Professionally managed by ThalhimerPrice is subject to change without prior notice  EQUAL HOUSING OPPORTUNITY\"', 1), (' VA 24506  show contact info   Monday 8:30am - 5:30pm Tuesday 8:30am - 5:30pm Wednesday 8:30am - 5:30pm Thursday 8:30am - 5:30pm Friday 8:30am - 5:30pm Saturday 10:00am - 4:00pm Sunday 1:00pm - 4:00pm  Apartment Features * Washer and Dryer hook-ups * Alarm Activation Available * Microwave * Garden Tub * Ceiling Fan * Dishwasher    [#6969007]\"', 1), (' kitchen and bathroom  - Interior Finishes  - New kitchen cabinets and counter tops**  - Stove/oven Community Amenities - Washer/Dryer in Unit  - On Call Maintenance  - Covered Parking  - Courtesy Patrol  - Wi-Fi in Pool Area  - 2 Sparkling Pools  - BBQ Areas  - Fitness Center Pet Policy If you are looking for a pet friendly community in Phoenix', 1), ('-149.376', 1), (' from the natural beauty at the Arboretum to the free Henry Vilas Zoo. If sports and recreation are more your speed', 1), (' move in date and availability. Additional fees may apply. This apartment requires a $250 deposit.    [#6898519]\"', 1), (' vanity with extra Storage Cabinet. All Window Treatment Included.   Duplex has High Efficiency gas forced air furnace', 1), (' Across the street from Enduris park', 1), (' NO FEES!\"', 1), (' Lawn Care and Pest Control Provided.  Call or Text Budah with On-Line Real Estate on his cell at  show contact info . Check out our website at www.bcsonlinerealestate.com to view our expanding inventory and availabilities.  RENTAL FEATURESLiving roomDining roomWalk-in closetRange / OvenRefrigeratorDishwasherGarbage disposalBalcony', 1), (' 78045Equal Housing Opportunity Sig0dBbwv\"', 1), (' tenants are responsible for Trash Removal. Laundry Location:\\tNear By School District:\\tElem: Franklin- Randall', 1), (' floor plans and amenities!\"', 1), ('-111.679', 1), (' 2 bath apartment has spacious room sizes', 1), (' Private Study Library Free Printing and Computer Lab Directly off the Dickson St. Entertainment Corridor Central to Shopping', 1), (' 78045Equal Housing Opportunity 6IYlcXYo34EY\"', 1), (' and front and side entry doors.   Amenities include Range', 1), (' 85016Interested in more information? Visit link below:http://apartments.shelton-cook.com/cd25b4 This is a 1 Bedroom', 1), (' Chandler', 1), (\" from the natural beauty at the Arboretum to the free Henry Vilas Zoo.The award-winning Madison Children's Museum and the historic Cave of the Mounds are just the tip of the iceberg when considering great attractions in Madison. Make the New The Villages Apartments your new home.  We are located across the street from shopping and on the bus line. If sports and recreation are more your speed\", 1), (' canoe or paddle board for some fun. You can canoe or kayak down the Milwaukee river to the Lakefront Brewery or a host of other drinking and eating establishments along your \"\"river cruise\"\" ! Or... better yet', 1), (' Concrete Flooring', 1), (' age', 1), (' 2 Large bedroom  ( 12 ft by 12 ft  ) .  1 mid size bed room ', 1), (' and Public Transportation  - Club House  - Public Transportation  - Laundry Facility  - Fitness Center  - Library and Laundry Facilities on Site  - Disability Access  - Pets Allowed  - Sparkling pool and spa  - Freeway Access Pet Policy Pet Friendly Community*Breed and Weight Restrictions Apply Office Hours Monday to Sunday9:00am to 6:00pm Prices are subject to change', 1), (' Rib Cook-Off', 1), (' Furnished Apartments Available', 1), (' and wall closet.  Bathroom has tub and shower.  Linens included. Laundry room on-site.  Water/Sewer/Garbage/Recycling/Yard care included. Gas/electric allotment  Private entrance. Street parking. No smoking. No pets.  Less than one mile to Eureka Old Town and Boardwalk. Approximately one mile to St Joseph Hospital. 2 month minimum at $1750. Long term Available. Security deposit required. Active military discount.  Email with your info and I will reply ASAP or call  show contact info .\"', 1), (' work and party down! This ideal location provides easy access to I-80 and McCarran. Come live at Shoreline Plaza!Deposit now only $850!Our AmenitiesAmazing LocationLaundry FacilitiesClose to shopping', 1), (' and the ideal date and time.  The house is available soon. I will only respond to serious inquiries containing all of your personal contact information. The house will not be shown without a completed acceptable application.\"', 1), (' HomeSmart     Details    3 Bed / 2 Baths        Rent: $1699 /month   1', 1), (' call to schedule a tour between the hours of 9 am to 5:30 pm daily.  Call Now:  show contact info  x 62OR Text 62 to  show contact info  to contact us.Want more information on this unit? See link (below):http://cl.greystar.com/6t3e4e This is a 1 Bedroom', 1), (' CA 93711  show contact info   Monday- Wednesday 10AM-5PM Thursday 10AM-2PM Friday 10AM-5PM Saturday 10AM-2PM    [#6973339]\"', 1), (' or be the \"\"hostess with the mostest\"\" in our rent-able clubhouse and party space!     This luxury home also includes....  -Stainless steel appliances (gas range)  -Walk-in closet  -High ceilings    -In-home washer and dryer  -Over-sized soaking tub  -Central A/C and heat   -Designer light fixtures  -Countless community events (free to residents)  -Pet spa available    Don\\'t wait! Call us to schedule your personal tour today!    www.parkviridian.com   1515 E Katella Ave   Anaheim', 1), (' food and prizes!   *Monthly Resident Raffles and Seasonal \"\"Best Decorated Patio\"\" Prizes    Park West Apartments 13151 Yorba Ave. Chino', 1), ('-119.828', 1), (' lounge by the pool or execute after hourtasks in our business center. Take advantage of the opportunity to haveeverything you need all in one place. Our professional team is here andready to serve you with gladness! Give us a call and schedule a tour ofyour Redlands', 1), (' The Outlets at Orange', 1), (' Inc. dba Apartment Management Consultants-BRE #01525033 Equal Housing Opportunity VTG6pHca\"', 1), (' 92606Equal Housing Opportunity 4K4LQyiVFUw\"', 1), (' gas', 1), (' Central Heating and Air Conditioning  *In Select Apartment Homes  Community Amenities: Resident Clubhouse', 1), ('600 is due prior to move in and accepted only in the form of Cashier\\'s Checks. Contact Dar Gibbons at  show contact info  for more information.\"', 1), (' Student Housing', 1), ('-123.622', 1)]\n"
     ]
    },
    {
     "name": "stdout",
     "output_type": "stream",
     "text": [
      "region [('jacksonville', 3844), ('fayetteville', 3154), ('columbus', 2893), ('jackson', 2792), ('rochester', 2444), ('omaha / council bluffs', 2401), ('salt lake city', 2318), ('orlando', 2296), ('savannah / hinesville', 2265), ('colorado springs', 2234), ('stockton', 2233), ('fort collins / north CO', 2216), ('lakeland', 2196), ('daytona beach', 2148), ('lincoln', 2142), ('greenville / upstate', 2140), ('space coast', 2137), ('memphis', 2107), ('augusta', 2104), ('reno / tahoe', 2093), ('inland empire', 2087), ('denver', 2073), ('boulder', 2064), ('tucson', 2060), ('austin', 2057), ('sarasota-bradenton', 2043), ('dallas / fort worth', 2031), ('atlanta', 2030), ('san marcos', 2026), ('charleston', 2024), ('lexington', 2009), ('tulsa', 2003), ('charlotte', 1985), ('kennewick-pasco-richland', 1981), (\"spokane / coeur d'alene\", 1971), ('sacramento', 1963), ('st louis, MO', 1956), ('norfolk / hampton roads', 1928), ('huntsville / decatur', 1915), ('ann arbor', 1913), ('minneapolis / st paul', 1912), ('las vegas', 1910), ('portland', 1894), ('raleigh / durham / CH', 1892), ('odessa / midland', 1892), ('nashville', 1888), ('des moines', 1888), ('fredericksburg', 1858), ('columbia', 1852), ('birmingham', 1845), ('madison', 1828), ('tampa bay area', 1827), ('college station', 1815), ('asheville', 1814), ('frederick', 1807), ('south jersey', 1781), ('oklahoma city', 1772), ('annapolis', 1771), ('ft myers / SW florida', 1767), ('fresno / madera', 1753), ('richmond', 1742), ('san antonio', 1736), ('phoenix', 1727), ('winston-salem', 1717), ('indianapolis', 1716), ('albany', 1705), ('st cloud', 1701), ('albuquerque', 1693), ('seattle-tacoma', 1684), ('new orleans', 1664), ('washington, DC', 1653), ('knoxville', 1640), ('baltimore', 1617), ('delaware', 1614), ('greensboro', 1611), ('tallahassee', 1604), ('grand rapids', 1602), ('lansing', 1601), ('cincinnati', 1598), ('topeka', 1584), ('chattanooga', 1579), ('salem', 1547), ('louisville', 1536), ('panama city', 1508), ('rhode island', 1508), ('wilmington', 1506), ('gainesville', 1497), ('wichita', 1493), ('mobile', 1485), ('corpus christi', 1485), ('little rock', 1466), ('houston', 1449), ('orange county', 1440), ('baton rouge', 1439), ('dayton / springfield', 1429), ('new hampshire', 1421), ('cleveland', 1420), ('toledo', 1389), ('central NJ', 1361), ('pensacola', 1359), ('bakersfield', 1347), ('milwaukee', 1325), ('anchorage / mat-su', 1315), ('lafayette', 1313), ('gulfport / biloxi', 1294), ('treasure coast', 1292), ('detroit metro', 1258), ('myrtle beach', 1244), ('ventura county', 1243), ('grand forks', 1238), ('philadelphia', 1230), ('macon / warner robins', 1225), ('san diego', 1219), ('kansas city, MO', 1202), ('north dakota', 1183), ('hartford', 1178), ('pittsburgh', 1171), ('provo / orem', 1159), ('sioux falls / SE SD', 1155), ('akron / canton', 1150), ('champaign urbana', 1138), ('modesto', 1106), ('boise', 1097), ('corvallis/albany', 1095), ('wichita falls', 1095), ('athens', 1063), ('buffalo', 1063), ('worcester / central MA', 1056), ('tyler / east TX', 1035), ('el paso', 1034), ('springfield', 1031), ('evansville', 1023), ('lancaster', 1011), ('lubbock', 1000), ('eastern NC', 995), ('beaumont / port arthur', 992), ('quad cities, IA/IL', 978), ('charlottesville', 975), ('chicago', 972), ('new haven', 964), ('killeen / temple / ft hood', 943), ('galveston', 927), ('palm springs', 916), ('eugene', 891), ('shreveport', 879), ('reading', 877), ('bowling green', 871), ('hawaii', 869), ('los angeles', 839), ('okaloosa / walton', 839), ('south florida', 834), ('abilene', 831), ('flagstaff / sedona', 828), ('western massachusetts', 782), ('bismarck', 781), ('harrisburg', 760), ('amarillo', 744), ('hilton head', 737), ('flint', 723), ('waco', 713), ('hanford-corcoran', 709), ('mcallen / edinburg', 700), ('boston', 697), ('kenosha-racine', 683), ('syracuse', 680), ('lehigh valley', 669), ('fort wayne', 664), ('montgomery', 638), ('kalamazoo', 607), ('roanoke', 603), ('manhattan', 603), ('south coast', 598), ('ogden-clearfield', 571), ('clarksville', 557), ('monterey bay', 557), ('south bend / michiana', 535), ('ithaca', 529), ('fargo / moorhead', 527), ('cedar rapids', 518), ('tuscaloosa', 504), ('SF bay area', 499), ('battle creek', 498), ('hudson valley', 491), ('york', 487), ('lawton', 483), ('ocala', 479), ('saginaw-midland-baycity', 473), ('valdosta', 461), ('bloomington', 454), ('eastern CT', 453), ('north jersey', 442), ('northwest GA', 437), ('billings', 426), ('tri-cities', 413), ('columbia / jeff city', 410), ('mohave county', 405), ('peoria', 399), ('jersey shore', 395), ('north mississippi', 391), ('texoma', 391), ('southern maryland', 389), ('visalia-tulare', 380), ('appleton-oshkosh-FDL', 371), ('vermont', 370), ('harrisonburg', 367), ('lawrence', 361), ('rapid city / west SD', 361), ('monroe', 348), ('sioux city', 344), ('wenatchee', 340), ('southern illinois', 337), ('skagit / island / SJI', 333), ('rockford', 333), ('bloomington-normal', 323), ('lake charles', 316), ('erie', 311), ('sierra vista', 309), ('lynchburg', 307), ('ames', 301), ('maine', 293), ('eastern panhandle', 292), ('east idaho', 290), ('hattiesburg', 289), ('southwest michigan', 285), ('scranton / wilkes-barre', 279), ('medford-ashland', 277), ('auburn', 269), ('watertown', 267), ('bend', 265), ('muskegon', 262), ('victoria', 260), ('holland', 258), ('cumberland valley', 255), ('duluth / superior', 254), ('western slope', 252), ('bellingham', 245), ('logan', 244), ('decatur', 243), ('iowa city', 237), ('waterloo / cedar falls', 235), ('port huron', 233), ('state college', 231), ('heartland florida', 220), ('new york city', 219), ('merced', 219), ('moses lake', 215), ('muncie / anderson', 212), ('fairbanks', 210), ('brownsville', 204), ('laredo', 199), ('lafayette / west lafayette', 194), ('deep east texas', 194), ('yakima', 192), ('florence', 191), ('san luis obispo', 188), ('stillwater', 188), ('yuma', 187), ('chico', 184), ('las cruces', 182), ('wausau', 182), ('long island', 179), ('houma', 179), ('northern michigan', 179), ('mankato', 178), ('central michigan', 177), ('poconos', 176), ('youngstown', 172), ('winchester', 169), ('glens falls', 166), ('pueblo', 166), ('santa fe / taos', 163), ('binghamton', 159), ('meridian', 157), ('pullman / moscow', 148), ('la crosse', 147), ('western maryland', 143), ('gold country', 141), ('st augustine', 141), ('potsdam-canton-massena', 140), ('redding', 140), ('green bay', 138), ('wyoming', 138), ('missoula', 133), ('eastern shore', 130), ('morgantown', 125), ('brunswick', 120), ('high rockies', 119), ('sheboygan', 118), ('bozeman', 116), ('florida keys', 116), ('st joseph', 113), ('eau claire', 112), ('utica-rome-oneida', 112), ('yuba-sutter', 112), ('janesville', 110), ('prescott', 108), ('new river valley', 106), ('northern panhandle', 105), ('finger lakes', 104), ('santa barbara', 104), ('joplin', 104), ('humboldt county', 101), ('hickory / lenoir', 100), ('fort dodge', 99), ('oregon coast', 96), ('jonesboro', 94), ('santa maria', 93), ('huntington-ashland', 92), ('williamsport', 91), ('texarkana', 89), ('show low', 88), ('fort smith', 86), ('altoona-johnstown', 82), ('central louisiana', 81), ('mansfield', 79), ('eastern montana', 78), ('dothan', 78), ('kalispell', 77), ('northwest CT', 77), ('southeast KS', 74), ('cape cod / islands', 73), ('terre haute', 73), ('twin falls', 65), ('imperial county', 65), ('dubuque', 63), ('st george', 62), ('elko', 62), ('danville', 62), ('northwest KS', 60), ('tuscarawas co', 59), ('olympic peninsula', 59), ('kokomo', 58), ('elmira-corning', 58), ('northwest OK', 57), ('southeast alaska', 57), ('upper peninsula', 56), ('outer banks', 54), ('oneonta', 53), ('cookeville', 52), ('kenai peninsula', 51), ('southwest VA', 51), ('southwest MN', 48), ('western KY', 46), ('east oregon', 46), ('southeast IA', 46), ('lima / findlay', 46), ('lake of the ozarks', 45), ('clovis / portales', 45), ('chillicothe', 42), ('scottsbluff / panhandle', 42), ('butte', 41), ('meadville', 41), ('gadsden-anniston', 41), ('san angelo', 41), ('south dakota', 41), ('plattsburgh-adirondacks', 40), ('sandusky', 40), ('florence / muscle shoals', 40), ('roseburg', 39), ('southwest KS', 37), ('catskills', 37), ('zanesville / cambridge', 36), ('helena', 34), ('southeast missouri', 34), ('parkersburg-marietta', 34), ('northern WI', 33), ('mendocino county', 33), ('eastern kentucky', 33), ('north platte', 33), ('grand island', 32), ('klamath falls', 31), ('chautauqua', 30), ('the thumb', 30), ('salina', 29), ('siskiyou county', 28), ('great falls', 26), ('mattoon-charleston', 26), ('farmington', 26), ('northeast SD', 26), ('brainerd', 25), ('bemidji', 24), ('boone', 23), ('lewiston / clarkston', 23), ('del rio / eagle pass', 22), ('la salle co', 22), ('mason city', 21), ('ashtabula', 20), ('north central FL', 20), ('southern WV', 20), ('roswell / carlsbad', 19), ('statesboro', 17), ('eastern CO', 17), ('owensboro', 15), ('west virginia (old)', 14), ('pierre / central SD', 14), ('western IL', 13), ('kirksville', 13), ('twin tiers NY/PA', 13), ('susanville', 10), ('st louis', 9), ('southwest MS', 7), ('southwest TX', 5), ('kansas city', 3), ('fort smith, AR', 3)]\n"
     ]
    }
   ],
   "source": [
    "# Selecting the categorical columns.\n",
    "categorical_cols = ['type', 'laundry_options', 'parking_options', 'state', 'region']\n",
    "\n",
    "categorical_rdd = outliers_removed\\\n",
    "    .select(categorical_cols)\\\n",
    "    .rdd \\\n",
    "    .map(lambda row: [e for e in row])\n",
    "for i, col in enumerate(categorical_cols):\n",
    "    agg = categorical_rdd \\\n",
    "        .groupBy(lambda row: row[i]) \\\n",
    "        .map(lambda row: (row[0], len(row[1])))\n",
    "    print(col, sorted(agg.collect(), \n",
    "        key=lambda el: el[1], \n",
    "        reverse=True))"
   ]
  },
  {
   "cell_type": "markdown",
   "metadata": {},
   "source": [
    "Unfortunately there appears to be a large amount of incorrect data in the 'state' column of what appears to be comments or descriptions of the property. This feature needs to be cleaned up before proceeding further. This issue will cause havoc during the model training process and severely hurt the models ability to accurately predict the test set."
   ]
  },
  {
   "cell_type": "markdown",
   "metadata": {},
   "source": [
    "Removing all non-states from the column by identifying issue entries by their count values. Incorrect entries will have a very low count and this can be used to filter the dataframe as observed below."
   ]
  },
  {
   "cell_type": "code",
   "execution_count": 42,
   "metadata": {},
   "outputs": [],
   "source": [
    "# Identifying the correct states in the feature by filtering for count type and saving to a list.\n",
    "state_names = outliers_removed.groupBy(outliers_removed.state).count().filter('count > 244').select('state').rdd.flatMap(lambda x: x).collect()"
   ]
  },
  {
   "cell_type": "markdown",
   "metadata": {},
   "source": [
    "The counts were examined and a value of 244 was chosen to exactly filter out all issue entries."
   ]
  },
  {
   "cell_type": "code",
   "execution_count": 43,
   "metadata": {},
   "outputs": [],
   "source": [
    "# Filtering the dataframe for the named states only and saving to a new dataframe.\n",
    "corrected_states_df = outliers_removed.filter(outliers_removed.state.isin(state_names))"
   ]
  },
  {
   "cell_type": "code",
   "execution_count": 44,
   "metadata": {},
   "outputs": [
    {
     "name": "stdout",
     "output_type": "stream",
     "text": [
      "+-----+-----+\n",
      "|state|count|\n",
      "+-----+-----+\n",
      "|   me|  288|\n",
      "|   vt|  359|\n",
      "|   wv|  530|\n",
      "|   hi|  831|\n",
      "|   mt|  920|\n",
      "|   nh| 1172|\n",
      "|   ri| 1505|\n",
      "|   sd| 1548|\n",
      "|   mo| 1571|\n",
      "|   ak| 1577|\n",
      "|   dc| 1593|\n",
      "|   de| 1604|\n",
      "|   nm| 2058|\n",
      "|   ne| 2174|\n",
      "|   nv| 2333|\n",
      "|   ar| 2527|\n",
      "|   ct| 2604|\n",
      "|   nd| 3151|\n",
      "|   ma| 3179|\n",
      "|   id| 3436|\n",
      "+-----+-----+\n",
      "only showing top 20 rows\n",
      "\n"
     ]
    }
   ],
   "source": [
    "# Verifying that the incorrect states have been removed successfully.\n",
    "corrected_states_df.groupBy('state').count().orderBy('count', ascending=True).show()"
   ]
  },
  {
   "cell_type": "markdown",
   "metadata": {},
   "source": [
    "### Examining Data Correlations"
   ]
  },
  {
   "cell_type": "markdown",
   "metadata": {},
   "source": [
    "Taking a closer look at the data to determine the correlations between the features.\n",
    "\n",
    "Code sourced from Chapter 6 in Drabas, T., 2017. Learning PySpark."
   ]
  },
  {
   "cell_type": "code",
   "execution_count": 45,
   "metadata": {},
   "outputs": [
    {
     "name": "stdout",
     "output_type": "stream",
     "text": [
      "price-to-sqfeet: 0.32\n",
      "price-to-beds: 0.15\n",
      "price-to-baths: 0.24\n",
      "sqfeet-to-price: 0.32\n",
      "sqfeet-to-beds: 0.75\n",
      "sqfeet-to-baths: 0.67\n",
      "beds-to-price: 0.15\n",
      "beds-to-sqfeet: 0.75\n",
      "beds-to-baths: 0.63\n",
      "baths-to-price: 0.24\n",
      "baths-to-sqfeet: 0.67\n",
      "baths-to-beds: 0.63\n",
      "cats_allowed-to-dogs_allowed: 0.89\n",
      "cats_allowed-to-wheelchair_access: 0.12\n",
      "dogs_allowed-to-cats_allowed: 0.89\n",
      "dogs_allowed-to-wheelchair_access: 0.13\n",
      "wheelchair_access-to-cats_allowed: 0.12\n",
      "wheelchair_access-to-dogs_allowed: 0.13\n",
      "wheelchair_access-to-electric_vehicle_charge: 0.16\n",
      "wheelchair_access-to-comes_furnished: 0.18\n",
      "electric_vehicle_charge-to-wheelchair_access: 0.16\n",
      "comes_furnished-to-wheelchair_access: 0.18\n"
     ]
    }
   ],
   "source": [
    "corrs = st.Statistics.corr(numeric_rdd)\n",
    "for i, el in enumerate(corrs > 0.1):\n",
    "    correlated = [\n",
    "        (numeric_cols[j], corrs[i][j]) \n",
    "        for j, e in enumerate(el) \n",
    "    if e == 1.0 and j != i]\n",
    "    if len(correlated) > 0:\n",
    "        for e in correlated:\n",
    "            print('{0}-to-{1}: {2:.2f}' \\\n",
    "             .format(numeric_cols[i], e[0], e[1]))"
   ]
  },
  {
   "cell_type": "markdown",
   "metadata": {},
   "source": [
    "There are some interesting insights to be gained from this correlation extract. There appears to be a small correlation between price and square feet, which is to be expected as was explored in component 1. Furthermore there is also a strong correlation between square feet and the number of bedrooms in a property which makes sense as more rooms require additional living space. This also translates to the correlation between bedrooms and bathrooms, as additional bedrooms are usually accompanied by an increase in bathrooms. The square feet feature is also strongly influenced by the number of bathrooms in a property. The other less meaningful correlation is between the cats and dogs’ features. Typically a property either allows or denies pets and not specific animal species."
   ]
  },
  {
   "cell_type": "markdown",
   "metadata": {},
   "source": [
    "## One Hot Encoding"
   ]
  },
  {
   "cell_type": "markdown",
   "metadata": {},
   "source": [
    "Categorical features are not accepted into a machine learning algorithm in its raw form. The features need to be transformed into numerical data type."
   ]
  },
  {
   "cell_type": "code",
   "execution_count": 46,
   "metadata": {},
   "outputs": [],
   "source": [
    "# Choosing categorical columns to encode.\n",
    "categorical_cols = ['region', 'type', 'parking_options', 'laundry_options', 'state']"
   ]
  },
  {
   "cell_type": "code",
   "execution_count": 47,
   "metadata": {},
   "outputs": [],
   "source": [
    "# Index each categorical column.\n",
    "indexer = StringIndexer(inputCols=categorical_cols, outputCols=[x + '_idx' for x in categorical_cols])"
   ]
  },
  {
   "cell_type": "code",
   "execution_count": 48,
   "metadata": {},
   "outputs": [],
   "source": [
    "# One hot encode each categorical column.\n",
    "ohe = OneHotEncoder(inputCols=indexer.getOutputCols(), outputCols=[x + '_ohe' for x in categorical_cols])"
   ]
  },
  {
   "cell_type": "code",
   "execution_count": 49,
   "metadata": {},
   "outputs": [],
   "source": [
    "# Create vectorizer from all independant variables.\n",
    "vectorizer = VectorAssembler(inputCols = ['sqfeet', 'beds', 'baths', 'cats_allowed', 'dogs_allowed', 'smoking_allowed', \n",
    "                                          'wheelchair_access', 'electric_vehicle_charge', 'comes_furnished', \n",
    "                                          'region_ohe', 'type_ohe', 'parking_options_ohe', 'laundry_options_ohe', \n",
    "                                          'state_ohe'], \n",
    "                             outputCol = 'features')"
   ]
  },
  {
   "cell_type": "code",
   "execution_count": 50,
   "metadata": {},
   "outputs": [],
   "source": [
    "# Creating pipeline to simplify process.\n",
    "pipeline = Pipeline(stages=[indexer, ohe, vectorizer])"
   ]
  },
  {
   "cell_type": "code",
   "execution_count": 51,
   "metadata": {},
   "outputs": [],
   "source": [
    "# Using pipeline to apply transformation to dataset.\n",
    "encoded_df = pipeline.fit(corrected_states_df).transform(corrected_states_df)"
   ]
  },
  {
   "cell_type": "markdown",
   "metadata": {},
   "source": [
    "## Scaling the Data"
   ]
  },
  {
   "cell_type": "markdown",
   "metadata": {},
   "source": [
    "In addition to one hot encoding the categorical variables all independent features should also be scaled to assist with linear regression. The scaling method used is the standard scaler which normalises each feature to have a standard deviation of 1, the data is centered around the mean."
   ]
  },
  {
   "cell_type": "code",
   "execution_count": 52,
   "metadata": {},
   "outputs": [],
   "source": [
    "# Instantiating scaler.\n",
    "scaler = StandardScaler(inputCol='features', outputCol='scaled_features',\n",
    "                        withStd=True, withMean=False)"
   ]
  },
  {
   "cell_type": "code",
   "execution_count": 53,
   "metadata": {},
   "outputs": [],
   "source": [
    "# Fitting and transforming the data.\n",
    "scaled_df = scaler.fit(encoded_df).transform(encoded_df)"
   ]
  },
  {
   "cell_type": "code",
   "execution_count": 54,
   "metadata": {},
   "outputs": [],
   "source": [
    "# Selecting just the two columns required for machine learning application.\n",
    "test_df = scaled_df.select(['scaled_features', 'price'])"
   ]
  },
  {
   "cell_type": "code",
   "execution_count": 55,
   "metadata": {
    "scrolled": false
   },
   "outputs": [
    {
     "name": "stdout",
     "output_type": "stream",
     "text": [
      "+--------------------+-----+\n",
      "|     scaled_features|price|\n",
      "+--------------------+-----+\n",
      "|(481,[0,1,2,30,41...|  895|\n",
      "|(481,[0,1,2,3,4,3...| 1595|\n",
      "|(481,[0,1,2,3,4,3...|  982|\n",
      "|(481,[0,1,2,3,4,5...| 1295|\n",
      "|(481,[0,1,2,3,4,5...| 1772|\n",
      "|(481,[0,1,2,3,4,5...| 1745|\n",
      "|(481,[0,1,2,3,4,5...| 1414|\n",
      "|(481,[0,1,2,5,42,...| 1200|\n",
      "|(481,[0,1,2,3,4,4...| 1635|\n",
      "|(481,[0,1,2,3,4,5...| 1687|\n",
      "|(481,[0,1,2,3,4,5...| 1125|\n",
      "|(481,[0,1,2,3,4,4...| 1295|\n",
      "|(481,[0,1,2,3,4,7...| 1835|\n",
      "|(481,[0,1,2,3,4,5...| 1650|\n",
      "|(481,[0,1,2,3,4,4...| 2099|\n",
      "|(481,[0,1,2,3,4,5...| 2265|\n",
      "|(481,[0,1,2,3,4,5...| 1786|\n",
      "|(481,[0,1,2,3,4,7...| 1979|\n",
      "|(481,[0,1,2,5,20,...| 1824|\n",
      "|(481,[0,1,2,3,4,5...| 1345|\n",
      "+--------------------+-----+\n",
      "only showing top 20 rows\n",
      "\n"
     ]
    }
   ],
   "source": [
    "# Examining the test \n",
    "test_df.show()"
   ]
  },
  {
   "cell_type": "markdown",
   "metadata": {},
   "source": [
    "The data has been fully processed and is ready to be tested using machine learning algorithms."
   ]
  },
  {
   "cell_type": "markdown",
   "metadata": {},
   "source": [
    "### Chi Square Test"
   ]
  },
  {
   "cell_type": "markdown",
   "metadata": {},
   "source": [
    "Conducting a Pearson's independence test on each feature against the label i.e. the price."
   ]
  },
  {
   "cell_type": "code",
   "execution_count": 56,
   "metadata": {},
   "outputs": [
    {
     "name": "stderr",
     "output_type": "stream",
     "text": [
      "C:\\ProgramData\\Anaconda3\\lib\\site-packages\\pyspark\\sql\\context.py:125: FutureWarning: Deprecated in 3.0.0. Use SparkSession.builder.getOrCreate() instead.\n",
      "  warnings.warn(\n"
     ]
    },
    {
     "name": "stdout",
     "output_type": "stream",
     "text": [
      "pValues: [0.0,0.0,0.0,0.0,0.0,0.0,0.0,0.0,0.0,0.0,0.0,0.0,0.0,0.0,0.0,0.0,0.0,0.0,0.0,0.0,0.0,0.0,0.0,0.0,0.0,0.0,0.0,0.0,0.0,0.0,0.0,0.0,0.0,0.0,0.0,0.0,0.0,0.0,0.0,0.0,0.0,0.0,0.0,0.0,0.0,0.0,0.0,0.0,0.0,0.0,0.0,0.0,0.0,0.0,0.0,0.0,0.0,0.0,0.0,0.0,0.0,0.0,0.0,0.0,0.0,0.0,0.0,0.0,0.0,0.0,0.0,0.0,0.0,0.0,0.0,0.0,0.0,0.0,0.0,0.0,0.0,0.0,0.0,0.0,0.0,0.0,0.0,0.0,0.0,0.0,0.0,0.0,0.0,0.0,0.0,0.0,0.0,0.0,0.0,0.0,0.0,0.0,0.0,0.0,0.0,0.0,0.0,0.0,0.0,0.0,0.0,0.0,0.0,0.0,0.0,0.0,0.0,0.0,0.0,0.0,0.0,0.0,0.0,0.0,0.0,0.0,0.0,0.0,0.0,0.0,0.0,0.0,0.0,0.0,0.0,0.0,0.0,0.0,0.0,0.0,0.0,0.0,0.0,0.0,0.0,0.0,0.0,0.0,0.0,0.0,0.0,0.0,0.0,0.0,0.0,0.0,0.0,0.0,0.0,0.0,0.0,0.0,0.0,0.0,0.0,0.0,0.0,0.0,0.0,0.0,0.0,0.0,0.0,0.0,0.0,0.0,0.0,0.0,0.0,0.0,0.0,0.0,0.0,0.0,0.0,0.0,0.0,0.0,0.0,0.0,0.0,0.0,0.0,0.0,0.0,0.0,0.0,0.0,0.0,0.0,0.0,0.0,0.0,0.0,0.0,0.0,0.0,0.0,0.0,0.0,0.0,0.8577343808578061,0.0,0.0,0.0,0.0,0.0,0.0,0.0,0.0,0.0,0.0,0.0,0.0,0.0,0.0,0.0,0.0,0.9781088706918347,0.0,0.0,0.0,0.0,0.156144233537852,0.0,0.0,0.0,0.0,0.0,0.0,0.0,0.0,0.9999309718059336,0.0,0.0,0.0,0.0,0.0,0.0,0.0,0.0,0.0,0.0,0.0,0.0,0.0,0.0,1.0,0.0,0.0,0.0,0.0,0.8168256434909194,0.0,0.0,0.9999999413877857,0.0,0.0,0.0,0.9999999999999938,0.0,0.0,0.0,0.0,0.0,1.0,0.0,0.0,0.0,0.0,0.0,0.0,1.0,0.0,0.0,1.0,0.0,0.0,0.0004003004035963986,1.0,1.0,0.0,1.0,0.0,0.0,0.0,0.9493454764719629,0.0,0.0,0.0,0.0,0.9999999999713507,4.526379271396763e-13,0.0,0.0,0.9999999978109743,0.0,1.0,0.0,1.0,1.0,0.0,0.9999985272210111,0.0,0.4790930384371357,1.0,0.0,0.0,1.0,0.0,0.0,0.0,0.0,0.0,1.0,0.9426622326791175,0.0,0.0,1.0,0.0,0.0,1.9589933980990182e-05,1.0,1.0,1.0,1.0,0.0,0.9832642117740962,1.0,1.0,0.0,1.0,0.0016903194291889578,0.9999921098554425,0.0,0.0,0.0,6.894303171689486e-07,0.0,0.9999999987448931,1.0,0.0,1.0,1.0,0.0,0.0,1.0,0.0,1.0,1.0,1.0,1.0,0.0,0.20234715516746182,0.0,0.0,1.0,1.0,1.0302869668521453e-13,1.0,1.0,1.0,0.0,0.0,0.0,1.0,0.9999996436648376,1.0,1.0,1.0,1.0,0.0,0.9895985674666428,1.0,0.0,1.0,1.0,0.9999999993133354,1.0,0.0,1.0,1.0,0.8777233743816929,1.0,1.0,0.0,1.0,1.0,0.0,0.0,0.0,1.0,1.0,0.0,0.9998024348770473,0.0,1.0,1.0,0.0,1.0,1.0,0.0,0.0,0.0,0.0,0.0,0.0,2.0923479326917516e-07,0.0,0.0,1.0,1.0,0.0,0.0,0.0,0.0,0.0,0.0,0.0,0.0,0.0,0.0,0.0,0.0,0.0,0.0,0.0,0.0,0.0,0.0,0.0,0.0,0.0,0.0,0.0,0.0,0.0,0.0,0.0,0.0,0.0,0.0,0.0,0.0,0.0,0.0,0.0,0.0,0.0,0.0,0.0,0.0,0.0,0.0,0.0,0.0,0.0,0.0,0.0,0.0,0.0,0.0,0.0,0.0,0.0,0.0,0.0,0.0,0.0,0.0,0.8577343808578061]\n",
      "degreesOfFreedom: [2728805, 4010, 4010, 2005, 2005, 2005, 2005, 2005, 2005, 2005, 2005, 2005, 2005, 2005, 2005, 2005, 2005, 2005, 2005, 2005, 2005, 2005, 2005, 2005, 2005, 2005, 2005, 2005, 2005, 2005, 2005, 2005, 2005, 2005, 2005, 2005, 2005, 2005, 2005, 2005, 2005, 2005, 2005, 2005, 2005, 2005, 2005, 2005, 2005, 2005, 2005, 2005, 2005, 2005, 2005, 2005, 2005, 2005, 2005, 2005, 2005, 2005, 2005, 2005, 2005, 2005, 2005, 2005, 2005, 2005, 2005, 2005, 2005, 2005, 2005, 2005, 2005, 2005, 2005, 2005, 2005, 2005, 2005, 2005, 2005, 2005, 2005, 2005, 2005, 2005, 2005, 2005, 2005, 2005, 2005, 2005, 2005, 2005, 2005, 2005, 2005, 2005, 2005, 2005, 2005, 2005, 2005, 2005, 2005, 2005, 2005, 2005, 2005, 2005, 2005, 2005, 2005, 2005, 2005, 2005, 2005, 2005, 2005, 2005, 2005, 2005, 2005, 2005, 2005, 2005, 2005, 2005, 2005, 2005, 2005, 2005, 2005, 2005, 2005, 2005, 2005, 2005, 2005, 2005, 2005, 2005, 2005, 2005, 2005, 2005, 2005, 2005, 2005, 2005, 2005, 2005, 2005, 2005, 2005, 2005, 2005, 2005, 2005, 2005, 2005, 2005, 2005, 2005, 2005, 2005, 2005, 2005, 2005, 2005, 2005, 2005, 2005, 2005, 2005, 2005, 2005, 2005, 2005, 2005, 2005, 2005, 2005, 2005, 2005, 2005, 2005, 2005, 2005, 2005, 2005, 2005, 2005, 2005, 2005, 2005, 2005, 2005, 2005, 2005, 2005, 2005, 2005, 2005, 2005, 2005, 2005, 2005, 2005, 2005, 2005, 2005, 2005, 2005, 2005, 2005, 2005, 2005, 2005, 2005, 2005, 2005, 2005, 2005, 2005, 2005, 2005, 2005, 2005, 2005, 2005, 2005, 2005, 2005, 2005, 2005, 2005, 2005, 2005, 2005, 2005, 2005, 2005, 2005, 2005, 2005, 2005, 2005, 2005, 2005, 2005, 2005, 2005, 2005, 2005, 2005, 2005, 2005, 2005, 2005, 2005, 2005, 2005, 2005, 2005, 2005, 2005, 2005, 2005, 2005, 2005, 2005, 2005, 2005, 2005, 2005, 2005, 2005, 2005, 2005, 2005, 2005, 2005, 2005, 2005, 2005, 2005, 2005, 2005, 2005, 2005, 2005, 2005, 2005, 2005, 2005, 2005, 2005, 2005, 2005, 2005, 2005, 2005, 2005, 2005, 2005, 2005, 2005, 2005, 2005, 2005, 2005, 2005, 2005, 2005, 2005, 2005, 2005, 2005, 2005, 2005, 2005, 2005, 2005, 2005, 2005, 2005, 2005, 2005, 2005, 2005, 2005, 2005, 2005, 2005, 2005, 2005, 2005, 2005, 2005, 2005, 2005, 2005, 2005, 2005, 2005, 2005, 2005, 2005, 2005, 2005, 2005, 2005, 2005, 2005, 2005, 2005, 2005, 2005, 2005, 2005, 2005, 2005, 2005, 2005, 2005, 2005, 2005, 2005, 2005, 2005, 2005, 2005, 2005, 2005, 2005, 2005, 2005, 2005, 2005, 2005, 2005, 2005, 2005, 2005, 2005, 2005, 2005, 2005, 2005, 2005, 2005, 2005, 2005, 2005, 2005, 2005, 2005, 2005, 2005, 2005, 2005, 2005, 2005, 2005, 2005, 2005, 2005, 2005, 2005, 2005, 2005, 2005, 2005, 2005, 2005, 2005, 2005, 2005, 2005, 2005, 2005, 2005, 2005, 2005, 2005, 2005, 2005, 2005, 2005, 2005, 2005, 2005, 2005, 2005, 2005, 2005, 2005, 2005, 2005, 2005, 2005, 2005, 2005, 2005, 2005, 2005, 2005, 2005, 2005, 2005, 2005, 2005, 2005, 2005, 2005, 2005, 2005, 2005, 2005, 2005, 2005, 2005, 2005, 2005, 2005, 2005, 2005, 2005, 2005, 2005, 2005, 2005, 2005, 2005, 2005, 2005]\n",
      "statistics: [20476568.327128384,51836.778528958406,69409.1718821454,29556.557525973756,28627.358481924326,25329.554224122443,21524.882212742617,14887.469513774045,34643.460129118044,20830.379975592805,18778.437919608645,33783.973577163,22135.078994989046,15776.193184934164,14262.702426203758,21401.936612749803,10556.874126221242,33575.53816932871,33846.56584690405,25477.31918833271,28970.314148529586,25870.277535254038,16819.281988708688,17532.970737320273,13545.862396235592,17844.02863521002,29619.754342017317,25555.88386433434,32393.25309428035,10469.257856296954,22381.859840025012,22975.129217580485,26030.14618736844,6884.239169795183,47391.24210955128,40797.33578222635,20419.928183102355,31396.892337269866,9605.074854645243,9307.662818245864,8003.614025492759,8428.118727185758,15884.096861656777,15921.165290113418,21795.1981834973,19702.390380930232,12581.531243109086,8100.441006642499,7856.600794087554,18269.555838160388,7303.995193096318,17370.395007410058,14824.584229565893,16446.672374911122,8356.653840938878,6987.328944412733,37328.67468701969,20509.98637369741,37501.57343220835,7149.435556395754,15531.730561437349,7365.472685072288,18744.194515698873,5591.158393816333,13259.370519133761,32724.497855637062,9721.03701127822,13783.990508528652,58207.389591127714,23343.05029275803,29740.15802547787,11818.248824354048,6835.629920368395,31650.48755009663,12905.3566448496,16722.15749459617,13416.828236734811,27881.376232313174,10495.940763085895,13790.256878844686,21365.69981644056,24876.395990243123,12944.716353484544,19052.336696539416,13567.419731930653,26521.022458998177,13863.515917851406,34167.53754057328,13988.71336909695,14524.24719184178,41924.59651626937,115729.6747422062,9095.087985245007,17021.178243932765,7241.2360514923,9851.927964091064,17069.64431510379,5554.364452966314,21047.805172872748,24164.030257225244,11717.605160043533,25800.13593125877,16702.34621433683,8572.430063032858,46916.78254725589,23004.55792471232,16749.397280451278,12944.475181748856,16904.736874997576,25102.79141960745,16398.529811232806,3595.243257323412,7121.7696620694305,11775.693406867225,60330.57592329715,23562.092594110694,4622.8133220105,32589.979936129792,14862.914075325481,25864.312738178603,18851.588590269916,11181.076639585704,7334.584321179818,13208.897248483056,56543.98699616377,25295.505536190394,11088.967877869243,19385.22583060797,13412.47758606831,9476.794248330525,15087.918252162492,20101.279673907688,7382.972237405797,8182.277662070479,18058.615740729918,20888.964468812286,20309.383894766954,29392.37729691346,13855.607183996026,16552.664210302843,67689.72636101159,37190.54487530111,23969.597054377155,10104.854396607836,8216.791328379522,16288.70361788323,5894.750403247459,9539.021862319152,37436.850524558715,12496.341748284309,25927.355820695186,21207.25489752997,25690.777170546728,16165.621353429095,7328.751922487869,10578.42230679301,26749.85089429079,12460.895745411393,20503.590866216247,9168.659422690502,23898.53300293653,39086.97762945909,19563.97603432611,48851.51655388394,26873.176974424994,5996.746738114215,53622.962424797326,13700.882581468864,8318.624756669335,20196.593975537733,6600.343013296513,13053.924889499714,18873.110968147106,16699.302814459315,16835.76135887712,5321.511899248361,9201.864183925418,10536.510023840392,59024.12254212269,33341.8841919507,12063.538674948311,35807.84368083848,25422.765399778094,10892.90805393553,43045.850787340656,4294.158181110232,6398.355375365206,20657.747461564806,61025.6850433538,14829.006816156198,9911.787182114307,21807.74397183258,13911.634419071892,44758.70554991027,16517.86174301387,8483.223262660471,9667.783195015696,10563.10908090733,8559.21033821635,9512.677679330776,15863.999057861158,11955.781391591967,26206.68693695593,37655.71048720933,25394.6802468393,10065.006084427607,5872.1260723408495,14912.31422429494,29507.55659123615,7829.329995051053,110772.38423019544,1937.3382118584873,6009.393078597102,17141.14986742562,10280.695266277462,9371.918113763388,28047.016625911212,3740.2339338214106,38550.75155478937,5740.605438363347,4832.444805087785,12225.321292551276,20346.372720730986,10971.533801782438,9167.259071236842,17907.104621698785,2736.0525339215824,6831.89190308705,1879.3804751003158,5756.235625348328,14637.381474294134,15676.890990889264,6422.017880781103,2068.9885438757124,30235.5726885399,9871.311675030247,9020.203286190668,4099.344021815862,4681.437207989921,35159.29481431419,23973.692676577735,30498.033839519583,1772.5973761307937,4233.968229000244,2998.899410779975,2919.4452572313876,4610.429967221154,10486.320746882311,4685.017402082048,8607.848846265631,3604.753457174045,4671.328215548421,32608.07949486374,4477.54529918518,4712.875887505163,9998.015469544493,9572.174962809206,1366.733678363141,29443.622921744398,3986.680096574182,17078.912592600198,74587.14557523614,1947.683941787941,19748.046970032203,24744.10531556825,1687.3629846469819,29378.0628172176,23542.719241604595,4889.705464291418,1554.944076567479,3033.758595243692,5255.667020747631,59667.0852921956,3011.596917652172,5793.75571330619,1415.0392685247073,3006.2131595344094,7245.964914198651,21996.249039319107,6415.0056443777685,3858.7570778035947,17671.262816818416,1488.4130318687062,190946.82101435305,3934.297365354675,709.0873713100034,7546.141861143536,4888.039398469788,2224.1515301194,1346.5567420779005,1243.0942910069248,40827.710541424385,1414.205765113031,6946.3952618803005,3222.6340288994693,2653.956619506919,1902.3757136774027,3975.852583299538,70942.44038535845,5161.332591194144,9779.44841925991,1617.697922487883,2491.2949117091653,2788.9374572313964,3520.416577279867,1655.3396013639965,30037.527768559143,538.2540719234007,3575.533129404742,727.7195218122189,1176.4842165130879,5900.2546920658215,1722.759653488288,4278.634245585763,2007.6546677715355,1372.5047037523825,7728.339375203316,10376.16034712607,903.8545574465936,21788.878302896133,23356.04391350373,33994.29230672698,15063.253491856583,2666.6300780591077,726.2994738142623,1906.1089522996251,5261.705272601695,49716.25641107468,1111.1288657406928,75571.88481389896,10312.722816892447,2276.083611937194,891.0518847487867,698.0620394615444,1512.0165288226738,830.7644640819741,21210.13932654692,1872.704596049365,812.2006548552292,555.3479024362758,30530.16100812739,860.4105264159787,2195.660517533543,1743.2653743838823,11899.683557210004,4314.663362149521,2895.8282904969683,2325.740430176768,9496.961148883851,1650.2477714772099,704.9201411151154,6815.057359773562,910.6439229916903,923.2986825734401,10850.600816826493,22490.25253465245,882.3183556046747,3218.179618512719,845.8158852319538,687.0801567567846,495.35168428876364,289.53564507400677,2988.2341724605976,2057.553276781934,34470.191059393524,6642.784762637543,762.1488939036452,374.985265784474,2505.9907560843794,1389.757854602808,1399.1459111246927,1401.505660463369,6200.868157347774,3369.9180352641606,7634.163904240689,1077.0043503145964,1706.6070059572844,523.955298716744,765.6001801913674,532.4743626179618,284.22452237621656,4939.772197066125,1861.5244762980622,537.4605196976079,3914.3486687164523,352.91643742416767,333.2802877709697,1644.8210854620506,979.7573628397334,36231.649791717995,527.8401260803629,424.8824942379023,1931.558035307839,1343.0347374996488,1272.0485306937182,7597.0820000007625,394.8741023639174,1279.780026880481,11641.083682259887,3112.2842048430475,3075.372517432198,743.2147806465426,1115.72791294364,5409.69562167932,1788.288610892831,3201.9323647138212,689.7197303166532,543.7044495822846,3234.23066083483,213.96783334774076,740.1878331981255,43786.012239434815,39992.66134169828,24860.835967614716,12923.813659854024,6862.749846303418,13323.140239693257,2342.009842831873,8804.86334676935,3265.8905165203037,812.326046333516,1189.8374785229225,30239.68247898949,20080.98929331217,25567.11632534004,14982.994276995069,11880.25912491754,12307.242668453453,46753.71697134098,25218.082715193985,32220.88240877183,19955.63484543427,28396.196122681136,21271.08944265875,53606.73044116205,18555.415564607272,31771.735528659727,17092.11192995505,18489.983980475474,33802.06531594391,25995.24055453422,13022.178168695771,28682.239695147473,16532.82676357729,17403.461794930805,18043.220949451574,15459.869479265126,15598.26203604958,13310.18174027854,17913.21606432848,11180.782622396573,28195.048243845795,15297.331857172465,53423.33211082316,22485.148182487414,18554.258146882235,7290.112233868804,35895.73894485361,30491.454638211995,38059.96353424596,33918.54243157902,19366.978168546946,10676.065838481709,27394.338763234795,18048.329766652354,12904.074365358014,13410.70291598767,14877.68045768172,17182.56044654444,10021.208765527146,27881.376232313174,21365.69981644056,3965.1896723003097,16174.381710382235,20579.430175030317,13988.71336909695,11181.076639585704,5237.619689031358,10578.42230679301,10371.32938746032,1937.3382118584873]\n"
     ]
    }
   ],
   "source": [
    "# Instantiating a chi square test.\n",
    "chi_test = ChiSquareTest.test(test_df, 'scaled_features', 'price').head()\n",
    "\n",
    "print(f'pValues: {chi_test.pValues}')\n",
    "print(f'degreesOfFreedom: {chi_test.degreesOfFreedom}')\n",
    "print(f'statistics: {chi_test.statistics}')"
   ]
  },
  {
   "cell_type": "markdown",
   "metadata": {},
   "source": [
    "## Model Testing"
   ]
  },
  {
   "cell_type": "markdown",
   "metadata": {},
   "source": [
    "In this section a number of models will be trained and tested to select the model with low bias and good generalisation ability.\n",
    "\n",
    "The model architectures to be tested are:\n",
    "1. Linear Regression\n",
    "2. Decision Tree Regressor\n",
    "3. Gradient Boosted Tree Regressor\n",
    "4. Random Forest"
   ]
  },
  {
   "cell_type": "code",
   "execution_count": 57,
   "metadata": {},
   "outputs": [],
   "source": [
    "# Split data into train and test.\n",
    "housing_train, housing_test = test_df.randomSplit([0.8, 0.2], seed=1)"
   ]
  },
  {
   "cell_type": "markdown",
   "metadata": {},
   "source": [
    "### Linear Regression"
   ]
  },
  {
   "cell_type": "markdown",
   "metadata": {},
   "source": [
    "Each model will be trained using a cross validator in order to minimise the potential error gained from splitting the data in a suboptimal manner. Additionally cross validation can systematically examine multiple parameters and build the model using the top performing hyperparameters."
   ]
  },
  {
   "cell_type": "code",
   "execution_count": 58,
   "metadata": {},
   "outputs": [],
   "source": [
    "# Instatiating linear regression model.\n",
    "lr = LinearRegression(featuresCol='scaled_features', labelCol='price')\n",
    "\n",
    "# Creating parameter grid search.\n",
    "lr_param_grid = ParamGridBuilder() \\\n",
    "                .addGrid(lr.maxIter, [10,50,100]) \\\n",
    "                .addGrid(lr.regParam, [0.1,0.01,0.2]) \\\n",
    "                .build()\n",
    "\n",
    "# Regression evaluator using mean absolute error.\n",
    "lr_evaluator = RegressionEvaluator(predictionCol='prediction', labelCol='price', metricName='mae')\n",
    "\n",
    "# Instantiating cross validator with three folds.\n",
    "lr_cv = CrossValidator(estimator = lr,\n",
    "                        estimatorParamMaps = lr_param_grid,\n",
    "                        evaluator = lr_evaluator,\n",
    "                        numFolds = 3)\n",
    "\n",
    "# Train model using the train set.\n",
    "lr_cv_model = lr_cv.fit(housing_train)"
   ]
  },
  {
   "cell_type": "code",
   "execution_count": 59,
   "metadata": {
    "scrolled": true
   },
   "outputs": [
    {
     "name": "stdout",
     "output_type": "stream",
     "text": [
      "MAE: 146.9173352099826\n",
      "MSE: 42820.202913263565\n",
      "RMSE: 206.9304301287357\n",
      "Explained Variance: 100729.7084129398\n",
      "R2:0.701917699817232\n"
     ]
    }
   ],
   "source": [
    "# Saving summary of best model into variable.\n",
    "trainig_summary = lr_cv_model.bestModel.summary\n",
    "\n",
    "print(f'MAE: {trainig_summary.meanAbsoluteError}')\n",
    "print(f'MSE: {trainig_summary.meanSquaredError}')\n",
    "print(f'RMSE: {trainig_summary.rootMeanSquaredError}')\n",
    "print(f'Explained Variance: {trainig_summary.explainedVariance}')\n",
    "print(f'R2:{trainig_summary.r2}')"
   ]
  },
  {
   "cell_type": "markdown",
   "metadata": {},
   "source": [
    "The MAE value is quite low at 146.9. This means that on average the model is off by this amount either below or above the actual price of the property. The R2 value is also quite high which implies that the independent features can somewhat reliably explain the variance observed in the dependant variable."
   ]
  },
  {
   "cell_type": "code",
   "execution_count": 60,
   "metadata": {},
   "outputs": [],
   "source": [
    "# Testing the model on the test set.\n",
    "lr_predictions = lr_cv_model.transform(housing_test)"
   ]
  },
  {
   "cell_type": "code",
   "execution_count": 61,
   "metadata": {},
   "outputs": [
    {
     "name": "stdout",
     "output_type": "stream",
     "text": [
      "+------------------+-----+--------------------+\n",
      "|        prediction|price|     scaled_features|\n",
      "+------------------+-----+--------------------+\n",
      "|  891.652748836528|  700|(481,[0,1,2,3,4,5...|\n",
      "| 1201.979190402378|  850|(481,[0,1,2,3,4,5...|\n",
      "|1655.1374789313131|  800|(481,[0,1,2,3,4,5...|\n",
      "|1655.1374789313131|  800|(481,[0,1,2,3,4,5...|\n",
      "|1255.9995405276532|  700|(481,[0,1,2,3,4,5...|\n",
      "| 1412.969692828583| 1100|(481,[0,1,2,3,4,5...|\n",
      "|1433.0849919499515| 1150|(481,[0,1,2,3,4,5...|\n",
      "|1433.0849919499515| 1150|(481,[0,1,2,3,4,5...|\n",
      "| 842.3451034759405|  750|(481,[0,1,2,3,4,5...|\n",
      "| 1795.839593986469| 1600|(481,[0,1,2,3,4,5...|\n",
      "|1467.7185581596113|  900|(481,[0,1,2,3,4,5...|\n",
      "|1425.5144799835116|  950|(481,[0,1,2,3,4,5...|\n",
      "| 995.7415568923839|  700|(481,[0,1,2,3,4,5...|\n",
      "|1185.8293560218492|  800|(481,[0,1,2,3,4,5...|\n",
      "|1331.5488752891192|  500|(481,[0,1,2,3,4,5...|\n",
      "| 1377.258133475723|  800|(481,[0,1,2,3,4,5...|\n",
      "|1162.7730154710296|  700|(481,[0,1,2,3,4,5...|\n",
      "|1162.7730154710296|  700|(481,[0,1,2,3,4,5...|\n",
      "|1082.9122956532212|  700|(481,[0,1,2,3,4,5...|\n",
      "|2002.4471606113302| 1650|(481,[0,1,2,3,4,5...|\n",
      "+------------------+-----+--------------------+\n",
      "only showing top 20 rows\n",
      "\n"
     ]
    }
   ],
   "source": [
    "# Examining the predictions.\n",
    "lr_predictions.select('prediction', 'price', 'scaled_features').show()"
   ]
  },
  {
   "cell_type": "code",
   "execution_count": 62,
   "metadata": {},
   "outputs": [
    {
     "name": "stdout",
     "output_type": "stream",
     "text": [
      "MAE: 148.40644079471298\n",
      "MSE: 44099.81774295522\n",
      "RMSE: 209.99956605420695\n",
      "Explained Variance: 100653.59824542458\n",
      "R2:0.6944383426370304\n"
     ]
    }
   ],
   "source": [
    "# Evaluating the model on the test set.\n",
    "test_result_lr = lr_cv_model.bestModel.evaluate(housing_test)\n",
    "\n",
    "print(f'MAE: {test_result_lr.meanAbsoluteError}')\n",
    "print(f'MSE: {test_result_lr.meanSquaredError}')\n",
    "print(f'RMSE: {test_result_lr.rootMeanSquaredError}')\n",
    "print(f'Explained Variance: {test_result_lr.explainedVariance}')\n",
    "print(f'R2:{test_result_lr.r2}')"
   ]
  },
  {
   "cell_type": "markdown",
   "metadata": {},
   "source": [
    "The test results are also quite strong and most importantly in line with the training phase of the dataset. This implies that the model is regularised and can be used on new data with accuracy."
   ]
  },
  {
   "cell_type": "markdown",
   "metadata": {},
   "source": [
    "### Decision Tree Regressor"
   ]
  },
  {
   "cell_type": "markdown",
   "metadata": {},
   "source": [
    "The same method will be used to create and test a multitude of parameters using the decision tree architecture."
   ]
  },
  {
   "cell_type": "code",
   "execution_count": 63,
   "metadata": {},
   "outputs": [],
   "source": [
    "# Instatiating decision tree regression model.\n",
    "dt = DecisionTreeRegressor(featuresCol='scaled_features', labelCol='price')\n",
    "\n",
    "# Creating parameter grid search.\n",
    "dt_param_grid = ParamGridBuilder() \\\n",
    "                .addGrid(dt.maxDepth, [2,3,4,5]) \\\n",
    "                .addGrid(dt.maxBins, [16,32]) \\\n",
    "                .build()\n",
    "\n",
    "# Regression evaluator using mean absolute error.\n",
    "dt_evaluator = RegressionEvaluator(predictionCol='prediction', labelCol='price', metricName='mae')\n",
    "\n",
    "# Instantiating cross validator with three folds.\n",
    "dt_cv = CrossValidator(estimator = dt,\n",
    "                        estimatorParamMaps = dt_param_grid,\n",
    "                        evaluator = dt_evaluator,\n",
    "                        numFolds = 3)\n",
    "\n",
    "# Train model using the train set.\n",
    "dt_cv_model = dt_cv.fit(housing_train)"
   ]
  },
  {
   "cell_type": "code",
   "execution_count": 64,
   "metadata": {},
   "outputs": [],
   "source": [
    "# Testing the model on the test set.\n",
    "dt_predictions = dt_cv_model.transform(housing_test)"
   ]
  },
  {
   "cell_type": "code",
   "execution_count": 65,
   "metadata": {},
   "outputs": [
    {
     "name": "stdout",
     "output_type": "stream",
     "text": [
      "+------------------+-----+--------------------+\n",
      "|        prediction|price|     scaled_features|\n",
      "+------------------+-----+--------------------+\n",
      "| 857.4810878806281|  700|(481,[0,1,2,3,4,5...|\n",
      "| 857.4810878806281|  850|(481,[0,1,2,3,4,5...|\n",
      "|   1526.4330423324|  800|(481,[0,1,2,3,4,5...|\n",
      "|   1526.4330423324|  800|(481,[0,1,2,3,4,5...|\n",
      "| 892.9744694960212|  700|(481,[0,1,2,3,4,5...|\n",
      "|1300.1114891062361| 1100|(481,[0,1,2,3,4,5...|\n",
      "| 892.9744694960212| 1150|(481,[0,1,2,3,4,5...|\n",
      "| 892.9744694960212| 1150|(481,[0,1,2,3,4,5...|\n",
      "| 857.4810878806281|  750|(481,[0,1,2,3,4,5...|\n",
      "| 1369.333850931677| 1600|(481,[0,1,2,3,4,5...|\n",
      "| 892.9744694960212|  900|(481,[0,1,2,3,4,5...|\n",
      "|1300.1114891062361|  950|(481,[0,1,2,3,4,5...|\n",
      "| 873.9325842696629|  700|(481,[0,1,2,3,4,5...|\n",
      "|  1033.83500056562|  800|(481,[0,1,2,3,4,5...|\n",
      "| 892.9744694960212|  500|(481,[0,1,2,3,4,5...|\n",
      "| 892.9744694960212|  800|(481,[0,1,2,3,4,5...|\n",
      "| 892.9744694960212|  700|(481,[0,1,2,3,4,5...|\n",
      "| 892.9744694960212|  700|(481,[0,1,2,3,4,5...|\n",
      "| 892.9744694960212|  700|(481,[0,1,2,3,4,5...|\n",
      "| 1369.333850931677| 1650|(481,[0,1,2,3,4,5...|\n",
      "+------------------+-----+--------------------+\n",
      "only showing top 20 rows\n",
      "\n"
     ]
    }
   ],
   "source": [
    "# Examining the predictions.\n",
    "dt_predictions.select('prediction', 'price', 'scaled_features').show()"
   ]
  },
  {
   "cell_type": "code",
   "execution_count": 66,
   "metadata": {},
   "outputs": [],
   "source": [
    "# Examining the predictions.\n",
    "dt_evaluator = RegressionEvaluator(labelCol='price', predictionCol='prediction', metricName='mae')"
   ]
  },
  {
   "cell_type": "code",
   "execution_count": 67,
   "metadata": {},
   "outputs": [
    {
     "name": "stdout",
     "output_type": "stream",
     "text": [
      "Decision tree MAE = 236.80276589792643\n"
     ]
    }
   ],
   "source": [
    "# Calculating the predictions \n",
    "mae_dt = dt_evaluator.evaluate(dt_predictions)\n",
    "\n",
    "print(f'Decision tree MAE = {mae_dt}')"
   ]
  },
  {
   "cell_type": "markdown",
   "metadata": {},
   "source": [
    "The test data MAE is a little higher than that of the linear regression. It is possible that the decision tree regression has overfit the training data as is typical of such a model. Sadly it is also not possible to extract the R2 value for comparison however it can be intuitively discerned that it is lower than that of linear regression."
   ]
  },
  {
   "cell_type": "markdown",
   "metadata": {},
   "source": [
    "### Gradient-boosted tree regression"
   ]
  },
  {
   "cell_type": "code",
   "execution_count": 68,
   "metadata": {},
   "outputs": [],
   "source": [
    "# Instatiating gradient boosted tree regression model.\n",
    "gbt = GBTRegressor(featuresCol='scaled_features', labelCol='price')\n",
    "\n",
    "# Creating parameter grid search.\n",
    "gbt_param_grid = ParamGridBuilder() \\\n",
    "                .addGrid(gbt.maxDepth, [2,3,4,5]) \\\n",
    "                .addGrid(gbt.maxBins, [16,32]) \\\n",
    "                .build()\n",
    "\n",
    "# Regression evaluator using mean absolute error.\n",
    "gbt_evaluator = RegressionEvaluator(predictionCol='prediction', labelCol='price', metricName='mae')\n",
    "\n",
    "# Instantiating cross validator with three folds.\n",
    "gbt_cv = CrossValidator(estimator = gbt,\n",
    "                        estimatorParamMaps = gbt_param_grid,\n",
    "                        evaluator = gbt_evaluator,\n",
    "                        numFolds = 3)\n",
    "\n",
    "# Train model using the train set.\n",
    "gbt_cv_model = gbt_cv.fit(housing_train)"
   ]
  },
  {
   "cell_type": "code",
   "execution_count": 69,
   "metadata": {},
   "outputs": [],
   "source": [
    "# Testing the model on the test set.\n",
    "gbt_predictions = gbt_cv_model.transform(housing_test)"
   ]
  },
  {
   "cell_type": "code",
   "execution_count": 70,
   "metadata": {},
   "outputs": [
    {
     "name": "stdout",
     "output_type": "stream",
     "text": [
      "+------------------+-----+--------------------+\n",
      "|        prediction|price|     scaled_features|\n",
      "+------------------+-----+--------------------+\n",
      "|   852.89787568731|  700|(481,[0,1,2,3,4,5...|\n",
      "| 904.1096258523243|  850|(481,[0,1,2,3,4,5...|\n",
      "|1508.0377673214205|  800|(481,[0,1,2,3,4,5...|\n",
      "|1508.0377673214205|  800|(481,[0,1,2,3,4,5...|\n",
      "|  898.121010396417|  700|(481,[0,1,2,3,4,5...|\n",
      "|1273.1553068569633| 1100|(481,[0,1,2,3,4,5...|\n",
      "|1013.3289403260069| 1150|(481,[0,1,2,3,4,5...|\n",
      "|1013.3289403260069| 1150|(481,[0,1,2,3,4,5...|\n",
      "| 829.4659611884978|  750|(481,[0,1,2,3,4,5...|\n",
      "| 1704.447975945999| 1600|(481,[0,1,2,3,4,5...|\n",
      "| 918.2992662029944|  900|(481,[0,1,2,3,4,5...|\n",
      "|1325.4362858132092|  950|(481,[0,1,2,3,4,5...|\n",
      "| 869.3493720763447|  700|(481,[0,1,2,3,4,5...|\n",
      "| 1054.283697883549|  800|(481,[0,1,2,3,4,5...|\n",
      "| 896.7663541856662|  500|(481,[0,1,2,3,4,5...|\n",
      "| 879.8303500644096|  800|(481,[0,1,2,3,4,5...|\n",
      "| 870.8265943229818|  700|(481,[0,1,2,3,4,5...|\n",
      "| 870.8265943229818|  700|(481,[0,1,2,3,4,5...|\n",
      "| 835.8256576788913|  700|(481,[0,1,2,3,4,5...|\n",
      "|1364.7506387383587| 1650|(481,[0,1,2,3,4,5...|\n",
      "+------------------+-----+--------------------+\n",
      "only showing top 20 rows\n",
      "\n"
     ]
    }
   ],
   "source": [
    "# Examining the predictions.\n",
    "gbt_predictions.select('prediction', 'price', 'scaled_features').show()"
   ]
  },
  {
   "cell_type": "code",
   "execution_count": 71,
   "metadata": {},
   "outputs": [],
   "source": [
    "# Creating the gbt evaluator.\n",
    "gbt_evaluator = RegressionEvaluator(labelCol='price', predictionCol='prediction', metricName='mae')"
   ]
  },
  {
   "cell_type": "code",
   "execution_count": 72,
   "metadata": {},
   "outputs": [
    {
     "name": "stdout",
     "output_type": "stream",
     "text": [
      "Gradient boosted Tree MAE = 197.0787244963996\n"
     ]
    }
   ],
   "source": [
    "# Evaluating the model performance on the test set.\n",
    "mae_gbt = gbt_evaluator.evaluate(gbt_predictions)\n",
    "\n",
    "print(f'Gradient boosted Tree MAE = {mae_gbt}')"
   ]
  },
  {
   "cell_type": "markdown",
   "metadata": {},
   "source": [
    "Once again, the model performance is good but limited when compared to linear regression, which is regarded the simplest model. It is curious however how certain price labels are outperformed by the GBT model when comparing the prediction columns."
   ]
  },
  {
   "cell_type": "markdown",
   "metadata": {},
   "source": [
    "### Random Forest Regression"
   ]
  },
  {
   "cell_type": "code",
   "execution_count": 73,
   "metadata": {},
   "outputs": [],
   "source": [
    "# Instatiating random forest regression model.\n",
    "rf = RandomForestRegressor(featuresCol='scaled_features', labelCol='price')\n",
    "\n",
    "# Creating parameter grid search.\n",
    "rf_param_grid = ParamGridBuilder() \\\n",
    "                .addGrid(rf.maxDepth, [2,3,4,5]) \\\n",
    "                .addGrid(rf.maxBins, [16,32]) \\\n",
    "                .build()\n",
    "\n",
    "# Regression evaluator using mean absolute error.\n",
    "rf_evaluator = RegressionEvaluator(predictionCol='prediction', labelCol='price', metricName='mae')\n",
    "\n",
    "# Instantiating cross validator with three folds.\n",
    "rf_cv = CrossValidator(estimator = rf,\n",
    "                        estimatorParamMaps = rf_param_grid,\n",
    "                        evaluator = rf_evaluator,\n",
    "                        numFolds = 3)\n",
    "\n",
    "# Train model using the train set.\n",
    "rf_cv_model = rf_cv.fit(housing_train)"
   ]
  },
  {
   "cell_type": "code",
   "execution_count": 74,
   "metadata": {},
   "outputs": [],
   "source": [
    "# Testing the model on the test set.\n",
    "rf_predictions = rf_cv_model.transform(housing_test)"
   ]
  },
  {
   "cell_type": "code",
   "execution_count": 75,
   "metadata": {},
   "outputs": [
    {
     "name": "stdout",
     "output_type": "stream",
     "text": [
      "+------------------+-----+--------------------+\n",
      "|        prediction|price|     scaled_features|\n",
      "+------------------+-----+--------------------+\n",
      "| 958.4915366752779|  700|(481,[0,1,2,3,4,5...|\n",
      "|1065.5314475652012|  850|(481,[0,1,2,3,4,5...|\n",
      "| 1516.649633293997|  800|(481,[0,1,2,3,4,5...|\n",
      "| 1516.649633293997|  800|(481,[0,1,2,3,4,5...|\n",
      "|1186.1549054463171|  700|(481,[0,1,2,3,4,5...|\n",
      "|1168.1051181291853| 1100|(481,[0,1,2,3,4,5...|\n",
      "|1186.1549054463171| 1150|(481,[0,1,2,3,4,5...|\n",
      "|1186.1549054463171| 1150|(481,[0,1,2,3,4,5...|\n",
      "| 917.2181347816198|  750|(481,[0,1,2,3,4,5...|\n",
      "|1293.9562196195898| 1600|(481,[0,1,2,3,4,5...|\n",
      "|1186.1549054463171|  900|(481,[0,1,2,3,4,5...|\n",
      "|1340.7458646374664|  950|(481,[0,1,2,3,4,5...|\n",
      "| 1108.290677130974|  700|(481,[0,1,2,3,4,5...|\n",
      "| 1071.046764743649|  800|(481,[0,1,2,3,4,5...|\n",
      "|1112.8384540663856|  500|(481,[0,1,2,3,4,5...|\n",
      "|1112.8384540663856|  800|(481,[0,1,2,3,4,5...|\n",
      "|1191.5860571787491|  700|(481,[0,1,2,3,4,5...|\n",
      "|1191.5860571787491|  700|(481,[0,1,2,3,4,5...|\n",
      "|1112.8384540663856|  700|(481,[0,1,2,3,4,5...|\n",
      "|1214.1268201977452| 1650|(481,[0,1,2,3,4,5...|\n",
      "+------------------+-----+--------------------+\n",
      "only showing top 20 rows\n",
      "\n"
     ]
    }
   ],
   "source": [
    "# Examining the predictions.\n",
    "rf_predictions.select('prediction', 'price', 'scaled_features').show()"
   ]
  },
  {
   "cell_type": "code",
   "execution_count": 76,
   "metadata": {},
   "outputs": [],
   "source": [
    "# Creating the gbt evaluator.\n",
    "rf_evaluator = RegressionEvaluator(labelCol='price', predictionCol='prediction', metricName='mae')"
   ]
  },
  {
   "cell_type": "code",
   "execution_count": 77,
   "metadata": {},
   "outputs": [
    {
     "name": "stdout",
     "output_type": "stream",
     "text": [
      "Random Forest Tree MAE = 237.05551304678906\n"
     ]
    }
   ],
   "source": [
    "# Evaluating the model performance on the test set.\n",
    "mae_rf = rf_evaluator.evaluate(rf_predictions)\n",
    "\n",
    "print(f'Random Forest Tree MAE = {mae_rf}')"
   ]
  },
  {
   "cell_type": "markdown",
   "metadata": {},
   "source": [
    "The final model trained on this dataset is the random forest ensemble which unfortunately is once again beaten by the linear regression model by a substantial amount. The rf model appears to have centered around the 1000 price point mark with most values centering around this value, as observed from the prediction column.\n",
    "\n",
    "It would appear that the linear regression model outperfromed the rest in this regard."
   ]
  },
  {
   "cell_type": "code",
   "execution_count": 78,
   "metadata": {},
   "outputs": [],
   "source": [
    "lr_predictions = lr_predictions.withColumnRenamed('prediction', 'lr_model')\n",
    "rf_predictions = rf_predictions.withColumnRenamed('prediction', 'rf_model')\n",
    "gbt_predictions = gbt_predictions.withColumnRenamed('prediction', 'gbt_model')\n",
    "dt_predictions = dt_predictions.withColumnRenamed('prediction', 'dt_model')"
   ]
  },
  {
   "cell_type": "code",
   "execution_count": 79,
   "metadata": {},
   "outputs": [],
   "source": [
    "model_results = lr_predictions.join(rf_predictions.select('rf_model', 'price'),on='price', how='outer')\\\n",
    "                               .join(gbt_predictions.select('gbt_model', 'price'),on='price', how='outer')\\\n",
    "                               .join(dt_predictions.select('dt_model', 'price'),on='price', how='outer')"
   ]
  },
  {
   "cell_type": "code",
   "execution_count": 94,
   "metadata": {},
   "outputs": [
    {
     "name": "stdout",
     "output_type": "stream",
     "text": [
      "+-----+--------------------+-----------------+------------------+-----------------+-----------------+\n",
      "|price|     scaled_features|         lr_model|          rf_model|        gbt_model|         dt_model|\n",
      "+-----+--------------------+-----------------+------------------+-----------------+-----------------+\n",
      "|  471|(481,[0,1,2,5,64,...|700.0655572838768|1059.7087399682682|905.6168419162514|1023.295374800638|\n",
      "|  471|(481,[0,1,2,5,64,...|700.0655572838768|1059.7087399682682|905.6168419162514|1023.295374800638|\n",
      "|  471|(481,[0,1,2,5,64,...|700.0655572838768|1059.7087399682682|905.6168419162514|1023.295374800638|\n",
      "|  471|(481,[0,1,2,5,64,...|700.0655572838768|1059.7087399682682|905.6168419162514|1023.295374800638|\n",
      "|  471|(481,[0,1,2,5,64,...|700.0655572838768|1059.7087399682682|905.6168419162514|1023.295374800638|\n",
      "|  471|(481,[0,1,2,5,64,...|700.0655572838768|1059.7087399682682|905.6168419162514|1023.295374800638|\n",
      "|  471|(481,[0,1,2,5,64,...|700.0655572838768|1059.7087399682682|905.6168419162514|1023.295374800638|\n",
      "|  471|(481,[0,1,2,5,64,...|700.0655572838768|1059.7087399682682|905.6168419162514|1023.295374800638|\n",
      "|  471|(481,[0,1,2,5,64,...|700.0655572838768|1059.7087399682682|905.6168419162514|1023.295374800638|\n",
      "|  471|(481,[0,1,2,5,64,...|700.0655572838768|1059.7087399682682|905.6168419162514|1023.295374800638|\n",
      "+-----+--------------------+-----------------+------------------+-----------------+-----------------+\n",
      "only showing top 10 rows\n",
      "\n"
     ]
    }
   ],
   "source": [
    "model_results.show(10)"
   ]
  },
  {
   "cell_type": "code",
   "execution_count": null,
   "metadata": {},
   "outputs": [],
   "source": []
  }
 ],
 "metadata": {
  "kernelspec": {
   "display_name": "Python 3",
   "language": "python",
   "name": "python3"
  },
  "language_info": {
   "codemirror_mode": {
    "name": "ipython",
    "version": 3
   },
   "file_extension": ".py",
   "mimetype": "text/x-python",
   "name": "python",
   "nbconvert_exporter": "python",
   "pygments_lexer": "ipython3",
   "version": "3.8.5"
  }
 },
 "nbformat": 4,
 "nbformat_minor": 4
}
